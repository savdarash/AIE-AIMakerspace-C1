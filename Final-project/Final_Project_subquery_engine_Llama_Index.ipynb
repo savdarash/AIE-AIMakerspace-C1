{
  "nbformat": 4,
  "nbformat_minor": 0,
  "metadata": {
    "colab": {
      "provenance": []
    },
    "kernelspec": {
      "name": "python3",
      "display_name": "Python 3"
    },
    "language_info": {
      "name": "python"
    }
  },
  "cells": [
    {
      "cell_type": "code",
      "execution_count": 1,
      "metadata": {
        "colab": {
          "base_uri": "https://localhost:8080/"
        },
        "id": "rhlC6dcuAyYn",
        "outputId": "7ff8d38d-36f9-46b3-937f-905490808f21"
      },
      "outputs": [
        {
          "output_type": "stream",
          "name": "stdout",
          "text": [
            "Collecting llama-index-llms-openai\n",
            "  Downloading llama_index_llms_openai-0.1.13-py3-none-any.whl (10 kB)\n",
            "Collecting llama-index-core<0.11.0,>=0.10.24 (from llama-index-llms-openai)\n",
            "  Downloading llama_index_core-0.10.25.post1-py3-none-any.whl (15.4 MB)\n",
            "\u001b[2K     \u001b[90m━━━━━━━━━━━━━━━━━━━━━━━━━━━━━━━━━━━━━━━━\u001b[0m \u001b[32m15.4/15.4 MB\u001b[0m \u001b[31m29.0 MB/s\u001b[0m eta \u001b[36m0:00:00\u001b[0m\n",
            "\u001b[?25hRequirement already satisfied: PyYAML>=6.0.1 in /usr/local/lib/python3.10/dist-packages (from llama-index-core<0.11.0,>=0.10.24->llama-index-llms-openai) (6.0.1)\n",
            "Requirement already satisfied: SQLAlchemy[asyncio]>=1.4.49 in /usr/local/lib/python3.10/dist-packages (from llama-index-core<0.11.0,>=0.10.24->llama-index-llms-openai) (2.0.29)\n",
            "Requirement already satisfied: aiohttp<4.0.0,>=3.8.6 in /usr/local/lib/python3.10/dist-packages (from llama-index-core<0.11.0,>=0.10.24->llama-index-llms-openai) (3.9.3)\n",
            "Collecting dataclasses-json (from llama-index-core<0.11.0,>=0.10.24->llama-index-llms-openai)\n",
            "  Downloading dataclasses_json-0.6.4-py3-none-any.whl (28 kB)\n",
            "Collecting deprecated>=1.2.9.3 (from llama-index-core<0.11.0,>=0.10.24->llama-index-llms-openai)\n",
            "  Downloading Deprecated-1.2.14-py2.py3-none-any.whl (9.6 kB)\n",
            "Collecting dirtyjson<2.0.0,>=1.0.8 (from llama-index-core<0.11.0,>=0.10.24->llama-index-llms-openai)\n",
            "  Downloading dirtyjson-1.0.8-py3-none-any.whl (25 kB)\n",
            "Requirement already satisfied: fsspec>=2023.5.0 in /usr/local/lib/python3.10/dist-packages (from llama-index-core<0.11.0,>=0.10.24->llama-index-llms-openai) (2023.6.0)\n",
            "Collecting httpx (from llama-index-core<0.11.0,>=0.10.24->llama-index-llms-openai)\n",
            "  Downloading httpx-0.27.0-py3-none-any.whl (75 kB)\n",
            "\u001b[2K     \u001b[90m━━━━━━━━━━━━━━━━━━━━━━━━━━━━━━━━━━━━━━━━\u001b[0m \u001b[32m75.6/75.6 kB\u001b[0m \u001b[31m5.3 MB/s\u001b[0m eta \u001b[36m0:00:00\u001b[0m\n",
            "\u001b[?25hCollecting llamaindex-py-client<0.2.0,>=0.1.15 (from llama-index-core<0.11.0,>=0.10.24->llama-index-llms-openai)\n",
            "  Downloading llamaindex_py_client-0.1.15-py3-none-any.whl (119 kB)\n",
            "\u001b[2K     \u001b[90m━━━━━━━━━━━━━━━━━━━━━━━━━━━━━━━━━━━━━━━━\u001b[0m \u001b[32m119.4/119.4 kB\u001b[0m \u001b[31m7.7 MB/s\u001b[0m eta \u001b[36m0:00:00\u001b[0m\n",
            "\u001b[?25hRequirement already satisfied: nest-asyncio<2.0.0,>=1.5.8 in /usr/local/lib/python3.10/dist-packages (from llama-index-core<0.11.0,>=0.10.24->llama-index-llms-openai) (1.6.0)\n",
            "Requirement already satisfied: networkx>=3.0 in /usr/local/lib/python3.10/dist-packages (from llama-index-core<0.11.0,>=0.10.24->llama-index-llms-openai) (3.2.1)\n",
            "Requirement already satisfied: nltk<4.0.0,>=3.8.1 in /usr/local/lib/python3.10/dist-packages (from llama-index-core<0.11.0,>=0.10.24->llama-index-llms-openai) (3.8.1)\n",
            "Requirement already satisfied: numpy in /usr/local/lib/python3.10/dist-packages (from llama-index-core<0.11.0,>=0.10.24->llama-index-llms-openai) (1.25.2)\n",
            "Collecting openai>=1.1.0 (from llama-index-core<0.11.0,>=0.10.24->llama-index-llms-openai)\n",
            "  Downloading openai-1.14.3-py3-none-any.whl (262 kB)\n",
            "\u001b[2K     \u001b[90m━━━━━━━━━━━━━━━━━━━━━━━━━━━━━━━━━━━━━━━━\u001b[0m \u001b[32m262.9/262.9 kB\u001b[0m \u001b[31m19.9 MB/s\u001b[0m eta \u001b[36m0:00:00\u001b[0m\n",
            "\u001b[?25hRequirement already satisfied: pandas in /usr/local/lib/python3.10/dist-packages (from llama-index-core<0.11.0,>=0.10.24->llama-index-llms-openai) (1.5.3)\n",
            "Requirement already satisfied: pillow>=9.0.0 in /usr/local/lib/python3.10/dist-packages (from llama-index-core<0.11.0,>=0.10.24->llama-index-llms-openai) (9.4.0)\n",
            "Requirement already satisfied: requests>=2.31.0 in /usr/local/lib/python3.10/dist-packages (from llama-index-core<0.11.0,>=0.10.24->llama-index-llms-openai) (2.31.0)\n",
            "Requirement already satisfied: tenacity<9.0.0,>=8.2.0 in /usr/local/lib/python3.10/dist-packages (from llama-index-core<0.11.0,>=0.10.24->llama-index-llms-openai) (8.2.3)\n",
            "Collecting tiktoken>=0.3.3 (from llama-index-core<0.11.0,>=0.10.24->llama-index-llms-openai)\n",
            "  Downloading tiktoken-0.6.0-cp310-cp310-manylinux_2_17_x86_64.manylinux2014_x86_64.whl (1.8 MB)\n",
            "\u001b[2K     \u001b[90m━━━━━━━━━━━━━━━━━━━━━━━━━━━━━━━━━━━━━━━━\u001b[0m \u001b[32m1.8/1.8 MB\u001b[0m \u001b[31m46.7 MB/s\u001b[0m eta \u001b[36m0:00:00\u001b[0m\n",
            "\u001b[?25hRequirement already satisfied: tqdm<5.0.0,>=4.66.1 in /usr/local/lib/python3.10/dist-packages (from llama-index-core<0.11.0,>=0.10.24->llama-index-llms-openai) (4.66.2)\n",
            "Requirement already satisfied: typing-extensions>=4.5.0 in /usr/local/lib/python3.10/dist-packages (from llama-index-core<0.11.0,>=0.10.24->llama-index-llms-openai) (4.10.0)\n",
            "Collecting typing-inspect>=0.8.0 (from llama-index-core<0.11.0,>=0.10.24->llama-index-llms-openai)\n",
            "  Downloading typing_inspect-0.9.0-py3-none-any.whl (8.8 kB)\n",
            "Requirement already satisfied: aiosignal>=1.1.2 in /usr/local/lib/python3.10/dist-packages (from aiohttp<4.0.0,>=3.8.6->llama-index-core<0.11.0,>=0.10.24->llama-index-llms-openai) (1.3.1)\n",
            "Requirement already satisfied: attrs>=17.3.0 in /usr/local/lib/python3.10/dist-packages (from aiohttp<4.0.0,>=3.8.6->llama-index-core<0.11.0,>=0.10.24->llama-index-llms-openai) (23.2.0)\n",
            "Requirement already satisfied: frozenlist>=1.1.1 in /usr/local/lib/python3.10/dist-packages (from aiohttp<4.0.0,>=3.8.6->llama-index-core<0.11.0,>=0.10.24->llama-index-llms-openai) (1.4.1)\n",
            "Requirement already satisfied: multidict<7.0,>=4.5 in /usr/local/lib/python3.10/dist-packages (from aiohttp<4.0.0,>=3.8.6->llama-index-core<0.11.0,>=0.10.24->llama-index-llms-openai) (6.0.5)\n",
            "Requirement already satisfied: yarl<2.0,>=1.0 in /usr/local/lib/python3.10/dist-packages (from aiohttp<4.0.0,>=3.8.6->llama-index-core<0.11.0,>=0.10.24->llama-index-llms-openai) (1.9.4)\n",
            "Requirement already satisfied: async-timeout<5.0,>=4.0 in /usr/local/lib/python3.10/dist-packages (from aiohttp<4.0.0,>=3.8.6->llama-index-core<0.11.0,>=0.10.24->llama-index-llms-openai) (4.0.3)\n",
            "Requirement already satisfied: wrapt<2,>=1.10 in /usr/local/lib/python3.10/dist-packages (from deprecated>=1.2.9.3->llama-index-core<0.11.0,>=0.10.24->llama-index-llms-openai) (1.14.1)\n",
            "Requirement already satisfied: pydantic>=1.10 in /usr/local/lib/python3.10/dist-packages (from llamaindex-py-client<0.2.0,>=0.1.15->llama-index-core<0.11.0,>=0.10.24->llama-index-llms-openai) (2.6.4)\n",
            "Requirement already satisfied: anyio in /usr/local/lib/python3.10/dist-packages (from httpx->llama-index-core<0.11.0,>=0.10.24->llama-index-llms-openai) (3.7.1)\n",
            "Requirement already satisfied: certifi in /usr/local/lib/python3.10/dist-packages (from httpx->llama-index-core<0.11.0,>=0.10.24->llama-index-llms-openai) (2024.2.2)\n",
            "Collecting httpcore==1.* (from httpx->llama-index-core<0.11.0,>=0.10.24->llama-index-llms-openai)\n",
            "  Downloading httpcore-1.0.5-py3-none-any.whl (77 kB)\n",
            "\u001b[2K     \u001b[90m━━━━━━━━━━━━━━━━━━━━━━━━━━━━━━━━━━━━━━━━\u001b[0m \u001b[32m77.9/77.9 kB\u001b[0m \u001b[31m7.1 MB/s\u001b[0m eta \u001b[36m0:00:00\u001b[0m\n",
            "\u001b[?25hRequirement already satisfied: idna in /usr/local/lib/python3.10/dist-packages (from httpx->llama-index-core<0.11.0,>=0.10.24->llama-index-llms-openai) (3.6)\n",
            "Requirement already satisfied: sniffio in /usr/local/lib/python3.10/dist-packages (from httpx->llama-index-core<0.11.0,>=0.10.24->llama-index-llms-openai) (1.3.1)\n",
            "Collecting h11<0.15,>=0.13 (from httpcore==1.*->httpx->llama-index-core<0.11.0,>=0.10.24->llama-index-llms-openai)\n",
            "  Downloading h11-0.14.0-py3-none-any.whl (58 kB)\n",
            "\u001b[2K     \u001b[90m━━━━━━━━━━━━━━━━━━━━━━━━━━━━━━━━━━━━━━━━\u001b[0m \u001b[32m58.3/58.3 kB\u001b[0m \u001b[31m5.7 MB/s\u001b[0m eta \u001b[36m0:00:00\u001b[0m\n",
            "\u001b[?25hRequirement already satisfied: click in /usr/local/lib/python3.10/dist-packages (from nltk<4.0.0,>=3.8.1->llama-index-core<0.11.0,>=0.10.24->llama-index-llms-openai) (8.1.7)\n",
            "Requirement already satisfied: joblib in /usr/local/lib/python3.10/dist-packages (from nltk<4.0.0,>=3.8.1->llama-index-core<0.11.0,>=0.10.24->llama-index-llms-openai) (1.3.2)\n",
            "Requirement already satisfied: regex>=2021.8.3 in /usr/local/lib/python3.10/dist-packages (from nltk<4.0.0,>=3.8.1->llama-index-core<0.11.0,>=0.10.24->llama-index-llms-openai) (2023.12.25)\n",
            "Requirement already satisfied: distro<2,>=1.7.0 in /usr/lib/python3/dist-packages (from openai>=1.1.0->llama-index-core<0.11.0,>=0.10.24->llama-index-llms-openai) (1.7.0)\n",
            "Requirement already satisfied: charset-normalizer<4,>=2 in /usr/local/lib/python3.10/dist-packages (from requests>=2.31.0->llama-index-core<0.11.0,>=0.10.24->llama-index-llms-openai) (3.3.2)\n",
            "Requirement already satisfied: urllib3<3,>=1.21.1 in /usr/local/lib/python3.10/dist-packages (from requests>=2.31.0->llama-index-core<0.11.0,>=0.10.24->llama-index-llms-openai) (2.0.7)\n",
            "Requirement already satisfied: greenlet!=0.4.17 in /usr/local/lib/python3.10/dist-packages (from SQLAlchemy[asyncio]>=1.4.49->llama-index-core<0.11.0,>=0.10.24->llama-index-llms-openai) (3.0.3)\n",
            "Collecting mypy-extensions>=0.3.0 (from typing-inspect>=0.8.0->llama-index-core<0.11.0,>=0.10.24->llama-index-llms-openai)\n",
            "  Downloading mypy_extensions-1.0.0-py3-none-any.whl (4.7 kB)\n",
            "Collecting marshmallow<4.0.0,>=3.18.0 (from dataclasses-json->llama-index-core<0.11.0,>=0.10.24->llama-index-llms-openai)\n",
            "  Downloading marshmallow-3.21.1-py3-none-any.whl (49 kB)\n",
            "\u001b[2K     \u001b[90m━━━━━━━━━━━━━━━━━━━━━━━━━━━━━━━━━━━━━━━━\u001b[0m \u001b[32m49.4/49.4 kB\u001b[0m \u001b[31m3.0 MB/s\u001b[0m eta \u001b[36m0:00:00\u001b[0m\n",
            "\u001b[?25hRequirement already satisfied: python-dateutil>=2.8.1 in /usr/local/lib/python3.10/dist-packages (from pandas->llama-index-core<0.11.0,>=0.10.24->llama-index-llms-openai) (2.8.2)\n",
            "Requirement already satisfied: pytz>=2020.1 in /usr/local/lib/python3.10/dist-packages (from pandas->llama-index-core<0.11.0,>=0.10.24->llama-index-llms-openai) (2023.4)\n",
            "Requirement already satisfied: exceptiongroup in /usr/local/lib/python3.10/dist-packages (from anyio->httpx->llama-index-core<0.11.0,>=0.10.24->llama-index-llms-openai) (1.2.0)\n",
            "Requirement already satisfied: packaging>=17.0 in /usr/local/lib/python3.10/dist-packages (from marshmallow<4.0.0,>=3.18.0->dataclasses-json->llama-index-core<0.11.0,>=0.10.24->llama-index-llms-openai) (24.0)\n",
            "Requirement already satisfied: annotated-types>=0.4.0 in /usr/local/lib/python3.10/dist-packages (from pydantic>=1.10->llamaindex-py-client<0.2.0,>=0.1.15->llama-index-core<0.11.0,>=0.10.24->llama-index-llms-openai) (0.6.0)\n",
            "Requirement already satisfied: pydantic-core==2.16.3 in /usr/local/lib/python3.10/dist-packages (from pydantic>=1.10->llamaindex-py-client<0.2.0,>=0.1.15->llama-index-core<0.11.0,>=0.10.24->llama-index-llms-openai) (2.16.3)\n",
            "Requirement already satisfied: six>=1.5 in /usr/local/lib/python3.10/dist-packages (from python-dateutil>=2.8.1->pandas->llama-index-core<0.11.0,>=0.10.24->llama-index-llms-openai) (1.16.0)\n",
            "Installing collected packages: dirtyjson, mypy-extensions, marshmallow, h11, deprecated, typing-inspect, tiktoken, httpcore, httpx, dataclasses-json, openai, llamaindex-py-client, llama-index-core, llama-index-llms-openai\n",
            "Successfully installed dataclasses-json-0.6.4 deprecated-1.2.14 dirtyjson-1.0.8 h11-0.14.0 httpcore-1.0.5 httpx-0.27.0 llama-index-core-0.10.25.post1 llama-index-llms-openai-0.1.13 llamaindex-py-client-0.1.15 marshmallow-3.21.1 mypy-extensions-1.0.0 openai-1.14.3 tiktoken-0.6.0 typing-inspect-0.9.0\n"
          ]
        }
      ],
      "source": [
        "%pip install llama-index-llms-openai"
      ]
    },
    {
      "cell_type": "code",
      "source": [
        "!pip install llama-index"
      ],
      "metadata": {
        "colab": {
          "base_uri": "https://localhost:8080/"
        },
        "id": "2-hQfYT6A6T4",
        "outputId": "8e8a21a9-5b25-4f70-9c23-a55a36541bd8"
      },
      "execution_count": 2,
      "outputs": [
        {
          "output_type": "stream",
          "name": "stdout",
          "text": [
            "Collecting llama-index\n",
            "  Downloading llama_index-0.10.25-py3-none-any.whl (6.9 kB)\n",
            "Collecting llama-index-agent-openai<0.3.0,>=0.1.4 (from llama-index)\n",
            "  Downloading llama_index_agent_openai-0.2.1-py3-none-any.whl (12 kB)\n",
            "Collecting llama-index-cli<0.2.0,>=0.1.2 (from llama-index)\n",
            "  Downloading llama_index_cli-0.1.11-py3-none-any.whl (26 kB)\n",
            "Requirement already satisfied: llama-index-core<0.11.0,>=0.10.25 in /usr/local/lib/python3.10/dist-packages (from llama-index) (0.10.25.post1)\n",
            "Collecting llama-index-embeddings-openai<0.2.0,>=0.1.5 (from llama-index)\n",
            "  Downloading llama_index_embeddings_openai-0.1.7-py3-none-any.whl (6.0 kB)\n",
            "Collecting llama-index-indices-managed-llama-cloud<0.2.0,>=0.1.2 (from llama-index)\n",
            "  Downloading llama_index_indices_managed_llama_cloud-0.1.5-py3-none-any.whl (6.7 kB)\n",
            "Collecting llama-index-legacy<0.10.0,>=0.9.48 (from llama-index)\n",
            "  Downloading llama_index_legacy-0.9.48-py3-none-any.whl (2.0 MB)\n",
            "\u001b[2K     \u001b[90m━━━━━━━━━━━━━━━━━━━━━━━━━━━━━━━━━━━━━━━━\u001b[0m \u001b[32m2.0/2.0 MB\u001b[0m \u001b[31m25.7 MB/s\u001b[0m eta \u001b[36m0:00:00\u001b[0m\n",
            "\u001b[?25hRequirement already satisfied: llama-index-llms-openai<0.2.0,>=0.1.13 in /usr/local/lib/python3.10/dist-packages (from llama-index) (0.1.13)\n",
            "Collecting llama-index-multi-modal-llms-openai<0.2.0,>=0.1.3 (from llama-index)\n",
            "  Downloading llama_index_multi_modal_llms_openai-0.1.4-py3-none-any.whl (5.8 kB)\n",
            "Collecting llama-index-program-openai<0.2.0,>=0.1.3 (from llama-index)\n",
            "  Downloading llama_index_program_openai-0.1.5-py3-none-any.whl (4.1 kB)\n",
            "Collecting llama-index-question-gen-openai<0.2.0,>=0.1.2 (from llama-index)\n",
            "  Downloading llama_index_question_gen_openai-0.1.3-py3-none-any.whl (2.9 kB)\n",
            "Collecting llama-index-readers-file<0.2.0,>=0.1.4 (from llama-index)\n",
            "  Downloading llama_index_readers_file-0.1.12-py3-none-any.whl (36 kB)\n",
            "Collecting llama-index-readers-llama-parse<0.2.0,>=0.1.2 (from llama-index)\n",
            "  Downloading llama_index_readers_llama_parse-0.1.4-py3-none-any.whl (2.5 kB)\n",
            "Requirement already satisfied: PyYAML>=6.0.1 in /usr/local/lib/python3.10/dist-packages (from llama-index-core<0.11.0,>=0.10.25->llama-index) (6.0.1)\n",
            "Requirement already satisfied: SQLAlchemy[asyncio]>=1.4.49 in /usr/local/lib/python3.10/dist-packages (from llama-index-core<0.11.0,>=0.10.25->llama-index) (2.0.29)\n",
            "Requirement already satisfied: aiohttp<4.0.0,>=3.8.6 in /usr/local/lib/python3.10/dist-packages (from llama-index-core<0.11.0,>=0.10.25->llama-index) (3.9.3)\n",
            "Requirement already satisfied: dataclasses-json in /usr/local/lib/python3.10/dist-packages (from llama-index-core<0.11.0,>=0.10.25->llama-index) (0.6.4)\n",
            "Requirement already satisfied: deprecated>=1.2.9.3 in /usr/local/lib/python3.10/dist-packages (from llama-index-core<0.11.0,>=0.10.25->llama-index) (1.2.14)\n",
            "Requirement already satisfied: dirtyjson<2.0.0,>=1.0.8 in /usr/local/lib/python3.10/dist-packages (from llama-index-core<0.11.0,>=0.10.25->llama-index) (1.0.8)\n",
            "Requirement already satisfied: fsspec>=2023.5.0 in /usr/local/lib/python3.10/dist-packages (from llama-index-core<0.11.0,>=0.10.25->llama-index) (2023.6.0)\n",
            "Requirement already satisfied: httpx in /usr/local/lib/python3.10/dist-packages (from llama-index-core<0.11.0,>=0.10.25->llama-index) (0.27.0)\n",
            "Requirement already satisfied: llamaindex-py-client<0.2.0,>=0.1.15 in /usr/local/lib/python3.10/dist-packages (from llama-index-core<0.11.0,>=0.10.25->llama-index) (0.1.15)\n",
            "Requirement already satisfied: nest-asyncio<2.0.0,>=1.5.8 in /usr/local/lib/python3.10/dist-packages (from llama-index-core<0.11.0,>=0.10.25->llama-index) (1.6.0)\n",
            "Requirement already satisfied: networkx>=3.0 in /usr/local/lib/python3.10/dist-packages (from llama-index-core<0.11.0,>=0.10.25->llama-index) (3.2.1)\n",
            "Requirement already satisfied: nltk<4.0.0,>=3.8.1 in /usr/local/lib/python3.10/dist-packages (from llama-index-core<0.11.0,>=0.10.25->llama-index) (3.8.1)\n",
            "Requirement already satisfied: numpy in /usr/local/lib/python3.10/dist-packages (from llama-index-core<0.11.0,>=0.10.25->llama-index) (1.25.2)\n",
            "Requirement already satisfied: openai>=1.1.0 in /usr/local/lib/python3.10/dist-packages (from llama-index-core<0.11.0,>=0.10.25->llama-index) (1.14.3)\n",
            "Requirement already satisfied: pandas in /usr/local/lib/python3.10/dist-packages (from llama-index-core<0.11.0,>=0.10.25->llama-index) (1.5.3)\n",
            "Requirement already satisfied: pillow>=9.0.0 in /usr/local/lib/python3.10/dist-packages (from llama-index-core<0.11.0,>=0.10.25->llama-index) (9.4.0)\n",
            "Requirement already satisfied: requests>=2.31.0 in /usr/local/lib/python3.10/dist-packages (from llama-index-core<0.11.0,>=0.10.25->llama-index) (2.31.0)\n",
            "Requirement already satisfied: tenacity<9.0.0,>=8.2.0 in /usr/local/lib/python3.10/dist-packages (from llama-index-core<0.11.0,>=0.10.25->llama-index) (8.2.3)\n",
            "Requirement already satisfied: tiktoken>=0.3.3 in /usr/local/lib/python3.10/dist-packages (from llama-index-core<0.11.0,>=0.10.25->llama-index) (0.6.0)\n",
            "Requirement already satisfied: tqdm<5.0.0,>=4.66.1 in /usr/local/lib/python3.10/dist-packages (from llama-index-core<0.11.0,>=0.10.25->llama-index) (4.66.2)\n",
            "Requirement already satisfied: typing-extensions>=4.5.0 in /usr/local/lib/python3.10/dist-packages (from llama-index-core<0.11.0,>=0.10.25->llama-index) (4.10.0)\n",
            "Requirement already satisfied: typing-inspect>=0.8.0 in /usr/local/lib/python3.10/dist-packages (from llama-index-core<0.11.0,>=0.10.25->llama-index) (0.9.0)\n",
            "Requirement already satisfied: beautifulsoup4<5.0.0,>=4.12.3 in /usr/local/lib/python3.10/dist-packages (from llama-index-readers-file<0.2.0,>=0.1.4->llama-index) (4.12.3)\n",
            "Collecting bs4<0.0.3,>=0.0.2 (from llama-index-readers-file<0.2.0,>=0.1.4->llama-index)\n",
            "  Downloading bs4-0.0.2-py2.py3-none-any.whl (1.2 kB)\n",
            "Collecting pymupdf<2.0.0,>=1.23.21 (from llama-index-readers-file<0.2.0,>=0.1.4->llama-index)\n",
            "  Downloading PyMuPDF-1.24.0-cp310-none-manylinux2014_x86_64.whl (3.9 MB)\n",
            "\u001b[2K     \u001b[90m━━━━━━━━━━━━━━━━━━━━━━━━━━━━━━━━━━━━━━━━\u001b[0m \u001b[32m3.9/3.9 MB\u001b[0m \u001b[31m24.1 MB/s\u001b[0m eta \u001b[36m0:00:00\u001b[0m\n",
            "\u001b[?25hCollecting pypdf<5.0.0,>=4.0.1 (from llama-index-readers-file<0.2.0,>=0.1.4->llama-index)\n",
            "  Downloading pypdf-4.1.0-py3-none-any.whl (286 kB)\n",
            "\u001b[2K     \u001b[90m━━━━━━━━━━━━━━━━━━━━━━━━━━━━━━━━━━━━━━━━\u001b[0m \u001b[32m286.1/286.1 kB\u001b[0m \u001b[31m5.6 MB/s\u001b[0m eta \u001b[36m0:00:00\u001b[0m\n",
            "\u001b[?25hCollecting striprtf<0.0.27,>=0.0.26 (from llama-index-readers-file<0.2.0,>=0.1.4->llama-index)\n",
            "  Downloading striprtf-0.0.26-py3-none-any.whl (6.9 kB)\n",
            "Collecting llama-parse<0.5.0,>=0.4.0 (from llama-index-readers-llama-parse<0.2.0,>=0.1.2->llama-index)\n",
            "  Downloading llama_parse-0.4.0-py3-none-any.whl (7.0 kB)\n",
            "Requirement already satisfied: aiosignal>=1.1.2 in /usr/local/lib/python3.10/dist-packages (from aiohttp<4.0.0,>=3.8.6->llama-index-core<0.11.0,>=0.10.25->llama-index) (1.3.1)\n",
            "Requirement already satisfied: attrs>=17.3.0 in /usr/local/lib/python3.10/dist-packages (from aiohttp<4.0.0,>=3.8.6->llama-index-core<0.11.0,>=0.10.25->llama-index) (23.2.0)\n",
            "Requirement already satisfied: frozenlist>=1.1.1 in /usr/local/lib/python3.10/dist-packages (from aiohttp<4.0.0,>=3.8.6->llama-index-core<0.11.0,>=0.10.25->llama-index) (1.4.1)\n",
            "Requirement already satisfied: multidict<7.0,>=4.5 in /usr/local/lib/python3.10/dist-packages (from aiohttp<4.0.0,>=3.8.6->llama-index-core<0.11.0,>=0.10.25->llama-index) (6.0.5)\n",
            "Requirement already satisfied: yarl<2.0,>=1.0 in /usr/local/lib/python3.10/dist-packages (from aiohttp<4.0.0,>=3.8.6->llama-index-core<0.11.0,>=0.10.25->llama-index) (1.9.4)\n",
            "Requirement already satisfied: async-timeout<5.0,>=4.0 in /usr/local/lib/python3.10/dist-packages (from aiohttp<4.0.0,>=3.8.6->llama-index-core<0.11.0,>=0.10.25->llama-index) (4.0.3)\n",
            "Requirement already satisfied: soupsieve>1.2 in /usr/local/lib/python3.10/dist-packages (from beautifulsoup4<5.0.0,>=4.12.3->llama-index-readers-file<0.2.0,>=0.1.4->llama-index) (2.5)\n",
            "Requirement already satisfied: wrapt<2,>=1.10 in /usr/local/lib/python3.10/dist-packages (from deprecated>=1.2.9.3->llama-index-core<0.11.0,>=0.10.25->llama-index) (1.14.1)\n",
            "Requirement already satisfied: pydantic>=1.10 in /usr/local/lib/python3.10/dist-packages (from llamaindex-py-client<0.2.0,>=0.1.15->llama-index-core<0.11.0,>=0.10.25->llama-index) (2.6.4)\n",
            "Requirement already satisfied: anyio in /usr/local/lib/python3.10/dist-packages (from httpx->llama-index-core<0.11.0,>=0.10.25->llama-index) (3.7.1)\n",
            "Requirement already satisfied: certifi in /usr/local/lib/python3.10/dist-packages (from httpx->llama-index-core<0.11.0,>=0.10.25->llama-index) (2024.2.2)\n",
            "Requirement already satisfied: httpcore==1.* in /usr/local/lib/python3.10/dist-packages (from httpx->llama-index-core<0.11.0,>=0.10.25->llama-index) (1.0.5)\n",
            "Requirement already satisfied: idna in /usr/local/lib/python3.10/dist-packages (from httpx->llama-index-core<0.11.0,>=0.10.25->llama-index) (3.6)\n",
            "Requirement already satisfied: sniffio in /usr/local/lib/python3.10/dist-packages (from httpx->llama-index-core<0.11.0,>=0.10.25->llama-index) (1.3.1)\n",
            "Requirement already satisfied: h11<0.15,>=0.13 in /usr/local/lib/python3.10/dist-packages (from httpcore==1.*->httpx->llama-index-core<0.11.0,>=0.10.25->llama-index) (0.14.0)\n",
            "Requirement already satisfied: click in /usr/local/lib/python3.10/dist-packages (from nltk<4.0.0,>=3.8.1->llama-index-core<0.11.0,>=0.10.25->llama-index) (8.1.7)\n",
            "Requirement already satisfied: joblib in /usr/local/lib/python3.10/dist-packages (from nltk<4.0.0,>=3.8.1->llama-index-core<0.11.0,>=0.10.25->llama-index) (1.3.2)\n",
            "Requirement already satisfied: regex>=2021.8.3 in /usr/local/lib/python3.10/dist-packages (from nltk<4.0.0,>=3.8.1->llama-index-core<0.11.0,>=0.10.25->llama-index) (2023.12.25)\n",
            "Requirement already satisfied: distro<2,>=1.7.0 in /usr/lib/python3/dist-packages (from openai>=1.1.0->llama-index-core<0.11.0,>=0.10.25->llama-index) (1.7.0)\n",
            "Collecting PyMuPDFb==1.24.0 (from pymupdf<2.0.0,>=1.23.21->llama-index-readers-file<0.2.0,>=0.1.4->llama-index)\n",
            "  Downloading PyMuPDFb-1.24.0-py3-none-manylinux2014_x86_64.manylinux_2_17_x86_64.whl (30.8 MB)\n",
            "\u001b[2K     \u001b[90m━━━━━━━━━━━━━━━━━━━━━━━━━━━━━━━━━━━━━━━━\u001b[0m \u001b[32m30.8/30.8 MB\u001b[0m \u001b[31m11.0 MB/s\u001b[0m eta \u001b[36m0:00:00\u001b[0m\n",
            "\u001b[?25hRequirement already satisfied: charset-normalizer<4,>=2 in /usr/local/lib/python3.10/dist-packages (from requests>=2.31.0->llama-index-core<0.11.0,>=0.10.25->llama-index) (3.3.2)\n",
            "Requirement already satisfied: urllib3<3,>=1.21.1 in /usr/local/lib/python3.10/dist-packages (from requests>=2.31.0->llama-index-core<0.11.0,>=0.10.25->llama-index) (2.0.7)\n",
            "Requirement already satisfied: greenlet!=0.4.17 in /usr/local/lib/python3.10/dist-packages (from SQLAlchemy[asyncio]>=1.4.49->llama-index-core<0.11.0,>=0.10.25->llama-index) (3.0.3)\n",
            "Requirement already satisfied: mypy-extensions>=0.3.0 in /usr/local/lib/python3.10/dist-packages (from typing-inspect>=0.8.0->llama-index-core<0.11.0,>=0.10.25->llama-index) (1.0.0)\n",
            "Requirement already satisfied: marshmallow<4.0.0,>=3.18.0 in /usr/local/lib/python3.10/dist-packages (from dataclasses-json->llama-index-core<0.11.0,>=0.10.25->llama-index) (3.21.1)\n",
            "Requirement already satisfied: python-dateutil>=2.8.1 in /usr/local/lib/python3.10/dist-packages (from pandas->llama-index-core<0.11.0,>=0.10.25->llama-index) (2.8.2)\n",
            "Requirement already satisfied: pytz>=2020.1 in /usr/local/lib/python3.10/dist-packages (from pandas->llama-index-core<0.11.0,>=0.10.25->llama-index) (2023.4)\n",
            "Requirement already satisfied: exceptiongroup in /usr/local/lib/python3.10/dist-packages (from anyio->httpx->llama-index-core<0.11.0,>=0.10.25->llama-index) (1.2.0)\n",
            "Requirement already satisfied: packaging>=17.0 in /usr/local/lib/python3.10/dist-packages (from marshmallow<4.0.0,>=3.18.0->dataclasses-json->llama-index-core<0.11.0,>=0.10.25->llama-index) (24.0)\n",
            "Requirement already satisfied: annotated-types>=0.4.0 in /usr/local/lib/python3.10/dist-packages (from pydantic>=1.10->llamaindex-py-client<0.2.0,>=0.1.15->llama-index-core<0.11.0,>=0.10.25->llama-index) (0.6.0)\n",
            "Requirement already satisfied: pydantic-core==2.16.3 in /usr/local/lib/python3.10/dist-packages (from pydantic>=1.10->llamaindex-py-client<0.2.0,>=0.1.15->llama-index-core<0.11.0,>=0.10.25->llama-index) (2.16.3)\n",
            "Requirement already satisfied: six>=1.5 in /usr/local/lib/python3.10/dist-packages (from python-dateutil>=2.8.1->pandas->llama-index-core<0.11.0,>=0.10.25->llama-index) (1.16.0)\n",
            "Installing collected packages: striprtf, pypdf, PyMuPDFb, pymupdf, bs4, llama-index-legacy, llama-parse, llama-index-readers-file, llama-index-indices-managed-llama-cloud, llama-index-embeddings-openai, llama-index-readers-llama-parse, llama-index-multi-modal-llms-openai, llama-index-cli, llama-index-agent-openai, llama-index-program-openai, llama-index-question-gen-openai, llama-index\n",
            "Successfully installed PyMuPDFb-1.24.0 bs4-0.0.2 llama-index-0.10.25 llama-index-agent-openai-0.2.1 llama-index-cli-0.1.11 llama-index-embeddings-openai-0.1.7 llama-index-indices-managed-llama-cloud-0.1.5 llama-index-legacy-0.9.48 llama-index-multi-modal-llms-openai-0.1.4 llama-index-program-openai-0.1.5 llama-index-question-gen-openai-0.1.3 llama-index-readers-file-0.1.12 llama-index-readers-llama-parse-0.1.4 llama-parse-0.4.0 pymupdf-1.24.0 pypdf-4.1.0 striprtf-0.0.26\n"
          ]
        }
      ]
    },
    {
      "cell_type": "code",
      "source": [
        "from llama_index.core import (\n",
        "    SimpleDirectoryReader,\n",
        "    VectorStoreIndex,\n",
        "    download_loader,\n",
        "    RAKEKeywordTableIndex,\n",
        ")"
      ],
      "metadata": {
        "id": "Pmy9i2NOBCRw"
      },
      "execution_count": 3,
      "outputs": []
    },
    {
      "cell_type": "code",
      "source": [
        "from llama_index.llms.openai import OpenAI\n",
        "\n",
        "llm = OpenAI(temperature=0, model=\"gpt-3.5-turbo\")"
      ],
      "metadata": {
        "id": "8FYtEnDNBHIj"
      },
      "execution_count": 4,
      "outputs": []
    },
    {
      "cell_type": "code",
      "source": [
        "!mkdir -p 'data/10k/'\n",
        "!wget \"https://raw.githubusercontent.com/savdarash/Data-Repository/main/Tesla%20Proxy%20doc%2022.pdf\""
      ],
      "metadata": {
        "colab": {
          "base_uri": "https://localhost:8080/"
        },
        "id": "OcqbXaD-BIq4",
        "outputId": "b81977c4-19d4-460b-9c3a-48bf323f0374"
      },
      "execution_count": 8,
      "outputs": [
        {
          "output_type": "stream",
          "name": "stdout",
          "text": [
            "--2024-03-28 00:39:32--  https://raw.githubusercontent.com/savdarash/Data-Repository/main/Tesla%20Proxy%20doc%2022.pdf\n",
            "Resolving raw.githubusercontent.com (raw.githubusercontent.com)... 185.199.111.133, 185.199.109.133, 185.199.110.133, ...\n",
            "Connecting to raw.githubusercontent.com (raw.githubusercontent.com)|185.199.111.133|:443... connected.\n",
            "HTTP request sent, awaiting response... 200 OK\n",
            "Length: 1476951 (1.4M) [application/octet-stream]\n",
            "Saving to: ‘Tesla Proxy doc 22.pdf.2’\n",
            "\n",
            "\rTesla Proxy doc 22.   0%[                    ]       0  --.-KB/s               \rTesla Proxy doc 22. 100%[===================>]   1.41M  --.-KB/s    in 0.03s   \n",
            "\n",
            "2024-03-28 00:39:32 (43.5 MB/s) - ‘Tesla Proxy doc 22.pdf.2’ saved [1476951/1476951]\n",
            "\n"
          ]
        }
      ]
    },
    {
      "cell_type": "code",
      "source": [
        "reader = SimpleDirectoryReader(input_files=[\"Tesla Proxy doc 22.pdf\"])\n",
        "proxy_2022_docs= reader.load_data()"
      ],
      "metadata": {
        "id": "RjdadnnGBWeh"
      },
      "execution_count": 12,
      "outputs": []
    },
    {
      "cell_type": "code",
      "source": [
        "!mkdir -p 'data/10k/'\n",
        "!wget \"https://raw.githubusercontent.com/savdarash/Data-Repository/main/Tesla%20Proxy%20doc%2023.pdf\""
      ],
      "metadata": {
        "colab": {
          "base_uri": "https://localhost:8080/"
        },
        "id": "BF34n5YcDf4D",
        "outputId": "4bbc0bcc-a5c7-4349-c315-fa90d4a8d44e"
      },
      "execution_count": 13,
      "outputs": [
        {
          "output_type": "stream",
          "name": "stdout",
          "text": [
            "--2024-03-28 00:41:49--  https://raw.githubusercontent.com/savdarash/Data-Repository/main/Tesla%20Proxy%20doc%2023.pdf\n",
            "Resolving raw.githubusercontent.com (raw.githubusercontent.com)... 185.199.108.133, 185.199.109.133, 185.199.110.133, ...\n",
            "Connecting to raw.githubusercontent.com (raw.githubusercontent.com)|185.199.108.133|:443... connected.\n",
            "HTTP request sent, awaiting response... 200 OK\n",
            "Length: 983365 (960K) [application/octet-stream]\n",
            "Saving to: ‘Tesla Proxy doc 23.pdf’\n",
            "\n",
            "Tesla Proxy doc 23. 100%[===================>] 960.32K  --.-KB/s    in 0.03s   \n",
            "\n",
            "2024-03-28 00:41:49 (28.3 MB/s) - ‘Tesla Proxy doc 23.pdf’ saved [983365/983365]\n",
            "\n"
          ]
        }
      ]
    },
    {
      "cell_type": "code",
      "source": [
        "reader = SimpleDirectoryReader(input_files=[\"Tesla Proxy doc 23.pdf\"])\n",
        "proxy_2023_docs= reader.load_data()"
      ],
      "metadata": {
        "id": "efPSEUwrDmw6"
      },
      "execution_count": 14,
      "outputs": []
    },
    {
      "cell_type": "code",
      "source": [
        "print(proxy_2023_docs[0].get_content())"
      ],
      "metadata": {
        "colab": {
          "base_uri": "https://localhost:8080/"
        },
        "id": "ByzhYkmMDxGW",
        "outputId": "c70c76dc-e707-4b7a-c37f-7fcc6ecd821b"
      },
      "execution_count": 15,
      "outputs": [
        {
          "output_type": "stream",
          "name": "stdout",
          "text": [
            "Table\tof\tContents\n",
            "UNITED\tSTATES\n",
            "SECURITIES\tAND\tEXCHANGE\tCOMMISSION\n",
            "WASHINGTON,\tD.C.\t20549\n",
            "\t\n",
            "\t\n",
            "SCHEDULE\t14A\n",
            "\tINFORMATION\n",
            "Proxy\tStatement\tPursuant\tto\tSection\t14(a)\tof\tthe\n",
            "Securities\tExchange\tAct\tof\t1934\t(Amendment\tNo.\t\t\t\t)\n",
            "\t\n",
            "\t\n",
            "Filed\tby\tthe\tRegistrant\t\t\n",
            "☒\n",
            "Filed\tby\ta\tPa\n",
            "rty\t\n",
            "other\tthan\tthe\tRegistrant\t\t\n",
            "☐\n",
            "Check\tthe\tappropriate\tbox:\n",
            "\t\n",
            "☐\n",
            "\t\t\n",
            "Preliminary\tProxy\tSta\n",
            "tem\n",
            "ent\n",
            "☐\n",
            "\t\t\n",
            "Confidential,\tfor\tUse\tof\tthe\tCommission\tOnly\t(as\tpermitted\tby\t\n",
            "Rule\t14a-6\t(e)\t(2))\n",
            "☒\n",
            "\t\t\n",
            "Definitive\tProxy\tStatement\n",
            "☐\n",
            "\t\t\n",
            "Definitive\tAdditional\tMaterials\n",
            "☐\n",
            "\t\t\n",
            "Soliciting\tMaterial\tPursuant\tto\t\n",
            "Section\t240.14a-11\t(c)\tor\n",
            "\t\n",
            "Section\t240.14a-12\n",
            "TESLA,\tINC.\n",
            "(Name\tof\tRegistrant\tas\tSpecified\tin\tits\tCharter)\n",
            "\t\n",
            "(Name\tof\tPerson(s)\tFiling\tProxy\tStatement,\tif\tother\tthan\tthe\tRegistrant)\n",
            "Payment\tof\tFiling\tFee\t(Check\tall\tboxes\tthat\tapply):\n",
            "\t\n",
            "☒\n",
            "\t\n",
            "No\tfee\trequired.\n",
            "☐\n",
            "\t\n",
            "Fee\tpaid\tpreviously\twith\tpreliminary\tmaterials.\n",
            "☐\n",
            "\t\n",
            "Fee\tcomputed\ton\ttable\tin\texhibit\trequired\tby\tItem\t25(b)\tper\tExchange\tAct\tRules\t\n",
            "14a-6(i)(1)\n",
            "\tand\t\n",
            "0-11\n"
          ]
        }
      ]
    },
    {
      "cell_type": "code",
      "source": [
        "!pip install -qU llama-index llama-hub pypdf langchain openai"
      ],
      "metadata": {
        "id": "7Rxt7S-1Exak",
        "colab": {
          "base_uri": "https://localhost:8080/"
        },
        "outputId": "343069af-e300-49d3-fb8a-269511d262f9"
      },
      "execution_count": 16,
      "outputs": [
        {
          "output_type": "stream",
          "name": "stdout",
          "text": [
            "\u001b[2K     \u001b[90m━━━━━━━━━━━━━━━━━━━━━━━━━━━━━━━━━━━━━━━━\u001b[0m \u001b[32m103.9/103.9 MB\u001b[0m \u001b[31m2.4 MB/s\u001b[0m eta \u001b[36m0:00:00\u001b[0m\n",
            "\u001b[2K     \u001b[90m━━━━━━━━━━━━━━━━━━━━━━━━━━━━━━━━━━━━━━━━\u001b[0m \u001b[32m810.5/810.5 kB\u001b[0m \u001b[31m50.2 MB/s\u001b[0m eta \u001b[36m0:00:00\u001b[0m\n",
            "\u001b[2K     \u001b[90m━━━━━━━━━━━━━━━━━━━━━━━━━━━━━━━━━━━━━━━━\u001b[0m \u001b[32m56.5/56.5 kB\u001b[0m \u001b[31m7.2 MB/s\u001b[0m eta \u001b[36m0:00:00\u001b[0m\n",
            "\u001b[?25h  Preparing metadata (setup.py) ... \u001b[?25l\u001b[?25hdone\n",
            "\u001b[2K     \u001b[90m━━━━━━━━━━━━━━━━━━━━━━━━━━━━━━━━━━━━━━━━\u001b[0m \u001b[32m1.8/1.8 MB\u001b[0m \u001b[31m67.4 MB/s\u001b[0m eta \u001b[36m0:00:00\u001b[0m\n",
            "\u001b[2K     \u001b[90m━━━━━━━━━━━━━━━━━━━━━━━━━━━━━━━━━━━━━━━━\u001b[0m \u001b[32m273.0/273.0 kB\u001b[0m \u001b[31m26.9 MB/s\u001b[0m eta \u001b[36m0:00:00\u001b[0m\n",
            "\u001b[2K     \u001b[90m━━━━━━━━━━━━━━━━━━━━━━━━━━━━━━━━━━━━━━━━\u001b[0m \u001b[32m86.9/86.9 kB\u001b[0m \u001b[31m10.4 MB/s\u001b[0m eta \u001b[36m0:00:00\u001b[0m\n",
            "\u001b[2K     \u001b[90m━━━━━━━━━━━━━━━━━━━━━━━━━━━━━━━━━━━━━━━━\u001b[0m \u001b[32m53.0/53.0 kB\u001b[0m \u001b[31m6.4 MB/s\u001b[0m eta \u001b[36m0:00:00\u001b[0m\n",
            "\u001b[2K     \u001b[90m━━━━━━━━━━━━━━━━━━━━━━━━━━━━━━━━━━━━━━━━\u001b[0m \u001b[32m144.8/144.8 kB\u001b[0m \u001b[31m15.0 MB/s\u001b[0m eta \u001b[36m0:00:00\u001b[0m\n",
            "\u001b[?25h  Building wheel for html2text (setup.py) ... \u001b[?25l\u001b[?25hdone\n"
          ]
        }
      ]
    },
    {
      "cell_type": "code",
      "source": [
        "import os\n",
        "import getpass\n",
        "\n",
        "os.environ[\"OPENAI_API_KEY\"] = getpass.getpass(\"OpenAI API Key:\")"
      ],
      "metadata": {
        "id": "79LeA5huEzEW",
        "colab": {
          "base_uri": "https://localhost:8080/"
        },
        "outputId": "8d370dd4-84d4-419e-83ba-e543032de3b2"
      },
      "execution_count": 17,
      "outputs": [
        {
          "name": "stdout",
          "output_type": "stream",
          "text": [
            "OpenAI API Key:··········\n"
          ]
        }
      ]
    },
    {
      "cell_type": "code",
      "source": [
        "import nest_asyncio\n",
        "\n",
        "nest_asyncio.apply()"
      ],
      "metadata": {
        "id": "PWNhu9jxE4yA"
      },
      "execution_count": 18,
      "outputs": []
    },
    {
      "cell_type": "markdown",
      "source": [
        "from IPython.display import HTML, display\n",
        "\n",
        "def set_css():\n",
        "  display(HTML('''\n",
        "  <style>\n",
        "    pre {\n",
        "        white-space: pre-wrap;\n",
        "    }\n",
        "  </style>\n",
        "  '''))\n",
        "get_ipython().events.register('pre_run_cell', set_css)"
      ],
      "metadata": {
        "id": "tNAehqX9FBPC"
      }
    },
    {
      "cell_type": "code",
      "source": [
        "from llama_index.core import SimpleDirectoryReader, ServiceContext, VectorStoreIndex\n",
        "from llama_index.llms.openai import OpenAI\n",
        "from llama_index.embeddings.openai import OpenAIEmbedding\n",
        "from llama_index.core import Settings\n",
        "\n",
        "from llama_index.core.tools import QueryEngineTool, ToolMetadata\n",
        "from llama_index.core.query_engine import SubQuestionQueryEngine"
      ],
      "metadata": {
        "id": "o9gGyj9LEA08"
      },
      "execution_count": 19,
      "outputs": []
    },
    {
      "cell_type": "code",
      "source": [
        "Settings.llm = OpenAI(model=\"gpt-3.5-turbo\")\n",
        "Settings.embed_model = OpenAIEmbedding(model=\"text-embedding-3-small\")"
      ],
      "metadata": {
        "id": "Xe6M2BMdEEp9"
      },
      "execution_count": 20,
      "outputs": []
    },
    {
      "cell_type": "code",
      "source": [
        "base_index = VectorStoreIndex.from_documents(proxy_2023_docs + proxy_2022_docs)\n",
        "base_engine = base_index.as_query_engine(similarity_top_k=4)"
      ],
      "metadata": {
        "id": "DTv3V82EF5ep"
      },
      "execution_count": 21,
      "outputs": []
    },
    {
      "cell_type": "code",
      "source": [
        "response = base_engine.query(\"Who is the CEO of CVS?- be verbose\")\n",
        "print(str(response))"
      ],
      "metadata": {
        "id": "aKOBPhXDF-hw",
        "colab": {
          "base_uri": "https://localhost:8080/"
        },
        "outputId": "829a3113-d780-497f-8579-1c3b7368a681"
      },
      "execution_count": 22,
      "outputs": [
        {
          "output_type": "stream",
          "name": "stdout",
          "text": [
            "The CEO of CVS is not mentioned in the provided context information. The context primarily discusses individuals serving on the Board of Directors of Tesla, their backgrounds, experiences, and qualifications. The information provided does not include any details about the CEO of CVS.\n"
          ]
        }
      ]
    },
    {
      "cell_type": "code",
      "source": [
        "response = base_engine.query(\"Who is the CEO of Tesla?- be verbose\")\n",
        "print(str(response))"
      ],
      "metadata": {
        "colab": {
          "base_uri": "https://localhost:8080/"
        },
        "id": "pCjIULoQgwQi",
        "outputId": "115647d8-59bd-4c20-bff8-d11922f879bd"
      },
      "execution_count": 23,
      "outputs": [
        {
          "output_type": "stream",
          "name": "stdout",
          "text": [
            "The Chief Executive Officer of Tesla is Elon Musk. He has been serving as the Chief Executive Officer since October 2008. In addition to his role at Tesla, Mr. Musk is also the Chief Executive Officer, Chief Technology Officer, and Chairman of SpaceX, a company focused on developing and launching advanced rockets for satellite and human transportation. Furthermore, he served as the Chairman of the Board of SolarCity Corporation until its acquisition by Tesla in November 2016. Mr. Musk is also the Chief Executive Officer of Twitter, Inc. since October 2022. Apart from these roles, he is a founder of The Boring Company, an infrastructure company, and Neuralink Corporation, a company focused on developing brain-machine interfaces. Mr. Musk has played a significant role in guiding Tesla from an early-stage startup through its IPO in 2010 to becoming one of the most valuable companies globally. His leadership and vision have been instrumental in driving Tesla's mission to accelerate the world's transition to sustainable energy.\n"
          ]
        }
      ]
    },
    {
      "cell_type": "code",
      "source": [
        "print(len(response.source_nodes))"
      ],
      "metadata": {
        "id": "btWR9RUrGNK4",
        "colab": {
          "base_uri": "https://localhost:8080/"
        },
        "outputId": "e0ad8c30-6440-43c6-c51f-dfd84c55adaf"
      },
      "execution_count": 24,
      "outputs": [
        {
          "output_type": "stream",
          "name": "stdout",
          "text": [
            "4\n"
          ]
        }
      ]
    },
    {
      "cell_type": "code",
      "source": [
        "print(response.source_nodes[0].get_content())"
      ],
      "metadata": {
        "id": "ce9W5XYSGTSq",
        "colab": {
          "base_uri": "https://localhost:8080/"
        },
        "outputId": "b98e24bd-e196-4c94-fc84-34ce8139b777"
      },
      "execution_count": 25,
      "outputs": [
        {
          "output_type": "stream",
          "name": "stdout",
          "text": [
            "Table\tof\tContents\n",
            "\t\n",
            "Director\tBios\n",
            "\t\n",
            "\t\n",
            "\t\n",
            "\t\n",
            "Elon\n",
            "Musk\n",
            "\t\n",
            "\t\n",
            "Age:\n",
            "\t\n",
            "51\n",
            "Director\tSince:\n",
            "\t\n",
            "2004\n",
            "Career\tHighlights\n",
            "\t\n",
            "Elon\tMusk\thas\tserved\tas\tour\tChief\tExecutive\tOfficer\tsince\tOctober\t2008.\n",
            "Mr.\tMusk\thas\talso\tserved\tas\tChief\tExecutive\tOfficer,\tChief\tTechnology\tOfficer\n",
            "and\tChairman\tof\tSpace\tExploration\tTechnologies\tCorporation,\ta\tcompany\twhich\n",
            "develops\tand\tlaunches\tadvanced\trockets\tfor\tsatellite,\tand\teventually\thuman,\n",
            "transportation\t(“\n",
            "SpaceX\n",
            "”),\tsince\tMay\t2002,\tserved\tas\tChairman\tof\tthe\tBoard\tof\n",
            "SolarCity\tCorporation,\ta\tsolar\tinstallation\tcompany\t(“\n",
            "SolarCity\n",
            "”),\tfrom\tJuly\t2006\n",
            "until\tits\tacquisition\tby\tus\tin\tNovember\t2016\tand\tserved\tas\tChief\tExecutive\n",
            "Officer\tof\tTwitter,\tInc.,\ta\tsocial\tmedia\tcompany\t(“\n",
            "Twitter\n",
            "”),\tsince\tOctober\t2022.\n",
            "Mr.\tMusk\tis\talso\ta\tfounder\tof\tThe\tBoring\tCompany,\tan\tinfrastructure\tcompany,\n",
            "and\tNeuralink\tCorporation,\ta\tcompany\tfocused\ton\tdeveloping\tbrain-machine\n",
            "interfaces.\tPrior\tto\tSpaceX,\tMr.\tMusk\t\n",
            "co-founded\n",
            "\tPayPal,\tan\telectronic\tpayment\n",
            "system,\twhich\twas\tacquired\tby\teBay\tin\tOctober\t2002,\tand\tZip2\tCorporation,\ta\n",
            "provider\tof\tInternet\tenterprise\tsoftware\tand\tservices,\twhich\twas\tacquired\tby\n",
            "Compaq\tin\tMarch\t1999.\tMr.\tMusk\talso\tserved\ton\tthe\tboard\tof\tdirectors\tof\n",
            "Endeavor\tGroup\tHoldings,\tInc.\tfrom\tApril\t2021\tto\tJune\t2022.\tMr.\tMusk\tholds\ta\n",
            "B.A.\tin\tphysics\tfrom\tthe\tUniversity\tof\tPennsylvania\tand\ta\tB.S.\tin\tbusiness\tfrom\n",
            "the\tWharton\tSchool\tof\tthe\tUniversity\tof\tPennsylvania.\n",
            "Impact\n",
            "\t\n",
            "As\tour\tChief\tExecutive\tOfficer,\tone\tof\tour\tfounders\tand\tour\tlargest\tstockholder,\n",
            "Mr.\tMusk\tbrings\thistorical\tknowledge,\toperational\tand\ttechnical\texpertise\tand\n",
            "continuity\tto\tthe\tBoard.\tMr.\tMusk\tguided\tTesla\tfrom\tan\tearly-stage\tstartup,\n",
            "through\tits\tIPO\tin\t2010,\tto\ttransformative\tgrowth\tinto\tone\tof\tthe\tmost\tvaluable\n",
            "companies\tin\tthe\tworld.\tMr.\tMusk’s\tleadership\tand\tunique\tvision\thas\tplayed\ta\n",
            "key\trole\tin\tour\tmission\tto\taccelerate\tthe\tworld’s\ttransition\tto\tsustainable\tenergy.\n",
            "\t\n",
            "14\n",
            "\t\t\t\tTesla,\tInc.\t2023\tProxy\tStatement\n"
          ]
        }
      ]
    },
    {
      "cell_type": "code",
      "source": [
        "response = base_engine.query(\"How many shares were available for future issuance under equity compensation plans at the end of 2021 and 2022?\")\n",
        "print(str(response))"
      ],
      "metadata": {
        "id": "ginLJhqQGWuG",
        "colab": {
          "base_uri": "https://localhost:8080/"
        },
        "outputId": "4cb308bb-8ec7-4e20-ea22-0d473711e996"
      },
      "execution_count": 26,
      "outputs": [
        {
          "output_type": "stream",
          "name": "stdout",
          "text": [
            "At the end of 2021, there were 82,835,318 shares available for future issuance under equity compensation plans. At the end of 2022, there were 247,886,582 shares available for future issuance under equity compensation plans.\n"
          ]
        }
      ]
    },
    {
      "cell_type": "code",
      "source": [
        "print(response.source_nodes[0].get_content(metadata_mode=\"all\"))"
      ],
      "metadata": {
        "id": "auktD1CUG_fG",
        "colab": {
          "base_uri": "https://localhost:8080/"
        },
        "outputId": "d5f9cdce-c5dc-4973-97ae-bbdafbced9d2"
      },
      "execution_count": 33,
      "outputs": [
        {
          "output_type": "stream",
          "name": "stdout",
          "text": [
            "page_label: 63\n",
            "file_name: Tesla Proxy doc 23.pdf\n",
            "file_path: Tesla Proxy doc 23.pdf\n",
            "file_type: application/pdf\n",
            "file_size: 983365\n",
            "creation_date: 2024-03-28\n",
            "last_modified_date: 2024-03-28\n",
            "\n",
            "Table\tof\tContents\n",
            "See\t“\n",
            "Ownership\tof\tSecurities\n",
            "”\tbelow\tfor\tinformation\tregarding\tany\tshares\tpledged\tby\tour\tdirectors\tor\texecutive\tofficers\tas\n",
            "of\tMarch\t31,\t2023;\thowever,\tsuch\tpledging\tdoes\t\n",
            "not\n",
            "\tindicate\tthe\textent\tto\twhich\tthere\tmay\tbe\tactual\tborrowings\tagainst\n",
            "such\tshares\tas\tof\tsuch\tdate,\twhich\tmay\tbe\tsubstantially\tless\tthan\tthe\tvalue\tof\tthe\tshares\tpledged.\tAs\tof\n",
            "December\t31,\t2022,\tbased\ton\twritten\trepresentations\tof\tour\tdirectors\tand\texecutive\tofficers\tto\tthe\tCompany,\tthe\n",
            "aggregate\tloan\tor\tinvestment\tamount\tcollateralized\tby\tour\tdirectors\tand\texecutive\tofficers’\tpledged\tshares\twas\tless\tthan\n",
            "1%\tof\tthe\ttotal\tvalue\tof\tthe\tpledged\tshares.\n",
            "We\trequire\tour\tdirectors\tand\texecutive\tofficers\tto\tmake\twritten\trepresentations,\tat\tleast\tannually,\tthat\the\tor\tshe\tis\tin\n",
            "compliance\twith\tour\tpledging\tpolicy.\tIf\ta\tdirector\tor\texecutive\tofficer\twishes\tto\ttake\ta\tloan\tcollateralized\tby\tpledged\tstock,\n",
            "Tesla\tmanagement\tworks\twith\tthe\tdirector\tor\texecutive\tofficer\tduring\tthe\toriginal\tloan\tapproval,\tand\tsubsequently\n",
            "monitors\tcompliance\twith\tthis\tpolicy\tby\tregularly\treviewing\tand\trequesting\tupdates\tfrom\tthe\tapplicable\tdirector\tor\n",
            "executive\tofficer\ton\this\tor\ther\tpledged\tstock\tamount\tand\tloan\tamount.\tIf\tnecessary,\tTesla\tmanagement\twill\treport\tto\tthe\n",
            "Board\tor\tits\tcommittees\tthe\textent\tto\twhich\tany\tofficer\tor\tdirector\thas\tpledged\tshares\tof\tCompany\tstock.\tWe\tbelieve\tthat\n",
            "this\tmonitoring\tis\teffective\tand\tincludes\tappropriate\tcontrols,\tand\twe\thave\tconfirmed\tthat\teach\tof\tour\tdirectors\tand\n",
            "executive\tofficers\twho\thave\tpledged\tstock\tare\tand\thave\tbeen\tcompliant\twith\tthis\tpolicy\tsince\tour\tlast\tconfirmation.\n",
            "Equity\tCompensation\tPlan\tInformation\n",
            "\t\n",
            "The\tfollowing\ttable\tsummarizes\tthe\tnumber\tof\tsecurities\tunderlying\toutstanding\toptions,\tstock\tawards,\twarrants\tand\n",
            "rights\tgranted\tto\temployees\tand\tdirectors,\tas\twell\tas\tthe\tnumber\tof\tsecurities\tremaining\tavailable\tfor\tfuture\tissuance,\n",
            "under\tTesla’s\tequity\tcompensation\tawards\tas\tof\tDecember\t31,\t2022.\n",
            "\t\n",
            "\t\n",
            "\t\t\n",
            "(a)\n",
            "\t\n",
            "\t\n",
            "(b)\n",
            "\t\n",
            "\t\t\n",
            "(c)\n",
            "\t\n",
            "\t\tPlan\tcategory\n",
            "\t\t\n",
            "Number\tof\tsecurities\n",
            "to\tbe\tissued\tupon\n",
            "exercise\tof\n",
            "outstanding\n",
            "options,\twarrants\n",
            "and\trights\n",
            "(#)(1)\n",
            "\t\n",
            "\t\n",
            "Weighted-average\n",
            "exercise\tprice\tof\n",
            "outstanding\toptions,\n",
            "warrants\tand\trights\n",
            "($)(2)\n",
            "\t\n",
            "\t\t\n",
            "Number\tof\tsecurities\n",
            "remaining\tavailable\tfor\n",
            "future\tissuance\tunder\n",
            "equity\tcompensation\n",
            "plans\t(excluding\n",
            "securities\treflected\tin\n",
            "column\t(a))\n",
            "(#)\n",
            "\t\n",
            "Equity\tcompensation\tplans\n",
            "approved\tby\n",
            "security\tholders\n",
            "\t\t\n",
            "\t\n",
            "364,705,998\n",
            "\t\n",
            "\t\n",
            "\t\n",
            "30.65\n",
            "\t\n",
            "\t\t\n",
            "\t\n",
            "247,886,582\n",
            "(3)\t\n",
            "Equity\tcompensation\tplans\n",
            "not\tapproved\tby\n",
            "security\tholders\n",
            "\t\t\n",
            "\t\n",
            "190,915\n",
            "(4)\t\n",
            "\t\n",
            "\t\n",
            "33.00\n",
            "\t\n",
            "\t\t\n",
            "\t\n",
            "—\n",
            "\t\n",
            "Total\n",
            "\t\t\n",
            "\t\n",
            "364,896,913\n",
            "\t\n",
            "\t\n",
            "\t\n",
            "30.65\n",
            "\t\n",
            "\t\t\n",
            "\t\n",
            "247,886,582\n",
            "\t\n",
            "(1)\n",
            "Consists\tof\toptions\tto\tpurchase\tshares\tof\tour\tcommon\tstock,\tincluding\tthe\t2018\tCEO\tPerformance\tAward,\tand\n",
            "restricted\tstock\tunit\tawards\trepresenting\tthe\tright\tto\tacquire\tshares\tof\tour\tcommon\tstock.\n",
            "(2)\n",
            "The\tweighted\taverage\texercise\tprice\tis\tcalculated\tbased\tsolely\ton\tthe\toutstanding\tstock\toptions.\tIt\tdoes\tnot\ttake\tinto\n",
            "account\tthe\tshares\tissuable\tupon\tvesting\tof\toutstanding\trestricted\tstock\tunit\tawards,\twhich\thave\tno\texercise\tprice.\n",
            "(3)\n",
            "Consists\tof\t147,984,339\tshares\tremaining\tavailable\tfor\tissuance\tunder\tthe\tTesla,\tInc.\n"
          ]
        }
      ]
    },
    {
      "cell_type": "code",
      "source": [
        "proxy_2022_index = VectorStoreIndex.from_documents(proxy_2022_docs)"
      ],
      "metadata": {
        "id": "ReVk1A3JHgEN"
      },
      "execution_count": 27,
      "outputs": []
    },
    {
      "cell_type": "code",
      "source": [
        "proxy_2023_index = VectorStoreIndex.from_documents(proxy_2023_docs)"
      ],
      "metadata": {
        "id": "G7zW0O87JQHg"
      },
      "execution_count": 28,
      "outputs": []
    },
    {
      "cell_type": "code",
      "source": [
        "proxy_2022_engine = proxy_2022_index.as_query_engine(similarity_top_k=2)"
      ],
      "metadata": {
        "id": "eon-B4gnJZL5"
      },
      "execution_count": 29,
      "outputs": []
    },
    {
      "cell_type": "code",
      "source": [
        "proxy_2023_engine = proxy_2023_index.as_query_engine(similarity_top_k=2)"
      ],
      "metadata": {
        "id": "SehZ9wHbJgq_"
      },
      "execution_count": 31,
      "outputs": []
    },
    {
      "cell_type": "code",
      "source": [
        "query_engine_tools = [\n",
        "    QueryEngineTool(\n",
        "        query_engine=proxy_2022_engine,\n",
        "        metadata=ToolMetadata(\n",
        "            name=\"proxy_2022_document\",\n",
        "            description=\"Provides information about  Annual  Meeting of Stockholders  and Proxy Statement for CVS for year 2021\",\n",
        "        ),\n",
        "    ),\n",
        "    QueryEngineTool(\n",
        "        query_engine=proxy_2023_engine,\n",
        "        metadata=ToolMetadata(\n",
        "            name=\"proxy_2023_document\",\n",
        "            description=\"Provides information about  Annual  Meeting of Stockholders  and Proxy Statement for CVS for year 2022\",\n",
        "        ),\n",
        "    ),\n",
        "]\n",
        "\n",
        "s_engine = SubQuestionQueryEngine.from_defaults(query_engine_tools=query_engine_tools)"
      ],
      "metadata": {
        "id": "Gss8LhcVJm9T"
      },
      "execution_count": 32,
      "outputs": []
    },
    {
      "cell_type": "code",
      "source": [
        "response = s_engine.query(\" How many shares were available for future issuance under equity compensation plans at the end of 2021 and 2022?\")\n",
        "print(str(response))"
      ],
      "metadata": {
        "colab": {
          "base_uri": "https://localhost:8080/"
        },
        "id": "la61NNv9m_l9",
        "outputId": "70d68435-5a57-480e-f51c-f54231e7fb10"
      },
      "execution_count": 41,
      "outputs": [
        {
          "output_type": "stream",
          "name": "stdout",
          "text": [
            "Generated 2 sub questions.\n",
            "\u001b[1;3;38;2;237;90;200m[proxy_2022_document] Q: How many shares were available for future issuance under equity compensation plans at the end of 2021?\n",
            "\u001b[0m\u001b[1;3;38;2;90;149;237m[proxy_2023_document] Q: How many shares were available for future issuance under equity compensation plans at the end of 2022?\n",
            "\u001b[0m\u001b[1;3;38;2;237;90;200m[proxy_2022_document] A: 82,835,318 shares were available for future issuance under equity compensation plans at the end of 2021.\n",
            "\u001b[0m\u001b[1;3;38;2;90;149;237m[proxy_2023_document] A: 247,886,582 shares were available for future issuance under equity compensation plans at the end of 2022.\n",
            "\u001b[0m82,835,318 shares were available for future issuance under equity compensation plans at the end of 2021, and 247,886,582 shares were available for future issuance under equity compensation plans at the end of 2022.\n"
          ]
        }
      ]
    },
    {
      "cell_type": "code",
      "source": [
        "response = s_engine.query(\" How many shares were available for future issuance under equity compensation plans at the end of 2021 and 2022, please compare?\")\n",
        "print(str(response))"
      ],
      "metadata": {
        "id": "YDPoB9JoKFix",
        "colab": {
          "base_uri": "https://localhost:8080/"
        },
        "outputId": "42bbc5da-20da-4ae8-e290-6c3891e5f2d8"
      },
      "execution_count": 36,
      "outputs": [
        {
          "output_type": "stream",
          "name": "stdout",
          "text": [
            "Generated 2 sub questions.\n",
            "\u001b[1;3;38;2;237;90;200m[proxy_2022_document] Q: What is the number of shares available for future issuance under equity compensation plans at the end of 2021?\n",
            "\u001b[0m\u001b[1;3;38;2;90;149;237m[proxy_2023_document] Q: What is the number of shares available for future issuance under equity compensation plans at the end of 2022?\n",
            "\u001b[0m\u001b[1;3;38;2;237;90;200m[proxy_2022_document] A: The number of shares available for future issuance under equity compensation plans at the end of 2021 is 82,835,318 shares.\n",
            "\u001b[0m\u001b[1;3;38;2;90;149;237m[proxy_2023_document] A: The number of shares available for future issuance under equity compensation plans at the end of 2022 is 247,886,582.\n",
            "\u001b[0mThe difference in the number of shares available for future issuance under equity compensation plans at the end of 2021 and 2022 is 165,051,264 shares.\n"
          ]
        }
      ]
    }
  ]
}