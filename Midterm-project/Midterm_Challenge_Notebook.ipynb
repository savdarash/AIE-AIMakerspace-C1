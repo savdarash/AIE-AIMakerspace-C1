{
  "nbformat": 4,
  "nbformat_minor": 0,
  "metadata": {
    "colab": {
      "provenance": []
    },
    "kernelspec": {
      "name": "python3",
      "display_name": "Python 3"
    },
    "language_info": {
      "name": "python"
    },
    "widgets": {
      "application/vnd.jupyter.widget-state+json": {
        "53fc8a99b1114415aaf6f1d13e66a509": {
          "model_module": "@jupyter-widgets/controls",
          "model_name": "HBoxModel",
          "model_module_version": "1.5.0",
          "state": {
            "_dom_classes": [],
            "_model_module": "@jupyter-widgets/controls",
            "_model_module_version": "1.5.0",
            "_model_name": "HBoxModel",
            "_view_count": null,
            "_view_module": "@jupyter-widgets/controls",
            "_view_module_version": "1.5.0",
            "_view_name": "HBoxView",
            "box_style": "",
            "children": [
              "IPY_MODEL_7dc550d6bcd34267a2f492abded1a48a",
              "IPY_MODEL_5d4a39224af24b2da3a01cef10a43e2a",
              "IPY_MODEL_db3b063d664a469d86841195dd675a2e"
            ],
            "layout": "IPY_MODEL_8e48abe9fae546da989d2c02156c4645"
          }
        },
        "7dc550d6bcd34267a2f492abded1a48a": {
          "model_module": "@jupyter-widgets/controls",
          "model_name": "HTMLModel",
          "model_module_version": "1.5.0",
          "state": {
            "_dom_classes": [],
            "_model_module": "@jupyter-widgets/controls",
            "_model_module_version": "1.5.0",
            "_model_name": "HTMLModel",
            "_view_count": null,
            "_view_module": "@jupyter-widgets/controls",
            "_view_module_version": "1.5.0",
            "_view_name": "HTMLView",
            "description": "",
            "description_tooltip": null,
            "layout": "IPY_MODEL_f235c47194aa43e9ae868cec731845d2",
            "placeholder": "​",
            "style": "IPY_MODEL_deebde4ba2b548c88e7f1e0f1839a94d",
            "value": "embedding nodes: 100%"
          }
        },
        "5d4a39224af24b2da3a01cef10a43e2a": {
          "model_module": "@jupyter-widgets/controls",
          "model_name": "FloatProgressModel",
          "model_module_version": "1.5.0",
          "state": {
            "_dom_classes": [],
            "_model_module": "@jupyter-widgets/controls",
            "_model_module_version": "1.5.0",
            "_model_name": "FloatProgressModel",
            "_view_count": null,
            "_view_module": "@jupyter-widgets/controls",
            "_view_module_version": "1.5.0",
            "_view_name": "ProgressView",
            "bar_style": "",
            "description": "",
            "description_tooltip": null,
            "layout": "IPY_MODEL_d50d7f63445544ad975607d95a4be5dc",
            "max": 244,
            "min": 0,
            "orientation": "horizontal",
            "style": "IPY_MODEL_b596b06c463042f2a402b7fdd7f724a1",
            "value": 244
          }
        },
        "db3b063d664a469d86841195dd675a2e": {
          "model_module": "@jupyter-widgets/controls",
          "model_name": "HTMLModel",
          "model_module_version": "1.5.0",
          "state": {
            "_dom_classes": [],
            "_model_module": "@jupyter-widgets/controls",
            "_model_module_version": "1.5.0",
            "_model_name": "HTMLModel",
            "_view_count": null,
            "_view_module": "@jupyter-widgets/controls",
            "_view_module_version": "1.5.0",
            "_view_name": "HTMLView",
            "description": "",
            "description_tooltip": null,
            "layout": "IPY_MODEL_7dd7457cdfa64e2c85a15bf7ac338dad",
            "placeholder": "​",
            "style": "IPY_MODEL_2f9d880799a6472a8eac3d5a53b9d53b",
            "value": " 244/244 [01:00&lt;00:00,  2.33s/it]"
          }
        },
        "8e48abe9fae546da989d2c02156c4645": {
          "model_module": "@jupyter-widgets/base",
          "model_name": "LayoutModel",
          "model_module_version": "1.2.0",
          "state": {
            "_model_module": "@jupyter-widgets/base",
            "_model_module_version": "1.2.0",
            "_model_name": "LayoutModel",
            "_view_count": null,
            "_view_module": "@jupyter-widgets/base",
            "_view_module_version": "1.2.0",
            "_view_name": "LayoutView",
            "align_content": null,
            "align_items": null,
            "align_self": null,
            "border": null,
            "bottom": null,
            "display": null,
            "flex": null,
            "flex_flow": null,
            "grid_area": null,
            "grid_auto_columns": null,
            "grid_auto_flow": null,
            "grid_auto_rows": null,
            "grid_column": null,
            "grid_gap": null,
            "grid_row": null,
            "grid_template_areas": null,
            "grid_template_columns": null,
            "grid_template_rows": null,
            "height": null,
            "justify_content": null,
            "justify_items": null,
            "left": null,
            "margin": null,
            "max_height": null,
            "max_width": null,
            "min_height": null,
            "min_width": null,
            "object_fit": null,
            "object_position": null,
            "order": null,
            "overflow": null,
            "overflow_x": null,
            "overflow_y": null,
            "padding": null,
            "right": null,
            "top": null,
            "visibility": "hidden",
            "width": null
          }
        },
        "f235c47194aa43e9ae868cec731845d2": {
          "model_module": "@jupyter-widgets/base",
          "model_name": "LayoutModel",
          "model_module_version": "1.2.0",
          "state": {
            "_model_module": "@jupyter-widgets/base",
            "_model_module_version": "1.2.0",
            "_model_name": "LayoutModel",
            "_view_count": null,
            "_view_module": "@jupyter-widgets/base",
            "_view_module_version": "1.2.0",
            "_view_name": "LayoutView",
            "align_content": null,
            "align_items": null,
            "align_self": null,
            "border": null,
            "bottom": null,
            "display": null,
            "flex": null,
            "flex_flow": null,
            "grid_area": null,
            "grid_auto_columns": null,
            "grid_auto_flow": null,
            "grid_auto_rows": null,
            "grid_column": null,
            "grid_gap": null,
            "grid_row": null,
            "grid_template_areas": null,
            "grid_template_columns": null,
            "grid_template_rows": null,
            "height": null,
            "justify_content": null,
            "justify_items": null,
            "left": null,
            "margin": null,
            "max_height": null,
            "max_width": null,
            "min_height": null,
            "min_width": null,
            "object_fit": null,
            "object_position": null,
            "order": null,
            "overflow": null,
            "overflow_x": null,
            "overflow_y": null,
            "padding": null,
            "right": null,
            "top": null,
            "visibility": null,
            "width": null
          }
        },
        "deebde4ba2b548c88e7f1e0f1839a94d": {
          "model_module": "@jupyter-widgets/controls",
          "model_name": "DescriptionStyleModel",
          "model_module_version": "1.5.0",
          "state": {
            "_model_module": "@jupyter-widgets/controls",
            "_model_module_version": "1.5.0",
            "_model_name": "DescriptionStyleModel",
            "_view_count": null,
            "_view_module": "@jupyter-widgets/base",
            "_view_module_version": "1.2.0",
            "_view_name": "StyleView",
            "description_width": ""
          }
        },
        "d50d7f63445544ad975607d95a4be5dc": {
          "model_module": "@jupyter-widgets/base",
          "model_name": "LayoutModel",
          "model_module_version": "1.2.0",
          "state": {
            "_model_module": "@jupyter-widgets/base",
            "_model_module_version": "1.2.0",
            "_model_name": "LayoutModel",
            "_view_count": null,
            "_view_module": "@jupyter-widgets/base",
            "_view_module_version": "1.2.0",
            "_view_name": "LayoutView",
            "align_content": null,
            "align_items": null,
            "align_self": null,
            "border": null,
            "bottom": null,
            "display": null,
            "flex": null,
            "flex_flow": null,
            "grid_area": null,
            "grid_auto_columns": null,
            "grid_auto_flow": null,
            "grid_auto_rows": null,
            "grid_column": null,
            "grid_gap": null,
            "grid_row": null,
            "grid_template_areas": null,
            "grid_template_columns": null,
            "grid_template_rows": null,
            "height": null,
            "justify_content": null,
            "justify_items": null,
            "left": null,
            "margin": null,
            "max_height": null,
            "max_width": null,
            "min_height": null,
            "min_width": null,
            "object_fit": null,
            "object_position": null,
            "order": null,
            "overflow": null,
            "overflow_x": null,
            "overflow_y": null,
            "padding": null,
            "right": null,
            "top": null,
            "visibility": null,
            "width": null
          }
        },
        "b596b06c463042f2a402b7fdd7f724a1": {
          "model_module": "@jupyter-widgets/controls",
          "model_name": "ProgressStyleModel",
          "model_module_version": "1.5.0",
          "state": {
            "_model_module": "@jupyter-widgets/controls",
            "_model_module_version": "1.5.0",
            "_model_name": "ProgressStyleModel",
            "_view_count": null,
            "_view_module": "@jupyter-widgets/base",
            "_view_module_version": "1.2.0",
            "_view_name": "StyleView",
            "bar_color": null,
            "description_width": ""
          }
        },
        "7dd7457cdfa64e2c85a15bf7ac338dad": {
          "model_module": "@jupyter-widgets/base",
          "model_name": "LayoutModel",
          "model_module_version": "1.2.0",
          "state": {
            "_model_module": "@jupyter-widgets/base",
            "_model_module_version": "1.2.0",
            "_model_name": "LayoutModel",
            "_view_count": null,
            "_view_module": "@jupyter-widgets/base",
            "_view_module_version": "1.2.0",
            "_view_name": "LayoutView",
            "align_content": null,
            "align_items": null,
            "align_self": null,
            "border": null,
            "bottom": null,
            "display": null,
            "flex": null,
            "flex_flow": null,
            "grid_area": null,
            "grid_auto_columns": null,
            "grid_auto_flow": null,
            "grid_auto_rows": null,
            "grid_column": null,
            "grid_gap": null,
            "grid_row": null,
            "grid_template_areas": null,
            "grid_template_columns": null,
            "grid_template_rows": null,
            "height": null,
            "justify_content": null,
            "justify_items": null,
            "left": null,
            "margin": null,
            "max_height": null,
            "max_width": null,
            "min_height": null,
            "min_width": null,
            "object_fit": null,
            "object_position": null,
            "order": null,
            "overflow": null,
            "overflow_x": null,
            "overflow_y": null,
            "padding": null,
            "right": null,
            "top": null,
            "visibility": null,
            "width": null
          }
        },
        "2f9d880799a6472a8eac3d5a53b9d53b": {
          "model_module": "@jupyter-widgets/controls",
          "model_name": "DescriptionStyleModel",
          "model_module_version": "1.5.0",
          "state": {
            "_model_module": "@jupyter-widgets/controls",
            "_model_module_version": "1.5.0",
            "_model_name": "DescriptionStyleModel",
            "_view_count": null,
            "_view_module": "@jupyter-widgets/base",
            "_view_module_version": "1.2.0",
            "_view_name": "StyleView",
            "description_width": ""
          }
        },
        "30da483a4ea443d09591caa4ca32162d": {
          "model_module": "@jupyter-widgets/controls",
          "model_name": "HBoxModel",
          "model_module_version": "1.5.0",
          "state": {
            "_dom_classes": [],
            "_model_module": "@jupyter-widgets/controls",
            "_model_module_version": "1.5.0",
            "_model_name": "HBoxModel",
            "_view_count": null,
            "_view_module": "@jupyter-widgets/controls",
            "_view_module_version": "1.5.0",
            "_view_name": "HBoxView",
            "box_style": "",
            "children": [
              "IPY_MODEL_d912143b63704707a0d329e6a037ef68",
              "IPY_MODEL_827106d746ec4f39a46802482b58a9a9",
              "IPY_MODEL_b889f8826f8c423a95e625337f464a00"
            ],
            "layout": "IPY_MODEL_d77bf652c1ca4cca86cc99ea2a3cdce8"
          }
        },
        "d912143b63704707a0d329e6a037ef68": {
          "model_module": "@jupyter-widgets/controls",
          "model_name": "HTMLModel",
          "model_module_version": "1.5.0",
          "state": {
            "_dom_classes": [],
            "_model_module": "@jupyter-widgets/controls",
            "_model_module_version": "1.5.0",
            "_model_name": "HTMLModel",
            "_view_count": null,
            "_view_module": "@jupyter-widgets/controls",
            "_view_module_version": "1.5.0",
            "_view_name": "HTMLView",
            "description": "",
            "description_tooltip": null,
            "layout": "IPY_MODEL_c43b6e315827496a938e6d46f86e3a08",
            "placeholder": "​",
            "style": "IPY_MODEL_8b33e261104d4406baa47d91e4dbeaa1",
            "value": "Generating: 100%"
          }
        },
        "827106d746ec4f39a46802482b58a9a9": {
          "model_module": "@jupyter-widgets/controls",
          "model_name": "FloatProgressModel",
          "model_module_version": "1.5.0",
          "state": {
            "_dom_classes": [],
            "_model_module": "@jupyter-widgets/controls",
            "_model_module_version": "1.5.0",
            "_model_name": "FloatProgressModel",
            "_view_count": null,
            "_view_module": "@jupyter-widgets/controls",
            "_view_module_version": "1.5.0",
            "_view_name": "ProgressView",
            "bar_style": "success",
            "description": "",
            "description_tooltip": null,
            "layout": "IPY_MODEL_50bfa1cc935b418dbafc2b5f11093697",
            "max": 10,
            "min": 0,
            "orientation": "horizontal",
            "style": "IPY_MODEL_2458cecd49874d53a27dda796d19297f",
            "value": 10
          }
        },
        "b889f8826f8c423a95e625337f464a00": {
          "model_module": "@jupyter-widgets/controls",
          "model_name": "HTMLModel",
          "model_module_version": "1.5.0",
          "state": {
            "_dom_classes": [],
            "_model_module": "@jupyter-widgets/controls",
            "_model_module_version": "1.5.0",
            "_model_name": "HTMLModel",
            "_view_count": null,
            "_view_module": "@jupyter-widgets/controls",
            "_view_module_version": "1.5.0",
            "_view_name": "HTMLView",
            "description": "",
            "description_tooltip": null,
            "layout": "IPY_MODEL_35593eeeca964fb6a3d46b9ec8ada38c",
            "placeholder": "​",
            "style": "IPY_MODEL_d861d37f63b246979e13e891de5d62bd",
            "value": " 10/10 [05:59&lt;00:00, 26.74s/it]"
          }
        },
        "d77bf652c1ca4cca86cc99ea2a3cdce8": {
          "model_module": "@jupyter-widgets/base",
          "model_name": "LayoutModel",
          "model_module_version": "1.2.0",
          "state": {
            "_model_module": "@jupyter-widgets/base",
            "_model_module_version": "1.2.0",
            "_model_name": "LayoutModel",
            "_view_count": null,
            "_view_module": "@jupyter-widgets/base",
            "_view_module_version": "1.2.0",
            "_view_name": "LayoutView",
            "align_content": null,
            "align_items": null,
            "align_self": null,
            "border": null,
            "bottom": null,
            "display": null,
            "flex": null,
            "flex_flow": null,
            "grid_area": null,
            "grid_auto_columns": null,
            "grid_auto_flow": null,
            "grid_auto_rows": null,
            "grid_column": null,
            "grid_gap": null,
            "grid_row": null,
            "grid_template_areas": null,
            "grid_template_columns": null,
            "grid_template_rows": null,
            "height": null,
            "justify_content": null,
            "justify_items": null,
            "left": null,
            "margin": null,
            "max_height": null,
            "max_width": null,
            "min_height": null,
            "min_width": null,
            "object_fit": null,
            "object_position": null,
            "order": null,
            "overflow": null,
            "overflow_x": null,
            "overflow_y": null,
            "padding": null,
            "right": null,
            "top": null,
            "visibility": null,
            "width": null
          }
        },
        "c43b6e315827496a938e6d46f86e3a08": {
          "model_module": "@jupyter-widgets/base",
          "model_name": "LayoutModel",
          "model_module_version": "1.2.0",
          "state": {
            "_model_module": "@jupyter-widgets/base",
            "_model_module_version": "1.2.0",
            "_model_name": "LayoutModel",
            "_view_count": null,
            "_view_module": "@jupyter-widgets/base",
            "_view_module_version": "1.2.0",
            "_view_name": "LayoutView",
            "align_content": null,
            "align_items": null,
            "align_self": null,
            "border": null,
            "bottom": null,
            "display": null,
            "flex": null,
            "flex_flow": null,
            "grid_area": null,
            "grid_auto_columns": null,
            "grid_auto_flow": null,
            "grid_auto_rows": null,
            "grid_column": null,
            "grid_gap": null,
            "grid_row": null,
            "grid_template_areas": null,
            "grid_template_columns": null,
            "grid_template_rows": null,
            "height": null,
            "justify_content": null,
            "justify_items": null,
            "left": null,
            "margin": null,
            "max_height": null,
            "max_width": null,
            "min_height": null,
            "min_width": null,
            "object_fit": null,
            "object_position": null,
            "order": null,
            "overflow": null,
            "overflow_x": null,
            "overflow_y": null,
            "padding": null,
            "right": null,
            "top": null,
            "visibility": null,
            "width": null
          }
        },
        "8b33e261104d4406baa47d91e4dbeaa1": {
          "model_module": "@jupyter-widgets/controls",
          "model_name": "DescriptionStyleModel",
          "model_module_version": "1.5.0",
          "state": {
            "_model_module": "@jupyter-widgets/controls",
            "_model_module_version": "1.5.0",
            "_model_name": "DescriptionStyleModel",
            "_view_count": null,
            "_view_module": "@jupyter-widgets/base",
            "_view_module_version": "1.2.0",
            "_view_name": "StyleView",
            "description_width": ""
          }
        },
        "50bfa1cc935b418dbafc2b5f11093697": {
          "model_module": "@jupyter-widgets/base",
          "model_name": "LayoutModel",
          "model_module_version": "1.2.0",
          "state": {
            "_model_module": "@jupyter-widgets/base",
            "_model_module_version": "1.2.0",
            "_model_name": "LayoutModel",
            "_view_count": null,
            "_view_module": "@jupyter-widgets/base",
            "_view_module_version": "1.2.0",
            "_view_name": "LayoutView",
            "align_content": null,
            "align_items": null,
            "align_self": null,
            "border": null,
            "bottom": null,
            "display": null,
            "flex": null,
            "flex_flow": null,
            "grid_area": null,
            "grid_auto_columns": null,
            "grid_auto_flow": null,
            "grid_auto_rows": null,
            "grid_column": null,
            "grid_gap": null,
            "grid_row": null,
            "grid_template_areas": null,
            "grid_template_columns": null,
            "grid_template_rows": null,
            "height": null,
            "justify_content": null,
            "justify_items": null,
            "left": null,
            "margin": null,
            "max_height": null,
            "max_width": null,
            "min_height": null,
            "min_width": null,
            "object_fit": null,
            "object_position": null,
            "order": null,
            "overflow": null,
            "overflow_x": null,
            "overflow_y": null,
            "padding": null,
            "right": null,
            "top": null,
            "visibility": null,
            "width": null
          }
        },
        "2458cecd49874d53a27dda796d19297f": {
          "model_module": "@jupyter-widgets/controls",
          "model_name": "ProgressStyleModel",
          "model_module_version": "1.5.0",
          "state": {
            "_model_module": "@jupyter-widgets/controls",
            "_model_module_version": "1.5.0",
            "_model_name": "ProgressStyleModel",
            "_view_count": null,
            "_view_module": "@jupyter-widgets/base",
            "_view_module_version": "1.2.0",
            "_view_name": "StyleView",
            "bar_color": null,
            "description_width": ""
          }
        },
        "35593eeeca964fb6a3d46b9ec8ada38c": {
          "model_module": "@jupyter-widgets/base",
          "model_name": "LayoutModel",
          "model_module_version": "1.2.0",
          "state": {
            "_model_module": "@jupyter-widgets/base",
            "_model_module_version": "1.2.0",
            "_model_name": "LayoutModel",
            "_view_count": null,
            "_view_module": "@jupyter-widgets/base",
            "_view_module_version": "1.2.0",
            "_view_name": "LayoutView",
            "align_content": null,
            "align_items": null,
            "align_self": null,
            "border": null,
            "bottom": null,
            "display": null,
            "flex": null,
            "flex_flow": null,
            "grid_area": null,
            "grid_auto_columns": null,
            "grid_auto_flow": null,
            "grid_auto_rows": null,
            "grid_column": null,
            "grid_gap": null,
            "grid_row": null,
            "grid_template_areas": null,
            "grid_template_columns": null,
            "grid_template_rows": null,
            "height": null,
            "justify_content": null,
            "justify_items": null,
            "left": null,
            "margin": null,
            "max_height": null,
            "max_width": null,
            "min_height": null,
            "min_width": null,
            "object_fit": null,
            "object_position": null,
            "order": null,
            "overflow": null,
            "overflow_x": null,
            "overflow_y": null,
            "padding": null,
            "right": null,
            "top": null,
            "visibility": null,
            "width": null
          }
        },
        "d861d37f63b246979e13e891de5d62bd": {
          "model_module": "@jupyter-widgets/controls",
          "model_name": "DescriptionStyleModel",
          "model_module_version": "1.5.0",
          "state": {
            "_model_module": "@jupyter-widgets/controls",
            "_model_module_version": "1.5.0",
            "_model_name": "DescriptionStyleModel",
            "_view_count": null,
            "_view_module": "@jupyter-widgets/base",
            "_view_module_version": "1.2.0",
            "_view_name": "StyleView",
            "description_width": ""
          }
        },
        "d99030fef35e4e79b3a79b0a370004d0": {
          "model_module": "@jupyter-widgets/controls",
          "model_name": "HBoxModel",
          "model_module_version": "1.5.0",
          "state": {
            "_dom_classes": [],
            "_model_module": "@jupyter-widgets/controls",
            "_model_module_version": "1.5.0",
            "_model_name": "HBoxModel",
            "_view_count": null,
            "_view_module": "@jupyter-widgets/controls",
            "_view_module_version": "1.5.0",
            "_view_name": "HBoxView",
            "box_style": "",
            "children": [
              "IPY_MODEL_41f8d9dc222b46dba412a7565f160661",
              "IPY_MODEL_52446aaa65b14a90a79fc04ec655d63c",
              "IPY_MODEL_a438b2da66394a7687bb89ac99aa643b"
            ],
            "layout": "IPY_MODEL_029032e22293467bb4cf9fdace26e078"
          }
        },
        "41f8d9dc222b46dba412a7565f160661": {
          "model_module": "@jupyter-widgets/controls",
          "model_name": "HTMLModel",
          "model_module_version": "1.5.0",
          "state": {
            "_dom_classes": [],
            "_model_module": "@jupyter-widgets/controls",
            "_model_module_version": "1.5.0",
            "_model_name": "HTMLModel",
            "_view_count": null,
            "_view_module": "@jupyter-widgets/controls",
            "_view_module_version": "1.5.0",
            "_view_name": "HTMLView",
            "description": "",
            "description_tooltip": null,
            "layout": "IPY_MODEL_1d17eace46d7498a93ab712b957344a9",
            "placeholder": "​",
            "style": "IPY_MODEL_4ac9040ec1c14122877166f7e12fe0d0",
            "value": "Evaluating: 100%"
          }
        },
        "52446aaa65b14a90a79fc04ec655d63c": {
          "model_module": "@jupyter-widgets/controls",
          "model_name": "FloatProgressModel",
          "model_module_version": "1.5.0",
          "state": {
            "_dom_classes": [],
            "_model_module": "@jupyter-widgets/controls",
            "_model_module_version": "1.5.0",
            "_model_name": "FloatProgressModel",
            "_view_count": null,
            "_view_module": "@jupyter-widgets/controls",
            "_view_module_version": "1.5.0",
            "_view_name": "ProgressView",
            "bar_style": "success",
            "description": "",
            "description_tooltip": null,
            "layout": "IPY_MODEL_2b1fbb2e11414f71a1edde9166063ba9",
            "max": 50,
            "min": 0,
            "orientation": "horizontal",
            "style": "IPY_MODEL_63699c42a3bd474b8d0ab03798f83a22",
            "value": 50
          }
        },
        "a438b2da66394a7687bb89ac99aa643b": {
          "model_module": "@jupyter-widgets/controls",
          "model_name": "HTMLModel",
          "model_module_version": "1.5.0",
          "state": {
            "_dom_classes": [],
            "_model_module": "@jupyter-widgets/controls",
            "_model_module_version": "1.5.0",
            "_model_name": "HTMLModel",
            "_view_count": null,
            "_view_module": "@jupyter-widgets/controls",
            "_view_module_version": "1.5.0",
            "_view_name": "HTMLView",
            "description": "",
            "description_tooltip": null,
            "layout": "IPY_MODEL_2c40285c0e0c4061b5d6c7d997d0b030",
            "placeholder": "​",
            "style": "IPY_MODEL_34f8dfe9cfc04b51814ae94074406c72",
            "value": " 50/50 [03:20&lt;00:00,  8.44s/it]"
          }
        },
        "029032e22293467bb4cf9fdace26e078": {
          "model_module": "@jupyter-widgets/base",
          "model_name": "LayoutModel",
          "model_module_version": "1.2.0",
          "state": {
            "_model_module": "@jupyter-widgets/base",
            "_model_module_version": "1.2.0",
            "_model_name": "LayoutModel",
            "_view_count": null,
            "_view_module": "@jupyter-widgets/base",
            "_view_module_version": "1.2.0",
            "_view_name": "LayoutView",
            "align_content": null,
            "align_items": null,
            "align_self": null,
            "border": null,
            "bottom": null,
            "display": null,
            "flex": null,
            "flex_flow": null,
            "grid_area": null,
            "grid_auto_columns": null,
            "grid_auto_flow": null,
            "grid_auto_rows": null,
            "grid_column": null,
            "grid_gap": null,
            "grid_row": null,
            "grid_template_areas": null,
            "grid_template_columns": null,
            "grid_template_rows": null,
            "height": null,
            "justify_content": null,
            "justify_items": null,
            "left": null,
            "margin": null,
            "max_height": null,
            "max_width": null,
            "min_height": null,
            "min_width": null,
            "object_fit": null,
            "object_position": null,
            "order": null,
            "overflow": null,
            "overflow_x": null,
            "overflow_y": null,
            "padding": null,
            "right": null,
            "top": null,
            "visibility": null,
            "width": null
          }
        },
        "1d17eace46d7498a93ab712b957344a9": {
          "model_module": "@jupyter-widgets/base",
          "model_name": "LayoutModel",
          "model_module_version": "1.2.0",
          "state": {
            "_model_module": "@jupyter-widgets/base",
            "_model_module_version": "1.2.0",
            "_model_name": "LayoutModel",
            "_view_count": null,
            "_view_module": "@jupyter-widgets/base",
            "_view_module_version": "1.2.0",
            "_view_name": "LayoutView",
            "align_content": null,
            "align_items": null,
            "align_self": null,
            "border": null,
            "bottom": null,
            "display": null,
            "flex": null,
            "flex_flow": null,
            "grid_area": null,
            "grid_auto_columns": null,
            "grid_auto_flow": null,
            "grid_auto_rows": null,
            "grid_column": null,
            "grid_gap": null,
            "grid_row": null,
            "grid_template_areas": null,
            "grid_template_columns": null,
            "grid_template_rows": null,
            "height": null,
            "justify_content": null,
            "justify_items": null,
            "left": null,
            "margin": null,
            "max_height": null,
            "max_width": null,
            "min_height": null,
            "min_width": null,
            "object_fit": null,
            "object_position": null,
            "order": null,
            "overflow": null,
            "overflow_x": null,
            "overflow_y": null,
            "padding": null,
            "right": null,
            "top": null,
            "visibility": null,
            "width": null
          }
        },
        "4ac9040ec1c14122877166f7e12fe0d0": {
          "model_module": "@jupyter-widgets/controls",
          "model_name": "DescriptionStyleModel",
          "model_module_version": "1.5.0",
          "state": {
            "_model_module": "@jupyter-widgets/controls",
            "_model_module_version": "1.5.0",
            "_model_name": "DescriptionStyleModel",
            "_view_count": null,
            "_view_module": "@jupyter-widgets/base",
            "_view_module_version": "1.2.0",
            "_view_name": "StyleView",
            "description_width": ""
          }
        },
        "2b1fbb2e11414f71a1edde9166063ba9": {
          "model_module": "@jupyter-widgets/base",
          "model_name": "LayoutModel",
          "model_module_version": "1.2.0",
          "state": {
            "_model_module": "@jupyter-widgets/base",
            "_model_module_version": "1.2.0",
            "_model_name": "LayoutModel",
            "_view_count": null,
            "_view_module": "@jupyter-widgets/base",
            "_view_module_version": "1.2.0",
            "_view_name": "LayoutView",
            "align_content": null,
            "align_items": null,
            "align_self": null,
            "border": null,
            "bottom": null,
            "display": null,
            "flex": null,
            "flex_flow": null,
            "grid_area": null,
            "grid_auto_columns": null,
            "grid_auto_flow": null,
            "grid_auto_rows": null,
            "grid_column": null,
            "grid_gap": null,
            "grid_row": null,
            "grid_template_areas": null,
            "grid_template_columns": null,
            "grid_template_rows": null,
            "height": null,
            "justify_content": null,
            "justify_items": null,
            "left": null,
            "margin": null,
            "max_height": null,
            "max_width": null,
            "min_height": null,
            "min_width": null,
            "object_fit": null,
            "object_position": null,
            "order": null,
            "overflow": null,
            "overflow_x": null,
            "overflow_y": null,
            "padding": null,
            "right": null,
            "top": null,
            "visibility": null,
            "width": null
          }
        },
        "63699c42a3bd474b8d0ab03798f83a22": {
          "model_module": "@jupyter-widgets/controls",
          "model_name": "ProgressStyleModel",
          "model_module_version": "1.5.0",
          "state": {
            "_model_module": "@jupyter-widgets/controls",
            "_model_module_version": "1.5.0",
            "_model_name": "ProgressStyleModel",
            "_view_count": null,
            "_view_module": "@jupyter-widgets/base",
            "_view_module_version": "1.2.0",
            "_view_name": "StyleView",
            "bar_color": null,
            "description_width": ""
          }
        },
        "2c40285c0e0c4061b5d6c7d997d0b030": {
          "model_module": "@jupyter-widgets/base",
          "model_name": "LayoutModel",
          "model_module_version": "1.2.0",
          "state": {
            "_model_module": "@jupyter-widgets/base",
            "_model_module_version": "1.2.0",
            "_model_name": "LayoutModel",
            "_view_count": null,
            "_view_module": "@jupyter-widgets/base",
            "_view_module_version": "1.2.0",
            "_view_name": "LayoutView",
            "align_content": null,
            "align_items": null,
            "align_self": null,
            "border": null,
            "bottom": null,
            "display": null,
            "flex": null,
            "flex_flow": null,
            "grid_area": null,
            "grid_auto_columns": null,
            "grid_auto_flow": null,
            "grid_auto_rows": null,
            "grid_column": null,
            "grid_gap": null,
            "grid_row": null,
            "grid_template_areas": null,
            "grid_template_columns": null,
            "grid_template_rows": null,
            "height": null,
            "justify_content": null,
            "justify_items": null,
            "left": null,
            "margin": null,
            "max_height": null,
            "max_width": null,
            "min_height": null,
            "min_width": null,
            "object_fit": null,
            "object_position": null,
            "order": null,
            "overflow": null,
            "overflow_x": null,
            "overflow_y": null,
            "padding": null,
            "right": null,
            "top": null,
            "visibility": null,
            "width": null
          }
        },
        "34f8dfe9cfc04b51814ae94074406c72": {
          "model_module": "@jupyter-widgets/controls",
          "model_name": "DescriptionStyleModel",
          "model_module_version": "1.5.0",
          "state": {
            "_model_module": "@jupyter-widgets/controls",
            "_model_module_version": "1.5.0",
            "_model_name": "DescriptionStyleModel",
            "_view_count": null,
            "_view_module": "@jupyter-widgets/base",
            "_view_module_version": "1.2.0",
            "_view_name": "StyleView",
            "description_width": ""
          }
        },
        "bef5bb0acc7444c28d518a3d5d102106": {
          "model_module": "@jupyter-widgets/controls",
          "model_name": "HBoxModel",
          "model_module_version": "1.5.0",
          "state": {
            "_dom_classes": [],
            "_model_module": "@jupyter-widgets/controls",
            "_model_module_version": "1.5.0",
            "_model_name": "HBoxModel",
            "_view_count": null,
            "_view_module": "@jupyter-widgets/controls",
            "_view_module_version": "1.5.0",
            "_view_name": "HBoxView",
            "box_style": "",
            "children": [
              "IPY_MODEL_c7431d63759b402c81c5433c198dfd05",
              "IPY_MODEL_d78ae0b43ee24a47a5e709c553128fc7",
              "IPY_MODEL_e0832e9b7dc84137b9875b279e29e881"
            ],
            "layout": "IPY_MODEL_66474758680a484480a47898cae6818c"
          }
        },
        "c7431d63759b402c81c5433c198dfd05": {
          "model_module": "@jupyter-widgets/controls",
          "model_name": "HTMLModel",
          "model_module_version": "1.5.0",
          "state": {
            "_dom_classes": [],
            "_model_module": "@jupyter-widgets/controls",
            "_model_module_version": "1.5.0",
            "_model_name": "HTMLModel",
            "_view_count": null,
            "_view_module": "@jupyter-widgets/controls",
            "_view_module_version": "1.5.0",
            "_view_name": "HTMLView",
            "description": "",
            "description_tooltip": null,
            "layout": "IPY_MODEL_81a1fd602e7e4957bafc19974d2b868b",
            "placeholder": "​",
            "style": "IPY_MODEL_d16832e5abec46d4924f2b6321d5dd03",
            "value": "Evaluating: 100%"
          }
        },
        "d78ae0b43ee24a47a5e709c553128fc7": {
          "model_module": "@jupyter-widgets/controls",
          "model_name": "FloatProgressModel",
          "model_module_version": "1.5.0",
          "state": {
            "_dom_classes": [],
            "_model_module": "@jupyter-widgets/controls",
            "_model_module_version": "1.5.0",
            "_model_name": "FloatProgressModel",
            "_view_count": null,
            "_view_module": "@jupyter-widgets/controls",
            "_view_module_version": "1.5.0",
            "_view_name": "ProgressView",
            "bar_style": "success",
            "description": "",
            "description_tooltip": null,
            "layout": "IPY_MODEL_0461c0045e5a4b138e633de11c93dec3",
            "max": 50,
            "min": 0,
            "orientation": "horizontal",
            "style": "IPY_MODEL_a601463d3d234dbdb65e007c5e7c9fc1",
            "value": 50
          }
        },
        "e0832e9b7dc84137b9875b279e29e881": {
          "model_module": "@jupyter-widgets/controls",
          "model_name": "HTMLModel",
          "model_module_version": "1.5.0",
          "state": {
            "_dom_classes": [],
            "_model_module": "@jupyter-widgets/controls",
            "_model_module_version": "1.5.0",
            "_model_name": "HTMLModel",
            "_view_count": null,
            "_view_module": "@jupyter-widgets/controls",
            "_view_module_version": "1.5.0",
            "_view_name": "HTMLView",
            "description": "",
            "description_tooltip": null,
            "layout": "IPY_MODEL_68b8f89ff9a94bc79fec7b7fc57f3069",
            "placeholder": "​",
            "style": "IPY_MODEL_7b9582cc591a46ec9b3a3548e9a4959f",
            "value": " 50/50 [03:53&lt;00:00, 13.21s/it]"
          }
        },
        "66474758680a484480a47898cae6818c": {
          "model_module": "@jupyter-widgets/base",
          "model_name": "LayoutModel",
          "model_module_version": "1.2.0",
          "state": {
            "_model_module": "@jupyter-widgets/base",
            "_model_module_version": "1.2.0",
            "_model_name": "LayoutModel",
            "_view_count": null,
            "_view_module": "@jupyter-widgets/base",
            "_view_module_version": "1.2.0",
            "_view_name": "LayoutView",
            "align_content": null,
            "align_items": null,
            "align_self": null,
            "border": null,
            "bottom": null,
            "display": null,
            "flex": null,
            "flex_flow": null,
            "grid_area": null,
            "grid_auto_columns": null,
            "grid_auto_flow": null,
            "grid_auto_rows": null,
            "grid_column": null,
            "grid_gap": null,
            "grid_row": null,
            "grid_template_areas": null,
            "grid_template_columns": null,
            "grid_template_rows": null,
            "height": null,
            "justify_content": null,
            "justify_items": null,
            "left": null,
            "margin": null,
            "max_height": null,
            "max_width": null,
            "min_height": null,
            "min_width": null,
            "object_fit": null,
            "object_position": null,
            "order": null,
            "overflow": null,
            "overflow_x": null,
            "overflow_y": null,
            "padding": null,
            "right": null,
            "top": null,
            "visibility": null,
            "width": null
          }
        },
        "81a1fd602e7e4957bafc19974d2b868b": {
          "model_module": "@jupyter-widgets/base",
          "model_name": "LayoutModel",
          "model_module_version": "1.2.0",
          "state": {
            "_model_module": "@jupyter-widgets/base",
            "_model_module_version": "1.2.0",
            "_model_name": "LayoutModel",
            "_view_count": null,
            "_view_module": "@jupyter-widgets/base",
            "_view_module_version": "1.2.0",
            "_view_name": "LayoutView",
            "align_content": null,
            "align_items": null,
            "align_self": null,
            "border": null,
            "bottom": null,
            "display": null,
            "flex": null,
            "flex_flow": null,
            "grid_area": null,
            "grid_auto_columns": null,
            "grid_auto_flow": null,
            "grid_auto_rows": null,
            "grid_column": null,
            "grid_gap": null,
            "grid_row": null,
            "grid_template_areas": null,
            "grid_template_columns": null,
            "grid_template_rows": null,
            "height": null,
            "justify_content": null,
            "justify_items": null,
            "left": null,
            "margin": null,
            "max_height": null,
            "max_width": null,
            "min_height": null,
            "min_width": null,
            "object_fit": null,
            "object_position": null,
            "order": null,
            "overflow": null,
            "overflow_x": null,
            "overflow_y": null,
            "padding": null,
            "right": null,
            "top": null,
            "visibility": null,
            "width": null
          }
        },
        "d16832e5abec46d4924f2b6321d5dd03": {
          "model_module": "@jupyter-widgets/controls",
          "model_name": "DescriptionStyleModel",
          "model_module_version": "1.5.0",
          "state": {
            "_model_module": "@jupyter-widgets/controls",
            "_model_module_version": "1.5.0",
            "_model_name": "DescriptionStyleModel",
            "_view_count": null,
            "_view_module": "@jupyter-widgets/base",
            "_view_module_version": "1.2.0",
            "_view_name": "StyleView",
            "description_width": ""
          }
        },
        "0461c0045e5a4b138e633de11c93dec3": {
          "model_module": "@jupyter-widgets/base",
          "model_name": "LayoutModel",
          "model_module_version": "1.2.0",
          "state": {
            "_model_module": "@jupyter-widgets/base",
            "_model_module_version": "1.2.0",
            "_model_name": "LayoutModel",
            "_view_count": null,
            "_view_module": "@jupyter-widgets/base",
            "_view_module_version": "1.2.0",
            "_view_name": "LayoutView",
            "align_content": null,
            "align_items": null,
            "align_self": null,
            "border": null,
            "bottom": null,
            "display": null,
            "flex": null,
            "flex_flow": null,
            "grid_area": null,
            "grid_auto_columns": null,
            "grid_auto_flow": null,
            "grid_auto_rows": null,
            "grid_column": null,
            "grid_gap": null,
            "grid_row": null,
            "grid_template_areas": null,
            "grid_template_columns": null,
            "grid_template_rows": null,
            "height": null,
            "justify_content": null,
            "justify_items": null,
            "left": null,
            "margin": null,
            "max_height": null,
            "max_width": null,
            "min_height": null,
            "min_width": null,
            "object_fit": null,
            "object_position": null,
            "order": null,
            "overflow": null,
            "overflow_x": null,
            "overflow_y": null,
            "padding": null,
            "right": null,
            "top": null,
            "visibility": null,
            "width": null
          }
        },
        "a601463d3d234dbdb65e007c5e7c9fc1": {
          "model_module": "@jupyter-widgets/controls",
          "model_name": "ProgressStyleModel",
          "model_module_version": "1.5.0",
          "state": {
            "_model_module": "@jupyter-widgets/controls",
            "_model_module_version": "1.5.0",
            "_model_name": "ProgressStyleModel",
            "_view_count": null,
            "_view_module": "@jupyter-widgets/base",
            "_view_module_version": "1.2.0",
            "_view_name": "StyleView",
            "bar_color": null,
            "description_width": ""
          }
        },
        "68b8f89ff9a94bc79fec7b7fc57f3069": {
          "model_module": "@jupyter-widgets/base",
          "model_name": "LayoutModel",
          "model_module_version": "1.2.0",
          "state": {
            "_model_module": "@jupyter-widgets/base",
            "_model_module_version": "1.2.0",
            "_model_name": "LayoutModel",
            "_view_count": null,
            "_view_module": "@jupyter-widgets/base",
            "_view_module_version": "1.2.0",
            "_view_name": "LayoutView",
            "align_content": null,
            "align_items": null,
            "align_self": null,
            "border": null,
            "bottom": null,
            "display": null,
            "flex": null,
            "flex_flow": null,
            "grid_area": null,
            "grid_auto_columns": null,
            "grid_auto_flow": null,
            "grid_auto_rows": null,
            "grid_column": null,
            "grid_gap": null,
            "grid_row": null,
            "grid_template_areas": null,
            "grid_template_columns": null,
            "grid_template_rows": null,
            "height": null,
            "justify_content": null,
            "justify_items": null,
            "left": null,
            "margin": null,
            "max_height": null,
            "max_width": null,
            "min_height": null,
            "min_width": null,
            "object_fit": null,
            "object_position": null,
            "order": null,
            "overflow": null,
            "overflow_x": null,
            "overflow_y": null,
            "padding": null,
            "right": null,
            "top": null,
            "visibility": null,
            "width": null
          }
        },
        "7b9582cc591a46ec9b3a3548e9a4959f": {
          "model_module": "@jupyter-widgets/controls",
          "model_name": "DescriptionStyleModel",
          "model_module_version": "1.5.0",
          "state": {
            "_model_module": "@jupyter-widgets/controls",
            "_model_module_version": "1.5.0",
            "_model_name": "DescriptionStyleModel",
            "_view_count": null,
            "_view_module": "@jupyter-widgets/base",
            "_view_module_version": "1.2.0",
            "_view_name": "StyleView",
            "description_width": ""
          }
        }
      }
    }
  },
  "cells": [
    {
      "cell_type": "markdown",
      "source": [
        "🦛"
      ],
      "metadata": {
        "id": "wAH1znJ2pIp3"
      }
    },
    {
      "cell_type": "markdown",
      "source": [
        "## Step 1: Installing the required Libraries"
      ],
      "metadata": {
        "id": "1Sz7Silart8i"
      }
    },
    {
      "cell_type": "code",
      "source": [
        "!pip install -U -q langchain langchain-openai langchain_core langchain-community langchainhub openai"
      ],
      "metadata": {
        "colab": {
          "base_uri": "https://localhost:8080/"
        },
        "id": "4iBCeE3Nr6HE",
        "outputId": "ef591387-20a8-4412-8fad-4d9a5ed2e5b4"
      },
      "execution_count": 1,
      "outputs": [
        {
          "output_type": "stream",
          "name": "stdout",
          "text": [
            "\u001b[2K     \u001b[90m━━━━━━━━━━━━━━━━━━━━━━━━━━━━━━━━━━━━━━━━\u001b[0m \u001b[32m809.1/809.1 kB\u001b[0m \u001b[31m5.0 MB/s\u001b[0m eta \u001b[36m0:00:00\u001b[0m\n",
            "\u001b[2K     \u001b[90m━━━━━━━━━━━━━━━━━━━━━━━━━━━━━━━━━━━━━━━━\u001b[0m \u001b[32m258.8/258.8 kB\u001b[0m \u001b[31m6.4 MB/s\u001b[0m eta \u001b[36m0:00:00\u001b[0m\n",
            "\u001b[2K     \u001b[90m━━━━━━━━━━━━━━━━━━━━━━━━━━━━━━━━━━━━━━━━\u001b[0m \u001b[32m1.8/1.8 MB\u001b[0m \u001b[31m11.5 MB/s\u001b[0m eta \u001b[36m0:00:00\u001b[0m\n",
            "\u001b[2K     \u001b[90m━━━━━━━━━━━━━━━━━━━━━━━━━━━━━━━━━━━━━━━━\u001b[0m \u001b[32m257.5/257.5 kB\u001b[0m \u001b[31m5.4 MB/s\u001b[0m eta \u001b[36m0:00:00\u001b[0m\n",
            "\u001b[2K     \u001b[90m━━━━━━━━━━━━━━━━━━━━━━━━━━━━━━━━━━━━━━━━\u001b[0m \u001b[32m67.6/67.6 kB\u001b[0m \u001b[31m3.6 MB/s\u001b[0m eta \u001b[36m0:00:00\u001b[0m\n",
            "\u001b[2K     \u001b[90m━━━━━━━━━━━━━━━━━━━━━━━━━━━━━━━━━━━━━━━━\u001b[0m \u001b[32m1.8/1.8 MB\u001b[0m \u001b[31m13.3 MB/s\u001b[0m eta \u001b[36m0:00:00\u001b[0m\n",
            "\u001b[2K     \u001b[90m━━━━━━━━━━━━━━━━━━━━━━━━━━━━━━━━━━━━━━━━\u001b[0m \u001b[32m53.0/53.0 kB\u001b[0m \u001b[31m766.3 kB/s\u001b[0m eta \u001b[36m0:00:00\u001b[0m\n",
            "\u001b[2K     \u001b[90m━━━━━━━━━━━━━━━━━━━━━━━━━━━━━━━━━━━━━━━━\u001b[0m \u001b[32m75.6/75.6 kB\u001b[0m \u001b[31m4.5 MB/s\u001b[0m eta \u001b[36m0:00:00\u001b[0m\n",
            "\u001b[2K     \u001b[90m━━━━━━━━━━━━━━━━━━━━━━━━━━━━━━━━━━━━━━━━\u001b[0m \u001b[32m49.4/49.4 kB\u001b[0m \u001b[31m1.4 MB/s\u001b[0m eta \u001b[36m0:00:00\u001b[0m\n",
            "\u001b[2K     \u001b[90m━━━━━━━━━━━━━━━━━━━━━━━━━━━━━━━━━━━━━━━━\u001b[0m \u001b[32m77.8/77.8 kB\u001b[0m \u001b[31m5.2 MB/s\u001b[0m eta \u001b[36m0:00:00\u001b[0m\n",
            "\u001b[2K     \u001b[90m━━━━━━━━━━━━━━━━━━━━━━━━━━━━━━━━━━━━━━━━\u001b[0m \u001b[32m58.3/58.3 kB\u001b[0m \u001b[31m1.9 MB/s\u001b[0m eta \u001b[36m0:00:00\u001b[0m\n",
            "\u001b[2K     \u001b[90m━━━━━━━━━━━━━━━━━━━━━━━━━━━━━━━━━━━━━━━━\u001b[0m \u001b[32m138.5/138.5 kB\u001b[0m \u001b[31m1.9 MB/s\u001b[0m eta \u001b[36m0:00:00\u001b[0m\n",
            "\u001b[?25h"
          ]
        }
      ]
    },
    {
      "cell_type": "code",
      "source": [
        "!pip install -qU ragas"
      ],
      "metadata": {
        "id": "zvAvDNWBpjQ1",
        "colab": {
          "base_uri": "https://localhost:8080/"
        },
        "outputId": "662da7f4-027e-4308-e065-7ba253fda4a6"
      },
      "execution_count": 2,
      "outputs": [
        {
          "output_type": "stream",
          "name": "stdout",
          "text": [
            "\u001b[2K     \u001b[90m━━━━━━━━━━━━━━━━━━━━━━━━━━━━━━━━━━━━━━━━\u001b[0m \u001b[32m73.3/73.3 kB\u001b[0m \u001b[31m2.1 MB/s\u001b[0m eta \u001b[36m0:00:00\u001b[0m\n",
            "\u001b[2K     \u001b[90m━━━━━━━━━━━━━━━━━━━━━━━━━━━━━━━━━━━━━━━━\u001b[0m \u001b[32m510.5/510.5 kB\u001b[0m \u001b[31m11.3 MB/s\u001b[0m eta \u001b[36m0:00:00\u001b[0m\n",
            "\u001b[2K     \u001b[90m━━━━━━━━━━━━━━━━━━━━━━━━━━━━━━━━━━━━━━━━\u001b[0m \u001b[32m71.1/71.1 kB\u001b[0m \u001b[31m6.6 MB/s\u001b[0m eta \u001b[36m0:00:00\u001b[0m\n",
            "\u001b[2K     \u001b[90m━━━━━━━━━━━━━━━━━━━━━━━━━━━━━━━━━━━━━━━━\u001b[0m \u001b[32m116.3/116.3 kB\u001b[0m \u001b[31m10.0 MB/s\u001b[0m eta \u001b[36m0:00:00\u001b[0m\n",
            "\u001b[2K     \u001b[90m━━━━━━━━━━━━━━━━━━━━━━━━━━━━━━━━━━━━━━━━\u001b[0m \u001b[32m194.1/194.1 kB\u001b[0m \u001b[31m17.3 MB/s\u001b[0m eta \u001b[36m0:00:00\u001b[0m\n",
            "\u001b[2K     \u001b[90m━━━━━━━━━━━━━━━━━━━━━━━━━━━━━━━━━━━━━━━━\u001b[0m \u001b[32m134.8/134.8 kB\u001b[0m \u001b[31m7.2 MB/s\u001b[0m eta \u001b[36m0:00:00\u001b[0m\n",
            "\u001b[?25h"
          ]
        }
      ]
    },
    {
      "cell_type": "code",
      "source": [
        "!pip install -qU tiktoken pymupdf"
      ],
      "metadata": {
        "colab": {
          "base_uri": "https://localhost:8080/"
        },
        "id": "cH8SOCOZugS0",
        "outputId": "83331aca-dc89-4fca-c374-3609df0b869a"
      },
      "execution_count": 3,
      "outputs": [
        {
          "output_type": "stream",
          "name": "stdout",
          "text": [
            "\u001b[2K     \u001b[90m━━━━━━━━━━━━━━━━━━━━━━━━━━━━━━━━━━━━━━━━\u001b[0m \u001b[32m4.4/4.4 MB\u001b[0m \u001b[31m11.0 MB/s\u001b[0m eta \u001b[36m0:00:00\u001b[0m\n",
            "\u001b[2K     \u001b[90m━━━━━━━━━━━━━━━━━━━━━━━━━━━━━━━━━━━━━━━━\u001b[0m \u001b[32m30.6/30.6 MB\u001b[0m \u001b[31m20.8 MB/s\u001b[0m eta \u001b[36m0:00:00\u001b[0m\n",
            "\u001b[?25h"
          ]
        }
      ]
    },
    {
      "cell_type": "code",
      "source": [
        "!pip install -qU faiss_cpu pymupdf pandas"
      ],
      "metadata": {
        "colab": {
          "base_uri": "https://localhost:8080/"
        },
        "id": "sAJK95napn8I",
        "outputId": "0cecde63-dde7-4195-8b97-a6d73788a0f5"
      },
      "execution_count": 9,
      "outputs": [
        {
          "output_type": "stream",
          "name": "stdout",
          "text": [
            "\u001b[2K     \u001b[90m━━━━━━━━━━━━━━━━━━━━━━━━━━━━━━━━━━━━━━━━\u001b[0m \u001b[32m27.0/27.0 MB\u001b[0m \u001b[31m30.5 MB/s\u001b[0m eta \u001b[36m0:00:00\u001b[0m\n",
            "\u001b[2K     \u001b[90m━━━━━━━━━━━━━━━━━━━━━━━━━━━━━━━━━━━━━━━━\u001b[0m \u001b[32m13.0/13.0 MB\u001b[0m \u001b[31m55.5 MB/s\u001b[0m eta \u001b[36m0:00:00\u001b[0m\n",
            "\u001b[2K     \u001b[90m━━━━━━━━━━━━━━━━━━━━━━━━━━━━━━━━━━━━━━━━\u001b[0m \u001b[32m345.4/345.4 kB\u001b[0m \u001b[31m28.2 MB/s\u001b[0m eta \u001b[36m0:00:00\u001b[0m\n",
            "\u001b[?25h\u001b[31mERROR: pip's dependency resolver does not currently take into account all the packages that are installed. This behaviour is the source of the following dependency conflicts.\n",
            "bigframes 0.23.0 requires pandas<2.1.4,>=1.5.0, but you have pandas 2.2.1 which is incompatible.\n",
            "google-colab 1.0.0 requires pandas==1.5.3, but you have pandas 2.2.1 which is incompatible.\u001b[0m\u001b[31m\n",
            "\u001b[0m"
          ]
        }
      ]
    },
    {
      "cell_type": "markdown",
      "source": [
        "## Step 2: Loading the Document"
      ],
      "metadata": {
        "id": "dnIHOFhHsc4v"
      }
    },
    {
      "cell_type": "code",
      "source": [
        "from langchain.document_loaders import PyMuPDFLoader\n",
        "\n",
        "docs = PyMuPDFLoader(\"https://d18rn0p25nwr6d.cloudfront.net/CIK-0001045810/1cbe8fe7-e08a-46e3-8dcc-b429fc06c1a4.pdf\").load()"
      ],
      "metadata": {
        "id": "G3p5QoZEsbhV"
      },
      "execution_count": 4,
      "outputs": []
    },
    {
      "cell_type": "code",
      "source": [
        "#!wget https://raw.githubusercontent.com/savdarash/Data-Repository/main/Nvidia-10k%20Filing.pdf"
      ],
      "metadata": {
        "id": "CfM6RRYmulFo"
      },
      "execution_count": 6,
      "outputs": []
    },
    {
      "cell_type": "code",
      "source": [
        "#!ls"
      ],
      "metadata": {
        "id": "1KVgAN807T9Q"
      },
      "execution_count": 7,
      "outputs": []
    },
    {
      "cell_type": "code",
      "source": [
        "#doc_1 = PyMuPDFLoader(\"/content/Nvidia-10k Filing.pdf\").load()"
      ],
      "metadata": {
        "id": "k44RVVjV5lst"
      },
      "execution_count": 8,
      "outputs": []
    },
    {
      "cell_type": "markdown",
      "source": [
        "## Step 3: Set Environment Variables\n"
      ],
      "metadata": {
        "id": "0_C2JvG1qO3h"
      }
    },
    {
      "cell_type": "code",
      "source": [
        "import os\n",
        "import openai\n",
        "from getpass import getpass\n",
        "\n",
        "openai.api_key = getpass(\"Please provide your OpenAI Key: \")\n",
        "os.environ[\"OPENAI_API_KEY\"] = openai.api_key"
      ],
      "metadata": {
        "colab": {
          "base_uri": "https://localhost:8080/"
        },
        "id": "8Lhqp5rUThG-",
        "outputId": "e5dcf547-4317-47f6-e6d9-3bdcd1895a5a"
      },
      "execution_count": 10,
      "outputs": [
        {
          "name": "stdout",
          "output_type": "stream",
          "text": [
            "Please provide your OpenAI Key: ··········\n"
          ]
        }
      ]
    },
    {
      "cell_type": "markdown",
      "source": [
        "## Step 4: Building our RAG pipeline\n",
        "\n",
        "- Create an Index\n",
        "- Use retrieval to obtain pieces of context from our Index that are similar to our query\n",
        "- Use a LLM to generate responses based on the retrieved context\n",
        "\n"
      ],
      "metadata": {
        "id": "DV_BOewX8CW0"
      }
    },
    {
      "cell_type": "code",
      "source": [
        "text_list = [doc.page_content for doc in docs]\n",
        "\n",
        "# Concatenate the list of text content into a single text string\n",
        "text_pdf = '\\n'.join(text_list)"
      ],
      "metadata": {
        "id": "WQ3FALK4Dre6"
      },
      "execution_count": 11,
      "outputs": []
    },
    {
      "cell_type": "markdown",
      "source": [
        "### Transforming Data with `RecursiveCharacterTextSplitter`."
      ],
      "metadata": {
        "id": "oQUl3sbZK4_1"
      }
    },
    {
      "cell_type": "code",
      "source": [
        "import re\n",
        "\n",
        "def count_text_elements(docs):\n",
        "    # Count words, paragraphs, and sentences using list comprehensions\n",
        "    word_count = sum(len(re.findall(r'\\b\\w+\\b', doc.page_content)) for doc in docs)\n",
        "    paragraph_count = sum(doc.page_content.count('\\n\\n') + 1 for doc in docs)\n",
        "    sentence_count = sum(len(re.split(r'[.!?]+\\s', doc.page_content)) for doc in docs)\n",
        "\n",
        "    return word_count, paragraph_count, sentence_count\n",
        "\n",
        "\n",
        "word_count, paragraph_count, sentence_count = count_text_elements(docs)\n",
        "\n",
        "print(f\"Total Words: {word_count}\")\n",
        "print(f\"Total Paragraphs: {paragraph_count}\")\n",
        "print(f\"Total Sentences: {sentence_count}\")"
      ],
      "metadata": {
        "colab": {
          "base_uri": "https://localhost:8080/"
        },
        "id": "cxA7FemuAPGL",
        "outputId": "01363588-9c4b-4ba7-c00b-ad37f22444af"
      },
      "execution_count": 12,
      "outputs": [
        {
          "output_type": "stream",
          "name": "stdout",
          "text": [
            "Total Words: 56920\n",
            "Total Paragraphs: 96\n",
            "Total Sentences: 1877\n"
          ]
        }
      ]
    },
    {
      "cell_type": "code",
      "source": [
        "import tiktoken\n",
        "\n",
        "enc = tiktoken.encoding_for_model(\"gpt-3.5-turbo\")"
      ],
      "metadata": {
        "id": "ZgSUG4r0DYy9"
      },
      "execution_count": 13,
      "outputs": []
    },
    {
      "cell_type": "code",
      "source": [
        "len(enc.encode(text_pdf))"
      ],
      "metadata": {
        "colab": {
          "base_uri": "https://localhost:8080/"
        },
        "id": "rwEiu7CHDaiH",
        "outputId": "a08f140b-dd17-4849-ad78-d498b9f87b85"
      },
      "execution_count": 14,
      "outputs": [
        {
          "output_type": "execute_result",
          "data": {
            "text/plain": [
              "76538"
            ]
          },
          "metadata": {},
          "execution_count": 14
        }
      ]
    },
    {
      "cell_type": "code",
      "source": [
        "from langchain.text_splitter import RecursiveCharacterTextSplitter\n",
        "\n",
        "def tiktoken_len(text):\n",
        "    tokens = tiktoken.encoding_for_model(\"gpt-3.5-turbo\").encode(\n",
        "        text,\n",
        "    )\n",
        "    return len(tokens)\n",
        "\n",
        "text_splitter = RecursiveCharacterTextSplitter(\n",
        "    chunk_size = 1100,\n",
        "    chunk_overlap = 100,\n",
        "    length_function = tiktoken_len,\n",
        ")"
      ],
      "metadata": {
        "id": "jIDyU0ccC0BD"
      },
      "execution_count": 22,
      "outputs": []
    },
    {
      "cell_type": "code",
      "source": [
        "chunks = text_splitter.split_text(text_pdf)"
      ],
      "metadata": {
        "id": "snqeYTWiPpoc"
      },
      "execution_count": 23,
      "outputs": []
    },
    {
      "cell_type": "code",
      "source": [
        "len(chunks)"
      ],
      "metadata": {
        "colab": {
          "base_uri": "https://localhost:8080/"
        },
        "id": "N33bdjGZQFCe",
        "outputId": "55fd5855-23b1-4106-c582-856a176bdaba"
      },
      "execution_count": 24,
      "outputs": [
        {
          "output_type": "execute_result",
          "data": {
            "text/plain": [
              "98"
            ]
          },
          "metadata": {},
          "execution_count": 24
        }
      ]
    },
    {
      "cell_type": "code",
      "source": [
        "chunks[1]"
      ],
      "metadata": {
        "colab": {
          "base_uri": "https://localhost:8080/",
          "height": 105
        },
        "id": "A00hpZFSYLWc",
        "outputId": "f56b38c8-23ad-4f04-e406-58b9bca300a2"
      },
      "execution_count": 25,
      "outputs": [
        {
          "output_type": "execute_result",
          "data": {
            "text/plain": [
              "\"held by such organizations whose ownership exceeds 5% of the registrant's outstanding common stock that have represented to the registrant that they are registered investment advisers or investment\\ncompanies registered under section 8 of the Investment Company Act of 1940.\\nThe number of shares of common stock outstanding as of February 16, 2024 was 2.5 billion.\\nDOCUMENTS INCORPORATED BY REFERENCE\\nPortions of the registrant's Proxy Statement for its 2024 Annual Meeting of Shareholders to be filed with the Securities and Exchange Commission pursuant to Regulation 14A not later than 120 days after the\\nend of the fiscal year covered by this Annual Report on Form 10-K are incorporated by reference into Part III, Items 10-14 of this Annual Report on Form 10-K.\""
            ],
            "application/vnd.google.colaboratory.intrinsic+json": {
              "type": "string"
            }
          },
          "metadata": {},
          "execution_count": 25
        }
      ]
    },
    {
      "cell_type": "markdown",
      "source": [
        "### Choosing an OpenAI Embeddings Model\n"
      ],
      "metadata": {
        "id": "eZ93HkYcMJwW"
      }
    },
    {
      "cell_type": "code",
      "source": [
        "from langchain_openai import OpenAIEmbeddings\n",
        "\n",
        "embeddings = OpenAIEmbeddings(\n",
        "    model=\"text-embedding-3-small\"\n",
        ")"
      ],
      "metadata": {
        "id": "JU6CrDVZMgKe"
      },
      "execution_count": 26,
      "outputs": []
    },
    {
      "cell_type": "markdown",
      "source": [
        "#### Creating a FAISS VectorStore\n",
        "\n",
        "Now that we have documents - we'll need a place to store them alongside their embeddings."
      ],
      "metadata": {
        "id": "rVtZR9JPLtR4"
      }
    },
    {
      "cell_type": "code",
      "source": [
        "from langchain_community.vectorstores import FAISS\n",
        "\n",
        "vector_store = FAISS.from_documents(docs, embeddings)"
      ],
      "metadata": {
        "id": "978TWiCtMA0B"
      },
      "execution_count": 27,
      "outputs": []
    },
    {
      "cell_type": "markdown",
      "source": [
        "### Creating a Retriever\n"
      ],
      "metadata": {
        "id": "Z7ht6bJX9PAY"
      }
    },
    {
      "cell_type": "code",
      "source": [
        "retriever = vector_store.as_retriever()"
      ],
      "metadata": {
        "id": "xne8P5dQTUiR"
      },
      "execution_count": 28,
      "outputs": []
    },
    {
      "cell_type": "markdown",
      "source": [
        "#### Testing our Retriever\n"
      ],
      "metadata": {
        "id": "sO_DFBVKNvNm"
      }
    },
    {
      "cell_type": "code",
      "source": [
        "retrieved_documents = retriever.invoke(\"Who is the E-VP, Operations - and how old are they?\")"
      ],
      "metadata": {
        "id": "FfGDD-TDqujx"
      },
      "execution_count": 31,
      "outputs": []
    },
    {
      "cell_type": "code",
      "source": [
        "for doc in retrieved_documents:\n",
        "  print(doc)"
      ],
      "metadata": {
        "colab": {
          "base_uri": "https://localhost:8080/"
        },
        "id": "2wBIdh61VYKW",
        "outputId": "a6d91730-c57e-4ee6-feb3-632cdcedb7c9"
      },
      "execution_count": 32,
      "outputs": [
        {
          "output_type": "stream",
          "name": "stdout",
          "text": [
            "page_content=\"Table of Contents\\nOur support is enhanced during times of crisis, such as war or economic volatility, to take care of our existing team of world-class talent and their families.\\nDiversity, Inclusion, and Belonging\\nWe believe that diverse teams fuel innovation, and we are committed to creating an inclusive culture that supports all employees.\\nWhen recruiting for new talent or developing our current employees, we strive to build a diverse talent pipeline that includes those underrepresented in the\\ntechnology field, including women, Black/African American, and Hispanic/Latino candidates.\\nTo this end, we have been:\\n•\\nPartnering with institutions and professional organizations serving historically underrepresented communities;\\n•\\nEmbedding dedicated recruiting teams to business areas to shepherd underrepresented candidates through the interview process and find internal\\nopportunities;\\n•\\nSupporting the development of women employees through programs aimed at building a pipeline of future leaders;\\n•\\nProviding peer support and executive sponsors for our internal community resource groups;\\n•\\nProviding training and education to managers and peers on fostering supportive environments and recruiting for diversity;\\n•\\nTrack equity and parity in retention, promotions, pay, and employee engagement scores; and\\n•\\nMeasuring year over year progress and providing leadership visibility on diversity efforts.\\nAs of the end of fiscal year 2024, our global workforce was 79% male, 20% female, and 1% not declared, with 6% of our workforce in the United States\\ncomposed of Black or African American and Hispanic or Latino employees.\\nFlexible Working Environment\\nWe support a flexible work environment, understanding that many employees want the ability to work from home under certain conditions. This flexibility\\nsupports diverse hiring, retention, and employee engagement, which we believe makes NVIDIA a great place to work.\\nDuring fiscal year 2025, we will continue to have a flexible work environment and maintain our company wide 2-days off a quarter for employees to rest and\\nrecharge.\\nInformation About Our Executive Officers\\nThe following sets forth certain information regarding our executive officers, their ages, and positions as of February 16, 2024:\\nName\\nAge\\nPosition\\nJen-Hsun Huang\\n60\\nPresident and Chief Executive Officer\\nColette M. Kress\\n56\\nExecutive Vice President and Chief Financial Officer\\nAjay K. Puri\\n69\\nExecutive Vice President, Worldwide Field Operations\\nDebora Shoquist\\n69\\nExecutive Vice President, Operations\\nTimothy S. Teter\\n57\\nExecutive Vice President and General Counsel\\nJen-Hsun Huang co-founded NVIDIA in 1993 and has served as our President, Chief Executive Officer, and a member of the Board of Directors since our\\ninception. From 1985 to 1993, Mr. Huang was employed at LSI Logic Corporation, a computer chip manufacturer, where he held a variety of positions including\\nas Director of Coreware, the business unit responsible for LSI's SOC. From 1983 to 1985, Mr. Huang was a microprocessor designer for AMD, a semiconductor\\ncompany. Mr. Huang holds a B.S.E.E. degree from Oregon State University and an M.S.E.E. degree from Stanford University.\\nColette M. Kress joined NVIDIA in 2013 as Executive Vice President and Chief Financial Officer. Prior to NVIDIA, Ms. Kress most recently served as Senior\\nVice President and Chief Financial Officer of the Business Technology and Operations Finance organization at Cisco Systems, Inc., a networking equipment\\ncompany, since 2010. At Cisco, Ms. Kress was responsible for financial strategy, planning, reporting and business development for all business segments,\\nengineering and operations. From 1997 to 2010 Ms. Kress held a variety of positions at Microsoft, a software company, including, beginning in 2006, Chief\\nFinancial Officer of the Server and Tools division, where Ms. Kress was responsible for financial\\n12\\n\" metadata={'source': 'https://d18rn0p25nwr6d.cloudfront.net/CIK-0001045810/1cbe8fe7-e08a-46e3-8dcc-b429fc06c1a4.pdf', 'file_path': 'https://d18rn0p25nwr6d.cloudfront.net/CIK-0001045810/1cbe8fe7-e08a-46e3-8dcc-b429fc06c1a4.pdf', 'page': 11, 'total_pages': 96, 'format': 'PDF 1.4', 'title': '0001045810-24-000029', 'author': 'EDGAR® Online LLC, a subsidiary of OTC Markets Group', 'subject': 'Form 10-K filed on 2024-02-21 for the period ending 2024-01-28', 'keywords': '0001045810-24-000029; ; 10-K', 'creator': 'EDGAR Filing HTML Converter', 'producer': 'EDGRpdf Service w/ EO.Pdf 22.0.40.0', 'creationDate': \"D:20240221173732-05'00'\", 'modDate': \"D:20240221173744-05'00'\", 'trapped': '', 'encryption': 'Standard V2 R3 128-bit RC4'}\n",
            "page_content='Pursuant to the requirements of the Securities Exchange Act of 1934, this report has been signed below by the following persons on behalf of the registrant and\\nin the capacities and on the dates indicated.\\nSignature\\nTitle\\nDate\\n/s/ JEN-HSUN HUANG \\nPresident, Chief Executive Officer and Director\\n(Principal Executive Officer)\\nFebruary 21, 2024\\nJen-Hsun Huang\\n \\n/s/ COLETTE M. KRESS \\nExecutive Vice President and Chief Financial Officer\\n(Principal Financial Officer)\\nFebruary 21, 2024\\nColette M. Kress\\n \\n/s/ DONALD ROBERTSON\\nVice President and Chief Accounting Officer\\n(Principal Accounting Officer)\\nFebruary 21, 2024\\nDonald Robertson\\n/s/ ROBERT BURGESS\\nDirector\\nFebruary 21, 2024\\nRobert Burgess\\n/s/ TENCH COXE  \\nDirector\\nFebruary 21, 2024\\nTench Coxe \\n \\n/s/ JOHN O. DABIRI\\nDirector\\nFebruary 21, 2024\\nJohn O. Dabiri\\n \\n/s/ PERSIS DRELL\\nDirector\\nFebruary 21, 2024\\nPersis Drell\\n/s/ DAWN HUDSON\\nDirector\\nFebruary 21, 2024\\nDawn Hudson\\n/s/ HARVEY C. JONES \\nDirector\\nFebruary 21, 2024\\nHarvey C. Jones\\n \\n/s/ MELISSA B. LORA\\nDirector\\nFebruary 21, 2024\\nMelissa B. Lora\\n/s/ MICHAEL MCCAFFERY\\nDirector\\nFebruary 21, 2024\\nMichael McCaffery\\n/s/ STEPHEN C. NEAL\\nDirector\\nFebruary 21, 2024\\nStephen C. Neal\\n/s/ MARK L. PERRY \\nDirector\\nFebruary 21, 2024\\nMark L. Perry \\n \\n/s/ A. BROOKE SEAWELL\\nDirector\\nFebruary 21, 2024\\nA. Brooke Seawell \\n/s/ AARTI SHAH\\nDirector\\nFebruary 21, 2024\\nAarti Shah\\n/s/ MARK STEVENS\\nDirector\\nFebruary 21, 2024\\nMark Stevens \\n \\n85\\n' metadata={'source': 'https://d18rn0p25nwr6d.cloudfront.net/CIK-0001045810/1cbe8fe7-e08a-46e3-8dcc-b429fc06c1a4.pdf', 'file_path': 'https://d18rn0p25nwr6d.cloudfront.net/CIK-0001045810/1cbe8fe7-e08a-46e3-8dcc-b429fc06c1a4.pdf', 'page': 84, 'total_pages': 96, 'format': 'PDF 1.4', 'title': '0001045810-24-000029', 'author': 'EDGAR® Online LLC, a subsidiary of OTC Markets Group', 'subject': 'Form 10-K filed on 2024-02-21 for the period ending 2024-01-28', 'keywords': '0001045810-24-000029; ; 10-K', 'creator': 'EDGAR Filing HTML Converter', 'producer': 'EDGRpdf Service w/ EO.Pdf 22.0.40.0', 'creationDate': \"D:20240221173732-05'00'\", 'modDate': \"D:20240221173744-05'00'\", 'trapped': '', 'encryption': 'Standard V2 R3 128-bit RC4'}\n",
            "page_content='Table of Contents\\nstrategy, planning, reporting and business development for the division. Prior to joining Microsoft, Ms. Kress spent eight years at Texas Instruments Incorporated,\\na semiconductor company, where she held a variety of finance positions. Ms. Kress holds a B.S. degree in Finance from University of Arizona and an M.B.A.\\ndegree from Southern Methodist University.\\nAjay K. Puri joined NVIDIA in 2005 as Senior Vice President, Worldwide Sales and became Executive Vice President, Worldwide Field Operations in 2009. Prior\\nto NVIDIA, he held positions in sales, marketing, and general management over a 22-year career at Sun Microsystems, Inc., a computing systems company. Mr.\\nPuri previously held marketing, management consulting, and product development positions at Hewlett-Packard, an information technology company, Booz Allen\\nHamilton Inc., a management and technology consulting company, and Texas Instruments Incorporated. Mr. Puri holds a B.S.E.E. degree from the University of\\nMinnesota, an M.S.E.E. degree from the California Institute of Technology and an M.B.A. degree from Harvard Business School.\\nDebora Shoquist joined NVIDIA in 2007 as Senior Vice President of Operations and in 2009 became Executive Vice President of Operations. Prior to NVIDIA,\\nMs. Shoquist served from 2004 to 2007 as Executive Vice President of Operations at JDS Uniphase Corp., a provider of communications test and measurement\\nsolutions and optical products for the telecommunications industry. She served from 2002 to 2004 as Senior Vice President and General Manager of the Electro-\\nOptics business at Coherent, Inc., a manufacturer of commercial and scientific laser equipment. Previously, she worked at Quantum Corp., a data protection\\ncompany, as President of the Personal Computer Hard Disk Drive Division, and at Hewlett-Packard. Ms. Shoquist holds a B.S. degree in Electrical Engineering\\nfrom Kansas State University and a B.S. degree in Biology from Santa Clara University.\\nTimothy S. Teter joined NVIDIA in 2017 as Senior Vice President, General Counsel and Secretary and became Executive Vice President, General Counsel and\\nSecretary in February 2018. Prior to NVIDIA, Mr. Teter spent more than two decades at the law firm of Cooley LLP, where he focused on litigating patent and\\ntechnology related matters. Prior to attending law school, he worked as an engineer at Lockheed Missiles and Space Company, an aerospace company. Mr.\\nTeter holds a B.S. degree in Mechanical Engineering from the University of California at Davis and a J.D. degree from Stanford Law School.\\nAvailable Information\\nOur annual reports on Form 10-K, quarterly reports on Form 10-Q, current reports on Form 8-K and, if applicable, amendments to those reports filed or furnished\\npursuant to Section 13(a) or 15(d) of the Securities Exchange Act of 1934, as amended, or the Exchange Act, are available free of charge on or through our\\nwebsite, http://www.nvidia.com, as soon as reasonably practicable after we electronically file such material with, or furnish it to, the Securities and Exchange\\nCommission, or the SEC. The SEC’s website, http://www.sec.gov, contains reports, proxy and information statements, and other information regarding issuers\\nthat file electronically with the SEC. Our web site and the information on it or connected to it are not a part of this Annual Report on Form 10-K.\\nItem 1A. Risk Factors\\nThe following risk factors should be considered in addition to the other information in this Annual Report on Form 10-K. The following risks could harm our\\nbusiness, financial condition, results of operations or reputation, which could cause our stock price to decline. Additional risks, trends and uncertainties not\\npresently known to us or that we currently believe are immaterial may also harm our business, financial condition, results of operations or reputation.\\nRisk Factors Summary\\nRisks Related to Our Industry and Markets\\n•\\nFailure to meet the evolving needs of our industry may adversely impact our financial results.\\n•\\nCompetition could adversely impact our market share and financial results.\\nRisks Related to Demand, Supply and Manufacturing\\n•\\nFailure to estimate customer demand accurately has led and could lead to mismatches between supply and demand.\\n•\\nDependency on third-party suppliers and their technology to manufacture, assemble, test, or package our products reduces our control over product\\nquantity and quality, manufacturing yields, and product delivery schedules and could harm our business.\\n•\\nDefects in our products have caused and could cause us to incur significant expenses to remediate and could damage our business.\\nRisks Related to Our Global Operating Business\\n•\\nAdverse economic conditions may harm our business.\\n13\\n' metadata={'source': 'https://d18rn0p25nwr6d.cloudfront.net/CIK-0001045810/1cbe8fe7-e08a-46e3-8dcc-b429fc06c1a4.pdf', 'file_path': 'https://d18rn0p25nwr6d.cloudfront.net/CIK-0001045810/1cbe8fe7-e08a-46e3-8dcc-b429fc06c1a4.pdf', 'page': 12, 'total_pages': 96, 'format': 'PDF 1.4', 'title': '0001045810-24-000029', 'author': 'EDGAR® Online LLC, a subsidiary of OTC Markets Group', 'subject': 'Form 10-K filed on 2024-02-21 for the period ending 2024-01-28', 'keywords': '0001045810-24-000029; ; 10-K', 'creator': 'EDGAR Filing HTML Converter', 'producer': 'EDGRpdf Service w/ EO.Pdf 22.0.40.0', 'creationDate': \"D:20240221173732-05'00'\", 'modDate': \"D:20240221173744-05'00'\", 'trapped': '', 'encryption': 'Standard V2 R3 128-bit RC4'}\n",
            "page_content='Table of Contents\\nor generate enough renewable energy to match 100% of our global electricity usage for our offices and data centers. In fiscal year 2023, we increased the\\npercentage of our total electricity use matched by renewable energy purchases to 44%. By fiscal year 2026, we aim to engage manufacturing suppliers\\ncomprising at least 67% of NVIDIA’s scope 3 category 1 GHG emissions with goal of effecting supplier adoption of science-based targets.\\nWhether it is creation of technology to power next-generation laptops or designs to support high-performance supercomputers, improving energy efficiency is\\nimportant in our research, development, and design processes. GPU-accelerated computing is inherently more energy efficient than traditional computing for\\nmany workloads because it is optimized for throughput, performance per watt, and certain AI workloads. The energy efficiency of our products is evidenced by\\nour continued strong presence on the Green500 list of the most energy-efficient systems. We powered 24 of the top 30 most energy efficient systems, including\\nthe top supercomputer, on the Green500 list.\\nWe plan to build Earth-2, a digital twin of the Earth on NVIDIA AI and NVIDIA Omniverse platforms. Earth-2 will enable scientists, companies, and policy makers\\nto do ultra-high-resolution predictions of the impact of climate change and explore mitigation and adaptation strategies.\\nHuman Capital Management\\nWe believe that our employees are our greatest assets, and they play a key role in creating long-term value for our stakeholders. As of the end of fiscal year\\n2024, we had approximately 29,600 employees in 36 countries, 22,200 were engaged in research and development and 7,400 were engaged in sales,\\nmarketing, operations, and administrative positions. The Compensation Committee of our Board of Directors assists in the oversight of policies and strategies\\nrelating to human capital management.\\nTo be competitive and execute our business strategy successfully, we must recruit, develop, and retain talented employees, including qualified executives,\\nscientists, engineers, and technical and non-technical staff.\\nRecruitment\\nAs the demand for global technical talent continues to be competitive, we have grown our technical workforce and have been successful in attracting top talent\\nto NVIDIA. We have attracted talent globally through our strong employer brand and differentiated hiring strategies for college, professional, and leadership\\ntalent. Our workforce is 83% technical and 49% hold advanced degrees. Additionally, we have increased focus on diversity recruiting, resulting in an increase in\\nglobal female hiring in each channel. Our own employees help to surface top talent, with over 40% of our new hires in fiscal year 2024 coming from employee\\nreferrals.\\nDevelopment and Retention\\nTo support employee development, we provide opportunities to learn on-the-job through training courses, targeted development programs, mentoring and peer\\ncoaching and ongoing feedback. We have a library of live and on-demand learning experiences that include workshops, panel discussions, and speaker forums.\\nWe create learning paths focused on our most common development needs and constantly upgrade our offerings to ensure that our employees are exposed to\\nthe most current content and technologies available. We offer tuition reimbursement programs to subsidize educational programs and advanced certifications.\\nWe implemented a career coaching service to provide one-on-one guidance to employees, and encourage internal job mobility. We have implemented\\nspecifically designed mentoring and development programs for women and employees from traditionally underrepresented groups to ensure widespread\\nreadiness for future advancement.\\nTo evaluate employee sentiment and engagement, we use pulse surveys, a suggestion box, and an anonymous third-party platform. Pulse surveys help us gain\\ninsight into employee experience and provides employee-generated ideas so that we can take targeted action. The suggestion box is an always-on, interactive\\ntool where employees share their thoughts about making our company a better place to work. The anonymous third-party platform is designed to protect the\\nidentity of the reporter and provide a mechanism for reporters to follow an investigation and receive responses.\\nWe want NVIDIA to be a place where people can build their careers over their lifetime. Our employees tend to come and stay. In fiscal year 2024, our overall\\nturnover rate was 2.7%.\\nCompensation, Benefits, and Well-Being\\nOur compensation program rewards performance and is structured to encourage employees to invest in the Company’s future. Employees receive equity, except\\nwhere unavailable due to local regulations, that is tied to the value of our stock price and vests over time to retain employees while simultaneously aligning their\\ninterests with those of our shareholders.\\nWe offer comprehensive benefits to support our employees’ and their families’ physical health, well-being, and financial health. Programs include 401(k)\\nprograms in the U.S., statutory and supplemental pension programs outside the U.S., our employee stock purchase program, flexible work hours, and time off\\npolicies to address mental health, stress, and time-management challenges. We evaluate our benefit offerings globally and aim to provide comparable support\\nacross the regions where we operate. We are committed to providing tailored benefits based on the needs of our Community Resource Groups and continuing\\nour support for parents, both new birth parents and those who wish to become parents.\\n11\\n' metadata={'source': 'https://d18rn0p25nwr6d.cloudfront.net/CIK-0001045810/1cbe8fe7-e08a-46e3-8dcc-b429fc06c1a4.pdf', 'file_path': 'https://d18rn0p25nwr6d.cloudfront.net/CIK-0001045810/1cbe8fe7-e08a-46e3-8dcc-b429fc06c1a4.pdf', 'page': 10, 'total_pages': 96, 'format': 'PDF 1.4', 'title': '0001045810-24-000029', 'author': 'EDGAR® Online LLC, a subsidiary of OTC Markets Group', 'subject': 'Form 10-K filed on 2024-02-21 for the period ending 2024-01-28', 'keywords': '0001045810-24-000029; ; 10-K', 'creator': 'EDGAR Filing HTML Converter', 'producer': 'EDGRpdf Service w/ EO.Pdf 22.0.40.0', 'creationDate': \"D:20240221173732-05'00'\", 'modDate': \"D:20240221173744-05'00'\", 'trapped': '', 'encryption': 'Standard V2 R3 128-bit RC4'}\n"
          ]
        }
      ]
    },
    {
      "cell_type": "code",
      "source": [
        "retrieved_documents = retriever.invoke(\"What is the gross carrying amount of Total Amortizable Intangible Assets for Jan 29, 2023?\")"
      ],
      "metadata": {
        "id": "jZyuAhFrq4B-"
      },
      "execution_count": 33,
      "outputs": []
    },
    {
      "cell_type": "code",
      "source": [
        "for doc in retrieved_documents:\n",
        "  print(doc)"
      ],
      "metadata": {
        "colab": {
          "base_uri": "https://localhost:8080/"
        },
        "id": "fjI9BxqQrClg",
        "outputId": "f17a4682-cac5-4f5d-8cce-14ca8e403920"
      },
      "execution_count": 34,
      "outputs": [
        {
          "output_type": "stream",
          "name": "stdout",
          "text": [
            "page_content='Table of Contents\\nNVIDIA Corporation and Subsidiaries\\nNotes to the Consolidated Financial Statements\\n(Continued)\\nNote 7 - Amortizable Intangible Assets\\nThe components of our amortizable intangible assets are as follows:\\n \\nJan 28, 2024\\nJan 29, 2023\\n \\nGross\\nCarrying\\nAmount\\nAccumulated\\nAmortization\\nNet \\nCarrying\\nAmount\\nGross\\nCarrying\\nAmount\\nAccumulated\\nAmortization\\nNet \\nCarrying\\nAmount\\n \\n(In millions)\\nAcquisition-related intangible\\nassets (1)\\n$\\n2,642 \\n$\\n(1,720)\\n$\\n922 \\n$\\n3,093 \\n$\\n(1,614)\\n$\\n1,479 \\nPatents and licensed technology\\n449 \\n(259)\\n190 \\n446 \\n(249)\\n197 \\nTotal intangible assets\\n$\\n3,091 \\n$\\n(1,979)\\n$\\n1,112 \\n$\\n3,539 \\n$\\n(1,863)\\n$\\n1,676 \\n(1)    During the first quarter of fiscal year 2023, we commenced amortization of a $630 million in-process research and development intangible asset related to our acquisition of\\nMellanox.\\nAmortization expense associated with intangible assets for fiscal years 2024, 2023, and 2022 was $614 million, $699 million, and $563 million, respectively.\\nThe following table outlines the estimated future amortization expense related to the net carrying amount of intangible assets as of January 28, 2024:\\nFuture Amortization Expense\\n \\n(In millions)\\nFiscal Year:\\n \\n2025\\n$\\n555 \\n2026\\n261 \\n2027\\n150 \\n2028\\n37 \\n2029\\n9 \\n2030 and thereafter\\n100 \\nTotal\\n$\\n1,112 \\n64\\n' metadata={'source': 'https://d18rn0p25nwr6d.cloudfront.net/CIK-0001045810/1cbe8fe7-e08a-46e3-8dcc-b429fc06c1a4.pdf', 'file_path': 'https://d18rn0p25nwr6d.cloudfront.net/CIK-0001045810/1cbe8fe7-e08a-46e3-8dcc-b429fc06c1a4.pdf', 'page': 63, 'total_pages': 96, 'format': 'PDF 1.4', 'title': '0001045810-24-000029', 'author': 'EDGAR® Online LLC, a subsidiary of OTC Markets Group', 'subject': 'Form 10-K filed on 2024-02-21 for the period ending 2024-01-28', 'keywords': '0001045810-24-000029; ; 10-K', 'creator': 'EDGAR Filing HTML Converter', 'producer': 'EDGRpdf Service w/ EO.Pdf 22.0.40.0', 'creationDate': \"D:20240221173732-05'00'\", 'modDate': \"D:20240221173744-05'00'\", 'trapped': '', 'encryption': 'Standard V2 R3 128-bit RC4'}\n",
            "page_content='Table of Contents\\nNVIDIA Corporation and Subsidiaries\\nNotes to the Consolidated Financial Statements\\n(Continued)\\n \\nJan 28, 2024\\nJan 29, 2023\\nEstimated\\nUseful Life\\n(In millions)\\n(In years)\\nProperty and Equipment:\\nLand\\n$\\n218 \\n$\\n218 \\n(A)\\nBuildings, leasehold improvements, and furniture\\n1,816 \\n1,598 \\n(B)\\nEquipment, compute hardware, and software\\n5,200 \\n4,303 \\n3-7\\nConstruction in process\\n189 \\n382 \\n(C)\\nTotal property and equipment, gross\\n7,423 \\n6,501 \\n \\nAccumulated depreciation and amortization\\n(3,509)\\n(2,694)\\n \\nTotal property and equipment, net\\n$\\n3,914 \\n$\\n3,807 \\n \\n(A)\\nLand is a non-depreciable asset.\\n(B)\\nThe estimated useful lives of our buildings are up to thirty years. Leasehold improvements and finance leases are amortized based on the lesser of either the asset’s estimated useful life or the\\nexpected remaining lease term.\\n(C)\\nConstruction in process represents assets that are not available for their intended use as of the balance sheet date.\\nDepreciation expense for fiscal years 2024, 2023, and 2022 was $894 million, $844 million, and $611 million, respectively.\\nAccumulated amortization of leasehold improvements and finance leases was $400 million and $327 million as of January 28, 2024 and January 29, 2023,\\nrespectively.\\nProperty, equipment and intangible assets acquired by assuming related liabilities during fiscal years 2024, 2023, and 2022 were $170 million, $374 million, and\\n$258 million, respectively.\\n \\nJan 28, 2024\\nJan 29, 2023\\nOther assets:\\n(In millions)\\nPrepaid supply and capacity agreements (1)\\n$\\n2,458 \\n$\\n2,989 \\nInvestments in non-affiliated entities\\n1,546 \\n299 \\nPrepaid royalties\\n364 \\n387 \\nOther\\n132 \\n145 \\nTotal other assets\\n$\\n4,500 \\n$\\n3,820 \\n(1)\\nAs of January 28, 2024 and January 29, 2023, there was an additional $2.5 billion and $458 million of short-term prepaid supply and capacity agreements included in Prepaid expenses and other\\ncurrent assets, respectively.\\n69\\n' metadata={'source': 'https://d18rn0p25nwr6d.cloudfront.net/CIK-0001045810/1cbe8fe7-e08a-46e3-8dcc-b429fc06c1a4.pdf', 'file_path': 'https://d18rn0p25nwr6d.cloudfront.net/CIK-0001045810/1cbe8fe7-e08a-46e3-8dcc-b429fc06c1a4.pdf', 'page': 68, 'total_pages': 96, 'format': 'PDF 1.4', 'title': '0001045810-24-000029', 'author': 'EDGAR® Online LLC, a subsidiary of OTC Markets Group', 'subject': 'Form 10-K filed on 2024-02-21 for the period ending 2024-01-28', 'keywords': '0001045810-24-000029; ; 10-K', 'creator': 'EDGAR Filing HTML Converter', 'producer': 'EDGRpdf Service w/ EO.Pdf 22.0.40.0', 'creationDate': \"D:20240221173732-05'00'\", 'modDate': \"D:20240221173744-05'00'\", 'trapped': '', 'encryption': 'Standard V2 R3 128-bit RC4'}\n",
            "page_content='Table of Contents\\nNVIDIA Corporation and Subsidiaries\\nNotes to the Consolidated Financial Statements\\n(Continued)\\nAdjustments to the carrying value of our non-marketable equity securities accounted for under the measurement alternative were as follows:\\nYear Ended\\nJan 28, 2024\\n(In millions)\\nCarrying amount as of Jan 29, 2023\\n$\\n288 \\nAdjustments related to non-marketable equity securities:\\nNet additions\\n859 \\nUnrealized gains\\n194 \\nImpairments and unrealized losses\\n(20)\\nCarrying amount as of Jan 28, 2024\\n$\\n1,321 \\nIn the fourth quarter of fiscal year 2024, one of our private company investments completed a secondary equity raise that resulted in an unrealized gain of\\n$178 million.\\nNet unrealized gains recognized for the year ended January 28, 2024 for non-marketable investments in non-affiliated entities still held as of January 28, 2024\\nwere $174 million. Net unrealized and realized gains related to non-marketable equity securities were not significant for fiscal years 2023 and 2022.\\nThe following table summarizes the cumulative gross unrealized gains and cumulative gross unrealized losses and impairments related to non-marketable equity\\nsecurities \\naccounted \\nfor \\nunder \\nthe \\nmeasurement \\nalternative:\\nJan 28, 2024\\n(In millions)\\nCumulative gross unrealized gains\\n$\\n270 \\nCumulative gross unrealized losses and impairments\\n(45)\\nNote 10 - Balance Sheet Components\\nTwo customers accounted for 24% and 11% of our accounts receivable balance as of January 28, 2024. Two customers accounted for 14% and 11% of our\\naccounts receivable balance as of January 29, 2023.\\nCertain balance sheet components are as follows:\\n \\nJan 28, 2024\\nJan 29, 2023\\n(In millions)\\nInventories (1):\\nRaw materials\\n$\\n1,719 \\n$\\n2,430 \\nWork in-process\\n1,505 \\n466 \\nFinished goods\\n2,058 \\n2,263 \\nTotal inventories\\n$\\n5,282 \\n$\\n5,159 \\n(1) In fiscal years 2024 and 2023, we recorded an inventory provision of $774 million and $1.0 billion, respectively, in cost of revenue.\\n68\\n' metadata={'source': 'https://d18rn0p25nwr6d.cloudfront.net/CIK-0001045810/1cbe8fe7-e08a-46e3-8dcc-b429fc06c1a4.pdf', 'file_path': 'https://d18rn0p25nwr6d.cloudfront.net/CIK-0001045810/1cbe8fe7-e08a-46e3-8dcc-b429fc06c1a4.pdf', 'page': 67, 'total_pages': 96, 'format': 'PDF 1.4', 'title': '0001045810-24-000029', 'author': 'EDGAR® Online LLC, a subsidiary of OTC Markets Group', 'subject': 'Form 10-K filed on 2024-02-21 for the period ending 2024-01-28', 'keywords': '0001045810-24-000029; ; 10-K', 'creator': 'EDGAR Filing HTML Converter', 'producer': 'EDGRpdf Service w/ EO.Pdf 22.0.40.0', 'creationDate': \"D:20240221173732-05'00'\", 'modDate': \"D:20240221173744-05'00'\", 'trapped': '', 'encryption': 'Standard V2 R3 128-bit RC4'}\n",
            "page_content='Table of Contents\\nNVIDIA Corporation and Subsidiaries\\nNotes to the Consolidated Financial Statements\\n(Continued)\\nThe following tables provide the breakdown of unrealized losses, aggregated by investment category and length of time that individual securities have been in a\\ncontinuous loss position:\\nJan 28, 2024\\n \\nLess than 12 Months\\n12 Months or Greater\\nTotal\\n \\nEstimated Fair\\nValue\\nGross\\nUnrealized Loss\\nEstimated Fair\\nValue\\nGross\\nUnrealized Loss\\nEstimated Fair\\nValue\\nGross\\nUnrealized Loss\\n \\n(In millions)\\nDebt securities issued by the U.S.\\nTreasury\\n$\\n3,343 \\n$\\n(5)\\n$\\n1,078 \\n$\\n(5)\\n$\\n4,421 \\n$\\n(10)\\nCorporate debt securities\\n1,306 \\n(3)\\n618 \\n(2)\\n1,924 \\n(5)\\nDebt securities issued by U.S.\\ngovernment agencies\\n670 \\n(1)\\n— \\n— \\n670 \\n(1)\\nTotal\\n$\\n5,319 \\n$\\n(9)\\n$\\n1,696 \\n$\\n(7)\\n$\\n7,015 \\n$\\n(16)\\nJan 29, 2023\\n \\nLess than 12 Months\\n12 Months or Greater\\nTotal\\n \\nEstimated Fair\\nValue\\nGross\\nUnrealized Loss\\nEstimated Fair\\nValue\\nGross\\nUnrealized Loss\\nEstimated Fair\\nValue\\nGross\\nUnrealized Loss\\n \\n(In millions)\\nDebt securities issued by the U.S.\\nTreasury\\n$\\n2,444 \\n$\\n(21)\\n$\\n1,172 \\n$\\n(23)\\n$\\n3,616 \\n$\\n(44)\\nCorporate debt securities\\n1,188 \\n(7)\\n696 \\n(5)\\n1,884 \\n(12)\\nDebt securities issued by U.S.\\ngovernment agencies\\n1,307 \\n(2)\\n— \\n— \\n1,307 \\n(2)\\nTotal\\n$\\n4,939 \\n$\\n(30)\\n$\\n1,868 \\n$\\n(28)\\n$\\n6,807 \\n$\\n(58)\\nThe gross unrealized losses are related to fixed income securities, driven primarily by changes in interest rates. Net realized gains and losses were not\\nsignificant for all periods presented.\\nThe amortized cost and estimated fair value of cash equivalents and marketable securities are shown below by contractual maturity.\\n \\nJan 28, 2024\\nJan 29, 2023\\n \\nAmortized\\nCost\\nEstimated\\nFair Value\\nAmortized\\nCost\\nEstimated\\nFair Value\\n \\n(In millions)\\nLess than one year\\n$\\n16,336 \\n$\\n16,329 \\n$\\n9,738 \\n$\\n9,708 \\nDue in 1 - 5 years\\n9,348 \\n9,395 \\n3,374 \\n3,347 \\nTotal\\n$\\n25,684 \\n$\\n25,724 \\n$\\n13,112 \\n$\\n13,055 \\n66\\n' metadata={'source': 'https://d18rn0p25nwr6d.cloudfront.net/CIK-0001045810/1cbe8fe7-e08a-46e3-8dcc-b429fc06c1a4.pdf', 'file_path': 'https://d18rn0p25nwr6d.cloudfront.net/CIK-0001045810/1cbe8fe7-e08a-46e3-8dcc-b429fc06c1a4.pdf', 'page': 65, 'total_pages': 96, 'format': 'PDF 1.4', 'title': '0001045810-24-000029', 'author': 'EDGAR® Online LLC, a subsidiary of OTC Markets Group', 'subject': 'Form 10-K filed on 2024-02-21 for the period ending 2024-01-28', 'keywords': '0001045810-24-000029; ; 10-K', 'creator': 'EDGAR Filing HTML Converter', 'producer': 'EDGRpdf Service w/ EO.Pdf 22.0.40.0', 'creationDate': \"D:20240221173732-05'00'\", 'modDate': \"D:20240221173744-05'00'\", 'trapped': '', 'encryption': 'Standard V2 R3 128-bit RC4'}\n"
          ]
        }
      ]
    },
    {
      "cell_type": "markdown",
      "source": [
        "### Creating a RAG Chain\n",
        "\n"
      ],
      "metadata": {
        "id": "D8MKsT6JTgCU"
      }
    },
    {
      "cell_type": "markdown",
      "source": [
        "#### Creating a Prompt Template\n"
      ],
      "metadata": {
        "id": "zs7qBLaEQEic"
      }
    },
    {
      "cell_type": "code",
      "source": [
        "from langchain import hub\n",
        "\n",
        "retrieval_qa_prompt = hub.pull(\"langchain-ai/retrieval-qa-chat\")"
      ],
      "metadata": {
        "id": "eRCq_OKUQbKk"
      },
      "execution_count": 35,
      "outputs": []
    },
    {
      "cell_type": "code",
      "source": [
        "from langchain.prompts import ChatPromptTemplate\n",
        "\n",
        "template = \"\"\"Answer the question based only on the following context. If you cannot answer the question with the context, please respond with 'I don't know':\n",
        "\n",
        "Context:\n",
        "{context}\n",
        "\n",
        "Question:\n",
        "{question}\n",
        "\"\"\"\n",
        "\n",
        "prompt = ChatPromptTemplate.from_template(template)"
      ],
      "metadata": {
        "id": "ijSNkTAjTsep"
      },
      "execution_count": 36,
      "outputs": []
    },
    {
      "cell_type": "markdown",
      "source": [
        "## Setting up QA Chain\n"
      ],
      "metadata": {
        "id": "BYHnPaXl-cvJ"
      }
    },
    {
      "cell_type": "code",
      "source": [
        "from operator import itemgetter\n",
        "\n",
        "from langchain_openai import ChatOpenAI\n",
        "from langchain_core.output_parsers import StrOutputParser\n",
        "from langchain_core.runnables import RunnablePassthrough\n",
        "\n",
        "primary_qa_llm = ChatOpenAI(model_name=\"gpt-3.5-turbo\", temperature=0)\n",
        "\n",
        "retrieval_augmented_qa_chain = (\n",
        "    # INVOKE CHAIN WITH: {\"question\" : \"<<SOME USER QUESTION>>\"}\n",
        "    # \"question\" : populated by getting the value of the \"question\" key\n",
        "    # \"context\"  : populated by getting the value of the \"question\" key and chaining it into the base_retriever\n",
        "    {\"context\": itemgetter(\"question\") | retriever, \"question\": itemgetter(\"question\")}\n",
        "    # \"context\"  : is assigned to a RunnablePassthrough object (will not be called or considered in the next step)\n",
        "    #              by getting the value of the \"context\" key from the previous step\n",
        "    | RunnablePassthrough.assign(context=itemgetter(\"context\"))\n",
        "    # \"response\" : the \"context\" and \"question\" values are used to format our prompt object and then piped\n",
        "    #              into the LLM and stored in a key called \"response\"\n",
        "    # \"context\"  : populated by getting the value of the \"context\" key from the previous step\n",
        "    | {\"response\": prompt | primary_qa_llm, \"context\": itemgetter(\"context\")}\n",
        ")"
      ],
      "metadata": {
        "id": "-TsjUWjbUfbW"
      },
      "execution_count": 37,
      "outputs": []
    },
    {
      "cell_type": "markdown",
      "source": [
        "Testing after pipeline"
      ],
      "metadata": {
        "id": "zO69de-F-oMD"
      }
    },
    {
      "cell_type": "code",
      "source": [
        "question = \"Who is the E-VP, Operations - and how old are they? Explain how you arrive at her age?\"\n",
        "\n",
        "result = retrieval_augmented_qa_chain.invoke({\"question\" : question})\n",
        "\n",
        "print(result[\"response\"].content)"
      ],
      "metadata": {
        "colab": {
          "base_uri": "https://localhost:8080/"
        },
        "id": "2FS5NxC6UyU2",
        "outputId": "60ec8fa1-b76e-4d77-d712-30f9be905ebb"
      },
      "execution_count": 38,
      "outputs": [
        {
          "output_type": "stream",
          "name": "stdout",
          "text": [
            "Debora Shoquist is the Executive Vice President of Operations. Her age is 69 years old as indicated in the context under the section \"Information About Our Executive Officers.\"\n"
          ]
        }
      ]
    },
    {
      "cell_type": "code",
      "source": [
        "question = \"What is the gross carrying amount of Total Amortizable Intangible Assets for Jan 29, 2023?\"\n",
        "\n",
        "result = retrieval_augmented_qa_chain.invoke({\"question\" : question})\n",
        "\n",
        "print(result[\"response\"].content)\n",
        "print(result[\"context\"])"
      ],
      "metadata": {
        "colab": {
          "base_uri": "https://localhost:8080/"
        },
        "id": "tIuHVGPOO9P2",
        "outputId": "1e48efa7-a85f-4e99-f731-7c2eb013b691"
      },
      "execution_count": 39,
      "outputs": [
        {
          "output_type": "stream",
          "name": "stdout",
          "text": [
            "The gross carrying amount of Total Amortizable Intangible Assets for Jan 29, 2023, is $3,539 million.\n",
            "[Document(page_content='Table of Contents\\nNVIDIA Corporation and Subsidiaries\\nNotes to the Consolidated Financial Statements\\n(Continued)\\nNote 7 - Amortizable Intangible Assets\\nThe components of our amortizable intangible assets are as follows:\\n \\nJan 28, 2024\\nJan 29, 2023\\n \\nGross\\nCarrying\\nAmount\\nAccumulated\\nAmortization\\nNet \\nCarrying\\nAmount\\nGross\\nCarrying\\nAmount\\nAccumulated\\nAmortization\\nNet \\nCarrying\\nAmount\\n \\n(In millions)\\nAcquisition-related intangible\\nassets (1)\\n$\\n2,642 \\n$\\n(1,720)\\n$\\n922 \\n$\\n3,093 \\n$\\n(1,614)\\n$\\n1,479 \\nPatents and licensed technology\\n449 \\n(259)\\n190 \\n446 \\n(249)\\n197 \\nTotal intangible assets\\n$\\n3,091 \\n$\\n(1,979)\\n$\\n1,112 \\n$\\n3,539 \\n$\\n(1,863)\\n$\\n1,676 \\n(1)    During the first quarter of fiscal year 2023, we commenced amortization of a $630 million in-process research and development intangible asset related to our acquisition of\\nMellanox.\\nAmortization expense associated with intangible assets for fiscal years 2024, 2023, and 2022 was $614 million, $699 million, and $563 million, respectively.\\nThe following table outlines the estimated future amortization expense related to the net carrying amount of intangible assets as of January 28, 2024:\\nFuture Amortization Expense\\n \\n(In millions)\\nFiscal Year:\\n \\n2025\\n$\\n555 \\n2026\\n261 \\n2027\\n150 \\n2028\\n37 \\n2029\\n9 \\n2030 and thereafter\\n100 \\nTotal\\n$\\n1,112 \\n64\\n', metadata={'source': 'https://d18rn0p25nwr6d.cloudfront.net/CIK-0001045810/1cbe8fe7-e08a-46e3-8dcc-b429fc06c1a4.pdf', 'file_path': 'https://d18rn0p25nwr6d.cloudfront.net/CIK-0001045810/1cbe8fe7-e08a-46e3-8dcc-b429fc06c1a4.pdf', 'page': 63, 'total_pages': 96, 'format': 'PDF 1.4', 'title': '0001045810-24-000029', 'author': 'EDGAR® Online LLC, a subsidiary of OTC Markets Group', 'subject': 'Form 10-K filed on 2024-02-21 for the period ending 2024-01-28', 'keywords': '0001045810-24-000029; ; 10-K', 'creator': 'EDGAR Filing HTML Converter', 'producer': 'EDGRpdf Service w/ EO.Pdf 22.0.40.0', 'creationDate': \"D:20240221173732-05'00'\", 'modDate': \"D:20240221173744-05'00'\", 'trapped': '', 'encryption': 'Standard V2 R3 128-bit RC4'}), Document(page_content='Table of Contents\\nNVIDIA Corporation and Subsidiaries\\nNotes to the Consolidated Financial Statements\\n(Continued)\\n \\nJan 28, 2024\\nJan 29, 2023\\nEstimated\\nUseful Life\\n(In millions)\\n(In years)\\nProperty and Equipment:\\nLand\\n$\\n218 \\n$\\n218 \\n(A)\\nBuildings, leasehold improvements, and furniture\\n1,816 \\n1,598 \\n(B)\\nEquipment, compute hardware, and software\\n5,200 \\n4,303 \\n3-7\\nConstruction in process\\n189 \\n382 \\n(C)\\nTotal property and equipment, gross\\n7,423 \\n6,501 \\n \\nAccumulated depreciation and amortization\\n(3,509)\\n(2,694)\\n \\nTotal property and equipment, net\\n$\\n3,914 \\n$\\n3,807 \\n \\n(A)\\nLand is a non-depreciable asset.\\n(B)\\nThe estimated useful lives of our buildings are up to thirty years. Leasehold improvements and finance leases are amortized based on the lesser of either the asset’s estimated useful life or the\\nexpected remaining lease term.\\n(C)\\nConstruction in process represents assets that are not available for their intended use as of the balance sheet date.\\nDepreciation expense for fiscal years 2024, 2023, and 2022 was $894 million, $844 million, and $611 million, respectively.\\nAccumulated amortization of leasehold improvements and finance leases was $400 million and $327 million as of January 28, 2024 and January 29, 2023,\\nrespectively.\\nProperty, equipment and intangible assets acquired by assuming related liabilities during fiscal years 2024, 2023, and 2022 were $170 million, $374 million, and\\n$258 million, respectively.\\n \\nJan 28, 2024\\nJan 29, 2023\\nOther assets:\\n(In millions)\\nPrepaid supply and capacity agreements (1)\\n$\\n2,458 \\n$\\n2,989 \\nInvestments in non-affiliated entities\\n1,546 \\n299 \\nPrepaid royalties\\n364 \\n387 \\nOther\\n132 \\n145 \\nTotal other assets\\n$\\n4,500 \\n$\\n3,820 \\n(1)\\nAs of January 28, 2024 and January 29, 2023, there was an additional $2.5 billion and $458 million of short-term prepaid supply and capacity agreements included in Prepaid expenses and other\\ncurrent assets, respectively.\\n69\\n', metadata={'source': 'https://d18rn0p25nwr6d.cloudfront.net/CIK-0001045810/1cbe8fe7-e08a-46e3-8dcc-b429fc06c1a4.pdf', 'file_path': 'https://d18rn0p25nwr6d.cloudfront.net/CIK-0001045810/1cbe8fe7-e08a-46e3-8dcc-b429fc06c1a4.pdf', 'page': 68, 'total_pages': 96, 'format': 'PDF 1.4', 'title': '0001045810-24-000029', 'author': 'EDGAR® Online LLC, a subsidiary of OTC Markets Group', 'subject': 'Form 10-K filed on 2024-02-21 for the period ending 2024-01-28', 'keywords': '0001045810-24-000029; ; 10-K', 'creator': 'EDGAR Filing HTML Converter', 'producer': 'EDGRpdf Service w/ EO.Pdf 22.0.40.0', 'creationDate': \"D:20240221173732-05'00'\", 'modDate': \"D:20240221173744-05'00'\", 'trapped': '', 'encryption': 'Standard V2 R3 128-bit RC4'}), Document(page_content='Table of Contents\\nNVIDIA Corporation and Subsidiaries\\nNotes to the Consolidated Financial Statements\\n(Continued)\\nAdjustments to the carrying value of our non-marketable equity securities accounted for under the measurement alternative were as follows:\\nYear Ended\\nJan 28, 2024\\n(In millions)\\nCarrying amount as of Jan 29, 2023\\n$\\n288 \\nAdjustments related to non-marketable equity securities:\\nNet additions\\n859 \\nUnrealized gains\\n194 \\nImpairments and unrealized losses\\n(20)\\nCarrying amount as of Jan 28, 2024\\n$\\n1,321 \\nIn the fourth quarter of fiscal year 2024, one of our private company investments completed a secondary equity raise that resulted in an unrealized gain of\\n$178 million.\\nNet unrealized gains recognized for the year ended January 28, 2024 for non-marketable investments in non-affiliated entities still held as of January 28, 2024\\nwere $174 million. Net unrealized and realized gains related to non-marketable equity securities were not significant for fiscal years 2023 and 2022.\\nThe following table summarizes the cumulative gross unrealized gains and cumulative gross unrealized losses and impairments related to non-marketable equity\\nsecurities \\naccounted \\nfor \\nunder \\nthe \\nmeasurement \\nalternative:\\nJan 28, 2024\\n(In millions)\\nCumulative gross unrealized gains\\n$\\n270 \\nCumulative gross unrealized losses and impairments\\n(45)\\nNote 10 - Balance Sheet Components\\nTwo customers accounted for 24% and 11% of our accounts receivable balance as of January 28, 2024. Two customers accounted for 14% and 11% of our\\naccounts receivable balance as of January 29, 2023.\\nCertain balance sheet components are as follows:\\n \\nJan 28, 2024\\nJan 29, 2023\\n(In millions)\\nInventories (1):\\nRaw materials\\n$\\n1,719 \\n$\\n2,430 \\nWork in-process\\n1,505 \\n466 \\nFinished goods\\n2,058 \\n2,263 \\nTotal inventories\\n$\\n5,282 \\n$\\n5,159 \\n(1) In fiscal years 2024 and 2023, we recorded an inventory provision of $774 million and $1.0 billion, respectively, in cost of revenue.\\n68\\n', metadata={'source': 'https://d18rn0p25nwr6d.cloudfront.net/CIK-0001045810/1cbe8fe7-e08a-46e3-8dcc-b429fc06c1a4.pdf', 'file_path': 'https://d18rn0p25nwr6d.cloudfront.net/CIK-0001045810/1cbe8fe7-e08a-46e3-8dcc-b429fc06c1a4.pdf', 'page': 67, 'total_pages': 96, 'format': 'PDF 1.4', 'title': '0001045810-24-000029', 'author': 'EDGAR® Online LLC, a subsidiary of OTC Markets Group', 'subject': 'Form 10-K filed on 2024-02-21 for the period ending 2024-01-28', 'keywords': '0001045810-24-000029; ; 10-K', 'creator': 'EDGAR Filing HTML Converter', 'producer': 'EDGRpdf Service w/ EO.Pdf 22.0.40.0', 'creationDate': \"D:20240221173732-05'00'\", 'modDate': \"D:20240221173744-05'00'\", 'trapped': '', 'encryption': 'Standard V2 R3 128-bit RC4'}), Document(page_content='Table of Contents\\nNVIDIA Corporation and Subsidiaries\\nNotes to the Consolidated Financial Statements\\n(Continued)\\nThe following tables provide the breakdown of unrealized losses, aggregated by investment category and length of time that individual securities have been in a\\ncontinuous loss position:\\nJan 28, 2024\\n \\nLess than 12 Months\\n12 Months or Greater\\nTotal\\n \\nEstimated Fair\\nValue\\nGross\\nUnrealized Loss\\nEstimated Fair\\nValue\\nGross\\nUnrealized Loss\\nEstimated Fair\\nValue\\nGross\\nUnrealized Loss\\n \\n(In millions)\\nDebt securities issued by the U.S.\\nTreasury\\n$\\n3,343 \\n$\\n(5)\\n$\\n1,078 \\n$\\n(5)\\n$\\n4,421 \\n$\\n(10)\\nCorporate debt securities\\n1,306 \\n(3)\\n618 \\n(2)\\n1,924 \\n(5)\\nDebt securities issued by U.S.\\ngovernment agencies\\n670 \\n(1)\\n— \\n— \\n670 \\n(1)\\nTotal\\n$\\n5,319 \\n$\\n(9)\\n$\\n1,696 \\n$\\n(7)\\n$\\n7,015 \\n$\\n(16)\\nJan 29, 2023\\n \\nLess than 12 Months\\n12 Months or Greater\\nTotal\\n \\nEstimated Fair\\nValue\\nGross\\nUnrealized Loss\\nEstimated Fair\\nValue\\nGross\\nUnrealized Loss\\nEstimated Fair\\nValue\\nGross\\nUnrealized Loss\\n \\n(In millions)\\nDebt securities issued by the U.S.\\nTreasury\\n$\\n2,444 \\n$\\n(21)\\n$\\n1,172 \\n$\\n(23)\\n$\\n3,616 \\n$\\n(44)\\nCorporate debt securities\\n1,188 \\n(7)\\n696 \\n(5)\\n1,884 \\n(12)\\nDebt securities issued by U.S.\\ngovernment agencies\\n1,307 \\n(2)\\n— \\n— \\n1,307 \\n(2)\\nTotal\\n$\\n4,939 \\n$\\n(30)\\n$\\n1,868 \\n$\\n(28)\\n$\\n6,807 \\n$\\n(58)\\nThe gross unrealized losses are related to fixed income securities, driven primarily by changes in interest rates. Net realized gains and losses were not\\nsignificant for all periods presented.\\nThe amortized cost and estimated fair value of cash equivalents and marketable securities are shown below by contractual maturity.\\n \\nJan 28, 2024\\nJan 29, 2023\\n \\nAmortized\\nCost\\nEstimated\\nFair Value\\nAmortized\\nCost\\nEstimated\\nFair Value\\n \\n(In millions)\\nLess than one year\\n$\\n16,336 \\n$\\n16,329 \\n$\\n9,738 \\n$\\n9,708 \\nDue in 1 - 5 years\\n9,348 \\n9,395 \\n3,374 \\n3,347 \\nTotal\\n$\\n25,684 \\n$\\n25,724 \\n$\\n13,112 \\n$\\n13,055 \\n66\\n', metadata={'source': 'https://d18rn0p25nwr6d.cloudfront.net/CIK-0001045810/1cbe8fe7-e08a-46e3-8dcc-b429fc06c1a4.pdf', 'file_path': 'https://d18rn0p25nwr6d.cloudfront.net/CIK-0001045810/1cbe8fe7-e08a-46e3-8dcc-b429fc06c1a4.pdf', 'page': 65, 'total_pages': 96, 'format': 'PDF 1.4', 'title': '0001045810-24-000029', 'author': 'EDGAR® Online LLC, a subsidiary of OTC Markets Group', 'subject': 'Form 10-K filed on 2024-02-21 for the period ending 2024-01-28', 'keywords': '0001045810-24-000029; ; 10-K', 'creator': 'EDGAR Filing HTML Converter', 'producer': 'EDGRpdf Service w/ EO.Pdf 22.0.40.0', 'creationDate': \"D:20240221173732-05'00'\", 'modDate': \"D:20240221173744-05'00'\", 'trapped': '', 'encryption': 'Standard V2 R3 128-bit RC4'})]\n"
          ]
        }
      ]
    },
    {
      "cell_type": "markdown",
      "source": [
        "\n",
        "###RAGAS"
      ],
      "metadata": {
        "id": "xcY5KdZ3cUiV"
      }
    },
    {
      "cell_type": "code",
      "source": [
        "eval_documents = docs\n",
        "\n",
        "text_splitter = RecursiveCharacterTextSplitter(\n",
        "    chunk_size = 900,\n",
        "    chunk_overlap = 300\n",
        ")\n",
        "\n",
        "eval_documents = text_splitter.split_documents(eval_documents)"
      ],
      "metadata": {
        "id": "nVk5SlU9znXe"
      },
      "execution_count": 40,
      "outputs": []
    },
    {
      "cell_type": "code",
      "source": [
        "from ragas.testset.generator import TestsetGenerator\n",
        "from ragas.testset.evolutions import simple, reasoning, multi_context\n",
        "\n",
        "generator = TestsetGenerator.with_openai()\n",
        "\n",
        "testset = generator.generate_with_langchain_docs(docs, test_size=10, distributions={simple: 0.25, reasoning: 0.25, multi_context: 0.5})"
      ],
      "metadata": {
        "colab": {
          "base_uri": "https://localhost:8080/",
          "height": 101,
          "referenced_widgets": [
            "53fc8a99b1114415aaf6f1d13e66a509",
            "7dc550d6bcd34267a2f492abded1a48a",
            "5d4a39224af24b2da3a01cef10a43e2a",
            "db3b063d664a469d86841195dd675a2e",
            "8e48abe9fae546da989d2c02156c4645",
            "f235c47194aa43e9ae868cec731845d2",
            "deebde4ba2b548c88e7f1e0f1839a94d",
            "d50d7f63445544ad975607d95a4be5dc",
            "b596b06c463042f2a402b7fdd7f724a1",
            "7dd7457cdfa64e2c85a15bf7ac338dad",
            "2f9d880799a6472a8eac3d5a53b9d53b",
            "30da483a4ea443d09591caa4ca32162d",
            "d912143b63704707a0d329e6a037ef68",
            "827106d746ec4f39a46802482b58a9a9",
            "b889f8826f8c423a95e625337f464a00",
            "d77bf652c1ca4cca86cc99ea2a3cdce8",
            "c43b6e315827496a938e6d46f86e3a08",
            "8b33e261104d4406baa47d91e4dbeaa1",
            "50bfa1cc935b418dbafc2b5f11093697",
            "2458cecd49874d53a27dda796d19297f",
            "35593eeeca964fb6a3d46b9ec8ada38c",
            "d861d37f63b246979e13e891de5d62bd"
          ]
        },
        "id": "IXc6sMglSej_",
        "outputId": "99947dbf-6f03-46ef-8630-e99eb6d9dede"
      },
      "execution_count": 41,
      "outputs": [
        {
          "output_type": "stream",
          "name": "stderr",
          "text": [
            "<ipython-input-41-798fe060e38f>:4: DeprecationWarning: The function with_openai was deprecated in 0.1.4, and will be removed in the 0.2.0 release. Use from_langchain instead.\n",
            "  generator = TestsetGenerator.with_openai()\n"
          ]
        },
        {
          "output_type": "display_data",
          "data": {
            "text/plain": [
              "embedding nodes:   0%|          | 0/244 [00:00<?, ?it/s]"
            ],
            "application/vnd.jupyter.widget-view+json": {
              "version_major": 2,
              "version_minor": 0,
              "model_id": "53fc8a99b1114415aaf6f1d13e66a509"
            }
          },
          "metadata": {}
        },
        {
          "output_type": "stream",
          "name": "stderr",
          "text": [
            "WARNING:ragas.testset.docstore:Filename and doc_id are the same for all nodes.\n"
          ]
        },
        {
          "output_type": "display_data",
          "data": {
            "text/plain": [
              "Generating:   0%|          | 0/10 [00:00<?, ?it/s]"
            ],
            "application/vnd.jupyter.widget-view+json": {
              "version_major": 2,
              "version_minor": 0,
              "model_id": "30da483a4ea443d09591caa4ca32162d"
            }
          },
          "metadata": {}
        }
      ]
    },
    {
      "cell_type": "code",
      "source": [
        "testset.test_data[0]"
      ],
      "metadata": {
        "colab": {
          "base_uri": "https://localhost:8080/"
        },
        "id": "RaCDdImVU15s",
        "outputId": "34d22765-7b8e-472b-bf9b-a67dfded129a"
      },
      "execution_count": 42,
      "outputs": [
        {
          "output_type": "execute_result",
          "data": {
            "text/plain": [
              "DataRow(question='What factors contribute to challenges in estimating demand and supply constraints?', contexts=[\"Table of Contents\\ntransitions, and we may be unable to sell multiple product architectures at the same time for current and future architecture transitions. If we are unable to\\nexecute our architectural transitions as planned for any reason, our financial results may be negatively impacted. The increasing frequency and complexity of\\nnewly introduced products may result in unanticipated quality or production issues that could increase the magnitude of inventory provisions, warranty or other\\ncosts or result in product delays. Deployment of new products to customers creates additional challenges due to the complexity of our technologies, which has\\nimpacted and may in the future impact the timing of customer purchases or otherwise impact our demand. While we have managed prior product transitions and\\nhave previously sold multiple product architectures at the same time, these transitions are difficult, may impair our ability to predict demand and impact our\\nsupply mix, and we may incur additional costs.\\nMany end customers often do not purchase directly from us but instead purchase indirectly through multiple OEMs, ODMs, system integrators, distributors, and\\nother channel partners. As a result, the decisions made by our multiple OEMs, ODMs, system integrators, distributors, and other channel partners, and in\\nresponse to changing market conditions and changes in end-user demand for our products, have impacted and could in the future continue to impact our ability\\nto properly forecast demand, particularly as they are based on estimates provided by various downstream parties.\\nIf we underestimate our customers' future demand for our products, our foundry partners may not have adequate lead-time or capacity to increase production\\nand we may not be able to obtain sufficient inventory to fill orders on a timely basis. Even if we are able to increase supply to meet customer demand, we may\\nnot be able to do so in a timely manner, or our contract manufacturers may experience supply constraints. If we cannot procure sufficient supply to meet demand\\nor otherwise fail to fulfill our customers’ orders on a timely basis, or at all, our customer relationships could be damaged, we could lose revenue and market\\nshare and our reputation could be harmed. Additionally, since some of our products are part of a complex data center buildout, supply constraints or availability\\nissues with respect to any one component have had and may have a broader revenue impact.\\nIf we overestimate our customers’ future demand for our products, or if customers cancel or defer orders or choose to purchase from our competitors, we may\\nnot be able to reduce our inventory or other contractual purchase commitments. In the past, we have experienced a reduction in average selling prices, including\\ndue to channel pricing programs that we have implemented and may continue to implement, as a result of our overestimation of future demand, and we may\\nneed to continue these reductions. We have had to increase prices for certain of our products as a result of our suppliers’ increase in prices, and we may need to\\ncontinue to do so for other products in the future. We have also written down our inventory, incurred cancellation penalties, and recorded impairments and may\\nhave to do so in the future. These impacts were amplified by our placement of non-cancellable and non-returnable purchasing terms well in advance of our\\nhistorical lead times and could be exacerbated if we need to make changes to the design of future products. The risk of these impacts has increased and may\\ncontinue to increase as our purchase obligations and prepaids have grown and are expected to continue to grow and become a greater portion of our total\\nsupply. All of these factors may negatively impact our gross margins and financial results.\\nWe build technology and introduce products for new and innovative use cases and applications, such as NVIDIA DGX Cloud services, NVIDIA AI Foundations,\\nOmniverse platform, LLMs, and generative AI models. Our demand estimates for new use cases, applications, and services can be incorrect and create volatility\\nin our revenue or supply levels, and we may not be able to generate significant revenue from these use cases, applications, and services. Recent technologies,\\nsuch as generative AI models, have emerged, and while they have driven increased demand for Data Center, the long-term trajectory is unknown. Because our\\nproducts may be used in multiple use cases and applications, it is difficult for us to estimate with any reasonable degree of precision the impact of generative AI\\nmodels on our reported revenue or forecasted demand. Additionally, we started shipping our CPU product offerings, the Grace CPU and Grace Hopper\\nSuperchips, in the third quarter of fiscal year 2024. Our ability to adequately predict our CPU demand may create volatility in our revenue or supply levels.\\nChallenges in estimating demand could become more pronounced or volatile in the future on both a global and regional basis. Extended lead times may occur if\\nwe experience other supply constraints caused by natural disasters, pandemics or other events. In addition, geopolitical tensions, such as those involving Taiwan\\nand China, which comprise a significant portion of our revenue and where we have\"], ground_truth='Factors that contribute to challenges in estimating demand and supply constraints include: the complexity of technological transitions, unanticipated quality or production issues, customer purchasing decisions made by downstream parties, underestimating or overestimating customer demand, cancellation or deferral of orders, competition from competitors, changes in average selling prices, inventory write-downs and impairments, non-cancellable and non-returnable purchasing terms, changes in technology and use cases, and geopolitical tensions.', evolution_type='simple')"
            ]
          },
          "metadata": {},
          "execution_count": 42
        }
      ]
    },
    {
      "cell_type": "markdown",
      "source": [
        "### Generating Responses with RAG Pipeline\n",
        "\n",
        "converting our test dataset into a Pandas DataFrame."
      ],
      "metadata": {
        "id": "vrPsVwUAWFWB"
      }
    },
    {
      "cell_type": "code",
      "source": [
        "test_df = testset.to_pandas()"
      ],
      "metadata": {
        "id": "frvzu1YxX8kY"
      },
      "execution_count": 43,
      "outputs": []
    },
    {
      "cell_type": "code",
      "source": [
        "test_df"
      ],
      "metadata": {
        "colab": {
          "base_uri": "https://localhost:8080/",
          "height": 363
        },
        "id": "GFKMIY8IZU8m",
        "outputId": "0153740e-dacc-41e5-f186-e9c6512d97d2"
      },
      "execution_count": 44,
      "outputs": [
        {
          "output_type": "execute_result",
          "data": {
            "text/plain": [
              "                                            question  \\\n",
              "0  What factors contribute to challenges in estim...   \n",
              "1  How does NVIDIA Corporation recognize revenue ...   \n",
              "2  What is NVIDIA's role in developing AI systems...   \n",
              "3  How has GPU usage for mining impacted GPU dema...   \n",
              "4  What happens if the company doesn't comply wit...   \n",
              "5  How do export controls affect NVIDIA's busines...   \n",
              "6  What are the risks of cybersecurity threats an...   \n",
              "7  What factors are considered in determining imp...   \n",
              "8  What is the impact of export control restricti...   \n",
              "9  What are the potential legal challenges and ri...   \n",
              "\n",
              "                                            contexts  \\\n",
              "0  [Table of Contents\\ntransitions, and we may be...   \n",
              "1  [Table of Contents\\nNVIDIA Corporation and Sub...   \n",
              "2  [Table of Contents\\nWe are working with severa...   \n",
              "3  [ suppliers, contract manufacturers, and assem...   \n",
              "4  [        \\nCOMPENSATION RECOVERY POLICY\\nlaw o...   \n",
              "5  [Table of Contents\\ndisadvantage NVIDIA agains...   \n",
              "6  [Table of Contents\\nAdverse developments affec...   \n",
              "7  [Available-for-sale debt investments are subje...   \n",
              "8  [ restrictions impacting some or all of our pr...   \n",
              "9  [Table of Contents\\nregulator or other industr...   \n",
              "\n",
              "                                        ground_truth evolution_type  \\\n",
              "0  Factors that contribute to challenges in estim...         simple   \n",
              "1  NVIDIA Corporation recognizes revenue from lic...         simple   \n",
              "2  NVIDIA is working with several partners in the...      reasoning   \n",
              "3  The use of GPUs for mining digital currencies,...      reasoning   \n",
              "4  If the company doesn't comply with the Compens...  multi_context   \n",
              "5  Export controls negatively impact NVIDIA's bus...  multi_context   \n",
              "6  Cybersecurity threats and data breaches can di...  multi_context   \n",
              "7  Factors considered in determining impairment o...  multi_context   \n",
              "8  Export control restrictions on AI-related prod...  multi_context   \n",
              "9  Potential legal challenges and risks associate...         simple   \n",
              "\n",
              "   episode_done  \n",
              "0          True  \n",
              "1          True  \n",
              "2          True  \n",
              "3          True  \n",
              "4          True  \n",
              "5          True  \n",
              "6          True  \n",
              "7          True  \n",
              "8          True  \n",
              "9          True  "
            ],
            "text/html": [
              "\n",
              "  <div id=\"df-558477be-fdb8-4ec3-b907-3a0c5f4b4c60\" class=\"colab-df-container\">\n",
              "    <div>\n",
              "<style scoped>\n",
              "    .dataframe tbody tr th:only-of-type {\n",
              "        vertical-align: middle;\n",
              "    }\n",
              "\n",
              "    .dataframe tbody tr th {\n",
              "        vertical-align: top;\n",
              "    }\n",
              "\n",
              "    .dataframe thead th {\n",
              "        text-align: right;\n",
              "    }\n",
              "</style>\n",
              "<table border=\"1\" class=\"dataframe\">\n",
              "  <thead>\n",
              "    <tr style=\"text-align: right;\">\n",
              "      <th></th>\n",
              "      <th>question</th>\n",
              "      <th>contexts</th>\n",
              "      <th>ground_truth</th>\n",
              "      <th>evolution_type</th>\n",
              "      <th>episode_done</th>\n",
              "    </tr>\n",
              "  </thead>\n",
              "  <tbody>\n",
              "    <tr>\n",
              "      <th>0</th>\n",
              "      <td>What factors contribute to challenges in estim...</td>\n",
              "      <td>[Table of Contents\\ntransitions, and we may be...</td>\n",
              "      <td>Factors that contribute to challenges in estim...</td>\n",
              "      <td>simple</td>\n",
              "      <td>True</td>\n",
              "    </tr>\n",
              "    <tr>\n",
              "      <th>1</th>\n",
              "      <td>How does NVIDIA Corporation recognize revenue ...</td>\n",
              "      <td>[Table of Contents\\nNVIDIA Corporation and Sub...</td>\n",
              "      <td>NVIDIA Corporation recognizes revenue from lic...</td>\n",
              "      <td>simple</td>\n",
              "      <td>True</td>\n",
              "    </tr>\n",
              "    <tr>\n",
              "      <th>2</th>\n",
              "      <td>What is NVIDIA's role in developing AI systems...</td>\n",
              "      <td>[Table of Contents\\nWe are working with severa...</td>\n",
              "      <td>NVIDIA is working with several partners in the...</td>\n",
              "      <td>reasoning</td>\n",
              "      <td>True</td>\n",
              "    </tr>\n",
              "    <tr>\n",
              "      <th>3</th>\n",
              "      <td>How has GPU usage for mining impacted GPU dema...</td>\n",
              "      <td>[ suppliers, contract manufacturers, and assem...</td>\n",
              "      <td>The use of GPUs for mining digital currencies,...</td>\n",
              "      <td>reasoning</td>\n",
              "      <td>True</td>\n",
              "    </tr>\n",
              "    <tr>\n",
              "      <th>4</th>\n",
              "      <td>What happens if the company doesn't comply wit...</td>\n",
              "      <td>[        \\nCOMPENSATION RECOVERY POLICY\\nlaw o...</td>\n",
              "      <td>If the company doesn't comply with the Compens...</td>\n",
              "      <td>multi_context</td>\n",
              "      <td>True</td>\n",
              "    </tr>\n",
              "    <tr>\n",
              "      <th>5</th>\n",
              "      <td>How do export controls affect NVIDIA's busines...</td>\n",
              "      <td>[Table of Contents\\ndisadvantage NVIDIA agains...</td>\n",
              "      <td>Export controls negatively impact NVIDIA's bus...</td>\n",
              "      <td>multi_context</td>\n",
              "      <td>True</td>\n",
              "    </tr>\n",
              "    <tr>\n",
              "      <th>6</th>\n",
              "      <td>What are the risks of cybersecurity threats an...</td>\n",
              "      <td>[Table of Contents\\nAdverse developments affec...</td>\n",
              "      <td>Cybersecurity threats and data breaches can di...</td>\n",
              "      <td>multi_context</td>\n",
              "      <td>True</td>\n",
              "    </tr>\n",
              "    <tr>\n",
              "      <th>7</th>\n",
              "      <td>What factors are considered in determining imp...</td>\n",
              "      <td>[Available-for-sale debt investments are subje...</td>\n",
              "      <td>Factors considered in determining impairment o...</td>\n",
              "      <td>multi_context</td>\n",
              "      <td>True</td>\n",
              "    </tr>\n",
              "    <tr>\n",
              "      <th>8</th>\n",
              "      <td>What is the impact of export control restricti...</td>\n",
              "      <td>[ restrictions impacting some or all of our pr...</td>\n",
              "      <td>Export control restrictions on AI-related prod...</td>\n",
              "      <td>multi_context</td>\n",
              "      <td>True</td>\n",
              "    </tr>\n",
              "    <tr>\n",
              "      <th>9</th>\n",
              "      <td>What are the potential legal challenges and ri...</td>\n",
              "      <td>[Table of Contents\\nregulator or other industr...</td>\n",
              "      <td>Potential legal challenges and risks associate...</td>\n",
              "      <td>simple</td>\n",
              "      <td>True</td>\n",
              "    </tr>\n",
              "  </tbody>\n",
              "</table>\n",
              "</div>\n",
              "    <div class=\"colab-df-buttons\">\n",
              "\n",
              "  <div class=\"colab-df-container\">\n",
              "    <button class=\"colab-df-convert\" onclick=\"convertToInteractive('df-558477be-fdb8-4ec3-b907-3a0c5f4b4c60')\"\n",
              "            title=\"Convert this dataframe to an interactive table.\"\n",
              "            style=\"display:none;\">\n",
              "\n",
              "  <svg xmlns=\"http://www.w3.org/2000/svg\" height=\"24px\" viewBox=\"0 -960 960 960\">\n",
              "    <path d=\"M120-120v-720h720v720H120Zm60-500h600v-160H180v160Zm220 220h160v-160H400v160Zm0 220h160v-160H400v160ZM180-400h160v-160H180v160Zm440 0h160v-160H620v160ZM180-180h160v-160H180v160Zm440 0h160v-160H620v160Z\"/>\n",
              "  </svg>\n",
              "    </button>\n",
              "\n",
              "  <style>\n",
              "    .colab-df-container {\n",
              "      display:flex;\n",
              "      gap: 12px;\n",
              "    }\n",
              "\n",
              "    .colab-df-convert {\n",
              "      background-color: #E8F0FE;\n",
              "      border: none;\n",
              "      border-radius: 50%;\n",
              "      cursor: pointer;\n",
              "      display: none;\n",
              "      fill: #1967D2;\n",
              "      height: 32px;\n",
              "      padding: 0 0 0 0;\n",
              "      width: 32px;\n",
              "    }\n",
              "\n",
              "    .colab-df-convert:hover {\n",
              "      background-color: #E2EBFA;\n",
              "      box-shadow: 0px 1px 2px rgba(60, 64, 67, 0.3), 0px 1px 3px 1px rgba(60, 64, 67, 0.15);\n",
              "      fill: #174EA6;\n",
              "    }\n",
              "\n",
              "    .colab-df-buttons div {\n",
              "      margin-bottom: 4px;\n",
              "    }\n",
              "\n",
              "    [theme=dark] .colab-df-convert {\n",
              "      background-color: #3B4455;\n",
              "      fill: #D2E3FC;\n",
              "    }\n",
              "\n",
              "    [theme=dark] .colab-df-convert:hover {\n",
              "      background-color: #434B5C;\n",
              "      box-shadow: 0px 1px 3px 1px rgba(0, 0, 0, 0.15);\n",
              "      filter: drop-shadow(0px 1px 2px rgba(0, 0, 0, 0.3));\n",
              "      fill: #FFFFFF;\n",
              "    }\n",
              "  </style>\n",
              "\n",
              "    <script>\n",
              "      const buttonEl =\n",
              "        document.querySelector('#df-558477be-fdb8-4ec3-b907-3a0c5f4b4c60 button.colab-df-convert');\n",
              "      buttonEl.style.display =\n",
              "        google.colab.kernel.accessAllowed ? 'block' : 'none';\n",
              "\n",
              "      async function convertToInteractive(key) {\n",
              "        const element = document.querySelector('#df-558477be-fdb8-4ec3-b907-3a0c5f4b4c60');\n",
              "        const dataTable =\n",
              "          await google.colab.kernel.invokeFunction('convertToInteractive',\n",
              "                                                    [key], {});\n",
              "        if (!dataTable) return;\n",
              "\n",
              "        const docLinkHtml = 'Like what you see? Visit the ' +\n",
              "          '<a target=\"_blank\" href=https://colab.research.google.com/notebooks/data_table.ipynb>data table notebook</a>'\n",
              "          + ' to learn more about interactive tables.';\n",
              "        element.innerHTML = '';\n",
              "        dataTable['output_type'] = 'display_data';\n",
              "        await google.colab.output.renderOutput(dataTable, element);\n",
              "        const docLink = document.createElement('div');\n",
              "        docLink.innerHTML = docLinkHtml;\n",
              "        element.appendChild(docLink);\n",
              "      }\n",
              "    </script>\n",
              "  </div>\n",
              "\n",
              "\n",
              "<div id=\"df-aeaf99e3-7b70-4e8b-a88c-62d0b48957eb\">\n",
              "  <button class=\"colab-df-quickchart\" onclick=\"quickchart('df-aeaf99e3-7b70-4e8b-a88c-62d0b48957eb')\"\n",
              "            title=\"Suggest charts\"\n",
              "            style=\"display:none;\">\n",
              "\n",
              "<svg xmlns=\"http://www.w3.org/2000/svg\" height=\"24px\"viewBox=\"0 0 24 24\"\n",
              "     width=\"24px\">\n",
              "    <g>\n",
              "        <path d=\"M19 3H5c-1.1 0-2 .9-2 2v14c0 1.1.9 2 2 2h14c1.1 0 2-.9 2-2V5c0-1.1-.9-2-2-2zM9 17H7v-7h2v7zm4 0h-2V7h2v10zm4 0h-2v-4h2v4z\"/>\n",
              "    </g>\n",
              "</svg>\n",
              "  </button>\n",
              "\n",
              "<style>\n",
              "  .colab-df-quickchart {\n",
              "      --bg-color: #E8F0FE;\n",
              "      --fill-color: #1967D2;\n",
              "      --hover-bg-color: #E2EBFA;\n",
              "      --hover-fill-color: #174EA6;\n",
              "      --disabled-fill-color: #AAA;\n",
              "      --disabled-bg-color: #DDD;\n",
              "  }\n",
              "\n",
              "  [theme=dark] .colab-df-quickchart {\n",
              "      --bg-color: #3B4455;\n",
              "      --fill-color: #D2E3FC;\n",
              "      --hover-bg-color: #434B5C;\n",
              "      --hover-fill-color: #FFFFFF;\n",
              "      --disabled-bg-color: #3B4455;\n",
              "      --disabled-fill-color: #666;\n",
              "  }\n",
              "\n",
              "  .colab-df-quickchart {\n",
              "    background-color: var(--bg-color);\n",
              "    border: none;\n",
              "    border-radius: 50%;\n",
              "    cursor: pointer;\n",
              "    display: none;\n",
              "    fill: var(--fill-color);\n",
              "    height: 32px;\n",
              "    padding: 0;\n",
              "    width: 32px;\n",
              "  }\n",
              "\n",
              "  .colab-df-quickchart:hover {\n",
              "    background-color: var(--hover-bg-color);\n",
              "    box-shadow: 0 1px 2px rgba(60, 64, 67, 0.3), 0 1px 3px 1px rgba(60, 64, 67, 0.15);\n",
              "    fill: var(--button-hover-fill-color);\n",
              "  }\n",
              "\n",
              "  .colab-df-quickchart-complete:disabled,\n",
              "  .colab-df-quickchart-complete:disabled:hover {\n",
              "    background-color: var(--disabled-bg-color);\n",
              "    fill: var(--disabled-fill-color);\n",
              "    box-shadow: none;\n",
              "  }\n",
              "\n",
              "  .colab-df-spinner {\n",
              "    border: 2px solid var(--fill-color);\n",
              "    border-color: transparent;\n",
              "    border-bottom-color: var(--fill-color);\n",
              "    animation:\n",
              "      spin 1s steps(1) infinite;\n",
              "  }\n",
              "\n",
              "  @keyframes spin {\n",
              "    0% {\n",
              "      border-color: transparent;\n",
              "      border-bottom-color: var(--fill-color);\n",
              "      border-left-color: var(--fill-color);\n",
              "    }\n",
              "    20% {\n",
              "      border-color: transparent;\n",
              "      border-left-color: var(--fill-color);\n",
              "      border-top-color: var(--fill-color);\n",
              "    }\n",
              "    30% {\n",
              "      border-color: transparent;\n",
              "      border-left-color: var(--fill-color);\n",
              "      border-top-color: var(--fill-color);\n",
              "      border-right-color: var(--fill-color);\n",
              "    }\n",
              "    40% {\n",
              "      border-color: transparent;\n",
              "      border-right-color: var(--fill-color);\n",
              "      border-top-color: var(--fill-color);\n",
              "    }\n",
              "    60% {\n",
              "      border-color: transparent;\n",
              "      border-right-color: var(--fill-color);\n",
              "    }\n",
              "    80% {\n",
              "      border-color: transparent;\n",
              "      border-right-color: var(--fill-color);\n",
              "      border-bottom-color: var(--fill-color);\n",
              "    }\n",
              "    90% {\n",
              "      border-color: transparent;\n",
              "      border-bottom-color: var(--fill-color);\n",
              "    }\n",
              "  }\n",
              "</style>\n",
              "\n",
              "  <script>\n",
              "    async function quickchart(key) {\n",
              "      const quickchartButtonEl =\n",
              "        document.querySelector('#' + key + ' button');\n",
              "      quickchartButtonEl.disabled = true;  // To prevent multiple clicks.\n",
              "      quickchartButtonEl.classList.add('colab-df-spinner');\n",
              "      try {\n",
              "        const charts = await google.colab.kernel.invokeFunction(\n",
              "            'suggestCharts', [key], {});\n",
              "      } catch (error) {\n",
              "        console.error('Error during call to suggestCharts:', error);\n",
              "      }\n",
              "      quickchartButtonEl.classList.remove('colab-df-spinner');\n",
              "      quickchartButtonEl.classList.add('colab-df-quickchart-complete');\n",
              "    }\n",
              "    (() => {\n",
              "      let quickchartButtonEl =\n",
              "        document.querySelector('#df-aeaf99e3-7b70-4e8b-a88c-62d0b48957eb button');\n",
              "      quickchartButtonEl.style.display =\n",
              "        google.colab.kernel.accessAllowed ? 'block' : 'none';\n",
              "    })();\n",
              "  </script>\n",
              "</div>\n",
              "\n",
              "  <div id=\"id_36d5d85a-332c-4889-a761-f5a00be2681b\">\n",
              "    <style>\n",
              "      .colab-df-generate {\n",
              "        background-color: #E8F0FE;\n",
              "        border: none;\n",
              "        border-radius: 50%;\n",
              "        cursor: pointer;\n",
              "        display: none;\n",
              "        fill: #1967D2;\n",
              "        height: 32px;\n",
              "        padding: 0 0 0 0;\n",
              "        width: 32px;\n",
              "      }\n",
              "\n",
              "      .colab-df-generate:hover {\n",
              "        background-color: #E2EBFA;\n",
              "        box-shadow: 0px 1px 2px rgba(60, 64, 67, 0.3), 0px 1px 3px 1px rgba(60, 64, 67, 0.15);\n",
              "        fill: #174EA6;\n",
              "      }\n",
              "\n",
              "      [theme=dark] .colab-df-generate {\n",
              "        background-color: #3B4455;\n",
              "        fill: #D2E3FC;\n",
              "      }\n",
              "\n",
              "      [theme=dark] .colab-df-generate:hover {\n",
              "        background-color: #434B5C;\n",
              "        box-shadow: 0px 1px 3px 1px rgba(0, 0, 0, 0.15);\n",
              "        filter: drop-shadow(0px 1px 2px rgba(0, 0, 0, 0.3));\n",
              "        fill: #FFFFFF;\n",
              "      }\n",
              "    </style>\n",
              "    <button class=\"colab-df-generate\" onclick=\"generateWithVariable('test_df')\"\n",
              "            title=\"Generate code using this dataframe.\"\n",
              "            style=\"display:none;\">\n",
              "\n",
              "  <svg xmlns=\"http://www.w3.org/2000/svg\" height=\"24px\"viewBox=\"0 0 24 24\"\n",
              "       width=\"24px\">\n",
              "    <path d=\"M7,19H8.4L18.45,9,17,7.55,7,17.6ZM5,21V16.75L18.45,3.32a2,2,0,0,1,2.83,0l1.4,1.43a1.91,1.91,0,0,1,.58,1.4,1.91,1.91,0,0,1-.58,1.4L9.25,21ZM18.45,9,17,7.55Zm-12,3A5.31,5.31,0,0,0,4.9,8.1,5.31,5.31,0,0,0,1,6.5,5.31,5.31,0,0,0,4.9,4.9,5.31,5.31,0,0,0,6.5,1,5.31,5.31,0,0,0,8.1,4.9,5.31,5.31,0,0,0,12,6.5,5.46,5.46,0,0,0,6.5,12Z\"/>\n",
              "  </svg>\n",
              "    </button>\n",
              "    <script>\n",
              "      (() => {\n",
              "      const buttonEl =\n",
              "        document.querySelector('#id_36d5d85a-332c-4889-a761-f5a00be2681b button.colab-df-generate');\n",
              "      buttonEl.style.display =\n",
              "        google.colab.kernel.accessAllowed ? 'block' : 'none';\n",
              "\n",
              "      buttonEl.onclick = () => {\n",
              "        google.colab.notebook.generateWithVariable('test_df');\n",
              "      }\n",
              "      })();\n",
              "    </script>\n",
              "  </div>\n",
              "\n",
              "    </div>\n",
              "  </div>\n"
            ],
            "application/vnd.google.colaboratory.intrinsic+json": {
              "type": "dataframe",
              "variable_name": "test_df",
              "summary": "{\n  \"name\": \"test_df\",\n  \"rows\": 10,\n  \"fields\": [\n    {\n      \"column\": \"question\",\n      \"properties\": {\n        \"dtype\": \"string\",\n        \"num_unique_values\": 10,\n        \"samples\": [\n          \"What is the impact of export control restrictions on AI-related products and which technologies and regions will be affected?\",\n          \"How does NVIDIA Corporation recognize revenue from license and development arrangements with customers?\",\n          \"How do export controls affect NVIDIA's business and what restrictions are imposed on their products and exports?\"\n        ],\n        \"semantic_type\": \"\",\n        \"description\": \"\"\n      }\n    },\n    {\n      \"column\": \"contexts\",\n      \"properties\": {\n        \"dtype\": \"object\",\n        \"semantic_type\": \"\",\n        \"description\": \"\"\n      }\n    },\n    {\n      \"column\": \"ground_truth\",\n      \"properties\": {\n        \"dtype\": \"string\",\n        \"num_unique_values\": 10,\n        \"samples\": [\n          \"Export control restrictions on AI-related products can negatively impact the ability to export technology, products, or services. These restrictions can limit the ability to serve demand abroad, impact manufacturing and warehousing locations, and create a competitive disadvantage. The focus of export control restrictions includes semiconductors associated with AI, such as GPUs. The United States has imposed unilateral controls, and additional controls are likely to be adopted. These controls can be broad in scope and application, and may restrict exports to certain markets, including China. The restrictions can disrupt the supply chain and distribution channels, negatively impacting the ability to serve demand in markets outside China. The possibility of additional export controls has also negatively impacted demand for AI-related products. Compliance burdens and changes in export control rules can further impact the business. The impact of export control restrictions extends to the ability of research and development teams to execute objectives, and can provoke responses from foreign governments. Regulators in China have inquired about sales and fulfillment commitments, which could result in penalties or restrictions. The USG has announced export restrictions and licensing requirements targeting China's semiconductor and supercomputing industries, impacting exports of certain chips and related technology. Licensing requirements also apply to future NVIDIA integrated circuits and certain networking products destined for China. New and updated licensing requirements have been announced for exports to China and certain countries, impacting products exceeding performance thresholds.\",\n          \"NVIDIA Corporation recognizes revenue from license and development arrangements with customers by treating them as a single performance obligation over the period in which the development services are performed. Progress to completion is measured based on actual cost incurred to date as a percentage of the estimated total cost required to complete each project. If a loss on an arrangement becomes probable during a period, a provision for such loss is recorded.\",\n          \"Export controls negatively impact NVIDIA's business by restricting their ability to export their products to certain markets, including China. These controls impose licensing requirements on certain chips, software, hardware, equipment, and technology used in the development, production, and manufacturing of chips. The restrictions also apply to networking products destined for specific end users and end uses in China. Additionally, the USG may impose further restrictions on NVIDIA's products, which could disrupt their supply chain and distribution channels and negatively impact their ability to serve demand. These controls create a competitive disadvantage for NVIDIA compared to competitors who are not subject to similar restrictions.\"\n        ],\n        \"semantic_type\": \"\",\n        \"description\": \"\"\n      }\n    },\n    {\n      \"column\": \"evolution_type\",\n      \"properties\": {\n        \"dtype\": \"category\",\n        \"num_unique_values\": 3,\n        \"samples\": [\n          \"simple\",\n          \"reasoning\",\n          \"multi_context\"\n        ],\n        \"semantic_type\": \"\",\n        \"description\": \"\"\n      }\n    },\n    {\n      \"column\": \"episode_done\",\n      \"properties\": {\n        \"dtype\": \"boolean\",\n        \"num_unique_values\": 1,\n        \"samples\": [\n          true\n        ],\n        \"semantic_type\": \"\",\n        \"description\": \"\"\n      }\n    }\n  ]\n}"
            }
          },
          "metadata": {},
          "execution_count": 44
        }
      ]
    },
    {
      "cell_type": "code",
      "source": [
        "test_questions = test_df[\"question\"].values.tolist()\n",
        "test_groundtruths = test_df[\"ground_truth\"].values.tolist()"
      ],
      "metadata": {
        "id": "xAiXbVmLYSoC"
      },
      "execution_count": 45,
      "outputs": []
    },
    {
      "cell_type": "markdown",
      "source": [
        "Now  generating responses using our RAG pipeline using the questions we've generated -  also need to collect our retrieved contexts for each question.\n"
      ],
      "metadata": {
        "id": "aE5rfMLfbqKH"
      }
    },
    {
      "cell_type": "code",
      "source": [
        "answers = []\n",
        "contexts = []\n",
        "\n",
        "for question in test_questions:\n",
        "  response = retrieval_augmented_qa_chain.invoke({\"question\" : question})\n",
        "  answers.append(response[\"response\"].content)\n",
        "  contexts.append([context.page_content for context in response[\"context\"]])"
      ],
      "metadata": {
        "id": "9_AayvT1dAQN"
      },
      "execution_count": 46,
      "outputs": []
    },
    {
      "cell_type": "markdown",
      "source": [
        "Wrapping our information in a Hugging Face dataset for use in the Ragas library."
      ],
      "metadata": {
        "id": "opHaHmYDeBfC"
      }
    },
    {
      "cell_type": "code",
      "source": [
        "from datasets import Dataset\n",
        "\n",
        "response_dataset = Dataset.from_dict({\n",
        "    \"question\" : test_questions,\n",
        "    \"answer\" : answers,\n",
        "    \"contexts\" : contexts,\n",
        "    \"ground_truth\" : test_groundtruths\n",
        "})"
      ],
      "metadata": {
        "id": "fY48YZITeHy-"
      },
      "execution_count": 47,
      "outputs": []
    },
    {
      "cell_type": "markdown",
      "source": [
        "Let's take a peek and see what that looks like!"
      ],
      "metadata": {
        "id": "mmeVvQaZeogE"
      }
    },
    {
      "cell_type": "code",
      "source": [
        "response_dataset[0]"
      ],
      "metadata": {
        "colab": {
          "base_uri": "https://localhost:8080/"
        },
        "id": "pOpydvc8eqNM",
        "outputId": "e6c6bc80-49d2-4f20-e1c2-8eda9651f905"
      },
      "execution_count": 48,
      "outputs": [
        {
          "output_type": "execute_result",
          "data": {
            "text/plain": [
              "{'question': 'What factors contribute to challenges in estimating demand and supply constraints?',\n",
              " 'answer': 'Factors that contribute to challenges in estimating demand and supply constraints include changes in product development cycles, competing technologies and competitor product releases, changes in business and economic conditions, sudden or sustained government lockdowns, rapidly changing technology or customer requirements, new product introductions and transitions, unexpected end-use cases, increase in demand for competitive products, business decisions made by third parties, government actions or changes in governmental policies, and geopolitical tensions.',\n",
              " 'contexts': ['Table of Contents\\ncommitments for capacity to address our business needs, or our long-term demand expectations may change. These risks may increase as we shorten our\\nproduct development cycles, enter new lines of business, or integrate new suppliers or components into our supply chain, creating additional supply chain\\ncomplexity. Additionally, our ability to sell certain products has been and could be impeded if components necessary for the finished products are not available\\nfrom third parties. This risk may increase as a result of our platform strategy. In periods of shortages impacting the semiconductor industry and/or limited supply\\nor capacity in our supply chain, the lead times on our orders may be extended. We have previously experienced and may continue to experience extended lead\\ntimes of more than 12 months. We have paid premiums and provided deposits to secure future supply and capacity, which have increased our product costs and\\nmay continue to do so. If our existing suppliers are unable to scale their capabilities to meet our supply needs, we may require additional sources of capacity,\\nwhich may require additional deposits. We may not have the ability to reduce our supply commitments at the same rate or at all if our revenue declines.\\nMany additional factors have caused and/or could in the future cause us to either underestimate or overestimate our customers’ future demand for our products,\\nor otherwise cause a mismatch between supply and demand for our products and impact the timing and volume of our revenue, including:\\n•\\nchanges in product development cycles and time to market;\\n•\\ncompeting technologies and competitor product releases and announcements;\\n•\\nchanges in business and economic conditions resulting in decreased end demand;\\n•\\nsudden or sustained government lockdowns or actions to control case spread of global or local health issues;\\n•\\nrapidly changing technology or customer requirements;\\n•\\nthe availability of sufficient data center capacity and energy for customers to procure;\\n•\\nnew product introductions and transitions resulting in less demand for existing products;\\n•\\nnew or unexpected end-use cases;\\n•\\nincrease in demand for competitive products, including competitive actions;\\n•\\nbusiness decisions made by third parties;\\n•\\nthe demand for accelerated or AI-related cloud services, including our own software and NVIDIA DGX Cloud services;\\n•\\nchanges that impact the ecosystem for the architectures underlying our products and technologies;\\n•\\nthe demand for our products; or\\n•\\ngovernment actions or changes in governmental policies, such as export controls or increased restrictions on gaming usage.\\nDemand for our data center systems and products surged in fiscal year 2024. Entering fiscal year 2025, we are gathering customer demand indications across\\nseveral product transitions. We have demand visibility for our new data center products ramping later in fiscal year 2025. We have increased our supply and\\ncapacity purchases with existing suppliers, added new vendors and entered into prepaid manufacturing and capacity agreements. These increased purchase\\nvolumes, the number of suppliers, and the integration of new vendors into our supply chain may create more complexity and execution risk. We may continue to\\nenter into new supplier and capacity arrangements. Our purchase commitments and obligations for inventory and manufacturing capacity at the end of fiscal\\nyear 2024 were impacted by shortening lead times for certain components. Supply of Hopper architecture products is improving, and demand remains very\\nstrong. We expect our next-generation products to be supply-constrained based upon demand indications. We may incur inventory provisions or impairments if\\nour inventory or supply or capacity commitments exceed demand for our products or demand declines.\\nOur customer orders and longer-term demand estimates may change or may not be correct, as we have experienced in the past. Product transitions are\\ncomplex and can impact our revenue as we often ship both new and prior architecture products simultaneously and we and our channel partners prepare to ship\\nand support new products. Due to our product introduction cycles, we are almost always in various stages of transitioning the architecture of our Data Center,\\nProfessional Visualization, and Gaming products. We will have a broader and faster Data Center product launch cadence to meet a growing and diverse set of AI\\nopportunities. The increased frequency of these transitions may magnify the challenges associated with managing our supply and demand due to long\\nmanufacturing lead times. Qualification time for new products, customers anticipating product transitions and channel partners reducing channel inventory of\\nprior architectures ahead of new product introductions can create reductions or volatility in our revenue. We have experienced and may in the future experience\\nreduced demand for current generation architectures when customers anticipate\\n16\\n',\n",
              "  \"Table of Contents\\ntransitions, and we may be unable to sell multiple product architectures at the same time for current and future architecture transitions. If we are unable to\\nexecute our architectural transitions as planned for any reason, our financial results may be negatively impacted. The increasing frequency and complexity of\\nnewly introduced products may result in unanticipated quality or production issues that could increase the magnitude of inventory provisions, warranty or other\\ncosts or result in product delays. Deployment of new products to customers creates additional challenges due to the complexity of our technologies, which has\\nimpacted and may in the future impact the timing of customer purchases or otherwise impact our demand. While we have managed prior product transitions and\\nhave previously sold multiple product architectures at the same time, these transitions are difficult, may impair our ability to predict demand and impact our\\nsupply mix, and we may incur additional costs.\\nMany end customers often do not purchase directly from us but instead purchase indirectly through multiple OEMs, ODMs, system integrators, distributors, and\\nother channel partners. As a result, the decisions made by our multiple OEMs, ODMs, system integrators, distributors, and other channel partners, and in\\nresponse to changing market conditions and changes in end-user demand for our products, have impacted and could in the future continue to impact our ability\\nto properly forecast demand, particularly as they are based on estimates provided by various downstream parties.\\nIf we underestimate our customers' future demand for our products, our foundry partners may not have adequate lead-time or capacity to increase production\\nand we may not be able to obtain sufficient inventory to fill orders on a timely basis. Even if we are able to increase supply to meet customer demand, we may\\nnot be able to do so in a timely manner, or our contract manufacturers may experience supply constraints. If we cannot procure sufficient supply to meet demand\\nor otherwise fail to fulfill our customers’ orders on a timely basis, or at all, our customer relationships could be damaged, we could lose revenue and market\\nshare and our reputation could be harmed. Additionally, since some of our products are part of a complex data center buildout, supply constraints or availability\\nissues with respect to any one component have had and may have a broader revenue impact.\\nIf we overestimate our customers’ future demand for our products, or if customers cancel or defer orders or choose to purchase from our competitors, we may\\nnot be able to reduce our inventory or other contractual purchase commitments. In the past, we have experienced a reduction in average selling prices, including\\ndue to channel pricing programs that we have implemented and may continue to implement, as a result of our overestimation of future demand, and we may\\nneed to continue these reductions. We have had to increase prices for certain of our products as a result of our suppliers’ increase in prices, and we may need to\\ncontinue to do so for other products in the future. We have also written down our inventory, incurred cancellation penalties, and recorded impairments and may\\nhave to do so in the future. These impacts were amplified by our placement of non-cancellable and non-returnable purchasing terms well in advance of our\\nhistorical lead times and could be exacerbated if we need to make changes to the design of future products. The risk of these impacts has increased and may\\ncontinue to increase as our purchase obligations and prepaids have grown and are expected to continue to grow and become a greater portion of our total\\nsupply. All of these factors may negatively impact our gross margins and financial results.\\nWe build technology and introduce products for new and innovative use cases and applications, such as NVIDIA DGX Cloud services, NVIDIA AI Foundations,\\nOmniverse platform, LLMs, and generative AI models. Our demand estimates for new use cases, applications, and services can be incorrect and create volatility\\nin our revenue or supply levels, and we may not be able to generate significant revenue from these use cases, applications, and services. Recent technologies,\\nsuch as generative AI models, have emerged, and while they have driven increased demand for Data Center, the long-term trajectory is unknown. Because our\\nproducts may be used in multiple use cases and applications, it is difficult for us to estimate with any reasonable degree of precision the impact of generative AI\\nmodels on our reported revenue or forecasted demand. Additionally, we started shipping our CPU product offerings, the Grace CPU and Grace Hopper\\nSuperchips, in the third quarter of fiscal year 2024. Our ability to adequately predict our CPU demand may create volatility in our revenue or supply levels.\\nChallenges in estimating demand could become more pronounced or volatile in the future on both a global and regional basis. Extended lead times may occur if\\nwe experience other supply constraints caused by natural disasters, pandemics or other events. In addition, geopolitical tensions, such as those involving Taiwan\\nand China, which comprise a significant portion of our revenue and where we have suppliers, contract manufacturers, and assembly partners who are critical to\\nour supply continuity, could have a material adverse impact on us.\\nThe use of our GPUs other than that for which they were designed and marketed, including new and unexpected use cases, has impacted and can in the future\\nimpact demand for our products, including by leading to inconsistent spikes and drops in demand. For example, several years ago, our Gaming GPUs began to\\nbe used for mining digital currencies, such as Ethereum. It is difficult for us to estimate with any reasonable degree of precision the past or current impact of\\ncryptocurrency mining, or forecast the future impact of cryptocurrency mining, on demand for our products. Volatility in the cryptocurrency market, including new\\ncompute technologies, price changes in cryptocurrencies, government cryptocurrency policies and regulations, new cryptocurrency standards and changes in\\nthe method of verifying blockchain transactions, has impacted and can in the future impact cryptocurrency mining and demand for our products and can further\\nimpact our ability to estimate demand for our products. Changes to cryptocurrency standards and processes including, but not limited to, the Ethereum 2.0\\nmerge in 2022, have reduced and may in the future decrease the usage of GPUs for Ethereum mining. This has created and may in the future create increased\\naftermarket sales of our\\n17\\n\",\n",
              "  'Table of Contents\\n•\\ndevelop or acquire new products and technologies through investments in research and development;\\n•\\nlaunch new offerings with new business models including software, services, and cloud solutions, as well as software-, infrastructure-, or platform-as-a-\\nservice solutions;\\n•\\nexpand the ecosystem for our products and technologies;\\n•\\nmeet evolving and prevailing customer and industry safety, security, reliability expectations, and compliance standards;\\n•\\nmanage product and software lifecycles to maintain customer and end-user satisfaction;\\n•\\ndevelop, acquire, maintain, and secure access to the internal and external infrastructure needed to scale our business, including sufficient energy for\\npowering data centers using our products, acquisition integrations, customer support, e-commerce, IP licensing capabilities and cloud service capacity;\\nand\\n•\\ncomplete technical, financial, operational, compliance, sales and marketing investments for the above activities.\\nWe have invested in research and development in markets where we have a limited operating history, which may not produce meaningful revenue for several\\nyears, if at all. If we fail to develop or monetize new products and technologies, or if they do not become widely adopted, our financial results could be adversely\\naffected. Obtaining design wins may involve a lengthy process and depends on our ability to anticipate and provide features and functionality that customers will\\ndemand. They also do not guarantee revenue. Failure to obtain a design win may prevent us from obtaining future design wins in subsequent generations. We\\ncannot ensure that the products and technologies we bring to market will provide value to our customers and partners. If we fail any of these key success\\ncriteria, our financial results may be harmed.\\nWe have begun offering enterprise customers NVIDIA DGX Cloud services directly and through our network of partners, which include cloud-based\\ninfrastructure, software and services for training and deploying AI models, and NVIDIA AI Foundations for customizable pretrained AI models. We have partnered\\nwith CSPs to host such software and services in their data centers, and we entered and may continue to enter into multi-year cloud service agreements to\\nsupport these offerings and our research and development activities. The timing and availability of these cloud services has changed and may continue to\\nchange, impacting our revenue, expenses, and development timelines. NVIDIA DGX Cloud services may not be successful and will take time, resources, and\\ninvestment. We also offer or plan to offer standalone software solutions, including NVIDIA AI Enterprise, NVIDIA Omniverse, NVIDIA DRIVE, and several other\\nsoftware solutions. These new business models or strategies may not be successful, and we may fail to sell any meaningful standalone software or services. We\\nmay incur significant costs and may not achieve any significant revenue from these offerings.\\nCompetition could adversely impact our market share and financial results.\\nOur target markets remain competitive, and competition may intensify with expanding and changing product and service offerings, industry standards, customer\\nneeds, new entrants and consolidations. Our competitors’ products, services and technologies, including those mentioned above in this Annual Report on Form\\n10-K, may be cheaper or provide better functionality or features than ours, which has resulted and may in the future result in lower-than-expected selling prices\\nfor our products. Some of our competitors operate their own fabrication facilities, and have longer operating histories, larger customer bases, more\\ncomprehensive IP portfolios and patent protections, more design wins, and greater financial, sales, marketing and distribution resources than we do. These\\ncompetitors may be able to acquire market share and/or prevent us from doing so, more effectively identify and capitalize upon opportunities in new markets and\\nend-user trends, more quickly transition their products, and impinge on our ability to procure sufficient foundry capacity and scarce input materials during a\\nsupply-constrained environment, which could harm our business. Some of our customers have in-house expertise and internal development capabilities similar\\nto some of ours and can use or develop their own solutions to replace those we are providing. For example, others may offer cloud-based services that compete\\nwith our AI cloud service offerings, and we may not be able to establish market share sufficient to achieve the scale necessary to meet our business objectives. If\\nwe are unable to successfully compete in this environment, demand for our products, services and technologies could decrease and we may not establish\\nmeaningful revenue.\\nRisks Related to Demand, Supply and Manufacturing\\nFailure to estimate customer demand accurately has led and could lead to mismatches between supply and demand.\\nWe use third parties to manufacture and assemble our products, and we have long manufacturing lead times. We are not provided guaranteed wafer, component\\nand capacity supply, and our supply deliveries and production may be non-linear within a quarter or year. If our estimates of customer demand are inaccurate, as\\nwe have experienced in the past, there could be a significant mismatch between supply and demand. This mismatch has resulted in both product shortages and\\nexcess inventory, has varied across our market platforms, and has significantly harmed our financial results.\\nWe build finished products and maintain inventory in advance of anticipated demand. While we have in the past entered and may in the future enter into long-\\nterm supply and capacity commitments, we may not be able to secure sufficient\\n15\\n',\n",
              "  'Table of Contents\\nGPUs, which could negatively impact retail prices for our GPUs and reduce demand for our new GPUs. In general, our new products or previously sold products\\nmay be resold online or on the unauthorized “gray market,” which also makes demand forecasting difficult. Gray market products and reseller marketplaces\\ncompete with our new products and distribution channels.\\nAdditionally, we depend on developers, customers and other third parties to build, enhance, and maintain accelerated computing applications that leverage our\\nplatforms. We also rely on third-party content providers and publishers to make their content available on our platforms, such as GeForce NOW. Failure by\\ndevelopers, customers, and other third parties to build, enhance, and maintain applications that leverage our platforms, or failure by third-party content providers\\nor publishers to make their content available on reasonable terms or at all for use by our customers or end users on our platforms, could adversely affect\\ncustomer demand.\\nDependency on third-party suppliers and their technology to manufacture, assemble, test, or package our products reduces our control over product\\nquantity and quality, manufacturing yields, and product delivery schedules and could harm our business.\\nWe depend on foundries to manufacture our semiconductor wafers using their fabrication equipment and techniques. We do not assemble, test, or package our\\nproducts, but instead contract with independent subcontractors. These subcontractors assist with procuring components used in our systems, boards, and\\nproducts. We face several risks which have adversely affected or could adversely affect our ability to meet customer demand and scale our supply chain,\\nnegatively impact longer-term demand for our products and services, and adversely affect our business operations, gross margin, revenue and/or financial\\nresults, including:\\n•\\nlack of guaranteed supply of wafer, component and capacity or decommitment and potential higher wafer and component prices, from incorrectly\\nestimating demand and failing to place orders with our suppliers with sufficient quantities or in a timely manner;\\n•\\nfailure by our foundries or contract manufacturers to procure raw materials or provide adequate levels of manufacturing or test capacity for our\\nproducts;\\n•\\nfailure by our foundries to develop, obtain or successfully implement high quality process technologies, including transitions to smaller geometry\\nprocess technologies such as advanced process node technologies and memory designs needed to manufacture our products;\\n•\\nfailure by our suppliers to comply with our policies and expectations and emerging regulatory requirements;\\n•\\nlimited number and geographic concentration of global suppliers, foundries, contract manufacturers, assembly and test providers and memory\\nmanufacturers;\\n•\\nloss of a supplier and additional expense and/or production delays as a result of qualifying a new foundry or subcontractor and commencing volume\\nproduction or testing in the event of a loss, addition or change of a supplier;\\n•\\nlack of direct control over product quantity, quality and delivery schedules;\\n•\\nsuppliers or their suppliers failing to supply high quality products and/or making changes to their products without our qualification;\\n•\\ndelays in product shipments, shortages, a decrease in product quality and/or higher expenses in the event our subcontractors or foundries prioritize our\\ncompetitors’ or other customers’ orders over ours;\\n•\\nrequirements to place orders that are not cancellable upon changes in demand or requirements to prepay for supply in advance;\\n•\\nlow manufacturing yields resulting from a failure in our product design or a foundry’s proprietary process technology; and\\n•\\ndisruptions in manufacturing, assembly and other processes due to closures related to heat waves, earthquakes, fires, or other natural disasters and\\nelectricity conservation efforts.\\nDefects in our products have caused and could cause us to incur significant expenses to remediate, which can damage our reputation and cause us\\nto lose market share.\\nOur hardware and software product and service offerings are complex. They have in the past and may in the future contain defects or security vulnerabilities or\\nexperience failures or unsatisfactory performance due to any number of issues in design, fabrication, packaging, materials, bugs and/or use within a system.\\nThese risks may increase as our products are introduced into new devices, markets, technologies and applications or as new versions are released. These risks\\nfurther increase when we rely on partners to supply and manufacture components that are used in our products, as these arrangements reduce our direct control\\nover production. AI software products we or our partners offer rely on\\n18\\n'],\n",
              " 'ground_truth': 'Factors that contribute to challenges in estimating demand and supply constraints include: the complexity of technological transitions, unanticipated quality or production issues, customer purchasing decisions made by downstream parties, underestimating or overestimating customer demand, cancellation or deferral of orders, competition from competitors, changes in average selling prices, inventory write-downs and impairments, non-cancellable and non-returnable purchasing terms, changes in technology and use cases, and geopolitical tensions.'}"
            ]
          },
          "metadata": {},
          "execution_count": 48
        }
      ]
    },
    {
      "cell_type": "markdown",
      "source": [
        "Importing Metrics"
      ],
      "metadata": {
        "id": "095PfUTkwMcF"
      }
    },
    {
      "cell_type": "code",
      "source": [
        "from ragas import evaluate\n",
        "from ragas.metrics import (\n",
        "    faithfulness,\n",
        "    answer_relevancy,\n",
        "    answer_correctness,\n",
        "    context_recall,\n",
        "    context_precision,\n",
        ")\n",
        "\n",
        "metrics = [\n",
        "    faithfulness,\n",
        "    answer_relevancy,\n",
        "    context_recall,\n",
        "    context_precision,\n",
        "    answer_correctness,\n",
        "]"
      ],
      "metadata": {
        "id": "R2PXwyt8e5aW"
      },
      "execution_count": 49,
      "outputs": []
    },
    {
      "cell_type": "markdown",
      "source": [
        "Evaluating the Results"
      ],
      "metadata": {
        "id": "Kx-vlsx_hrtV"
      }
    },
    {
      "cell_type": "code",
      "source": [
        "results = evaluate(response_dataset, metrics)"
      ],
      "metadata": {
        "colab": {
          "base_uri": "https://localhost:8080/",
          "height": 49,
          "referenced_widgets": [
            "d99030fef35e4e79b3a79b0a370004d0",
            "41f8d9dc222b46dba412a7565f160661",
            "52446aaa65b14a90a79fc04ec655d63c",
            "a438b2da66394a7687bb89ac99aa643b",
            "029032e22293467bb4cf9fdace26e078",
            "1d17eace46d7498a93ab712b957344a9",
            "4ac9040ec1c14122877166f7e12fe0d0",
            "2b1fbb2e11414f71a1edde9166063ba9",
            "63699c42a3bd474b8d0ab03798f83a22",
            "2c40285c0e0c4061b5d6c7d997d0b030",
            "34f8dfe9cfc04b51814ae94074406c72"
          ]
        },
        "id": "DhlcfJ4lgYVI",
        "outputId": "088cd849-f31c-42b0-be06-6e1a4903ab90"
      },
      "execution_count": 50,
      "outputs": [
        {
          "output_type": "display_data",
          "data": {
            "text/plain": [
              "Evaluating:   0%|          | 0/50 [00:00<?, ?it/s]"
            ],
            "application/vnd.jupyter.widget-view+json": {
              "version_major": 2,
              "version_minor": 0,
              "model_id": "d99030fef35e4e79b3a79b0a370004d0"
            }
          },
          "metadata": {}
        }
      ]
    },
    {
      "cell_type": "code",
      "source": [
        "results"
      ],
      "metadata": {
        "colab": {
          "base_uri": "https://localhost:8080/"
        },
        "id": "UqPArpSrgwDD",
        "outputId": "2660b9b4-e690-47db-ec5b-8290c3f83aa3"
      },
      "execution_count": 51,
      "outputs": [
        {
          "output_type": "execute_result",
          "data": {
            "text/plain": [
              "{'faithfulness': 1.0000, 'answer_relevancy': 0.9573, 'context_recall': 1.0000, 'context_precision': 0.9167, 'answer_correctness': 0.6621}"
            ]
          },
          "metadata": {},
          "execution_count": 51
        }
      ]
    },
    {
      "cell_type": "code",
      "source": [
        "results_df = results.to_pandas()\n",
        "results_df"
      ],
      "metadata": {
        "colab": {
          "base_uri": "https://localhost:8080/",
          "height": 710
        },
        "id": "2nsGzj8DhP9E",
        "outputId": "feef5a42-e187-4fdb-9fb8-18349948247a"
      },
      "execution_count": 52,
      "outputs": [
        {
          "output_type": "execute_result",
          "data": {
            "text/plain": [
              "                                            question  \\\n",
              "0  What factors contribute to challenges in estim...   \n",
              "1  How does NVIDIA Corporation recognize revenue ...   \n",
              "2  What is NVIDIA's role in developing AI systems...   \n",
              "3  How has GPU usage for mining impacted GPU dema...   \n",
              "4  What happens if the company doesn't comply wit...   \n",
              "5  How do export controls affect NVIDIA's busines...   \n",
              "6  What are the risks of cybersecurity threats an...   \n",
              "7  What factors are considered in determining imp...   \n",
              "8  What is the impact of export control restricti...   \n",
              "9  What are the potential legal challenges and ri...   \n",
              "\n",
              "                                              answer  \\\n",
              "0  Factors that contribute to challenges in estim...   \n",
              "1  NVIDIA Corporation recognizes revenue from lic...   \n",
              "2  NVIDIA is working with partners in the automot...   \n",
              "3  The GPU usage for mining, particularly in the ...   \n",
              "4  If the company does not comply with the Compen...   \n",
              "5  Export controls negatively impact NVIDIA's bus...   \n",
              "6  Cybersecurity threats and data breaches can di...   \n",
              "7  The factors considered in determining impairme...   \n",
              "8  The impact of export control restrictions on A...   \n",
              "9  The potential legal challenges and risks assoc...   \n",
              "\n",
              "                                            contexts  \\\n",
              "0  [Table of Contents\\ncommitments for capacity t...   \n",
              "1  [Table of Contents\\nNVIDIA Corporation and Sub...   \n",
              "2  [Table of Contents\\nWe are working with severa...   \n",
              "3  [Table of Contents\\ntransitions, and we may be...   \n",
              "4  [        \\nCOMPENSATION RECOVERY POLICY\\nLast ...   \n",
              "5  [Table of Contents\\nproducts, and it is likely...   \n",
              "6  [Table of Contents\\nAdverse developments affec...   \n",
              "7  [Table of Contents\\nNVIDIA Corporation and Sub...   \n",
              "8  [Table of Contents\\nRisks Related to Regulator...   \n",
              "9  [Table of Contents\\nregulator or other industr...   \n",
              "\n",
              "                                        ground_truth  faithfulness  \\\n",
              "0  Factors that contribute to challenges in estim...           1.0   \n",
              "1  NVIDIA Corporation recognizes revenue from lic...           NaN   \n",
              "2  NVIDIA is working with several partners in the...           1.0   \n",
              "3  The use of GPUs for mining digital currencies,...           1.0   \n",
              "4  If the company doesn't comply with the Compens...           1.0   \n",
              "5  Export controls negatively impact NVIDIA's bus...           1.0   \n",
              "6  Cybersecurity threats and data breaches can di...           NaN   \n",
              "7  Factors considered in determining impairment o...           NaN   \n",
              "8  Export control restrictions on AI-related prod...           1.0   \n",
              "9  Potential legal challenges and risks associate...           1.0   \n",
              "\n",
              "   answer_relevancy  context_recall  context_precision  answer_correctness  \n",
              "0          1.000000             1.0           1.000000            0.757737  \n",
              "1          0.995187             1.0           1.000000            0.528779  \n",
              "2          0.888655             1.0           1.000000            0.901275  \n",
              "3          0.944362             1.0           0.916667            0.614259  \n",
              "4          0.950184             1.0           1.000000            0.676882  \n",
              "5          0.948723             1.0           1.000000            0.389094  \n",
              "6          0.917397             1.0           1.000000            0.823040  \n",
              "7          0.972746             1.0           0.500000            0.805367  \n",
              "8          0.958810             1.0           1.000000            0.486112  \n",
              "9          0.997053             1.0           0.750000            0.638906  "
            ],
            "text/html": [
              "\n",
              "  <div id=\"df-4191706a-ab00-4f28-9e6e-286332ed0f29\" class=\"colab-df-container\">\n",
              "    <div>\n",
              "<style scoped>\n",
              "    .dataframe tbody tr th:only-of-type {\n",
              "        vertical-align: middle;\n",
              "    }\n",
              "\n",
              "    .dataframe tbody tr th {\n",
              "        vertical-align: top;\n",
              "    }\n",
              "\n",
              "    .dataframe thead th {\n",
              "        text-align: right;\n",
              "    }\n",
              "</style>\n",
              "<table border=\"1\" class=\"dataframe\">\n",
              "  <thead>\n",
              "    <tr style=\"text-align: right;\">\n",
              "      <th></th>\n",
              "      <th>question</th>\n",
              "      <th>answer</th>\n",
              "      <th>contexts</th>\n",
              "      <th>ground_truth</th>\n",
              "      <th>faithfulness</th>\n",
              "      <th>answer_relevancy</th>\n",
              "      <th>context_recall</th>\n",
              "      <th>context_precision</th>\n",
              "      <th>answer_correctness</th>\n",
              "    </tr>\n",
              "  </thead>\n",
              "  <tbody>\n",
              "    <tr>\n",
              "      <th>0</th>\n",
              "      <td>What factors contribute to challenges in estim...</td>\n",
              "      <td>Factors that contribute to challenges in estim...</td>\n",
              "      <td>[Table of Contents\\ncommitments for capacity t...</td>\n",
              "      <td>Factors that contribute to challenges in estim...</td>\n",
              "      <td>1.0</td>\n",
              "      <td>1.000000</td>\n",
              "      <td>1.0</td>\n",
              "      <td>1.000000</td>\n",
              "      <td>0.757737</td>\n",
              "    </tr>\n",
              "    <tr>\n",
              "      <th>1</th>\n",
              "      <td>How does NVIDIA Corporation recognize revenue ...</td>\n",
              "      <td>NVIDIA Corporation recognizes revenue from lic...</td>\n",
              "      <td>[Table of Contents\\nNVIDIA Corporation and Sub...</td>\n",
              "      <td>NVIDIA Corporation recognizes revenue from lic...</td>\n",
              "      <td>NaN</td>\n",
              "      <td>0.995187</td>\n",
              "      <td>1.0</td>\n",
              "      <td>1.000000</td>\n",
              "      <td>0.528779</td>\n",
              "    </tr>\n",
              "    <tr>\n",
              "      <th>2</th>\n",
              "      <td>What is NVIDIA's role in developing AI systems...</td>\n",
              "      <td>NVIDIA is working with partners in the automot...</td>\n",
              "      <td>[Table of Contents\\nWe are working with severa...</td>\n",
              "      <td>NVIDIA is working with several partners in the...</td>\n",
              "      <td>1.0</td>\n",
              "      <td>0.888655</td>\n",
              "      <td>1.0</td>\n",
              "      <td>1.000000</td>\n",
              "      <td>0.901275</td>\n",
              "    </tr>\n",
              "    <tr>\n",
              "      <th>3</th>\n",
              "      <td>How has GPU usage for mining impacted GPU dema...</td>\n",
              "      <td>The GPU usage for mining, particularly in the ...</td>\n",
              "      <td>[Table of Contents\\ntransitions, and we may be...</td>\n",
              "      <td>The use of GPUs for mining digital currencies,...</td>\n",
              "      <td>1.0</td>\n",
              "      <td>0.944362</td>\n",
              "      <td>1.0</td>\n",
              "      <td>0.916667</td>\n",
              "      <td>0.614259</td>\n",
              "    </tr>\n",
              "    <tr>\n",
              "      <th>4</th>\n",
              "      <td>What happens if the company doesn't comply wit...</td>\n",
              "      <td>If the company does not comply with the Compen...</td>\n",
              "      <td>[        \\nCOMPENSATION RECOVERY POLICY\\nLast ...</td>\n",
              "      <td>If the company doesn't comply with the Compens...</td>\n",
              "      <td>1.0</td>\n",
              "      <td>0.950184</td>\n",
              "      <td>1.0</td>\n",
              "      <td>1.000000</td>\n",
              "      <td>0.676882</td>\n",
              "    </tr>\n",
              "    <tr>\n",
              "      <th>5</th>\n",
              "      <td>How do export controls affect NVIDIA's busines...</td>\n",
              "      <td>Export controls negatively impact NVIDIA's bus...</td>\n",
              "      <td>[Table of Contents\\nproducts, and it is likely...</td>\n",
              "      <td>Export controls negatively impact NVIDIA's bus...</td>\n",
              "      <td>1.0</td>\n",
              "      <td>0.948723</td>\n",
              "      <td>1.0</td>\n",
              "      <td>1.000000</td>\n",
              "      <td>0.389094</td>\n",
              "    </tr>\n",
              "    <tr>\n",
              "      <th>6</th>\n",
              "      <td>What are the risks of cybersecurity threats an...</td>\n",
              "      <td>Cybersecurity threats and data breaches can di...</td>\n",
              "      <td>[Table of Contents\\nAdverse developments affec...</td>\n",
              "      <td>Cybersecurity threats and data breaches can di...</td>\n",
              "      <td>NaN</td>\n",
              "      <td>0.917397</td>\n",
              "      <td>1.0</td>\n",
              "      <td>1.000000</td>\n",
              "      <td>0.823040</td>\n",
              "    </tr>\n",
              "    <tr>\n",
              "      <th>7</th>\n",
              "      <td>What factors are considered in determining imp...</td>\n",
              "      <td>The factors considered in determining impairme...</td>\n",
              "      <td>[Table of Contents\\nNVIDIA Corporation and Sub...</td>\n",
              "      <td>Factors considered in determining impairment o...</td>\n",
              "      <td>NaN</td>\n",
              "      <td>0.972746</td>\n",
              "      <td>1.0</td>\n",
              "      <td>0.500000</td>\n",
              "      <td>0.805367</td>\n",
              "    </tr>\n",
              "    <tr>\n",
              "      <th>8</th>\n",
              "      <td>What is the impact of export control restricti...</td>\n",
              "      <td>The impact of export control restrictions on A...</td>\n",
              "      <td>[Table of Contents\\nRisks Related to Regulator...</td>\n",
              "      <td>Export control restrictions on AI-related prod...</td>\n",
              "      <td>1.0</td>\n",
              "      <td>0.958810</td>\n",
              "      <td>1.0</td>\n",
              "      <td>1.000000</td>\n",
              "      <td>0.486112</td>\n",
              "    </tr>\n",
              "    <tr>\n",
              "      <th>9</th>\n",
              "      <td>What are the potential legal challenges and ri...</td>\n",
              "      <td>The potential legal challenges and risks assoc...</td>\n",
              "      <td>[Table of Contents\\nregulator or other industr...</td>\n",
              "      <td>Potential legal challenges and risks associate...</td>\n",
              "      <td>1.0</td>\n",
              "      <td>0.997053</td>\n",
              "      <td>1.0</td>\n",
              "      <td>0.750000</td>\n",
              "      <td>0.638906</td>\n",
              "    </tr>\n",
              "  </tbody>\n",
              "</table>\n",
              "</div>\n",
              "    <div class=\"colab-df-buttons\">\n",
              "\n",
              "  <div class=\"colab-df-container\">\n",
              "    <button class=\"colab-df-convert\" onclick=\"convertToInteractive('df-4191706a-ab00-4f28-9e6e-286332ed0f29')\"\n",
              "            title=\"Convert this dataframe to an interactive table.\"\n",
              "            style=\"display:none;\">\n",
              "\n",
              "  <svg xmlns=\"http://www.w3.org/2000/svg\" height=\"24px\" viewBox=\"0 -960 960 960\">\n",
              "    <path d=\"M120-120v-720h720v720H120Zm60-500h600v-160H180v160Zm220 220h160v-160H400v160Zm0 220h160v-160H400v160ZM180-400h160v-160H180v160Zm440 0h160v-160H620v160ZM180-180h160v-160H180v160Zm440 0h160v-160H620v160Z\"/>\n",
              "  </svg>\n",
              "    </button>\n",
              "\n",
              "  <style>\n",
              "    .colab-df-container {\n",
              "      display:flex;\n",
              "      gap: 12px;\n",
              "    }\n",
              "\n",
              "    .colab-df-convert {\n",
              "      background-color: #E8F0FE;\n",
              "      border: none;\n",
              "      border-radius: 50%;\n",
              "      cursor: pointer;\n",
              "      display: none;\n",
              "      fill: #1967D2;\n",
              "      height: 32px;\n",
              "      padding: 0 0 0 0;\n",
              "      width: 32px;\n",
              "    }\n",
              "\n",
              "    .colab-df-convert:hover {\n",
              "      background-color: #E2EBFA;\n",
              "      box-shadow: 0px 1px 2px rgba(60, 64, 67, 0.3), 0px 1px 3px 1px rgba(60, 64, 67, 0.15);\n",
              "      fill: #174EA6;\n",
              "    }\n",
              "\n",
              "    .colab-df-buttons div {\n",
              "      margin-bottom: 4px;\n",
              "    }\n",
              "\n",
              "    [theme=dark] .colab-df-convert {\n",
              "      background-color: #3B4455;\n",
              "      fill: #D2E3FC;\n",
              "    }\n",
              "\n",
              "    [theme=dark] .colab-df-convert:hover {\n",
              "      background-color: #434B5C;\n",
              "      box-shadow: 0px 1px 3px 1px rgba(0, 0, 0, 0.15);\n",
              "      filter: drop-shadow(0px 1px 2px rgba(0, 0, 0, 0.3));\n",
              "      fill: #FFFFFF;\n",
              "    }\n",
              "  </style>\n",
              "\n",
              "    <script>\n",
              "      const buttonEl =\n",
              "        document.querySelector('#df-4191706a-ab00-4f28-9e6e-286332ed0f29 button.colab-df-convert');\n",
              "      buttonEl.style.display =\n",
              "        google.colab.kernel.accessAllowed ? 'block' : 'none';\n",
              "\n",
              "      async function convertToInteractive(key) {\n",
              "        const element = document.querySelector('#df-4191706a-ab00-4f28-9e6e-286332ed0f29');\n",
              "        const dataTable =\n",
              "          await google.colab.kernel.invokeFunction('convertToInteractive',\n",
              "                                                    [key], {});\n",
              "        if (!dataTable) return;\n",
              "\n",
              "        const docLinkHtml = 'Like what you see? Visit the ' +\n",
              "          '<a target=\"_blank\" href=https://colab.research.google.com/notebooks/data_table.ipynb>data table notebook</a>'\n",
              "          + ' to learn more about interactive tables.';\n",
              "        element.innerHTML = '';\n",
              "        dataTable['output_type'] = 'display_data';\n",
              "        await google.colab.output.renderOutput(dataTable, element);\n",
              "        const docLink = document.createElement('div');\n",
              "        docLink.innerHTML = docLinkHtml;\n",
              "        element.appendChild(docLink);\n",
              "      }\n",
              "    </script>\n",
              "  </div>\n",
              "\n",
              "\n",
              "<div id=\"df-d324ae1c-7868-496f-a745-995449a27763\">\n",
              "  <button class=\"colab-df-quickchart\" onclick=\"quickchart('df-d324ae1c-7868-496f-a745-995449a27763')\"\n",
              "            title=\"Suggest charts\"\n",
              "            style=\"display:none;\">\n",
              "\n",
              "<svg xmlns=\"http://www.w3.org/2000/svg\" height=\"24px\"viewBox=\"0 0 24 24\"\n",
              "     width=\"24px\">\n",
              "    <g>\n",
              "        <path d=\"M19 3H5c-1.1 0-2 .9-2 2v14c0 1.1.9 2 2 2h14c1.1 0 2-.9 2-2V5c0-1.1-.9-2-2-2zM9 17H7v-7h2v7zm4 0h-2V7h2v10zm4 0h-2v-4h2v4z\"/>\n",
              "    </g>\n",
              "</svg>\n",
              "  </button>\n",
              "\n",
              "<style>\n",
              "  .colab-df-quickchart {\n",
              "      --bg-color: #E8F0FE;\n",
              "      --fill-color: #1967D2;\n",
              "      --hover-bg-color: #E2EBFA;\n",
              "      --hover-fill-color: #174EA6;\n",
              "      --disabled-fill-color: #AAA;\n",
              "      --disabled-bg-color: #DDD;\n",
              "  }\n",
              "\n",
              "  [theme=dark] .colab-df-quickchart {\n",
              "      --bg-color: #3B4455;\n",
              "      --fill-color: #D2E3FC;\n",
              "      --hover-bg-color: #434B5C;\n",
              "      --hover-fill-color: #FFFFFF;\n",
              "      --disabled-bg-color: #3B4455;\n",
              "      --disabled-fill-color: #666;\n",
              "  }\n",
              "\n",
              "  .colab-df-quickchart {\n",
              "    background-color: var(--bg-color);\n",
              "    border: none;\n",
              "    border-radius: 50%;\n",
              "    cursor: pointer;\n",
              "    display: none;\n",
              "    fill: var(--fill-color);\n",
              "    height: 32px;\n",
              "    padding: 0;\n",
              "    width: 32px;\n",
              "  }\n",
              "\n",
              "  .colab-df-quickchart:hover {\n",
              "    background-color: var(--hover-bg-color);\n",
              "    box-shadow: 0 1px 2px rgba(60, 64, 67, 0.3), 0 1px 3px 1px rgba(60, 64, 67, 0.15);\n",
              "    fill: var(--button-hover-fill-color);\n",
              "  }\n",
              "\n",
              "  .colab-df-quickchart-complete:disabled,\n",
              "  .colab-df-quickchart-complete:disabled:hover {\n",
              "    background-color: var(--disabled-bg-color);\n",
              "    fill: var(--disabled-fill-color);\n",
              "    box-shadow: none;\n",
              "  }\n",
              "\n",
              "  .colab-df-spinner {\n",
              "    border: 2px solid var(--fill-color);\n",
              "    border-color: transparent;\n",
              "    border-bottom-color: var(--fill-color);\n",
              "    animation:\n",
              "      spin 1s steps(1) infinite;\n",
              "  }\n",
              "\n",
              "  @keyframes spin {\n",
              "    0% {\n",
              "      border-color: transparent;\n",
              "      border-bottom-color: var(--fill-color);\n",
              "      border-left-color: var(--fill-color);\n",
              "    }\n",
              "    20% {\n",
              "      border-color: transparent;\n",
              "      border-left-color: var(--fill-color);\n",
              "      border-top-color: var(--fill-color);\n",
              "    }\n",
              "    30% {\n",
              "      border-color: transparent;\n",
              "      border-left-color: var(--fill-color);\n",
              "      border-top-color: var(--fill-color);\n",
              "      border-right-color: var(--fill-color);\n",
              "    }\n",
              "    40% {\n",
              "      border-color: transparent;\n",
              "      border-right-color: var(--fill-color);\n",
              "      border-top-color: var(--fill-color);\n",
              "    }\n",
              "    60% {\n",
              "      border-color: transparent;\n",
              "      border-right-color: var(--fill-color);\n",
              "    }\n",
              "    80% {\n",
              "      border-color: transparent;\n",
              "      border-right-color: var(--fill-color);\n",
              "      border-bottom-color: var(--fill-color);\n",
              "    }\n",
              "    90% {\n",
              "      border-color: transparent;\n",
              "      border-bottom-color: var(--fill-color);\n",
              "    }\n",
              "  }\n",
              "</style>\n",
              "\n",
              "  <script>\n",
              "    async function quickchart(key) {\n",
              "      const quickchartButtonEl =\n",
              "        document.querySelector('#' + key + ' button');\n",
              "      quickchartButtonEl.disabled = true;  // To prevent multiple clicks.\n",
              "      quickchartButtonEl.classList.add('colab-df-spinner');\n",
              "      try {\n",
              "        const charts = await google.colab.kernel.invokeFunction(\n",
              "            'suggestCharts', [key], {});\n",
              "      } catch (error) {\n",
              "        console.error('Error during call to suggestCharts:', error);\n",
              "      }\n",
              "      quickchartButtonEl.classList.remove('colab-df-spinner');\n",
              "      quickchartButtonEl.classList.add('colab-df-quickchart-complete');\n",
              "    }\n",
              "    (() => {\n",
              "      let quickchartButtonEl =\n",
              "        document.querySelector('#df-d324ae1c-7868-496f-a745-995449a27763 button');\n",
              "      quickchartButtonEl.style.display =\n",
              "        google.colab.kernel.accessAllowed ? 'block' : 'none';\n",
              "    })();\n",
              "  </script>\n",
              "</div>\n",
              "\n",
              "  <div id=\"id_39d9ced8-4e89-4eac-85c4-71bfcdc0b03e\">\n",
              "    <style>\n",
              "      .colab-df-generate {\n",
              "        background-color: #E8F0FE;\n",
              "        border: none;\n",
              "        border-radius: 50%;\n",
              "        cursor: pointer;\n",
              "        display: none;\n",
              "        fill: #1967D2;\n",
              "        height: 32px;\n",
              "        padding: 0 0 0 0;\n",
              "        width: 32px;\n",
              "      }\n",
              "\n",
              "      .colab-df-generate:hover {\n",
              "        background-color: #E2EBFA;\n",
              "        box-shadow: 0px 1px 2px rgba(60, 64, 67, 0.3), 0px 1px 3px 1px rgba(60, 64, 67, 0.15);\n",
              "        fill: #174EA6;\n",
              "      }\n",
              "\n",
              "      [theme=dark] .colab-df-generate {\n",
              "        background-color: #3B4455;\n",
              "        fill: #D2E3FC;\n",
              "      }\n",
              "\n",
              "      [theme=dark] .colab-df-generate:hover {\n",
              "        background-color: #434B5C;\n",
              "        box-shadow: 0px 1px 3px 1px rgba(0, 0, 0, 0.15);\n",
              "        filter: drop-shadow(0px 1px 2px rgba(0, 0, 0, 0.3));\n",
              "        fill: #FFFFFF;\n",
              "      }\n",
              "    </style>\n",
              "    <button class=\"colab-df-generate\" onclick=\"generateWithVariable('results_df')\"\n",
              "            title=\"Generate code using this dataframe.\"\n",
              "            style=\"display:none;\">\n",
              "\n",
              "  <svg xmlns=\"http://www.w3.org/2000/svg\" height=\"24px\"viewBox=\"0 0 24 24\"\n",
              "       width=\"24px\">\n",
              "    <path d=\"M7,19H8.4L18.45,9,17,7.55,7,17.6ZM5,21V16.75L18.45,3.32a2,2,0,0,1,2.83,0l1.4,1.43a1.91,1.91,0,0,1,.58,1.4,1.91,1.91,0,0,1-.58,1.4L9.25,21ZM18.45,9,17,7.55Zm-12,3A5.31,5.31,0,0,0,4.9,8.1,5.31,5.31,0,0,0,1,6.5,5.31,5.31,0,0,0,4.9,4.9,5.31,5.31,0,0,0,6.5,1,5.31,5.31,0,0,0,8.1,4.9,5.31,5.31,0,0,0,12,6.5,5.46,5.46,0,0,0,6.5,12Z\"/>\n",
              "  </svg>\n",
              "    </button>\n",
              "    <script>\n",
              "      (() => {\n",
              "      const buttonEl =\n",
              "        document.querySelector('#id_39d9ced8-4e89-4eac-85c4-71bfcdc0b03e button.colab-df-generate');\n",
              "      buttonEl.style.display =\n",
              "        google.colab.kernel.accessAllowed ? 'block' : 'none';\n",
              "\n",
              "      buttonEl.onclick = () => {\n",
              "        google.colab.notebook.generateWithVariable('results_df');\n",
              "      }\n",
              "      })();\n",
              "    </script>\n",
              "  </div>\n",
              "\n",
              "    </div>\n",
              "  </div>\n"
            ],
            "application/vnd.google.colaboratory.intrinsic+json": {
              "type": "dataframe",
              "variable_name": "results_df",
              "summary": "{\n  \"name\": \"results_df\",\n  \"rows\": 10,\n  \"fields\": [\n    {\n      \"column\": \"question\",\n      \"properties\": {\n        \"dtype\": \"string\",\n        \"num_unique_values\": 10,\n        \"samples\": [\n          \"What is the impact of export control restrictions on AI-related products and which technologies and regions will be affected?\",\n          \"How does NVIDIA Corporation recognize revenue from license and development arrangements with customers?\",\n          \"How do export controls affect NVIDIA's business and what restrictions are imposed on their products and exports?\"\n        ],\n        \"semantic_type\": \"\",\n        \"description\": \"\"\n      }\n    },\n    {\n      \"column\": \"answer\",\n      \"properties\": {\n        \"dtype\": \"string\",\n        \"num_unique_values\": 10,\n        \"samples\": [\n          \"The impact of export control restrictions on AI-related products includes limiting the ability to export technology, products, or services, disrupting the supply chain, negatively impacting sales, and creating a competitive disadvantage. The technologies affected include GPUs and semiconductors associated with AI. The regions that will be affected include China, Russia, certain countries in the Middle East, and other markets outside China.\",\n          \"NVIDIA Corporation recognizes revenue from license and development arrangements with customers over the period in which the development services are performed.\",\n          \"Export controls negatively impact NVIDIA's business by restricting their ability to export technology, products, or services, which creates a competitive disadvantage. The restrictions imposed include licensing requirements for certain products like A100, A800, H100, H800, L4, L40, L40S, and RTX 4090 to specific countries and regions, such as China, Saudi Arabia, the United Arab Emirates, and Vietnam. Additionally, there are restrictions on the export of products exceeding certain performance thresholds to parties headquartered in specific countries. These controls impact NVIDIA's supply chain, distribution channels, and ability to serve demand in various markets.\"\n        ],\n        \"semantic_type\": \"\",\n        \"description\": \"\"\n      }\n    },\n    {\n      \"column\": \"contexts\",\n      \"properties\": {\n        \"dtype\": \"object\",\n        \"semantic_type\": \"\",\n        \"description\": \"\"\n      }\n    },\n    {\n      \"column\": \"ground_truth\",\n      \"properties\": {\n        \"dtype\": \"string\",\n        \"num_unique_values\": 10,\n        \"samples\": [\n          \"Export control restrictions on AI-related products can negatively impact the ability to export technology, products, or services. These restrictions can limit the ability to serve demand abroad, impact manufacturing and warehousing locations, and create a competitive disadvantage. The focus of export control restrictions includes semiconductors associated with AI, such as GPUs. The United States has imposed unilateral controls, and additional controls are likely to be adopted. These controls can be broad in scope and application, and may restrict exports to certain markets, including China. The restrictions can disrupt the supply chain and distribution channels, negatively impacting the ability to serve demand in markets outside China. The possibility of additional export controls has also negatively impacted demand for AI-related products. Compliance burdens and changes in export control rules can further impact the business. The impact of export control restrictions extends to the ability of research and development teams to execute objectives, and can provoke responses from foreign governments. Regulators in China have inquired about sales and fulfillment commitments, which could result in penalties or restrictions. The USG has announced export restrictions and licensing requirements targeting China's semiconductor and supercomputing industries, impacting exports of certain chips and related technology. Licensing requirements also apply to future NVIDIA integrated circuits and certain networking products destined for China. New and updated licensing requirements have been announced for exports to China and certain countries, impacting products exceeding performance thresholds.\",\n          \"NVIDIA Corporation recognizes revenue from license and development arrangements with customers by treating them as a single performance obligation over the period in which the development services are performed. Progress to completion is measured based on actual cost incurred to date as a percentage of the estimated total cost required to complete each project. If a loss on an arrangement becomes probable during a period, a provision for such loss is recorded.\",\n          \"Export controls negatively impact NVIDIA's business by restricting their ability to export their products to certain markets, including China. These controls impose licensing requirements on certain chips, software, hardware, equipment, and technology used in the development, production, and manufacturing of chips. The restrictions also apply to networking products destined for specific end users and end uses in China. Additionally, the USG may impose further restrictions on NVIDIA's products, which could disrupt their supply chain and distribution channels and negatively impact their ability to serve demand. These controls create a competitive disadvantage for NVIDIA compared to competitors who are not subject to similar restrictions.\"\n        ],\n        \"semantic_type\": \"\",\n        \"description\": \"\"\n      }\n    },\n    {\n      \"column\": \"faithfulness\",\n      \"properties\": {\n        \"dtype\": \"number\",\n        \"std\": 0.0,\n        \"min\": 1.0,\n        \"max\": 1.0,\n        \"num_unique_values\": 1,\n        \"samples\": [\n          1.0\n        ],\n        \"semantic_type\": \"\",\n        \"description\": \"\"\n      }\n    },\n    {\n      \"column\": \"answer_relevancy\",\n      \"properties\": {\n        \"dtype\": \"number\",\n        \"std\": 0.03601837323728029,\n        \"min\": 0.8886548026392659,\n        \"max\": 0.9999999999999992,\n        \"num_unique_values\": 10,\n        \"samples\": [\n          0.9588103588636422\n        ],\n        \"semantic_type\": \"\",\n        \"description\": \"\"\n      }\n    },\n    {\n      \"column\": \"context_recall\",\n      \"properties\": {\n        \"dtype\": \"number\",\n        \"std\": 0.0,\n        \"min\": 1.0,\n        \"max\": 1.0,\n        \"num_unique_values\": 1,\n        \"samples\": [\n          1.0\n        ],\n        \"semantic_type\": \"\",\n        \"description\": \"\"\n      }\n    },\n    {\n      \"column\": \"context_precision\",\n      \"properties\": {\n        \"dtype\": \"number\",\n        \"std\": 0.16666666667453703,\n        \"min\": 0.49999999995,\n        \"max\": 0.999999999975,\n        \"num_unique_values\": 5,\n        \"samples\": [\n          0.9999999999666667\n        ],\n        \"semantic_type\": \"\",\n        \"description\": \"\"\n      }\n    },\n    {\n      \"column\": \"answer_correctness\",\n      \"properties\": {\n        \"dtype\": \"number\",\n        \"std\": 0.16299338430031318,\n        \"min\": 0.3890943923960261,\n        \"max\": 0.9012752756451303,\n        \"num_unique_values\": 10,\n        \"samples\": [\n          0.48611239042802906\n        ],\n        \"semantic_type\": \"\",\n        \"description\": \"\"\n      }\n    }\n  ]\n}"
            }
          },
          "metadata": {},
          "execution_count": 52
        }
      ]
    },
    {
      "cell_type": "markdown",
      "source": [
        "## Task 3: Making Adjustments to our RAG Pipeline\n",
        "\n",
        "Using the multi-query retiever to see if it improves any of the metrics."
      ],
      "metadata": {
        "id": "MWfiu_pLh3JL"
      }
    },
    {
      "cell_type": "code",
      "source": [
        "from langchain.retrievers import MultiQueryRetriever\n",
        "\n",
        "advanced_retriever = MultiQueryRetriever.from_llm(retriever=retriever, llm=primary_qa_llm)"
      ],
      "metadata": {
        "id": "nKIuM336isBL"
      },
      "execution_count": 53,
      "outputs": []
    },
    {
      "cell_type": "markdown",
      "source": [
        "We'll also re-create our RAG pipeline:"
      ],
      "metadata": {
        "id": "82rcj3L-i_c8"
      }
    },
    {
      "cell_type": "code",
      "source": [
        "from langchain.chains.combine_documents import create_stuff_documents_chain\n",
        "\n",
        "document_chain = create_stuff_documents_chain(primary_qa_llm, retrieval_qa_prompt)"
      ],
      "metadata": {
        "id": "EfdCgTw7jC4i"
      },
      "execution_count": 54,
      "outputs": []
    },
    {
      "cell_type": "markdown",
      "source": [
        "Retrieval chain:\n"
      ],
      "metadata": {
        "id": "ozYl5WdPnvLu"
      }
    },
    {
      "cell_type": "code",
      "source": [
        "from langchain.chains import create_retrieval_chain\n",
        "\n",
        "retrieval_chain = create_retrieval_chain(advanced_retriever, document_chain)"
      ],
      "metadata": {
        "id": "9AK7wHVnn0U3"
      },
      "execution_count": 55,
      "outputs": []
    },
    {
      "cell_type": "code",
      "source": [
        "response = retrieval_chain.invoke({\"input\": \"Who is the E-VP, Operations - and how old are they?\"})"
      ],
      "metadata": {
        "id": "cmKORMfMoCjL"
      },
      "execution_count": 56,
      "outputs": []
    },
    {
      "cell_type": "code",
      "source": [
        "print(response[\"answer\"])"
      ],
      "metadata": {
        "colab": {
          "base_uri": "https://localhost:8080/"
        },
        "id": "ICMsUWbWoOpf",
        "outputId": "a83b4746-db10-4279-9999-ee5d24d77c23"
      },
      "execution_count": 57,
      "outputs": [
        {
          "output_type": "stream",
          "name": "stdout",
          "text": [
            "Debora Shoquist is the Executive Vice President of Operations, and she is 69 years old.\n"
          ]
        }
      ]
    },
    {
      "cell_type": "code",
      "source": [
        "response = retrieval_chain.invoke({\"input\": \"What is the gross carrying amount of Total Amortizable Intangible Assets for Jan 29, 2023?\"})"
      ],
      "metadata": {
        "id": "5s8ZGasYoVi6"
      },
      "execution_count": 58,
      "outputs": []
    },
    {
      "cell_type": "code",
      "source": [
        "print(response[\"answer\"])"
      ],
      "metadata": {
        "colab": {
          "base_uri": "https://localhost:8080/"
        },
        "id": "ADNCdW4hoYT8",
        "outputId": "994287e1-eef2-41ed-f59c-f150a563dd99"
      },
      "execution_count": 59,
      "outputs": [
        {
          "output_type": "stream",
          "name": "stdout",
          "text": [
            "The gross carrying amount of Total Amortizable Intangible Assets for Jan 29, 2023, is $3,539 million.\n"
          ]
        }
      ]
    },
    {
      "cell_type": "code",
      "source": [
        "answers = []\n",
        "contexts = []\n",
        "\n",
        "for question in test_questions:\n",
        "  response = retrieval_chain.invoke({\"input\" : question})\n",
        "  answers.append(response[\"answer\"])\n",
        "  contexts.append([context.page_content for context in response[\"context\"]])"
      ],
      "metadata": {
        "id": "kO8cWxn2oinT"
      },
      "execution_count": 60,
      "outputs": []
    },
    {
      "cell_type": "markdown",
      "source": [
        "Now we can convert this into a dataset, just like we did before."
      ],
      "metadata": {
        "id": "tgagfhPUtM2j"
      }
    },
    {
      "cell_type": "code",
      "source": [
        "response_dataset_advanced_retrieval = Dataset.from_dict({\n",
        "    \"question\" : test_questions,\n",
        "    \"answer\" : answers,\n",
        "    \"contexts\" : contexts,\n",
        "    \"ground_truth\" : test_groundtruths\n",
        "})"
      ],
      "metadata": {
        "id": "5FcllGeSovP8"
      },
      "execution_count": 61,
      "outputs": []
    },
    {
      "cell_type": "markdown",
      "source": [
        "Let's evaluate on the same metrics we did for the first pipeline and see how it does!"
      ],
      "metadata": {
        "id": "dELYabwktR2C"
      }
    },
    {
      "cell_type": "code",
      "source": [
        "advanced_retrieval_results = evaluate(response_dataset_advanced_retrieval, metrics)"
      ],
      "metadata": {
        "colab": {
          "base_uri": "https://localhost:8080/",
          "height": 49,
          "referenced_widgets": [
            "bef5bb0acc7444c28d518a3d5d102106",
            "c7431d63759b402c81c5433c198dfd05",
            "d78ae0b43ee24a47a5e709c553128fc7",
            "e0832e9b7dc84137b9875b279e29e881",
            "66474758680a484480a47898cae6818c",
            "81a1fd602e7e4957bafc19974d2b868b",
            "d16832e5abec46d4924f2b6321d5dd03",
            "0461c0045e5a4b138e633de11c93dec3",
            "a601463d3d234dbdb65e007c5e7c9fc1",
            "68b8f89ff9a94bc79fec7b7fc57f3069",
            "7b9582cc591a46ec9b3a3548e9a4959f"
          ]
        },
        "id": "d7uHseWJo2TU",
        "outputId": "4de4b05b-374f-472c-99dd-803150b7d618"
      },
      "execution_count": 62,
      "outputs": [
        {
          "output_type": "display_data",
          "data": {
            "text/plain": [
              "Evaluating:   0%|          | 0/50 [00:00<?, ?it/s]"
            ],
            "application/vnd.jupyter.widget-view+json": {
              "version_major": 2,
              "version_minor": 0,
              "model_id": "bef5bb0acc7444c28d518a3d5d102106"
            }
          },
          "metadata": {}
        }
      ]
    },
    {
      "cell_type": "code",
      "source": [
        "advanced_retrieval_results_df = advanced_retrieval_results.to_pandas()\n",
        "advanced_retrieval_results_df"
      ],
      "metadata": {
        "colab": {
          "base_uri": "https://localhost:8080/",
          "height": 710
        },
        "id": "JsFd0uDd2n5E",
        "outputId": "d5ce0fe3-4413-475a-df82-6d6a7b156be8"
      },
      "execution_count": 63,
      "outputs": [
        {
          "output_type": "execute_result",
          "data": {
            "text/plain": [
              "                                            question  \\\n",
              "0  What factors contribute to challenges in estim...   \n",
              "1  How does NVIDIA Corporation recognize revenue ...   \n",
              "2  What is NVIDIA's role in developing AI systems...   \n",
              "3  How has GPU usage for mining impacted GPU dema...   \n",
              "4  What happens if the company doesn't comply wit...   \n",
              "5  How do export controls affect NVIDIA's busines...   \n",
              "6  What are the risks of cybersecurity threats an...   \n",
              "7  What factors are considered in determining imp...   \n",
              "8  What is the impact of export control restricti...   \n",
              "9  What are the potential legal challenges and ri...   \n",
              "\n",
              "                                              answer  \\\n",
              "0  Several factors contribute to challenges in es...   \n",
              "1  NVIDIA Corporation recognizes revenue from lic...   \n",
              "2  NVIDIA is actively collaborating with various ...   \n",
              "3  The usage of GPUs for mining digital currencie...   \n",
              "4  If the company does not comply with the Compen...   \n",
              "5  Export controls have a significant impact on N...   \n",
              "6  Cybersecurity threats and data breaches pose s...   \n",
              "7  The impairment of available-for-sale debt inve...   \n",
              "8  Export control restrictions on AI-related prod...   \n",
              "9  Potential legal challenges and risks associate...   \n",
              "\n",
              "                                            contexts  \\\n",
              "0  [Table of Contents\\ncommitments for capacity t...   \n",
              "1  [Table of Contents\\nNVIDIA Corporation and Sub...   \n",
              "2  [Table of Contents\\nWe are working with severa...   \n",
              "3  [Table of Contents\\ntransitions, and we may be...   \n",
              "4  [        \\nCOMPENSATION RECOVERY POLICY\\nLast ...   \n",
              "5  [Table of Contents\\nproducts, and it is likely...   \n",
              "6  [Table of Contents\\nAdverse developments affec...   \n",
              "7  [Table of Contents\\nNVIDIA Corporation and Sub...   \n",
              "8  [Table of Contents\\nRisks Related to Regulator...   \n",
              "9  [Table of Contents\\nregulator or other industr...   \n",
              "\n",
              "                                        ground_truth  faithfulness  \\\n",
              "0  Factors that contribute to challenges in estim...           1.0   \n",
              "1  NVIDIA Corporation recognizes revenue from lic...           1.0   \n",
              "2  NVIDIA is working with several partners in the...           1.0   \n",
              "3  The use of GPUs for mining digital currencies,...           1.0   \n",
              "4  If the company doesn't comply with the Compens...           1.0   \n",
              "5  Export controls negatively impact NVIDIA's bus...           1.0   \n",
              "6  Cybersecurity threats and data breaches can di...           1.0   \n",
              "7  Factors considered in determining impairment o...           1.0   \n",
              "8  Export control restrictions on AI-related prod...           1.0   \n",
              "9  Potential legal challenges and risks associate...           1.0   \n",
              "\n",
              "   answer_relevancy  context_recall  context_precision  answer_correctness  \n",
              "0          0.995804             1.0           0.916667            0.751133  \n",
              "1          0.995181             1.0           1.000000            0.806886  \n",
              "2          0.883859             1.0           1.000000            0.995866  \n",
              "3          0.880744             1.0           0.810000            0.744465  \n",
              "4          0.915167             1.0           1.000000            0.696825  \n",
              "5          0.959688             1.0           1.000000            0.662276  \n",
              "6          0.921260             1.0           1.000000            0.909512  \n",
              "7          0.822180             1.0           0.500000            0.390649  \n",
              "8          0.823422             1.0           1.000000            0.567585  \n",
              "9          0.997053             1.0           0.750000            0.844329  "
            ],
            "text/html": [
              "\n",
              "  <div id=\"df-a6f05568-2b2a-400f-821c-40219664cdcf\" class=\"colab-df-container\">\n",
              "    <div>\n",
              "<style scoped>\n",
              "    .dataframe tbody tr th:only-of-type {\n",
              "        vertical-align: middle;\n",
              "    }\n",
              "\n",
              "    .dataframe tbody tr th {\n",
              "        vertical-align: top;\n",
              "    }\n",
              "\n",
              "    .dataframe thead th {\n",
              "        text-align: right;\n",
              "    }\n",
              "</style>\n",
              "<table border=\"1\" class=\"dataframe\">\n",
              "  <thead>\n",
              "    <tr style=\"text-align: right;\">\n",
              "      <th></th>\n",
              "      <th>question</th>\n",
              "      <th>answer</th>\n",
              "      <th>contexts</th>\n",
              "      <th>ground_truth</th>\n",
              "      <th>faithfulness</th>\n",
              "      <th>answer_relevancy</th>\n",
              "      <th>context_recall</th>\n",
              "      <th>context_precision</th>\n",
              "      <th>answer_correctness</th>\n",
              "    </tr>\n",
              "  </thead>\n",
              "  <tbody>\n",
              "    <tr>\n",
              "      <th>0</th>\n",
              "      <td>What factors contribute to challenges in estim...</td>\n",
              "      <td>Several factors contribute to challenges in es...</td>\n",
              "      <td>[Table of Contents\\ncommitments for capacity t...</td>\n",
              "      <td>Factors that contribute to challenges in estim...</td>\n",
              "      <td>1.0</td>\n",
              "      <td>0.995804</td>\n",
              "      <td>1.0</td>\n",
              "      <td>0.916667</td>\n",
              "      <td>0.751133</td>\n",
              "    </tr>\n",
              "    <tr>\n",
              "      <th>1</th>\n",
              "      <td>How does NVIDIA Corporation recognize revenue ...</td>\n",
              "      <td>NVIDIA Corporation recognizes revenue from lic...</td>\n",
              "      <td>[Table of Contents\\nNVIDIA Corporation and Sub...</td>\n",
              "      <td>NVIDIA Corporation recognizes revenue from lic...</td>\n",
              "      <td>1.0</td>\n",
              "      <td>0.995181</td>\n",
              "      <td>1.0</td>\n",
              "      <td>1.000000</td>\n",
              "      <td>0.806886</td>\n",
              "    </tr>\n",
              "    <tr>\n",
              "      <th>2</th>\n",
              "      <td>What is NVIDIA's role in developing AI systems...</td>\n",
              "      <td>NVIDIA is actively collaborating with various ...</td>\n",
              "      <td>[Table of Contents\\nWe are working with severa...</td>\n",
              "      <td>NVIDIA is working with several partners in the...</td>\n",
              "      <td>1.0</td>\n",
              "      <td>0.883859</td>\n",
              "      <td>1.0</td>\n",
              "      <td>1.000000</td>\n",
              "      <td>0.995866</td>\n",
              "    </tr>\n",
              "    <tr>\n",
              "      <th>3</th>\n",
              "      <td>How has GPU usage for mining impacted GPU dema...</td>\n",
              "      <td>The usage of GPUs for mining digital currencie...</td>\n",
              "      <td>[Table of Contents\\ntransitions, and we may be...</td>\n",
              "      <td>The use of GPUs for mining digital currencies,...</td>\n",
              "      <td>1.0</td>\n",
              "      <td>0.880744</td>\n",
              "      <td>1.0</td>\n",
              "      <td>0.810000</td>\n",
              "      <td>0.744465</td>\n",
              "    </tr>\n",
              "    <tr>\n",
              "      <th>4</th>\n",
              "      <td>What happens if the company doesn't comply wit...</td>\n",
              "      <td>If the company does not comply with the Compen...</td>\n",
              "      <td>[        \\nCOMPENSATION RECOVERY POLICY\\nLast ...</td>\n",
              "      <td>If the company doesn't comply with the Compens...</td>\n",
              "      <td>1.0</td>\n",
              "      <td>0.915167</td>\n",
              "      <td>1.0</td>\n",
              "      <td>1.000000</td>\n",
              "      <td>0.696825</td>\n",
              "    </tr>\n",
              "    <tr>\n",
              "      <th>5</th>\n",
              "      <td>How do export controls affect NVIDIA's busines...</td>\n",
              "      <td>Export controls have a significant impact on N...</td>\n",
              "      <td>[Table of Contents\\nproducts, and it is likely...</td>\n",
              "      <td>Export controls negatively impact NVIDIA's bus...</td>\n",
              "      <td>1.0</td>\n",
              "      <td>0.959688</td>\n",
              "      <td>1.0</td>\n",
              "      <td>1.000000</td>\n",
              "      <td>0.662276</td>\n",
              "    </tr>\n",
              "    <tr>\n",
              "      <th>6</th>\n",
              "      <td>What are the risks of cybersecurity threats an...</td>\n",
              "      <td>Cybersecurity threats and data breaches pose s...</td>\n",
              "      <td>[Table of Contents\\nAdverse developments affec...</td>\n",
              "      <td>Cybersecurity threats and data breaches can di...</td>\n",
              "      <td>1.0</td>\n",
              "      <td>0.921260</td>\n",
              "      <td>1.0</td>\n",
              "      <td>1.000000</td>\n",
              "      <td>0.909512</td>\n",
              "    </tr>\n",
              "    <tr>\n",
              "      <th>7</th>\n",
              "      <td>What factors are considered in determining imp...</td>\n",
              "      <td>The impairment of available-for-sale debt inve...</td>\n",
              "      <td>[Table of Contents\\nNVIDIA Corporation and Sub...</td>\n",
              "      <td>Factors considered in determining impairment o...</td>\n",
              "      <td>1.0</td>\n",
              "      <td>0.822180</td>\n",
              "      <td>1.0</td>\n",
              "      <td>0.500000</td>\n",
              "      <td>0.390649</td>\n",
              "    </tr>\n",
              "    <tr>\n",
              "      <th>8</th>\n",
              "      <td>What is the impact of export control restricti...</td>\n",
              "      <td>Export control restrictions on AI-related prod...</td>\n",
              "      <td>[Table of Contents\\nRisks Related to Regulator...</td>\n",
              "      <td>Export control restrictions on AI-related prod...</td>\n",
              "      <td>1.0</td>\n",
              "      <td>0.823422</td>\n",
              "      <td>1.0</td>\n",
              "      <td>1.000000</td>\n",
              "      <td>0.567585</td>\n",
              "    </tr>\n",
              "    <tr>\n",
              "      <th>9</th>\n",
              "      <td>What are the potential legal challenges and ri...</td>\n",
              "      <td>Potential legal challenges and risks associate...</td>\n",
              "      <td>[Table of Contents\\nregulator or other industr...</td>\n",
              "      <td>Potential legal challenges and risks associate...</td>\n",
              "      <td>1.0</td>\n",
              "      <td>0.997053</td>\n",
              "      <td>1.0</td>\n",
              "      <td>0.750000</td>\n",
              "      <td>0.844329</td>\n",
              "    </tr>\n",
              "  </tbody>\n",
              "</table>\n",
              "</div>\n",
              "    <div class=\"colab-df-buttons\">\n",
              "\n",
              "  <div class=\"colab-df-container\">\n",
              "    <button class=\"colab-df-convert\" onclick=\"convertToInteractive('df-a6f05568-2b2a-400f-821c-40219664cdcf')\"\n",
              "            title=\"Convert this dataframe to an interactive table.\"\n",
              "            style=\"display:none;\">\n",
              "\n",
              "  <svg xmlns=\"http://www.w3.org/2000/svg\" height=\"24px\" viewBox=\"0 -960 960 960\">\n",
              "    <path d=\"M120-120v-720h720v720H120Zm60-500h600v-160H180v160Zm220 220h160v-160H400v160Zm0 220h160v-160H400v160ZM180-400h160v-160H180v160Zm440 0h160v-160H620v160ZM180-180h160v-160H180v160Zm440 0h160v-160H620v160Z\"/>\n",
              "  </svg>\n",
              "    </button>\n",
              "\n",
              "  <style>\n",
              "    .colab-df-container {\n",
              "      display:flex;\n",
              "      gap: 12px;\n",
              "    }\n",
              "\n",
              "    .colab-df-convert {\n",
              "      background-color: #E8F0FE;\n",
              "      border: none;\n",
              "      border-radius: 50%;\n",
              "      cursor: pointer;\n",
              "      display: none;\n",
              "      fill: #1967D2;\n",
              "      height: 32px;\n",
              "      padding: 0 0 0 0;\n",
              "      width: 32px;\n",
              "    }\n",
              "\n",
              "    .colab-df-convert:hover {\n",
              "      background-color: #E2EBFA;\n",
              "      box-shadow: 0px 1px 2px rgba(60, 64, 67, 0.3), 0px 1px 3px 1px rgba(60, 64, 67, 0.15);\n",
              "      fill: #174EA6;\n",
              "    }\n",
              "\n",
              "    .colab-df-buttons div {\n",
              "      margin-bottom: 4px;\n",
              "    }\n",
              "\n",
              "    [theme=dark] .colab-df-convert {\n",
              "      background-color: #3B4455;\n",
              "      fill: #D2E3FC;\n",
              "    }\n",
              "\n",
              "    [theme=dark] .colab-df-convert:hover {\n",
              "      background-color: #434B5C;\n",
              "      box-shadow: 0px 1px 3px 1px rgba(0, 0, 0, 0.15);\n",
              "      filter: drop-shadow(0px 1px 2px rgba(0, 0, 0, 0.3));\n",
              "      fill: #FFFFFF;\n",
              "    }\n",
              "  </style>\n",
              "\n",
              "    <script>\n",
              "      const buttonEl =\n",
              "        document.querySelector('#df-a6f05568-2b2a-400f-821c-40219664cdcf button.colab-df-convert');\n",
              "      buttonEl.style.display =\n",
              "        google.colab.kernel.accessAllowed ? 'block' : 'none';\n",
              "\n",
              "      async function convertToInteractive(key) {\n",
              "        const element = document.querySelector('#df-a6f05568-2b2a-400f-821c-40219664cdcf');\n",
              "        const dataTable =\n",
              "          await google.colab.kernel.invokeFunction('convertToInteractive',\n",
              "                                                    [key], {});\n",
              "        if (!dataTable) return;\n",
              "\n",
              "        const docLinkHtml = 'Like what you see? Visit the ' +\n",
              "          '<a target=\"_blank\" href=https://colab.research.google.com/notebooks/data_table.ipynb>data table notebook</a>'\n",
              "          + ' to learn more about interactive tables.';\n",
              "        element.innerHTML = '';\n",
              "        dataTable['output_type'] = 'display_data';\n",
              "        await google.colab.output.renderOutput(dataTable, element);\n",
              "        const docLink = document.createElement('div');\n",
              "        docLink.innerHTML = docLinkHtml;\n",
              "        element.appendChild(docLink);\n",
              "      }\n",
              "    </script>\n",
              "  </div>\n",
              "\n",
              "\n",
              "<div id=\"df-a812c613-50c4-4334-bb5a-593b053cb228\">\n",
              "  <button class=\"colab-df-quickchart\" onclick=\"quickchart('df-a812c613-50c4-4334-bb5a-593b053cb228')\"\n",
              "            title=\"Suggest charts\"\n",
              "            style=\"display:none;\">\n",
              "\n",
              "<svg xmlns=\"http://www.w3.org/2000/svg\" height=\"24px\"viewBox=\"0 0 24 24\"\n",
              "     width=\"24px\">\n",
              "    <g>\n",
              "        <path d=\"M19 3H5c-1.1 0-2 .9-2 2v14c0 1.1.9 2 2 2h14c1.1 0 2-.9 2-2V5c0-1.1-.9-2-2-2zM9 17H7v-7h2v7zm4 0h-2V7h2v10zm4 0h-2v-4h2v4z\"/>\n",
              "    </g>\n",
              "</svg>\n",
              "  </button>\n",
              "\n",
              "<style>\n",
              "  .colab-df-quickchart {\n",
              "      --bg-color: #E8F0FE;\n",
              "      --fill-color: #1967D2;\n",
              "      --hover-bg-color: #E2EBFA;\n",
              "      --hover-fill-color: #174EA6;\n",
              "      --disabled-fill-color: #AAA;\n",
              "      --disabled-bg-color: #DDD;\n",
              "  }\n",
              "\n",
              "  [theme=dark] .colab-df-quickchart {\n",
              "      --bg-color: #3B4455;\n",
              "      --fill-color: #D2E3FC;\n",
              "      --hover-bg-color: #434B5C;\n",
              "      --hover-fill-color: #FFFFFF;\n",
              "      --disabled-bg-color: #3B4455;\n",
              "      --disabled-fill-color: #666;\n",
              "  }\n",
              "\n",
              "  .colab-df-quickchart {\n",
              "    background-color: var(--bg-color);\n",
              "    border: none;\n",
              "    border-radius: 50%;\n",
              "    cursor: pointer;\n",
              "    display: none;\n",
              "    fill: var(--fill-color);\n",
              "    height: 32px;\n",
              "    padding: 0;\n",
              "    width: 32px;\n",
              "  }\n",
              "\n",
              "  .colab-df-quickchart:hover {\n",
              "    background-color: var(--hover-bg-color);\n",
              "    box-shadow: 0 1px 2px rgba(60, 64, 67, 0.3), 0 1px 3px 1px rgba(60, 64, 67, 0.15);\n",
              "    fill: var(--button-hover-fill-color);\n",
              "  }\n",
              "\n",
              "  .colab-df-quickchart-complete:disabled,\n",
              "  .colab-df-quickchart-complete:disabled:hover {\n",
              "    background-color: var(--disabled-bg-color);\n",
              "    fill: var(--disabled-fill-color);\n",
              "    box-shadow: none;\n",
              "  }\n",
              "\n",
              "  .colab-df-spinner {\n",
              "    border: 2px solid var(--fill-color);\n",
              "    border-color: transparent;\n",
              "    border-bottom-color: var(--fill-color);\n",
              "    animation:\n",
              "      spin 1s steps(1) infinite;\n",
              "  }\n",
              "\n",
              "  @keyframes spin {\n",
              "    0% {\n",
              "      border-color: transparent;\n",
              "      border-bottom-color: var(--fill-color);\n",
              "      border-left-color: var(--fill-color);\n",
              "    }\n",
              "    20% {\n",
              "      border-color: transparent;\n",
              "      border-left-color: var(--fill-color);\n",
              "      border-top-color: var(--fill-color);\n",
              "    }\n",
              "    30% {\n",
              "      border-color: transparent;\n",
              "      border-left-color: var(--fill-color);\n",
              "      border-top-color: var(--fill-color);\n",
              "      border-right-color: var(--fill-color);\n",
              "    }\n",
              "    40% {\n",
              "      border-color: transparent;\n",
              "      border-right-color: var(--fill-color);\n",
              "      border-top-color: var(--fill-color);\n",
              "    }\n",
              "    60% {\n",
              "      border-color: transparent;\n",
              "      border-right-color: var(--fill-color);\n",
              "    }\n",
              "    80% {\n",
              "      border-color: transparent;\n",
              "      border-right-color: var(--fill-color);\n",
              "      border-bottom-color: var(--fill-color);\n",
              "    }\n",
              "    90% {\n",
              "      border-color: transparent;\n",
              "      border-bottom-color: var(--fill-color);\n",
              "    }\n",
              "  }\n",
              "</style>\n",
              "\n",
              "  <script>\n",
              "    async function quickchart(key) {\n",
              "      const quickchartButtonEl =\n",
              "        document.querySelector('#' + key + ' button');\n",
              "      quickchartButtonEl.disabled = true;  // To prevent multiple clicks.\n",
              "      quickchartButtonEl.classList.add('colab-df-spinner');\n",
              "      try {\n",
              "        const charts = await google.colab.kernel.invokeFunction(\n",
              "            'suggestCharts', [key], {});\n",
              "      } catch (error) {\n",
              "        console.error('Error during call to suggestCharts:', error);\n",
              "      }\n",
              "      quickchartButtonEl.classList.remove('colab-df-spinner');\n",
              "      quickchartButtonEl.classList.add('colab-df-quickchart-complete');\n",
              "    }\n",
              "    (() => {\n",
              "      let quickchartButtonEl =\n",
              "        document.querySelector('#df-a812c613-50c4-4334-bb5a-593b053cb228 button');\n",
              "      quickchartButtonEl.style.display =\n",
              "        google.colab.kernel.accessAllowed ? 'block' : 'none';\n",
              "    })();\n",
              "  </script>\n",
              "</div>\n",
              "\n",
              "  <div id=\"id_0a316b9c-d300-4749-b067-49d9d2fb26f2\">\n",
              "    <style>\n",
              "      .colab-df-generate {\n",
              "        background-color: #E8F0FE;\n",
              "        border: none;\n",
              "        border-radius: 50%;\n",
              "        cursor: pointer;\n",
              "        display: none;\n",
              "        fill: #1967D2;\n",
              "        height: 32px;\n",
              "        padding: 0 0 0 0;\n",
              "        width: 32px;\n",
              "      }\n",
              "\n",
              "      .colab-df-generate:hover {\n",
              "        background-color: #E2EBFA;\n",
              "        box-shadow: 0px 1px 2px rgba(60, 64, 67, 0.3), 0px 1px 3px 1px rgba(60, 64, 67, 0.15);\n",
              "        fill: #174EA6;\n",
              "      }\n",
              "\n",
              "      [theme=dark] .colab-df-generate {\n",
              "        background-color: #3B4455;\n",
              "        fill: #D2E3FC;\n",
              "      }\n",
              "\n",
              "      [theme=dark] .colab-df-generate:hover {\n",
              "        background-color: #434B5C;\n",
              "        box-shadow: 0px 1px 3px 1px rgba(0, 0, 0, 0.15);\n",
              "        filter: drop-shadow(0px 1px 2px rgba(0, 0, 0, 0.3));\n",
              "        fill: #FFFFFF;\n",
              "      }\n",
              "    </style>\n",
              "    <button class=\"colab-df-generate\" onclick=\"generateWithVariable('advanced_retrieval_results_df')\"\n",
              "            title=\"Generate code using this dataframe.\"\n",
              "            style=\"display:none;\">\n",
              "\n",
              "  <svg xmlns=\"http://www.w3.org/2000/svg\" height=\"24px\"viewBox=\"0 0 24 24\"\n",
              "       width=\"24px\">\n",
              "    <path d=\"M7,19H8.4L18.45,9,17,7.55,7,17.6ZM5,21V16.75L18.45,3.32a2,2,0,0,1,2.83,0l1.4,1.43a1.91,1.91,0,0,1,.58,1.4,1.91,1.91,0,0,1-.58,1.4L9.25,21ZM18.45,9,17,7.55Zm-12,3A5.31,5.31,0,0,0,4.9,8.1,5.31,5.31,0,0,0,1,6.5,5.31,5.31,0,0,0,4.9,4.9,5.31,5.31,0,0,0,6.5,1,5.31,5.31,0,0,0,8.1,4.9,5.31,5.31,0,0,0,12,6.5,5.46,5.46,0,0,0,6.5,12Z\"/>\n",
              "  </svg>\n",
              "    </button>\n",
              "    <script>\n",
              "      (() => {\n",
              "      const buttonEl =\n",
              "        document.querySelector('#id_0a316b9c-d300-4749-b067-49d9d2fb26f2 button.colab-df-generate');\n",
              "      buttonEl.style.display =\n",
              "        google.colab.kernel.accessAllowed ? 'block' : 'none';\n",
              "\n",
              "      buttonEl.onclick = () => {\n",
              "        google.colab.notebook.generateWithVariable('advanced_retrieval_results_df');\n",
              "      }\n",
              "      })();\n",
              "    </script>\n",
              "  </div>\n",
              "\n",
              "    </div>\n",
              "  </div>\n"
            ],
            "application/vnd.google.colaboratory.intrinsic+json": {
              "type": "dataframe",
              "variable_name": "advanced_retrieval_results_df",
              "summary": "{\n  \"name\": \"advanced_retrieval_results_df\",\n  \"rows\": 10,\n  \"fields\": [\n    {\n      \"column\": \"question\",\n      \"properties\": {\n        \"dtype\": \"string\",\n        \"num_unique_values\": 10,\n        \"samples\": [\n          \"What is the impact of export control restrictions on AI-related products and which technologies and regions will be affected?\",\n          \"How does NVIDIA Corporation recognize revenue from license and development arrangements with customers?\",\n          \"How do export controls affect NVIDIA's business and what restrictions are imposed on their products and exports?\"\n        ],\n        \"semantic_type\": \"\",\n        \"description\": \"\"\n      }\n    },\n    {\n      \"column\": \"answer\",\n      \"properties\": {\n        \"dtype\": \"string\",\n        \"num_unique_values\": 10,\n        \"samples\": [\n          \"Export control restrictions on AI-related products could negatively impact the ability to export technology, products, or services, particularly GPUs and semiconductors associated with AI. These restrictions may lead to limitations on the use, resale, repair, or transfer of products, impacting downstream customers and users worldwide. The regions that could be affected include China, Europe, the U.S., Latin America, and Southeast Asia. Additionally, the restrictions may encourage customers to purchase from competitors outside the U.S., potentially harming NVIDIA's business, market position, and financial results.\",\n          \"NVIDIA Corporation recognizes revenue from license and development arrangements with customers over the period in which the development services are performed. They measure progress to completion based on actual cost incurred to date as a percentage of the estimated total cost required to complete each project. This means that the revenue from the license and the revenue from the development services are recognized as a single performance obligation over the service period.\",\n          \"Export controls have a significant impact on NVIDIA's business, affecting their ability to export products to certain markets, especially China. These controls can limit their manufacturing, testing, and warehousing options, as well as impose restrictions on the use, resale, repair, or transfer of their products. Specifically, the US government has imposed licensing requirements on NVIDIA's products, such as A100, H100, A800, H800, L4, L40, L40S, and RTX 4090, for exports to China and certain other regions. These restrictions also apply to products exceeding certain performance thresholds and to parties headquartered in specific countries or regions.\\n\\nAdditionally, the US government has informed NVIDIA of licensing requirements for specific products destined to certain customers and regions, including the Middle East. Failure to comply with these export controls and licensing requirements can lead to penalties, restrictions, and disruptions in NVIDIA's supply chain and distribution channels. The company has also faced challenges in obtaining licenses for restricted products, impacting their ability to serve certain markets and customers.\"\n        ],\n        \"semantic_type\": \"\",\n        \"description\": \"\"\n      }\n    },\n    {\n      \"column\": \"contexts\",\n      \"properties\": {\n        \"dtype\": \"object\",\n        \"semantic_type\": \"\",\n        \"description\": \"\"\n      }\n    },\n    {\n      \"column\": \"ground_truth\",\n      \"properties\": {\n        \"dtype\": \"string\",\n        \"num_unique_values\": 10,\n        \"samples\": [\n          \"Export control restrictions on AI-related products can negatively impact the ability to export technology, products, or services. These restrictions can limit the ability to serve demand abroad, impact manufacturing and warehousing locations, and create a competitive disadvantage. The focus of export control restrictions includes semiconductors associated with AI, such as GPUs. The United States has imposed unilateral controls, and additional controls are likely to be adopted. These controls can be broad in scope and application, and may restrict exports to certain markets, including China. The restrictions can disrupt the supply chain and distribution channels, negatively impacting the ability to serve demand in markets outside China. The possibility of additional export controls has also negatively impacted demand for AI-related products. Compliance burdens and changes in export control rules can further impact the business. The impact of export control restrictions extends to the ability of research and development teams to execute objectives, and can provoke responses from foreign governments. Regulators in China have inquired about sales and fulfillment commitments, which could result in penalties or restrictions. The USG has announced export restrictions and licensing requirements targeting China's semiconductor and supercomputing industries, impacting exports of certain chips and related technology. Licensing requirements also apply to future NVIDIA integrated circuits and certain networking products destined for China. New and updated licensing requirements have been announced for exports to China and certain countries, impacting products exceeding performance thresholds.\",\n          \"NVIDIA Corporation recognizes revenue from license and development arrangements with customers by treating them as a single performance obligation over the period in which the development services are performed. Progress to completion is measured based on actual cost incurred to date as a percentage of the estimated total cost required to complete each project. If a loss on an arrangement becomes probable during a period, a provision for such loss is recorded.\",\n          \"Export controls negatively impact NVIDIA's business by restricting their ability to export their products to certain markets, including China. These controls impose licensing requirements on certain chips, software, hardware, equipment, and technology used in the development, production, and manufacturing of chips. The restrictions also apply to networking products destined for specific end users and end uses in China. Additionally, the USG may impose further restrictions on NVIDIA's products, which could disrupt their supply chain and distribution channels and negatively impact their ability to serve demand. These controls create a competitive disadvantage for NVIDIA compared to competitors who are not subject to similar restrictions.\"\n        ],\n        \"semantic_type\": \"\",\n        \"description\": \"\"\n      }\n    },\n    {\n      \"column\": \"faithfulness\",\n      \"properties\": {\n        \"dtype\": \"number\",\n        \"std\": 0.0,\n        \"min\": 1.0,\n        \"max\": 1.0,\n        \"num_unique_values\": 1,\n        \"samples\": [\n          1.0\n        ],\n        \"semantic_type\": \"\",\n        \"description\": \"\"\n      }\n    },\n    {\n      \"column\": \"answer_relevancy\",\n      \"properties\": {\n        \"dtype\": \"number\",\n        \"std\": 0.06722750941409464,\n        \"min\": 0.822179733454083,\n        \"max\": 0.9970532487858014,\n        \"num_unique_values\": 10,\n        \"samples\": [\n          0.8234221424206712\n        ],\n        \"semantic_type\": \"\",\n        \"description\": \"\"\n      }\n    },\n    {\n      \"column\": \"context_recall\",\n      \"properties\": {\n        \"dtype\": \"number\",\n        \"std\": 0.0,\n        \"min\": 1.0,\n        \"max\": 1.0,\n        \"num_unique_values\": 1,\n        \"samples\": [\n          1.0\n        ],\n        \"semantic_type\": \"\",\n        \"description\": \"\"\n      }\n    },\n    {\n      \"column\": \"context_precision\",\n      \"properties\": {\n        \"dtype\": \"number\",\n        \"std\": 0.16694088553042902,\n        \"min\": 0.49999999995,\n        \"max\": 0.999999999975,\n        \"num_unique_values\": 5,\n        \"samples\": [\n          0.999999999975\n        ],\n        \"semantic_type\": \"\",\n        \"description\": \"\"\n      }\n    },\n    {\n      \"column\": \"answer_correctness\",\n      \"properties\": {\n        \"dtype\": \"number\",\n        \"std\": 0.1729770273586998,\n        \"min\": 0.39064858195825114,\n        \"max\": 0.9958658360457233,\n        \"num_unique_values\": 10,\n        \"samples\": [\n          0.5675851530131245\n        ],\n        \"semantic_type\": \"\",\n        \"description\": \"\"\n      }\n    }\n  ]\n}"
            }
          },
          "metadata": {},
          "execution_count": 63
        }
      ]
    },
    {
      "cell_type": "markdown",
      "source": [
        "## Last Step: Evaluating our Adjusted Pipeline Against Our Baseline\n",
        "\n",
        "Now we can compare our results."
      ],
      "metadata": {
        "id": "J0hzqq5VtZ2a"
      }
    },
    {
      "cell_type": "code",
      "source": [
        "results"
      ],
      "metadata": {
        "colab": {
          "base_uri": "https://localhost:8080/"
        },
        "id": "_WWGRaF5qx3V",
        "outputId": "ca97ed02-7826-4eba-a86c-a55e4a9db6c8"
      },
      "execution_count": 64,
      "outputs": [
        {
          "output_type": "execute_result",
          "data": {
            "text/plain": [
              "{'faithfulness': 1.0000, 'answer_relevancy': 0.9573, 'context_recall': 1.0000, 'context_precision': 0.9167, 'answer_correctness': 0.6621}"
            ]
          },
          "metadata": {},
          "execution_count": 64
        }
      ]
    },
    {
      "cell_type": "markdown",
      "source": [
        "And see how our advanced retrieval modified our chain!"
      ],
      "metadata": {
        "id": "oFv_yAeotmFs"
      }
    },
    {
      "cell_type": "code",
      "source": [
        "advanced_retrieval_results"
      ],
      "metadata": {
        "colab": {
          "base_uri": "https://localhost:8080/"
        },
        "id": "rpV11dxJo7xa",
        "outputId": "dbaf0e07-77ae-4bd5-b6bb-f1a50dc881ca"
      },
      "execution_count": 65,
      "outputs": [
        {
          "output_type": "execute_result",
          "data": {
            "text/plain": [
              "{'faithfulness': 1.0000, 'answer_relevancy': 0.9194, 'context_recall': 1.0000, 'context_precision': 0.8977, 'answer_correctness': 0.7370}"
            ]
          },
          "metadata": {},
          "execution_count": 65
        }
      ]
    },
    {
      "cell_type": "code",
      "source": [
        "import pandas as pd\n",
        "\n",
        "df_original = pd.DataFrame(list(results.items()), columns=['Metric', 'Baseline'])\n",
        "df_comparison = pd.DataFrame(list(advanced_retrieval_results.items()), columns=['Metric', 'MultiQueryRetriever with Document Stuffing'])\n",
        "\n",
        "df_merged = pd.merge(df_original, df_comparison, on='Metric')\n",
        "\n",
        "df_merged['Delta'] = df_merged['MultiQueryRetriever with Document Stuffing'] - df_merged['Baseline']\n",
        "\n",
        "df_merged"
      ],
      "metadata": {
        "colab": {
          "base_uri": "https://localhost:8080/",
          "height": 206
        },
        "id": "62NYn3iAvTjM",
        "outputId": "af7ecc40-f9ba-4533-be40-f9c26fab7d06"
      },
      "execution_count": 66,
      "outputs": [
        {
          "output_type": "execute_result",
          "data": {
            "text/plain": [
              "               Metric  Baseline  MultiQueryRetriever with Document Stuffing  \\\n",
              "0        faithfulness  1.000000                                    1.000000   \n",
              "1    answer_relevancy  0.957312                                    0.919436   \n",
              "2      context_recall  1.000000                                    1.000000   \n",
              "3   context_precision  0.916667                                    0.897667   \n",
              "4  answer_correctness  0.662145                                    0.736953   \n",
              "\n",
              "      Delta  \n",
              "0  0.000000  \n",
              "1 -0.037876  \n",
              "2  0.000000  \n",
              "3 -0.019000  \n",
              "4  0.074807  "
            ],
            "text/html": [
              "\n",
              "  <div id=\"df-c6c921e0-b516-4ec7-bf1e-c695d4d4cb3b\" class=\"colab-df-container\">\n",
              "    <div>\n",
              "<style scoped>\n",
              "    .dataframe tbody tr th:only-of-type {\n",
              "        vertical-align: middle;\n",
              "    }\n",
              "\n",
              "    .dataframe tbody tr th {\n",
              "        vertical-align: top;\n",
              "    }\n",
              "\n",
              "    .dataframe thead th {\n",
              "        text-align: right;\n",
              "    }\n",
              "</style>\n",
              "<table border=\"1\" class=\"dataframe\">\n",
              "  <thead>\n",
              "    <tr style=\"text-align: right;\">\n",
              "      <th></th>\n",
              "      <th>Metric</th>\n",
              "      <th>Baseline</th>\n",
              "      <th>MultiQueryRetriever with Document Stuffing</th>\n",
              "      <th>Delta</th>\n",
              "    </tr>\n",
              "  </thead>\n",
              "  <tbody>\n",
              "    <tr>\n",
              "      <th>0</th>\n",
              "      <td>faithfulness</td>\n",
              "      <td>1.000000</td>\n",
              "      <td>1.000000</td>\n",
              "      <td>0.000000</td>\n",
              "    </tr>\n",
              "    <tr>\n",
              "      <th>1</th>\n",
              "      <td>answer_relevancy</td>\n",
              "      <td>0.957312</td>\n",
              "      <td>0.919436</td>\n",
              "      <td>-0.037876</td>\n",
              "    </tr>\n",
              "    <tr>\n",
              "      <th>2</th>\n",
              "      <td>context_recall</td>\n",
              "      <td>1.000000</td>\n",
              "      <td>1.000000</td>\n",
              "      <td>0.000000</td>\n",
              "    </tr>\n",
              "    <tr>\n",
              "      <th>3</th>\n",
              "      <td>context_precision</td>\n",
              "      <td>0.916667</td>\n",
              "      <td>0.897667</td>\n",
              "      <td>-0.019000</td>\n",
              "    </tr>\n",
              "    <tr>\n",
              "      <th>4</th>\n",
              "      <td>answer_correctness</td>\n",
              "      <td>0.662145</td>\n",
              "      <td>0.736953</td>\n",
              "      <td>0.074807</td>\n",
              "    </tr>\n",
              "  </tbody>\n",
              "</table>\n",
              "</div>\n",
              "    <div class=\"colab-df-buttons\">\n",
              "\n",
              "  <div class=\"colab-df-container\">\n",
              "    <button class=\"colab-df-convert\" onclick=\"convertToInteractive('df-c6c921e0-b516-4ec7-bf1e-c695d4d4cb3b')\"\n",
              "            title=\"Convert this dataframe to an interactive table.\"\n",
              "            style=\"display:none;\">\n",
              "\n",
              "  <svg xmlns=\"http://www.w3.org/2000/svg\" height=\"24px\" viewBox=\"0 -960 960 960\">\n",
              "    <path d=\"M120-120v-720h720v720H120Zm60-500h600v-160H180v160Zm220 220h160v-160H400v160Zm0 220h160v-160H400v160ZM180-400h160v-160H180v160Zm440 0h160v-160H620v160ZM180-180h160v-160H180v160Zm440 0h160v-160H620v160Z\"/>\n",
              "  </svg>\n",
              "    </button>\n",
              "\n",
              "  <style>\n",
              "    .colab-df-container {\n",
              "      display:flex;\n",
              "      gap: 12px;\n",
              "    }\n",
              "\n",
              "    .colab-df-convert {\n",
              "      background-color: #E8F0FE;\n",
              "      border: none;\n",
              "      border-radius: 50%;\n",
              "      cursor: pointer;\n",
              "      display: none;\n",
              "      fill: #1967D2;\n",
              "      height: 32px;\n",
              "      padding: 0 0 0 0;\n",
              "      width: 32px;\n",
              "    }\n",
              "\n",
              "    .colab-df-convert:hover {\n",
              "      background-color: #E2EBFA;\n",
              "      box-shadow: 0px 1px 2px rgba(60, 64, 67, 0.3), 0px 1px 3px 1px rgba(60, 64, 67, 0.15);\n",
              "      fill: #174EA6;\n",
              "    }\n",
              "\n",
              "    .colab-df-buttons div {\n",
              "      margin-bottom: 4px;\n",
              "    }\n",
              "\n",
              "    [theme=dark] .colab-df-convert {\n",
              "      background-color: #3B4455;\n",
              "      fill: #D2E3FC;\n",
              "    }\n",
              "\n",
              "    [theme=dark] .colab-df-convert:hover {\n",
              "      background-color: #434B5C;\n",
              "      box-shadow: 0px 1px 3px 1px rgba(0, 0, 0, 0.15);\n",
              "      filter: drop-shadow(0px 1px 2px rgba(0, 0, 0, 0.3));\n",
              "      fill: #FFFFFF;\n",
              "    }\n",
              "  </style>\n",
              "\n",
              "    <script>\n",
              "      const buttonEl =\n",
              "        document.querySelector('#df-c6c921e0-b516-4ec7-bf1e-c695d4d4cb3b button.colab-df-convert');\n",
              "      buttonEl.style.display =\n",
              "        google.colab.kernel.accessAllowed ? 'block' : 'none';\n",
              "\n",
              "      async function convertToInteractive(key) {\n",
              "        const element = document.querySelector('#df-c6c921e0-b516-4ec7-bf1e-c695d4d4cb3b');\n",
              "        const dataTable =\n",
              "          await google.colab.kernel.invokeFunction('convertToInteractive',\n",
              "                                                    [key], {});\n",
              "        if (!dataTable) return;\n",
              "\n",
              "        const docLinkHtml = 'Like what you see? Visit the ' +\n",
              "          '<a target=\"_blank\" href=https://colab.research.google.com/notebooks/data_table.ipynb>data table notebook</a>'\n",
              "          + ' to learn more about interactive tables.';\n",
              "        element.innerHTML = '';\n",
              "        dataTable['output_type'] = 'display_data';\n",
              "        await google.colab.output.renderOutput(dataTable, element);\n",
              "        const docLink = document.createElement('div');\n",
              "        docLink.innerHTML = docLinkHtml;\n",
              "        element.appendChild(docLink);\n",
              "      }\n",
              "    </script>\n",
              "  </div>\n",
              "\n",
              "\n",
              "<div id=\"df-ac103bab-edca-472d-a501-9537ae88fa4f\">\n",
              "  <button class=\"colab-df-quickchart\" onclick=\"quickchart('df-ac103bab-edca-472d-a501-9537ae88fa4f')\"\n",
              "            title=\"Suggest charts\"\n",
              "            style=\"display:none;\">\n",
              "\n",
              "<svg xmlns=\"http://www.w3.org/2000/svg\" height=\"24px\"viewBox=\"0 0 24 24\"\n",
              "     width=\"24px\">\n",
              "    <g>\n",
              "        <path d=\"M19 3H5c-1.1 0-2 .9-2 2v14c0 1.1.9 2 2 2h14c1.1 0 2-.9 2-2V5c0-1.1-.9-2-2-2zM9 17H7v-7h2v7zm4 0h-2V7h2v10zm4 0h-2v-4h2v4z\"/>\n",
              "    </g>\n",
              "</svg>\n",
              "  </button>\n",
              "\n",
              "<style>\n",
              "  .colab-df-quickchart {\n",
              "      --bg-color: #E8F0FE;\n",
              "      --fill-color: #1967D2;\n",
              "      --hover-bg-color: #E2EBFA;\n",
              "      --hover-fill-color: #174EA6;\n",
              "      --disabled-fill-color: #AAA;\n",
              "      --disabled-bg-color: #DDD;\n",
              "  }\n",
              "\n",
              "  [theme=dark] .colab-df-quickchart {\n",
              "      --bg-color: #3B4455;\n",
              "      --fill-color: #D2E3FC;\n",
              "      --hover-bg-color: #434B5C;\n",
              "      --hover-fill-color: #FFFFFF;\n",
              "      --disabled-bg-color: #3B4455;\n",
              "      --disabled-fill-color: #666;\n",
              "  }\n",
              "\n",
              "  .colab-df-quickchart {\n",
              "    background-color: var(--bg-color);\n",
              "    border: none;\n",
              "    border-radius: 50%;\n",
              "    cursor: pointer;\n",
              "    display: none;\n",
              "    fill: var(--fill-color);\n",
              "    height: 32px;\n",
              "    padding: 0;\n",
              "    width: 32px;\n",
              "  }\n",
              "\n",
              "  .colab-df-quickchart:hover {\n",
              "    background-color: var(--hover-bg-color);\n",
              "    box-shadow: 0 1px 2px rgba(60, 64, 67, 0.3), 0 1px 3px 1px rgba(60, 64, 67, 0.15);\n",
              "    fill: var(--button-hover-fill-color);\n",
              "  }\n",
              "\n",
              "  .colab-df-quickchart-complete:disabled,\n",
              "  .colab-df-quickchart-complete:disabled:hover {\n",
              "    background-color: var(--disabled-bg-color);\n",
              "    fill: var(--disabled-fill-color);\n",
              "    box-shadow: none;\n",
              "  }\n",
              "\n",
              "  .colab-df-spinner {\n",
              "    border: 2px solid var(--fill-color);\n",
              "    border-color: transparent;\n",
              "    border-bottom-color: var(--fill-color);\n",
              "    animation:\n",
              "      spin 1s steps(1) infinite;\n",
              "  }\n",
              "\n",
              "  @keyframes spin {\n",
              "    0% {\n",
              "      border-color: transparent;\n",
              "      border-bottom-color: var(--fill-color);\n",
              "      border-left-color: var(--fill-color);\n",
              "    }\n",
              "    20% {\n",
              "      border-color: transparent;\n",
              "      border-left-color: var(--fill-color);\n",
              "      border-top-color: var(--fill-color);\n",
              "    }\n",
              "    30% {\n",
              "      border-color: transparent;\n",
              "      border-left-color: var(--fill-color);\n",
              "      border-top-color: var(--fill-color);\n",
              "      border-right-color: var(--fill-color);\n",
              "    }\n",
              "    40% {\n",
              "      border-color: transparent;\n",
              "      border-right-color: var(--fill-color);\n",
              "      border-top-color: var(--fill-color);\n",
              "    }\n",
              "    60% {\n",
              "      border-color: transparent;\n",
              "      border-right-color: var(--fill-color);\n",
              "    }\n",
              "    80% {\n",
              "      border-color: transparent;\n",
              "      border-right-color: var(--fill-color);\n",
              "      border-bottom-color: var(--fill-color);\n",
              "    }\n",
              "    90% {\n",
              "      border-color: transparent;\n",
              "      border-bottom-color: var(--fill-color);\n",
              "    }\n",
              "  }\n",
              "</style>\n",
              "\n",
              "  <script>\n",
              "    async function quickchart(key) {\n",
              "      const quickchartButtonEl =\n",
              "        document.querySelector('#' + key + ' button');\n",
              "      quickchartButtonEl.disabled = true;  // To prevent multiple clicks.\n",
              "      quickchartButtonEl.classList.add('colab-df-spinner');\n",
              "      try {\n",
              "        const charts = await google.colab.kernel.invokeFunction(\n",
              "            'suggestCharts', [key], {});\n",
              "      } catch (error) {\n",
              "        console.error('Error during call to suggestCharts:', error);\n",
              "      }\n",
              "      quickchartButtonEl.classList.remove('colab-df-spinner');\n",
              "      quickchartButtonEl.classList.add('colab-df-quickchart-complete');\n",
              "    }\n",
              "    (() => {\n",
              "      let quickchartButtonEl =\n",
              "        document.querySelector('#df-ac103bab-edca-472d-a501-9537ae88fa4f button');\n",
              "      quickchartButtonEl.style.display =\n",
              "        google.colab.kernel.accessAllowed ? 'block' : 'none';\n",
              "    })();\n",
              "  </script>\n",
              "</div>\n",
              "\n",
              "  <div id=\"id_9415ecd4-9251-42c9-bd08-6547ea9e927b\">\n",
              "    <style>\n",
              "      .colab-df-generate {\n",
              "        background-color: #E8F0FE;\n",
              "        border: none;\n",
              "        border-radius: 50%;\n",
              "        cursor: pointer;\n",
              "        display: none;\n",
              "        fill: #1967D2;\n",
              "        height: 32px;\n",
              "        padding: 0 0 0 0;\n",
              "        width: 32px;\n",
              "      }\n",
              "\n",
              "      .colab-df-generate:hover {\n",
              "        background-color: #E2EBFA;\n",
              "        box-shadow: 0px 1px 2px rgba(60, 64, 67, 0.3), 0px 1px 3px 1px rgba(60, 64, 67, 0.15);\n",
              "        fill: #174EA6;\n",
              "      }\n",
              "\n",
              "      [theme=dark] .colab-df-generate {\n",
              "        background-color: #3B4455;\n",
              "        fill: #D2E3FC;\n",
              "      }\n",
              "\n",
              "      [theme=dark] .colab-df-generate:hover {\n",
              "        background-color: #434B5C;\n",
              "        box-shadow: 0px 1px 3px 1px rgba(0, 0, 0, 0.15);\n",
              "        filter: drop-shadow(0px 1px 2px rgba(0, 0, 0, 0.3));\n",
              "        fill: #FFFFFF;\n",
              "      }\n",
              "    </style>\n",
              "    <button class=\"colab-df-generate\" onclick=\"generateWithVariable('df_merged')\"\n",
              "            title=\"Generate code using this dataframe.\"\n",
              "            style=\"display:none;\">\n",
              "\n",
              "  <svg xmlns=\"http://www.w3.org/2000/svg\" height=\"24px\"viewBox=\"0 0 24 24\"\n",
              "       width=\"24px\">\n",
              "    <path d=\"M7,19H8.4L18.45,9,17,7.55,7,17.6ZM5,21V16.75L18.45,3.32a2,2,0,0,1,2.83,0l1.4,1.43a1.91,1.91,0,0,1,.58,1.4,1.91,1.91,0,0,1-.58,1.4L9.25,21ZM18.45,9,17,7.55Zm-12,3A5.31,5.31,0,0,0,4.9,8.1,5.31,5.31,0,0,0,1,6.5,5.31,5.31,0,0,0,4.9,4.9,5.31,5.31,0,0,0,6.5,1,5.31,5.31,0,0,0,8.1,4.9,5.31,5.31,0,0,0,12,6.5,5.46,5.46,0,0,0,6.5,12Z\"/>\n",
              "  </svg>\n",
              "    </button>\n",
              "    <script>\n",
              "      (() => {\n",
              "      const buttonEl =\n",
              "        document.querySelector('#id_9415ecd4-9251-42c9-bd08-6547ea9e927b button.colab-df-generate');\n",
              "      buttonEl.style.display =\n",
              "        google.colab.kernel.accessAllowed ? 'block' : 'none';\n",
              "\n",
              "      buttonEl.onclick = () => {\n",
              "        google.colab.notebook.generateWithVariable('df_merged');\n",
              "      }\n",
              "      })();\n",
              "    </script>\n",
              "  </div>\n",
              "\n",
              "    </div>\n",
              "  </div>\n"
            ],
            "application/vnd.google.colaboratory.intrinsic+json": {
              "type": "dataframe",
              "variable_name": "df_merged",
              "summary": "{\n  \"name\": \"df_merged\",\n  \"rows\": 5,\n  \"fields\": [\n    {\n      \"column\": \"Metric\",\n      \"properties\": {\n        \"dtype\": \"string\",\n        \"num_unique_values\": 5,\n        \"samples\": [\n          \"answer_relevancy\",\n          \"answer_correctness\",\n          \"context_recall\"\n        ],\n        \"semantic_type\": \"\",\n        \"description\": \"\"\n      }\n    },\n    {\n      \"column\": \"Baseline\",\n      \"properties\": {\n        \"dtype\": \"number\",\n        \"std\": 0.14131198336074755,\n        \"min\": 0.6621452508874803,\n        \"max\": 1.0,\n        \"num_unique_values\": 4,\n        \"samples\": [\n          0.9573116930616103,\n          0.6621452508874803,\n          1.0\n        ],\n        \"semantic_type\": \"\",\n        \"description\": \"\"\n      }\n    },\n    {\n      \"column\": \"MultiQueryRetriever with Document Stuffing\",\n      \"properties\": {\n        \"dtype\": \"number\",\n        \"std\": 0.10768383940734737,\n        \"min\": 0.7369526620126033,\n        \"max\": 1.0,\n        \"num_unique_values\": 4,\n        \"samples\": [\n          0.9194357578960861,\n          0.7369526620126033,\n          1.0\n        ],\n        \"semantic_type\": \"\",\n        \"description\": \"\"\n      }\n    },\n    {\n      \"column\": \"Delta\",\n      \"properties\": {\n        \"dtype\": \"number\",\n        \"std\": 0.04280019759829049,\n        \"min\": -0.03787593516552423,\n        \"max\": 0.07480741112512301,\n        \"num_unique_values\": 4,\n        \"samples\": [\n          -0.03787593516552423,\n          0.07480741112512301,\n          0.0\n        ],\n        \"semantic_type\": \"\",\n        \"description\": \"\"\n      }\n    }\n  ]\n}"
            }
          },
          "metadata": {},
          "execution_count": 66
        }
      ]
    }
  ]
}