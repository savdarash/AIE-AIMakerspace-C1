{
  "nbformat": 4,
  "nbformat_minor": 0,
  "metadata": {
    "colab": {
      "provenance": []
    },
    "kernelspec": {
      "name": "python3",
      "display_name": "Python 3"
    },
    "language_info": {
      "name": "python"
    }
  },
  "cells": [
    {
      "cell_type": "markdown",
      "source": [
        "# OpenAI Assistants - Building Agentic RAG with the Function Calling, Retrieval, and Code Interpreter Tools\n",
        "\n",
        "Today we'll explore using OpenAI's Python SDK to create, manage, and use the OpenAI Assistant API!"
      ],
      "metadata": {
        "id": "RgDepNVhvzIr"
      }
    },
    {
      "cell_type": "markdown",
      "source": [
        "## Dependencies\n",
        "\n",
        "We'll start, as we usually do, with some dependiencies and our API key!"
      ],
      "metadata": {
        "id": "RNU6b3ymwOWq"
      }
    },
    {
      "cell_type": "code",
      "execution_count": 1,
      "metadata": {
        "id": "ePayyL6at6LS",
        "colab": {
          "base_uri": "https://localhost:8080/"
        },
        "outputId": "db21675c-14b6-4cfa-e2fe-26733c89fab2"
      },
      "outputs": [
        {
          "output_type": "stream",
          "name": "stdout",
          "text": [
            "\u001b[2K     \u001b[90m━━━━━━━━━━━━━━━━━━━━━━━━━━━━━━━━━━━━━━━━\u001b[0m \u001b[32m226.7/226.7 kB\u001b[0m \u001b[31m2.1 MB/s\u001b[0m eta \u001b[36m0:00:00\u001b[0m\n",
            "\u001b[2K     \u001b[90m━━━━━━━━━━━━━━━━━━━━━━━━━━━━━━━━━━━━━━━━\u001b[0m \u001b[32m75.6/75.6 kB\u001b[0m \u001b[31m7.9 MB/s\u001b[0m eta \u001b[36m0:00:00\u001b[0m\n",
            "\u001b[2K     \u001b[90m━━━━━━━━━━━━━━━━━━━━━━━━━━━━━━━━━━━━━━━━\u001b[0m \u001b[32m77.8/77.8 kB\u001b[0m \u001b[31m9.0 MB/s\u001b[0m eta \u001b[36m0:00:00\u001b[0m\n",
            "\u001b[2K     \u001b[90m━━━━━━━━━━━━━━━━━━━━━━━━━━━━━━━━━━━━━━━━\u001b[0m \u001b[32m58.3/58.3 kB\u001b[0m \u001b[31m6.8 MB/s\u001b[0m eta \u001b[36m0:00:00\u001b[0m\n",
            "\u001b[?25h"
          ]
        }
      ],
      "source": [
        "!pip install -qU openai"
      ]
    },
    {
      "cell_type": "code",
      "source": [
        "from getpass import getpass\n",
        "import os\n",
        "\n",
        "os.environ[\"OPENAI_API_KEY\"] = getpass(\"OpenAI API Key:\")"
      ],
      "metadata": {
        "colab": {
          "base_uri": "https://localhost:8080/"
        },
        "id": "unKr3HZdu-1V",
        "outputId": "cfd99448-e5cc-4c3e-d143-973270048b1a"
      },
      "execution_count": 2,
      "outputs": [
        {
          "name": "stdout",
          "output_type": "stream",
          "text": [
            "OpenAI API Key:··········\n"
          ]
        }
      ]
    },
    {
      "cell_type": "markdown",
      "source": [
        "## Simple Assistant\n",
        "\n",
        "Let's create a simple Assistant to understand more about how the API works to start!"
      ],
      "metadata": {
        "id": "nwNE7N4HwhXH"
      }
    },
    {
      "cell_type": "markdown",
      "source": [
        "### OpenAI Client\n",
        "\n",
        "At the core of the OpenAI Python SDK is the Client!\n",
        "\n",
        "> NOTE: For ease of use, we'll start with the synchronous `OpenAI()`. OpenAI does provide an `AsyncOpenAI()` that you could leverage as well!"
      ],
      "metadata": {
        "id": "KKEwbLMFxNKs"
      }
    },
    {
      "cell_type": "code",
      "source": [
        "from openai import OpenAI\n",
        "\n",
        "client = OpenAI()"
      ],
      "metadata": {
        "id": "wF-mBZwtuavl"
      },
      "execution_count": 3,
      "outputs": []
    },
    {
      "cell_type": "markdown",
      "source": [
        "### Creating An Assistant\n",
        "\n",
        "Leveraging what we know about the OpenAI API from previous sessions - we're going to start by simply initializing an Assistant.\n",
        "\n",
        "Before we begin, we need to think about a few customization options we have:\n",
        "\n",
        "- `name` - Straight forward enough, this is what our Assistant's name will be\n",
        "- `instructions` - similar to a system message, but applied at an Assistant level, this is how we can guide the Assistant's tone, behaviour, functionality, and more!\n",
        "- `model` - this will allow us to choose which model we would prefer to use for our Assistant\n",
        "\n",
        "Let's start by setting some instructions for our Assistant.\n",
        "\n"
      ],
      "metadata": {
        "id": "0aIx4GZ2w_1c"
      }
    },
    {
      "cell_type": "code",
      "source": [
        "# @markdown #### 🏗️ Build Activity 🏗️\n",
        "# @markdown Fill out the fields below to add your Assistant's name, instructions, and desired model!\n",
        "\n",
        "name = \"Jeeves\" # @param {type: \"string\"}\n",
        "instructions = \"you're funny, helpful and serious about giving the best answer at all times\" # @param {type: \"string\"}\n",
        "model = \"gpt-3.5-turbo\" # @param [\"gpt-3.5-turbo\", \"gpt-4-turbo-preview\", \"gpt-4\"]"
      ],
      "metadata": {
        "cellView": "form",
        "id": "Paqd6zWMyMAJ"
      },
      "execution_count": 4,
      "outputs": []
    },
    {
      "cell_type": "markdown",
      "source": [
        "### Initialize Assistant\n",
        "\n",
        "Now that we have our desired name, instruction, and model - we can initialize our Assistant!"
      ],
      "metadata": {
        "id": "WUeaDsLMzcv-"
      }
    },
    {
      "cell_type": "code",
      "source": [
        "assistant = client.beta.assistants.create(\n",
        "    name=name,\n",
        "    instructions=instructions,\n",
        "    model=model,\n",
        ")"
      ],
      "metadata": {
        "id": "6-4MgVLbu8rO"
      },
      "execution_count": 5,
      "outputs": []
    },
    {
      "cell_type": "markdown",
      "source": [
        "Let's examine our `assistant` object and see what we find!"
      ],
      "metadata": {
        "id": "QskO5n5W2X6t"
      }
    },
    {
      "cell_type": "code",
      "source": [
        "assistant"
      ],
      "metadata": {
        "colab": {
          "base_uri": "https://localhost:8080/"
        },
        "id": "nkkIC_JP2bG0",
        "outputId": "3e53bf28-2133-4db3-d73d-924f5c20bbbc"
      },
      "execution_count": 6,
      "outputs": [
        {
          "output_type": "execute_result",
          "data": {
            "text/plain": [
              "Assistant(id='asst_cUE1bLel2TYO2tkL1SJ45IGn', created_at=1709053235, description=None, file_ids=[], instructions=\"you're funny, helpful and serious about giving the best answer at all times\", metadata={}, model='gpt-3.5-turbo', name='Jeeves', object='assistant', tools=[])"
            ]
          },
          "metadata": {},
          "execution_count": 6
        }
      ]
    },
    {
      "cell_type": "markdown",
      "source": [
        "There are a number of useful parameters here, but we'll call out a few:\n",
        "\n",
        "- `id` - since we may have multiple Assistant's, knowing which Assistant we're interacting with will help us ensure the desired user experience!\n",
        "- `description` - A natrual language description of our Assistant could help others understand what it's supposed to do!\n",
        "- `file_ids` - if we wanted to use the Retrieval tool, this would let us know what files we had given our Assistant"
      ],
      "metadata": {
        "id": "615NK1Qj2e_Z"
      }
    },
    {
      "cell_type": "markdown",
      "source": [
        "### Creating a Thread\n",
        "\n",
        "Behind the scenes our Assistant is powered by the idea of \"threads\".\n",
        "\n",
        "You can think of threads as individual conversations that interact with the Assistant.\n",
        "\n",
        "Let's create a thread now!"
      ],
      "metadata": {
        "id": "-3HhlqtM0AhW"
      }
    },
    {
      "cell_type": "code",
      "source": [
        "thread = client.beta.threads.create()"
      ],
      "metadata": {
        "id": "iFVM39vevT5f"
      },
      "execution_count": 7,
      "outputs": []
    },
    {
      "cell_type": "markdown",
      "source": [
        "Let's look at our `thread` object."
      ],
      "metadata": {
        "id": "_Y7jelq01PoG"
      }
    },
    {
      "cell_type": "code",
      "source": [
        "thread"
      ],
      "metadata": {
        "colab": {
          "base_uri": "https://localhost:8080/"
        },
        "id": "5V8WAKDZ1Uf2",
        "outputId": "b1847e55-410b-4883-f036-f8021a452adf"
      },
      "execution_count": 8,
      "outputs": [
        {
          "output_type": "execute_result",
          "data": {
            "text/plain": [
              "Thread(id='thread_6jNo4GGUtyaWsyVXV5rvKM9k', created_at=1709053278, metadata={}, object='thread')"
            ]
          },
          "metadata": {},
          "execution_count": 8
        }
      ]
    },
    {
      "cell_type": "markdown",
      "source": [
        "Notice some key attributes:\n",
        "\n",
        "- `id` - since each Thread is like a conversation, we need some way to specify which thread we're dealing with when interacting with them\n",
        "- `tool_resources` - this will become more relevant as we add tools since we'll need a way to verify which tools we have access to when interacting with our Assistant"
      ],
      "metadata": {
        "id": "4k6S_e501V4z"
      }
    },
    {
      "cell_type": "markdown",
      "source": [
        "### Adding Messages to Our Thread\n",
        "\n",
        "Now that we have our Thread (or conversation) we can start adding messages to it!\n",
        "\n",
        "Let's add a simple message that asks about how our Assistant is feeling.\n",
        "\n",
        "Notice the parameters we're leveraging:\n",
        "\n",
        "- `thread_id` - since each Thread is like a conversation, we need some way to address a specific conversation. We can use `thread.id` to do this.\n",
        "- `role` - similar to when we used our chat completions endpoint, this parameter specifies who the message is coming from. You can leverage this in the same ways you would through the chat completions endpoint.\n",
        "- `content` - this is where we can place the actual text our Assistant will interact with\n",
        "\n",
        "> NOTE: Feel free to substitute a relevant message based on the Assistant you created"
      ],
      "metadata": {
        "id": "P5BvGv1N0c2h"
      }
    },
    {
      "cell_type": "code",
      "source": [
        "message = client.beta.threads.messages.create(\n",
        "    thread_id=thread.id,\n",
        "    role=\"user\",\n",
        "    content=f\"How old are you?\"\n",
        ")"
      ],
      "metadata": {
        "id": "R7ZNCfGivagg"
      },
      "execution_count": 9,
      "outputs": []
    },
    {
      "cell_type": "markdown",
      "source": [
        "Again, let's examine our `message` object!"
      ],
      "metadata": {
        "id": "Uc7R3Sr32P0b"
      }
    },
    {
      "cell_type": "code",
      "source": [
        "message"
      ],
      "metadata": {
        "colab": {
          "base_uri": "https://localhost:8080/"
        },
        "id": "wMLvyZDA2S_D",
        "outputId": "75ae5092-d0b3-4c2f-b827-755de6d277da"
      },
      "execution_count": 10,
      "outputs": [
        {
          "output_type": "execute_result",
          "data": {
            "text/plain": [
              "ThreadMessage(id='msg_vWiiszUBOgE7wXzu3omKqXNs', assistant_id=None, content=[MessageContentText(text=Text(annotations=[], value='How old are you?'), type='text')], created_at=1709053359, file_ids=[], metadata={}, object='thread.message', role='user', run_id=None, thread_id='thread_6jNo4GGUtyaWsyVXV5rvKM9k')"
            ]
          },
          "metadata": {},
          "execution_count": 10
        }
      ]
    },
    {
      "cell_type": "markdown",
      "source": [
        "### Running Our Thread\n",
        "\n",
        "Now that we have an Assistant, and we've given that Assistant a Thread, and we've added a Message to that Thread - we're ready to run our Assistant!\n",
        "\n",
        "Notice that this process lets us add (potentially) multiple messages to our Assistant. We can leverage that behaviour for few/many-shot examples, and more!"
      ],
      "metadata": {
        "id": "uI3Pctpk29og"
      }
    },
    {
      "cell_type": "code",
      "source": [
        "# @markdown #### 🏗️ Build Activity 🏗️\n",
        "# @markdown We can also override the Assistant's instructions when we run a thread.\n",
        "\n",
        "# @markdown Use one of the [Prompt Principles for Instruction](https://arxiv.org/pdf/2312.16171v1.pdf) to improve the likeliehood of a correct or valuable response from your Assistant.\n",
        "\n",
        "additional_instructions = \"Imagine you're a personal assistant  to the user and if they are polite you'll explain things better\" # @param {type: \"string\"}"
      ],
      "metadata": {
        "cellView": "form",
        "id": "VkvsXv5_3cyQ"
      },
      "execution_count": 11,
      "outputs": []
    },
    {
      "cell_type": "markdown",
      "source": [
        "Let's run our Thread!"
      ],
      "metadata": {
        "id": "7CuGbTrL5QEc"
      }
    },
    {
      "cell_type": "code",
      "source": [
        "run = client.beta.threads.runs.create(\n",
        "  thread_id=thread.id,\n",
        "  assistant_id=assistant.id,\n",
        "  instructions=instructions + \" \" + additional_instructions\n",
        ")"
      ],
      "metadata": {
        "id": "fpWNl3UVvdW4"
      },
      "execution_count": 12,
      "outputs": []
    },
    {
      "cell_type": "markdown",
      "source": [
        "Now that we've run our thread, let's look at the object!"
      ],
      "metadata": {
        "id": "erMGdU7y6la2"
      }
    },
    {
      "cell_type": "code",
      "source": [
        "run"
      ],
      "metadata": {
        "colab": {
          "base_uri": "https://localhost:8080/"
        },
        "id": "Kz_rfwi869YI",
        "outputId": "54830c78-23a3-4b61-e466-38da07c6c333"
      },
      "execution_count": 13,
      "outputs": [
        {
          "output_type": "execute_result",
          "data": {
            "text/plain": [
              "Run(id='run_v3wpl08ESEiuYkq11jYhjATV', assistant_id='asst_cUE1bLel2TYO2tkL1SJ45IGn', cancelled_at=None, completed_at=None, created_at=1709053734, expires_at=1709054334, failed_at=None, file_ids=[], instructions=\"you're funny, helpful and serious about giving the best answer at all times Imagine you're a personal assistant  to the user and explain things in a non complex way\", last_error=None, metadata={}, model='gpt-3.5-turbo', object='thread.run', required_action=None, started_at=None, status='queued', thread_id='thread_6jNo4GGUtyaWsyVXV5rvKM9k', tools=[], usage=None)"
            ]
          },
          "metadata": {},
          "execution_count": 13
        }
      ]
    },
    {
      "cell_type": "markdown",
      "source": [
        "Notice we have access to a few very powerful parameters in this `run` object.\n",
        "\n",
        "- `completed_at` - this will help us determine when we can expect to retrieve a response\n",
        "- `failed_at` - this can highlight any issues our run ran into\n",
        "- `status` - is another way we can understand how the flow is going"
      ],
      "metadata": {
        "id": "-h2SH_347JJb"
      }
    },
    {
      "cell_type": "markdown",
      "source": [
        "### Retrieving Our Run\n",
        "\n",
        "Now that we've created our run, let's retrieve it.\n",
        "\n",
        "We're going to wrap this in a simple loop to make sure we're not retrieving it too early."
      ],
      "metadata": {
        "id": "HVBNagBU7kpx"
      }
    },
    {
      "cell_type": "code",
      "source": [
        "import time\n",
        "\n",
        "while run.status == \"in_progress\" or run.status == \"queued\":\n",
        "  time.sleep(1)\n",
        "  run = client.beta.threads.runs.retrieve(\n",
        "    thread_id=thread.id,\n",
        "    run_id=run.id\n",
        "  )"
      ],
      "metadata": {
        "id": "itz5_otPvfkV"
      },
      "execution_count": 14,
      "outputs": []
    },
    {
      "cell_type": "code",
      "source": [
        "print(run.status)"
      ],
      "metadata": {
        "colab": {
          "base_uri": "https://localhost:8080/"
        },
        "id": "AgGE1uUJ7z3h",
        "outputId": "6a5ee58f-bbf4-4f4c-e5ac-c638b39d60d4"
      },
      "execution_count": 15,
      "outputs": [
        {
          "output_type": "stream",
          "name": "stdout",
          "text": [
            "completed\n"
          ]
        }
      ]
    },
    {
      "cell_type": "markdown",
      "source": [
        "Now that our run is completed - we can retieve the messages from our thread!\n",
        "\n",
        "Notice that our run helps us understand how things are going - but it isn't where we're going to find our responses or messages. Those are added on the backend into our thread.\n",
        "\n",
        "This leads to a simple, but important, flow:\n",
        "\n",
        "1. We add messages to a thread.\n",
        "2. We create a run on that thread.\n",
        "3. We wait until the run is finished.\n",
        "4. We check our thread for the new messages."
      ],
      "metadata": {
        "id": "zHVTS4hD7-fv"
      }
    },
    {
      "cell_type": "markdown",
      "source": [
        "### Checking Our Thread\n",
        "\n",
        "Now we can get a list of messages from our thread!"
      ],
      "metadata": {
        "id": "DGBNpGmh-ZpW"
      }
    },
    {
      "cell_type": "code",
      "source": [
        "messages = client.beta.threads.messages.list(\n",
        "  thread_id=thread.id\n",
        ")"
      ],
      "metadata": {
        "id": "Av-OQDUPvhAd"
      },
      "execution_count": 16,
      "outputs": []
    },
    {
      "cell_type": "code",
      "source": [
        "messages.data[0]"
      ],
      "metadata": {
        "colab": {
          "base_uri": "https://localhost:8080/"
        },
        "id": "GM6cZk-GviqX",
        "outputId": "5e81dc4f-4c83-4c6d-af7d-f29136ac67e1"
      },
      "execution_count": 17,
      "outputs": [
        {
          "output_type": "execute_result",
          "data": {
            "text/plain": [
              "ThreadMessage(id='msg_v9hnrRut7oFrxtFAZTgtrrH8', assistant_id='asst_cUE1bLel2TYO2tkL1SJ45IGn', content=[MessageContentText(text=Text(annotations=[], value=\"I don't have an age like humans do, but I'm here to help you with any questions or tasks you have! Just let me know how I can assist you today.\"), type='text')], created_at=1709053736, file_ids=[], metadata={}, object='thread.message', role='assistant', run_id='run_v3wpl08ESEiuYkq11jYhjATV', thread_id='thread_6jNo4GGUtyaWsyVXV5rvKM9k')"
            ]
          },
          "metadata": {},
          "execution_count": 17
        }
      ]
    },
    {
      "cell_type": "markdown",
      "source": [
        "## Adding Tools\n",
        "\n",
        "Now that we have an understanding of how Assistant works, we can start thinking about adding tools.\n",
        "\n",
        "We'll go through 3 separate tools and explore how we can leverage them!\n",
        "\n",
        "Let's start with the most familiar tool - the Retriever!\n"
      ],
      "metadata": {
        "id": "XgnY16tjCmc6"
      }
    },
    {
      "cell_type": "markdown",
      "source": [
        "### Creating an Assistant with the Retriever Tool\n",
        "\n",
        "The first thing we'll want to do is create an assistant with the Retriever tool.\n",
        "\n",
        "This is also going to require some data. We'll provided data - but you're very much encouraged to use your own files to explore how the Assistant works for your use case."
      ],
      "metadata": {
        "id": "Z0NagnlZC8g9"
      }
    },
    {
      "cell_type": "markdown",
      "source": [
        "#### Collect and Add Data\n",
        "\n",
        "First, we need some data. Second, we need to add the data to our Assistant!\n",
        "\n",
        "Let's start with grabbing some data!"
      ],
      "metadata": {
        "id": "HInYwNiQEjQH"
      }
    },
    {
      "cell_type": "code",
      "source": [
        "!wget https://www.gutenberg.org/files/84/84-h/84-h.htm -o frankenstein.html"
      ],
      "metadata": {
        "id": "wvAHBszIEa1Y"
      },
      "execution_count": 18,
      "outputs": []
    },
    {
      "cell_type": "markdown",
      "source": [
        "Now we can upload our file!\n",
        "\n",
        "Pay attention to [this](https://platform.openai.com/docs/assistants/tools/supported-files) documentation to see what kinds of files can be uploaded.\n",
        "\n",
        "> NOTE: Per the OpenAI [docs](https://platform.openai.com/docs/assistants/tools/knowledge-retrieval) The maximum file size is 512 MB and no more than 2,000,000 tokens (computed automatically when you attach a file)"
      ],
      "metadata": {
        "id": "x2EpY1w_FQ3m"
      }
    },
    {
      "cell_type": "code",
      "source": [
        "file_reference = client.files.create(\n",
        "  file=open(\"frankenstein.html\", \"rb\"),\n",
        "  purpose='assistants'\n",
        ")"
      ],
      "metadata": {
        "id": "dpVoe2SMFI6s"
      },
      "execution_count": 20,
      "outputs": []
    },
    {
      "cell_type": "markdown",
      "source": [
        "Let's look at what our `file_reference` contains!"
      ],
      "metadata": {
        "id": "rBQOSGyyF2u5"
      }
    },
    {
      "cell_type": "code",
      "source": [
        "file_reference"
      ],
      "metadata": {
        "colab": {
          "base_uri": "https://localhost:8080/"
        },
        "id": "zJrVLkMpFgwf",
        "outputId": "2e7f7571-56dc-4761-b0f5-1701c67529ab"
      },
      "execution_count": 21,
      "outputs": [
        {
          "output_type": "execute_result",
          "data": {
            "text/plain": [
              "FileObject(id='file-p300vH7RsiSXHsgjwA39c6cn', bytes=1200, created_at=1709054839, filename='frankenstein.html', object='file', purpose='assistants', status='processed', status_details=None)"
            ]
          },
          "metadata": {},
          "execution_count": 21
        }
      ]
    },
    {
      "cell_type": "markdown",
      "source": [
        "#### Create and Use Assistant\n",
        "\n",
        "Now that we have our file - we can attach it to an Assistant, and we can give that Assistant the ability to use it for retrieval through the Retrieval tool!\n",
        "\n",
        "> NOTE: Please pay attention to [pricing](https://platform.openai.com/docs/assistants/tools/knowledge-retrieval) and don't forget to delete your files when you're done!"
      ],
      "metadata": {
        "id": "Jd4O4dpZF-eH"
      }
    },
    {
      "cell_type": "code",
      "source": [
        "assistant = client.beta.assistants.create(\n",
        "  name=name + \"+ Retrieval\",\n",
        "  instructions=instructions,\n",
        "  model=model,\n",
        "  tools=[{\"type\": \"retrieval\"}],\n",
        "  file_ids=[file_reference.id]\n",
        ")"
      ],
      "metadata": {
        "id": "jfn_MlJqFiEe"
      },
      "execution_count": 22,
      "outputs": []
    },
    {
      "cell_type": "markdown",
      "source": [
        "Let's try submitting a message to our Assistant and seeing what kind of answer we get!\n",
        "\n",
        "We'll outline the steps needed to do this in full:\n",
        "\n",
        "1. Create an Assistant\n",
        "2. Create a Thread\n",
        "3. Add Messages to that Thread\n",
        "4. Create a Run on that Thread\n",
        "5. Wait for Run to Complete\n",
        "6. Collect Messages from the Thread\n",
        "\n",
        "Let's do that below!"
      ],
      "metadata": {
        "id": "f0-mmRjQGeUR"
      }
    },
    {
      "cell_type": "code",
      "source": [
        "# Create a Thread\n",
        "thread = client.beta.threads.create()\n",
        "\n",
        "# Add Messages to that Thread\n",
        "message = client.beta.threads.messages.create(\n",
        "    thread_id=thread.id,\n",
        "    role=\"user\",\n",
        "    content=f\"What is the first words Victor Frankenstein speaks?\"\n",
        ")\n",
        "\n",
        "# Create a Run on that Thread\n",
        "run = client.beta.threads.runs.create(\n",
        "  thread_id=thread.id,\n",
        "  assistant_id=assistant.id,\n",
        ")\n",
        "\n",
        "# Wait for Run to Complete\n",
        "while run.status == \"in_progress\" or run.status == \"queued\":\n",
        "  time.sleep(1)\n",
        "  print(run.status)\n",
        "  run = client.beta.threads.runs.retrieve(\n",
        "    thread_id=thread.id,\n",
        "    run_id=run.id\n",
        "  )\n",
        "\n",
        "# Collect Messages from the Thread\n",
        "messages = client.beta.threads.messages.list(\n",
        "  thread_id=thread.id\n",
        ")"
      ],
      "metadata": {
        "colab": {
          "base_uri": "https://localhost:8080/"
        },
        "id": "jOKtb9PsGiB1",
        "outputId": "ad60d3b3-a58b-4f58-f692-4ebcad6e8546"
      },
      "execution_count": 23,
      "outputs": [
        {
          "output_type": "stream",
          "name": "stdout",
          "text": [
            "queued\n",
            "in_progress\n",
            "in_progress\n",
            "in_progress\n",
            "in_progress\n",
            "in_progress\n",
            "in_progress\n",
            "in_progress\n",
            "in_progress\n",
            "in_progress\n",
            "in_progress\n",
            "in_progress\n",
            "in_progress\n",
            "in_progress\n",
            "in_progress\n",
            "in_progress\n",
            "in_progress\n",
            "in_progress\n",
            "in_progress\n",
            "in_progress\n",
            "in_progress\n",
            "in_progress\n",
            "in_progress\n",
            "in_progress\n"
          ]
        }
      ]
    },
    {
      "cell_type": "markdown",
      "source": [
        "Let's look at the final result!"
      ],
      "metadata": {
        "id": "zxJfa-saHbNQ"
      }
    },
    {
      "cell_type": "code",
      "source": [
        "messages"
      ],
      "metadata": {
        "colab": {
          "base_uri": "https://localhost:8080/"
        },
        "id": "19nDqjRgHaNA",
        "outputId": "7676261d-50ef-40f1-fff7-23d7b95ae29f"
      },
      "execution_count": 24,
      "outputs": [
        {
          "output_type": "execute_result",
          "data": {
            "text/plain": [
              "SyncCursorPage[ThreadMessage](data=[ThreadMessage(id='msg_wlXumRE7RIGYBZkyqD0zDb4b', assistant_id=None, content=[MessageContentText(text=Text(annotations=[], value='What is the first words Victor Frankenstein speaks?'), type='text')], created_at=1709055208, file_ids=[], metadata={}, object='thread.message', role='user', run_id=None, thread_id='thread_2vrcqOl4tbFbF9VuPum0CFP2')], object='list', first_id='msg_wlXumRE7RIGYBZkyqD0zDb4b', last_id='msg_wlXumRE7RIGYBZkyqD0zDb4b', has_more=False)"
            ]
          },
          "metadata": {},
          "execution_count": 24
        }
      ]
    },
    {
      "cell_type": "markdown",
      "source": [
        "Let's do some clean up to make sure we're not being charged anything extra by deleting our resources."
      ],
      "metadata": {
        "id": "5JdzJDvmHyNF"
      }
    },
    {
      "cell_type": "code",
      "source": [
        "file_deletion_status = client.beta.assistants.files.delete(\n",
        "  assistant_id=assistant.id,\n",
        "  file_id=file_reference.id\n",
        ")"
      ],
      "metadata": {
        "id": "01EYWyWBHaoC"
      },
      "execution_count": 25,
      "outputs": []
    },
    {
      "cell_type": "markdown",
      "source": [
        "### Creating an Assistant with the Code Interpreter Tool\n",
        "\n",
        "Now that we've explored the Retrieval Tool - let's try the Code Interpreter tool!\n",
        "\n",
        "The process will be almost exactly the same - but we can explore a different query, and we'll add our file at the Message level!"
      ],
      "metadata": {
        "id": "Pln9uYoJICno"
      }
    },
    {
      "cell_type": "code",
      "source": [
        "assistant = client.beta.assistants.create(\n",
        "  name=name + \"+ Code Interpreter\",\n",
        "  instructions=instructions,\n",
        "  model=model,\n",
        "  tools=[{\"type\": \"code_interpreter\"}],\n",
        ")"
      ],
      "metadata": {
        "id": "IC81y_VtH9lw"
      },
      "execution_count": 26,
      "outputs": []
    },
    {
      "cell_type": "markdown",
      "source": [
        "In the following example, we'll also see how we can package the Thread creation with the Message adding step!\n",
        "\n",
        "> NOTE: Files added at the message/thread level will not be available to the Assistant outside of that Thread."
      ],
      "metadata": {
        "id": "UJPHAJCQJbgi"
      }
    },
    {
      "cell_type": "code",
      "source": [
        "thread = client.beta.threads.create(\n",
        "  messages=[\n",
        "    {\n",
        "      \"role\": \"user\",\n",
        "      \"content\": \"What kind of file is this?\",\n",
        "      \"file_ids\": [file_reference.id]\n",
        "    }\n",
        "  ]\n",
        ")"
      ],
      "metadata": {
        "id": "5xVdjH6EJQrr"
      },
      "execution_count": 27,
      "outputs": []
    },
    {
      "cell_type": "code",
      "source": [
        "file_reference.id"
      ],
      "metadata": {
        "colab": {
          "base_uri": "https://localhost:8080/",
          "height": 36
        },
        "id": "BO-noXRSebb7",
        "outputId": "1ff0db7d-f5eb-4f2c-db12-e8c8ffc11cd9"
      },
      "execution_count": 28,
      "outputs": [
        {
          "output_type": "execute_result",
          "data": {
            "text/plain": [
              "'file-p300vH7RsiSXHsgjwA39c6cn'"
            ],
            "application/vnd.google.colaboratory.intrinsic+json": {
              "type": "string"
            }
          },
          "metadata": {},
          "execution_count": 28
        }
      ]
    },
    {
      "cell_type": "markdown",
      "source": [
        "> NOTE: Remember that we create runs at the *thread* level - and so don't need the message object to continue."
      ],
      "metadata": {
        "id": "yiIYut_dJ0Cv"
      }
    },
    {
      "cell_type": "code",
      "source": [
        "# Create a Run on that Thread\n",
        "run = client.beta.threads.runs.create(\n",
        "  thread_id=thread.id,\n",
        "  assistant_id=assistant.id,\n",
        ")\n",
        "\n",
        "# Wait for Run to Complete\n",
        "while run.status == \"in_progress\" or run.status == \"queued\":\n",
        "  time.sleep(1)\n",
        "  print(run.status)\n",
        "  run = client.beta.threads.runs.retrieve(\n",
        "    thread_id=thread.id,\n",
        "    run_id=run.id\n",
        "  )\n",
        "\n",
        "# Collect Messages from the Thread\n",
        "messages = client.beta.threads.messages.list(\n",
        "  thread_id=thread.id\n",
        ")"
      ],
      "metadata": {
        "colab": {
          "base_uri": "https://localhost:8080/"
        },
        "id": "ES8laUe_Jwp_",
        "outputId": "e79c5533-acbb-4a1f-9e88-8c1794072bac"
      },
      "execution_count": 29,
      "outputs": [
        {
          "output_type": "stream",
          "name": "stdout",
          "text": [
            "queued\n",
            "in_progress\n",
            "in_progress\n",
            "in_progress\n",
            "in_progress\n",
            "in_progress\n",
            "in_progress\n",
            "in_progress\n",
            "in_progress\n",
            "in_progress\n",
            "in_progress\n",
            "in_progress\n",
            "in_progress\n",
            "in_progress\n",
            "in_progress\n",
            "in_progress\n",
            "in_progress\n",
            "in_progress\n",
            "in_progress\n",
            "in_progress\n",
            "in_progress\n",
            "in_progress\n",
            "in_progress\n",
            "in_progress\n",
            "in_progress\n",
            "in_progress\n",
            "in_progress\n",
            "in_progress\n",
            "in_progress\n",
            "in_progress\n",
            "in_progress\n",
            "in_progress\n",
            "in_progress\n",
            "in_progress\n",
            "in_progress\n",
            "in_progress\n",
            "in_progress\n",
            "in_progress\n",
            "in_progress\n",
            "in_progress\n",
            "in_progress\n",
            "in_progress\n",
            "in_progress\n",
            "in_progress\n"
          ]
        }
      ]
    },
    {
      "cell_type": "markdown",
      "source": [
        "We can check the specific steps that the Code Interpreter ran to figure out what steps the Assistant took!"
      ],
      "metadata": {
        "id": "iYPpGJz5KoDf"
      }
    },
    {
      "cell_type": "code",
      "source": [
        "run_steps = client.beta.threads.runs.steps.list(\n",
        "  thread_id=thread.id,\n",
        "  run_id=run.id\n",
        ")"
      ],
      "metadata": {
        "id": "or7iJ492KI2P"
      },
      "execution_count": 30,
      "outputs": []
    },
    {
      "cell_type": "code",
      "source": [
        "for step in run_steps.data:\n",
        "  print(step.step_details)"
      ],
      "metadata": {
        "colab": {
          "base_uri": "https://localhost:8080/"
        },
        "id": "DwbzExbmKJ4N",
        "outputId": "e056e130-59d3-4388-c437-390c822eeb1f"
      },
      "execution_count": 31,
      "outputs": [
        {
          "output_type": "stream",
          "name": "stdout",
          "text": [
            "MessageCreationStepDetails(message_creation=MessageCreation(message_id='msg_rcRJLhBaWWyT1YCsMX5mAlke'), type='message_creation')\n",
            "ToolCallsStepDetails(tool_calls=[CodeToolCall(id='call_vBB3bc3J2eSZKPhuuFdlLsFp', code_interpreter=CodeInterpreter(input=\"# Check for keywords in the file contents to determine the file type\\r\\nkeywords = ['html', 'HTTP', 'download', 'Resolving', 'OK', 'Length', 'text/html']\\r\\nmatching_keywords = [keyword for keyword in keywords if keyword.lower() in file_contents.lower()]\\r\\n\\r\\nmatching_keywords\", outputs=[CodeInterpreterOutputLogs(logs=\"['html', 'HTTP', 'Resolving', 'OK', 'Length', 'text/html']\", type='logs')]), type='code_interpreter')], type='tool_calls')\n",
            "MessageCreationStepDetails(message_creation=MessageCreation(message_id='msg_335vKwUJ02IIboo5ODtzZkCB'), type='message_creation')\n",
            "ToolCallsStepDetails(tool_calls=[CodeToolCall(id='call_pHOkusoZpei4GEp4A7gccPRc', code_interpreter=CodeInterpreter(input=\"# Display some of the contents of the file\\r\\nwith open(file_path, 'r', encoding='utf-8', errors='ignore') as file:\\r\\n    file_contents = file.read()\\r\\n\\r\\n# Display the beginning of the file contents\\r\\nfile_contents[:1000]  # Displaying the first 1000 characters of the file\", outputs=[CodeInterpreterOutputLogs(logs=\"'--2024-02-27 17:26:06--  https://www.gutenberg.org/files/84/84-h/84-h.htm\\\\nResolving www.gutenberg.org (www.gutenberg.org)... 152.19.134.47, 2610:28:3090:3000:0:bad:cafe:47\\\\nConnecting to www.gutenberg.org (www.gutenberg.org)|152.19.134.47|:443... connected.\\\\nHTTP request sent, awaiting response... 200 OK\\\\nLength: 466919 (456K) [text/html]\\\\nSaving to: ‘84-h.htm’\\\\n\\\\n     0K .......... .......... .......... .......... .......... 10% 1.34M 0s\\\\n    50K .......... .......... .......... .......... .......... 21% 1.39M 0s\\\\n   100K .......... .......... .......... .......... .......... 32%  198M 0s\\\\n   150K .......... .......... .......... .......... .......... 43% 1.37M 0s\\\\n   200K .......... .......... .......... .......... .......... 54%  251M 0s\\\\n   250K .......... .......... .......... .......... .......... 65%  545M 0s\\\\n   300K .......... .......... .......... .......... .......... 76%  520M 0s\\\\n   350K .......... .......... .......... .......... .......... 87%  567M 0s\\\\n   400K .......... .......... .'\", type='logs')]), type='code_interpreter')], type='tool_calls')\n",
            "MessageCreationStepDetails(message_creation=MessageCreation(message_id='msg_o5QMPCg2FRH7RtizBEoXi8e3'), type='message_creation')\n",
            "MessageCreationStepDetails(message_creation=MessageCreation(message_id='msg_4TqsDL02mvYgqyvD5Ohi8gct'), type='message_creation')\n",
            "ToolCallsStepDetails(tool_calls=[CodeToolCall(id='call_MWAL7YPa7B70zqmUZITPa4Dm', code_interpreter=CodeInterpreter(input='import filetype\\r\\n\\r\\n# Determine the file type using the filetype library\\r\\nfile_type = filetype.guess(file_path)\\r\\nfile_type.mime if file_type is not None else \"Unknown\"', outputs=[CodeInterpreterOutputLogs(logs=\"---------------------------------------------------------------------------\\nModuleNotFoundError                       Traceback (most recent call last)\\nCell In[6], line 1\\n----> 1 import filetype\\n      3 # Determine the file type using the filetype library\\n      4 file_type = filetype.guess(file_path)\\n\\nModuleNotFoundError: No module named 'filetype'\\n\", type='logs')]), type='code_interpreter')], type='tool_calls')\n",
            "MessageCreationStepDetails(message_creation=MessageCreation(message_id='msg_7j0YphBfP9wX3BbZPcB4PHMS'), type='message_creation')\n",
            "ToolCallsStepDetails(tool_calls=[CodeToolCall(id='call_cKroYeotcEP2CqiHMLWMkByU', code_interpreter=CodeInterpreter(input=\"import os\\r\\n\\r\\n# Check if the file is a text file\\r\\ndef is_text_file(file_path):\\r\\n    text_characters = bytearray({7, 8, 9, 10, 12, 13, 27} | set(range(0x20, 0x100)) - {0x7f})\\r\\n    with open(file_path, 'rb') as file:\\r\\n        chunk = file.read()\\r\\n        return bool(chunk.translate(None, text_characters))\\r\\n\\r\\n# Check if the file is a text file\\r\\nis_text = is_text_file(file_path)\\r\\nis_text, os.path.splitext(file_path)[1]\", outputs=[CodeInterpreterOutputLogs(logs=\"(False, '')\", type='logs')]), type='code_interpreter')], type='tool_calls')\n",
            "MessageCreationStepDetails(message_creation=MessageCreation(message_id='msg_DUfv1pAnLmIHRFQsOpWudn8J'), type='message_creation')\n",
            "ToolCallsStepDetails(tool_calls=[CodeToolCall(id='call_Rz034HAguPIbrTAqJShvsPqy', code_interpreter=CodeInterpreter(input=\"# Read the first few bytes of the file to infer its type\\r\\nwith open(file_path, 'rb') as file:\\r\\n    first_few_bytes = file.read(128)\\r\\n\\r\\nfirst_few_bytes\", outputs=[CodeInterpreterOutputLogs(logs=\"b'--2024-02-27 17:26:06--  https://www.gutenberg.org/files/84/84-h/84-h.htm\\\\nResolving www.gutenberg.org (www.gutenberg.org)... 152'\", type='logs')]), type='code_interpreter')], type='tool_calls')\n",
            "MessageCreationStepDetails(message_creation=MessageCreation(message_id='msg_QQSsXW3fBa1StQdMa2rjBYJJ'), type='message_creation')\n",
            "ToolCallsStepDetails(tool_calls=[CodeToolCall(id='call_onCPSQWvUMO5Md3WuAPR7dji', code_interpreter=CodeInterpreter(input=\"import mimetypes\\r\\n\\r\\n# Define the file path again\\r\\nfile_path = '/mnt/data/file-p300vH7RsiSXHsgjwA39c6cn'\\r\\n\\r\\n# Determine the file type using the mime type\\r\\nfile_mime_type = mimetypes.guess_type(file_path)\\r\\nfile_mime_type\", outputs=[CodeInterpreterOutputLogs(logs='(None, None)', type='logs')]), type='code_interpreter')], type='tool_calls')\n",
            "MessageCreationStepDetails(message_creation=MessageCreation(message_id='msg_cIlSb4Tya5seKS5Gs0v9Lbr4'), type='message_creation')\n",
            "ToolCallsStepDetails(tool_calls=[CodeToolCall(id='call_HJBiwCYfJhNQEmXlLq1ZYAtp', code_interpreter=CodeInterpreter(input='import mimetypes\\r\\n\\r\\n# Determine the file type using the mime type\\r\\nfile_mime_type = mimetypes.guess_type(file_path)\\r\\nfile_mime_type', outputs=[CodeInterpreterOutputLogs(logs=\"---------------------------------------------------------------------------\\nNameError                                 Traceback (most recent call last)\\nCell In[2], line 4\\n      1 import mimetypes\\n      3 # Determine the file type using the mime type\\n----> 4 file_mime_type = mimetypes.guess_type(file_path)\\n      5 file_mime_type\\n\\nNameError: name 'file_path' is not defined\\n\", type='logs')]), type='code_interpreter')], type='tool_calls')\n",
            "MessageCreationStepDetails(message_creation=MessageCreation(message_id='msg_qa74SwlfRrNQt5RQFNFGZAwg'), type='message_creation')\n",
            "ToolCallsStepDetails(tool_calls=[CodeToolCall(id='call_e99wVEB7CurCYCV5pbQM1RqP', code_interpreter=CodeInterpreter(input=\"import magic\\r\\n\\r\\n# Define the file path\\r\\nfile_path = '/mnt/data/file-p300vH7RsiSXHsgjwA39c6cn'\\r\\n\\r\\n# Use the magic library to determine the file type\\r\\nfile_type = magic.Magic(mime=True)\\r\\nfile_mime_type = file_type.from_file(file_path)\\r\\n\\r\\nfile_mime_type\", outputs=[CodeInterpreterOutputLogs(logs=\"---------------------------------------------------------------------------\\nModuleNotFoundError                       Traceback (most recent call last)\\nCell In[1], line 1\\n----> 1 import magic\\n      3 # Define the file path\\n      4 file_path = '/mnt/data/file-p300vH7RsiSXHsgjwA39c6cn'\\n\\nModuleNotFoundError: No module named 'magic'\\n\", type='logs')]), type='code_interpreter')], type='tool_calls')\n",
            "MessageCreationStepDetails(message_creation=MessageCreation(message_id='msg_JRnU0YmGKSzJosMyWKfx0RFO'), type='message_creation')\n"
          ]
        }
      ]
    },
    {
      "cell_type": "code",
      "source": [
        "messages"
      ],
      "metadata": {
        "colab": {
          "base_uri": "https://localhost:8080/"
        },
        "id": "cNJeFF6JJ62H",
        "outputId": "c3bb9f01-fee2-4dbd-d6e1-e4ceab4c08c3"
      },
      "execution_count": 32,
      "outputs": [
        {
          "output_type": "execute_result",
          "data": {
            "text/plain": [
              "SyncCursorPage[ThreadMessage](data=[ThreadMessage(id='msg_rcRJLhBaWWyT1YCsMX5mAlke', assistant_id='asst_MoNC8CQ2FC8ecAQm10TiYrFm', content=[MessageContentText(text=Text(annotations=[], value='The file contents contain keywords related to HTML, HTTP requests, resolving hosts, and text/html. This further confirms that the file may be related to a web download process or contain HTML content.\\n\\nBased on our analysis, the file type is likely an HTML file or a log file related to a web download process. If you would like, we can further investigate or analyze the content of this file. Feel free to let me know how you would like to proceed.'), type='text')], created_at=1709057010, file_ids=[], metadata={}, object='thread.message', role='assistant', run_id='run_ZzuLlaKyw9M4Y0zURhRHxomu', thread_id='thread_jLVKVzoUVu0yVY7AkhJ6CWK8'), ThreadMessage(id='msg_335vKwUJ02IIboo5ODtzZkCB', assistant_id='asst_MoNC8CQ2FC8ecAQm10TiYrFm', content=[MessageContentText(text=Text(annotations=[], value='The contents of the file seem to be a log or output of a download process from Project Gutenberg, as it contains details such as the URL, resolving the host, connection information, and the progress of the download.\\n\\nBased on the contents provided, it seems that the file is possibly a log file or a text file with download progress information. Let me check for any other clues to determine the file type.'), type='text')], created_at=1709057005, file_ids=[], metadata={}, object='thread.message', role='assistant', run_id='run_ZzuLlaKyw9M4Y0zURhRHxomu', thread_id='thread_jLVKVzoUVu0yVY7AkhJ6CWK8'), ThreadMessage(id='msg_o5QMPCg2FRH7RtizBEoXi8e3', assistant_id='asst_MoNC8CQ2FC8ecAQm10TiYrFm', content=[MessageContentText(text=Text(annotations=[], value='I will now display some of the contents of the file. This may help us better understand the type of file you uploaded.'), type='text')], created_at=1709057000, file_ids=[], metadata={}, object='thread.message', role='assistant', run_id='run_ZzuLlaKyw9M4Y0zURhRHxomu', thread_id='thread_jLVKVzoUVu0yVY7AkhJ6CWK8'), ThreadMessage(id='msg_4TqsDL02mvYgqyvD5Ohi8gct', assistant_id='asst_MoNC8CQ2FC8ecAQm10TiYrFm', content=[MessageContentText(text=Text(annotations=[], value=\"It looks like the `filetype` module, which is another library commonly used for determining file types, is also not available in this environment. Despite this limitation, we can still try to identify the file type by examining its contents. Let's take a closer look at the contents of the file to determine its type.\"), type='text')], created_at=1709056998, file_ids=[], metadata={}, object='thread.message', role='assistant', run_id='run_ZzuLlaKyw9M4Y0zURhRHxomu', thread_id='thread_jLVKVzoUVu0yVY7AkhJ6CWK8'), ThreadMessage(id='msg_7j0YphBfP9wX3BbZPcB4PHMS', assistant_id='asst_MoNC8CQ2FC8ecAQm10TiYrFm', content=[MessageContentText(text=Text(annotations=[], value='The file does not appear to be a text file, and the file extension is not being detected. Let me try a different approach to determine the file type.'), type='text')], created_at=1709056994, file_ids=[], metadata={}, object='thread.message', role='assistant', run_id='run_ZzuLlaKyw9M4Y0zURhRHxomu', thread_id='thread_jLVKVzoUVu0yVY7AkhJ6CWK8'), ThreadMessage(id='msg_DUfv1pAnLmIHRFQsOpWudn8J', assistant_id='asst_MoNC8CQ2FC8ecAQm10TiYrFm', content=[MessageContentText(text=Text(annotations=[], value=\"Based on the first few bytes of the file, it appears to be a text file containing a URL for downloading content from Project Gutenberg. Let me check to see if it's a text file or something else.\"), type='text')], created_at=1709056989, file_ids=[], metadata={}, object='thread.message', role='assistant', run_id='run_ZzuLlaKyw9M4Y0zURhRHxomu', thread_id='thread_jLVKVzoUVu0yVY7AkhJ6CWK8'), ThreadMessage(id='msg_QQSsXW3fBa1StQdMa2rjBYJJ', assistant_id='asst_MoNC8CQ2FC8ecAQm10TiYrFm', content=[MessageContentText(text=Text(annotations=[], value=\"The `mimetypes` module was not able to determine the file type based on the mime type. Let's try to read the first few bytes of the file to see if we can infer its type from the contents.\"), type='text')], created_at=1709056985, file_ids=[], metadata={}, object='thread.message', role='assistant', run_id='run_ZzuLlaKyw9M4Y0zURhRHxomu', thread_id='thread_jLVKVzoUVu0yVY7AkhJ6CWK8'), ThreadMessage(id='msg_cIlSb4Tya5seKS5Gs0v9Lbr4', assistant_id='asst_MoNC8CQ2FC8ecAQm10TiYrFm', content=[MessageContentText(text=Text(annotations=[], value=\"It looks like there was an error while trying to identify the file type using an alternative method. Let's correct the issue and try again.\"), type='text')], created_at=1709056980, file_ids=[], metadata={}, object='thread.message', role='assistant', run_id='run_ZzuLlaKyw9M4Y0zURhRHxomu', thread_id='thread_jLVKVzoUVu0yVY7AkhJ6CWK8'), ThreadMessage(id='msg_qa74SwlfRrNQt5RQFNFGZAwg', assistant_id='asst_MoNC8CQ2FC8ecAQm10TiYrFm', content=[MessageContentText(text=Text(annotations=[], value='It seems that the `magic` module, which is commonly used to determine file types based on their contents, is not available in this restricted environment. Let me try an alternative method to identify the file type.'), type='text')], created_at=1709056975, file_ids=[], metadata={}, object='thread.message', role='assistant', run_id='run_ZzuLlaKyw9M4Y0zURhRHxomu', thread_id='thread_jLVKVzoUVu0yVY7AkhJ6CWK8'), ThreadMessage(id='msg_JRnU0YmGKSzJosMyWKfx0RFO', assistant_id='asst_MoNC8CQ2FC8ecAQm10TiYrFm', content=[MessageContentText(text=Text(annotations=[], value=\"Let's first determine the type of file you uploaded. I will read the uploaded file and check its contents to identify the file type.\"), type='text')], created_at=1709056963, file_ids=[], metadata={}, object='thread.message', role='assistant', run_id='run_ZzuLlaKyw9M4Y0zURhRHxomu', thread_id='thread_jLVKVzoUVu0yVY7AkhJ6CWK8'), ThreadMessage(id='msg_lEhDBT6Sxe8MZosH6TlzXV1m', assistant_id=None, content=[MessageContentText(text=Text(annotations=[], value='What kind of file is this?'), type='text')], created_at=1709056615, file_ids=['file-p300vH7RsiSXHsgjwA39c6cn'], metadata={}, object='thread.message', role='user', run_id=None, thread_id='thread_jLVKVzoUVu0yVY7AkhJ6CWK8')], object='list', first_id='msg_rcRJLhBaWWyT1YCsMX5mAlke', last_id='msg_lEhDBT6Sxe8MZosH6TlzXV1m', has_more=False)"
            ]
          },
          "metadata": {},
          "execution_count": 32
        }
      ]
    },
    {
      "cell_type": "code",
      "source": [
        "file_deletion_status = client.beta.assistants.files.delete(\n",
        "  assistant_id=assistant.id,\n",
        "  file_id=file_reference.id\n",
        ")"
      ],
      "metadata": {
        "id": "JdLC0rsvR5m5",
        "colab": {
          "base_uri": "https://localhost:8080/",
          "height": 339
        },
        "outputId": "4fb16f5e-3824-4f5a-b4c1-1442ef8f812a"
      },
      "execution_count": 33,
      "outputs": [
        {
          "output_type": "error",
          "ename": "NotFoundError",
          "evalue": "Error code: 404 - {'error': {'message': \"No file found with id 'file-p300vH7RsiSXHsgjwA39c6cn'.\", 'type': 'invalid_request_error', 'param': None, 'code': None}}",
          "traceback": [
            "\u001b[0;31m---------------------------------------------------------------------------\u001b[0m",
            "\u001b[0;31mNotFoundError\u001b[0m                             Traceback (most recent call last)",
            "\u001b[0;32m<ipython-input-33-0cfb64404f43>\u001b[0m in \u001b[0;36m<cell line: 1>\u001b[0;34m()\u001b[0m\n\u001b[0;32m----> 1\u001b[0;31m file_deletion_status = client.beta.assistants.files.delete(\n\u001b[0m\u001b[1;32m      2\u001b[0m   \u001b[0massistant_id\u001b[0m\u001b[0;34m=\u001b[0m\u001b[0massistant\u001b[0m\u001b[0;34m.\u001b[0m\u001b[0mid\u001b[0m\u001b[0;34m,\u001b[0m\u001b[0;34m\u001b[0m\u001b[0;34m\u001b[0m\u001b[0m\n\u001b[1;32m      3\u001b[0m   \u001b[0mfile_id\u001b[0m\u001b[0;34m=\u001b[0m\u001b[0mfile_reference\u001b[0m\u001b[0;34m.\u001b[0m\u001b[0mid\u001b[0m\u001b[0;34m\u001b[0m\u001b[0;34m\u001b[0m\u001b[0m\n\u001b[1;32m      4\u001b[0m )\n",
            "\u001b[0;32m/usr/local/lib/python3.10/dist-packages/openai/resources/beta/assistants/files.py\u001b[0m in \u001b[0;36mdelete\u001b[0;34m(self, file_id, assistant_id, extra_headers, extra_query, extra_body, timeout)\u001b[0m\n\u001b[1;32m    207\u001b[0m             \u001b[0;32mraise\u001b[0m \u001b[0mValueError\u001b[0m\u001b[0;34m(\u001b[0m\u001b[0;34mf\"Expected a non-empty value for `file_id` but received {file_id!r}\"\u001b[0m\u001b[0;34m)\u001b[0m\u001b[0;34m\u001b[0m\u001b[0;34m\u001b[0m\u001b[0m\n\u001b[1;32m    208\u001b[0m         \u001b[0mextra_headers\u001b[0m \u001b[0;34m=\u001b[0m \u001b[0;34m{\u001b[0m\u001b[0;34m\"OpenAI-Beta\"\u001b[0m\u001b[0;34m:\u001b[0m \u001b[0;34m\"assistants=v1\"\u001b[0m\u001b[0;34m,\u001b[0m \u001b[0;34m**\u001b[0m\u001b[0;34m(\u001b[0m\u001b[0mextra_headers\u001b[0m \u001b[0;32mor\u001b[0m \u001b[0;34m{\u001b[0m\u001b[0;34m}\u001b[0m\u001b[0;34m)\u001b[0m\u001b[0;34m}\u001b[0m\u001b[0;34m\u001b[0m\u001b[0;34m\u001b[0m\u001b[0m\n\u001b[0;32m--> 209\u001b[0;31m         return self._delete(\n\u001b[0m\u001b[1;32m    210\u001b[0m             \u001b[0;34mf\"/assistants/{assistant_id}/files/{file_id}\"\u001b[0m\u001b[0;34m,\u001b[0m\u001b[0;34m\u001b[0m\u001b[0;34m\u001b[0m\u001b[0m\n\u001b[1;32m    211\u001b[0m             options=make_request_options(\n",
            "\u001b[0;32m/usr/local/lib/python3.10/dist-packages/openai/_base_client.py\u001b[0m in \u001b[0;36mdelete\u001b[0;34m(self, path, cast_to, body, options)\u001b[0m\n\u001b[1;32m   1234\u001b[0m     ) -> ResponseT:\n\u001b[1;32m   1235\u001b[0m         \u001b[0mopts\u001b[0m \u001b[0;34m=\u001b[0m \u001b[0mFinalRequestOptions\u001b[0m\u001b[0;34m.\u001b[0m\u001b[0mconstruct\u001b[0m\u001b[0;34m(\u001b[0m\u001b[0mmethod\u001b[0m\u001b[0;34m=\u001b[0m\u001b[0;34m\"delete\"\u001b[0m\u001b[0;34m,\u001b[0m \u001b[0murl\u001b[0m\u001b[0;34m=\u001b[0m\u001b[0mpath\u001b[0m\u001b[0;34m,\u001b[0m \u001b[0mjson_data\u001b[0m\u001b[0;34m=\u001b[0m\u001b[0mbody\u001b[0m\u001b[0;34m,\u001b[0m \u001b[0;34m**\u001b[0m\u001b[0moptions\u001b[0m\u001b[0;34m)\u001b[0m\u001b[0;34m\u001b[0m\u001b[0;34m\u001b[0m\u001b[0m\n\u001b[0;32m-> 1236\u001b[0;31m         \u001b[0;32mreturn\u001b[0m \u001b[0mself\u001b[0m\u001b[0;34m.\u001b[0m\u001b[0mrequest\u001b[0m\u001b[0;34m(\u001b[0m\u001b[0mcast_to\u001b[0m\u001b[0;34m,\u001b[0m \u001b[0mopts\u001b[0m\u001b[0;34m)\u001b[0m\u001b[0;34m\u001b[0m\u001b[0;34m\u001b[0m\u001b[0m\n\u001b[0m\u001b[1;32m   1237\u001b[0m \u001b[0;34m\u001b[0m\u001b[0m\n\u001b[1;32m   1238\u001b[0m     def get_api_list(\n",
            "\u001b[0;32m/usr/local/lib/python3.10/dist-packages/openai/_base_client.py\u001b[0m in \u001b[0;36mrequest\u001b[0;34m(self, cast_to, options, remaining_retries, stream, stream_cls)\u001b[0m\n\u001b[1;32m    887\u001b[0m         \u001b[0mstream_cls\u001b[0m\u001b[0;34m:\u001b[0m \u001b[0mtype\u001b[0m\u001b[0;34m[\u001b[0m\u001b[0m_StreamT\u001b[0m\u001b[0;34m]\u001b[0m \u001b[0;34m|\u001b[0m \u001b[0;32mNone\u001b[0m \u001b[0;34m=\u001b[0m \u001b[0;32mNone\u001b[0m\u001b[0;34m,\u001b[0m\u001b[0;34m\u001b[0m\u001b[0;34m\u001b[0m\u001b[0m\n\u001b[1;32m    888\u001b[0m     ) -> ResponseT | _StreamT:\n\u001b[0;32m--> 889\u001b[0;31m         return self._request(\n\u001b[0m\u001b[1;32m    890\u001b[0m             \u001b[0mcast_to\u001b[0m\u001b[0;34m=\u001b[0m\u001b[0mcast_to\u001b[0m\u001b[0;34m,\u001b[0m\u001b[0;34m\u001b[0m\u001b[0;34m\u001b[0m\u001b[0m\n\u001b[1;32m    891\u001b[0m             \u001b[0moptions\u001b[0m\u001b[0;34m=\u001b[0m\u001b[0moptions\u001b[0m\u001b[0;34m,\u001b[0m\u001b[0;34m\u001b[0m\u001b[0;34m\u001b[0m\u001b[0m\n",
            "\u001b[0;32m/usr/local/lib/python3.10/dist-packages/openai/_base_client.py\u001b[0m in \u001b[0;36m_request\u001b[0;34m(self, cast_to, options, remaining_retries, stream, stream_cls)\u001b[0m\n\u001b[1;32m    978\u001b[0m \u001b[0;34m\u001b[0m\u001b[0m\n\u001b[1;32m    979\u001b[0m             \u001b[0mlog\u001b[0m\u001b[0;34m.\u001b[0m\u001b[0mdebug\u001b[0m\u001b[0;34m(\u001b[0m\u001b[0;34m\"Re-raising status error\"\u001b[0m\u001b[0;34m)\u001b[0m\u001b[0;34m\u001b[0m\u001b[0;34m\u001b[0m\u001b[0m\n\u001b[0;32m--> 980\u001b[0;31m             \u001b[0;32mraise\u001b[0m \u001b[0mself\u001b[0m\u001b[0;34m.\u001b[0m\u001b[0m_make_status_error_from_response\u001b[0m\u001b[0;34m(\u001b[0m\u001b[0merr\u001b[0m\u001b[0;34m.\u001b[0m\u001b[0mresponse\u001b[0m\u001b[0;34m)\u001b[0m \u001b[0;32mfrom\u001b[0m \u001b[0;32mNone\u001b[0m\u001b[0;34m\u001b[0m\u001b[0;34m\u001b[0m\u001b[0m\n\u001b[0m\u001b[1;32m    981\u001b[0m \u001b[0;34m\u001b[0m\u001b[0m\n\u001b[1;32m    982\u001b[0m         return self._process_response(\n",
            "\u001b[0;31mNotFoundError\u001b[0m: Error code: 404 - {'error': {'message': \"No file found with id 'file-p300vH7RsiSXHsgjwA39c6cn'.\", 'type': 'invalid_request_error', 'param': None, 'code': None}}"
          ]
        }
      ]
    },
    {
      "cell_type": "markdown",
      "source": [
        "And there you go!\n",
        "\n",
        "We've fit our Assistant with an awesome Code Interpreter that lets our Assistant run code on our provided files!"
      ],
      "metadata": {
        "id": "hi10hON2LQmc"
      }
    },
    {
      "cell_type": "markdown",
      "source": [
        "### Creating an Assistant with a Function Calling Tool\n",
        "\n",
        "Let's finally create an Assistant that utilizes the Function Calling API.\n",
        "\n",
        "We'll start by creating a function that we wish to be called.\n",
        "\n",
        "We'll utilize DuckDuckGo search to allow our Assistant to have the most up to date information!"
      ],
      "metadata": {
        "id": "EdJxt77oLzu7"
      }
    },
    {
      "cell_type": "code",
      "source": [
        "!pip install -qU duckduckgo_search"
      ],
      "metadata": {
        "colab": {
          "base_uri": "https://localhost:8080/"
        },
        "id": "n5eKEC2wMMVI",
        "outputId": "f5a566da-2c8a-4304-d4e1-567ac9df5b31"
      },
      "execution_count": 34,
      "outputs": [
        {
          "output_type": "stream",
          "name": "stdout",
          "text": [
            "\u001b[2K     \u001b[90m━━━━━━━━━━━━━━━━━━━━━━━━━━━━━━━━━━━━━━━━\u001b[0m \u001b[32m5.7/5.7 MB\u001b[0m \u001b[31m22.0 MB/s\u001b[0m eta \u001b[36m0:00:00\u001b[0m\n",
            "\u001b[2K     \u001b[90m━━━━━━━━━━━━━━━━━━━━━━━━━━━━━━━━━━━━━━━━\u001b[0m \u001b[32m8.0/8.0 MB\u001b[0m \u001b[31m44.8 MB/s\u001b[0m eta \u001b[36m0:00:00\u001b[0m\n",
            "\u001b[?25h"
          ]
        }
      ]
    },
    {
      "cell_type": "code",
      "source": [
        "from duckduckgo_search import DDGS\n",
        "\n",
        "def duckduckgo_search(query):\n",
        "  with DDGS() as ddgs:\n",
        "    results = [r for r in ddgs.text(query, max_results=5)]\n",
        "    return \"\\n\".join(result[\"body\"] for result in results)"
      ],
      "metadata": {
        "id": "YPFZ_Uq_LawH"
      },
      "execution_count": 35,
      "outputs": []
    },
    {
      "cell_type": "markdown",
      "source": [
        "Let's test our function to make sure it behaves as we expect it to."
      ],
      "metadata": {
        "id": "D-o1TBFpMSvR"
      }
    },
    {
      "cell_type": "code",
      "source": [
        "duckduckgo_search(\"Who is the current captain of the Winnipeg Jets?\")"
      ],
      "metadata": {
        "colab": {
          "base_uri": "https://localhost:8080/",
          "height": 105
        },
        "id": "mCUr9jFCMWBw",
        "outputId": "2d5286bf-f34f-4811-a4b9-cbd7bb024d40"
      },
      "execution_count": 36,
      "outputs": [
        {
          "output_type": "execute_result",
          "data": {
            "text/plain": [
              "'NHL.com The official 2023 - 2024 roster of the Winnipeg Jets, including position, height, weight, date of birth, age, and birth place.\\nSault Ste. Marie Toronto Vancouver Vancouver Island Windsor Winnipeg Advertisement Winnipeg News Adam Lowry named as captain of the Winnipeg Jets Winnipeg Jets\\' Adam Lowry celebrates...\\nBy Jamie Thomas @JamieThomasTV WinnipegJets.com September 12, 2023 There are not many honours in team sports bigger than being named captain. That honour was given to Winnipeg Jet forward Adam...\\nWinnipeg Jets general manager Kevin Cheveldayoff announced Adam Lowry as the new team captain of the Winnipeg Jets on tuesday. Lowry will follow Andrew Ladd and Blake Wheeler to serve as...\\nAfter going captain-less in 2022-23, the Winnipeg Jets unveiled Adam Lowry as the club\\'s new captain on Tuesday morning. \"When I found out, I was pretty excited, almost a little...'"
            ],
            "application/vnd.google.colaboratory.intrinsic+json": {
              "type": "string"
            }
          },
          "metadata": {},
          "execution_count": 36
        }
      ]
    },
    {
      "cell_type": "markdown",
      "source": [
        "Now we need to express how our function works in a way that is compatible with the OpenAI Function Calling API.\n",
        "\n",
        "We'll want to provide a `JSON` object that includes what parameters we have, how to call them, and a short natural language description."
      ],
      "metadata": {
        "id": "FzE1nxt5Mi80"
      }
    },
    {
      "cell_type": "code",
      "source": [
        "ddg_function = {\n",
        "    \"name\" : \"duckduckgo_search\",\n",
        "    \"description\" : \"Answer non-technical questions. \",\n",
        "    \"parameters\" : {\n",
        "        \"type\" : \"object\",\n",
        "        \"properties\" : {\n",
        "            \"query\" : {\n",
        "                \"type:\" : \"string\",\n",
        "                \"description\" : \"The search query to use. For example: 'Who is the current Goalie of the Colorado Avalance?'\"\n",
        "            }\n",
        "        },\n",
        "        \"required\" : [\"query\"]\n",
        "    }\n",
        "}"
      ],
      "metadata": {
        "id": "8ElrWvBnMY_s"
      },
      "execution_count": 37,
      "outputs": []
    },
    {
      "cell_type": "markdown",
      "source": [
        "####❓ Question\n",
        "\n",
        "Why does the description key-value pair matter?\n",
        "\n"
      ],
      "metadata": {
        "id": "NyRmJgEQVuGs"
      }
    },
    {
      "cell_type": "markdown",
      "source": [
        "**Answer** : The description key-value pair matters because it is what allows the LLM to make the decision on what tool to use, basically it tells the AI in natural language terms what the purpose of the tool is."
      ],
      "metadata": {
        "id": "dTkMH3HX_1BB"
      }
    },
    {
      "cell_type": "markdown",
      "source": [
        "Now when we create our Assistant - we'll want to include the function description as a tool using the following format."
      ],
      "metadata": {
        "id": "tir4WySGM0x2"
      }
    },
    {
      "cell_type": "code",
      "source": [
        "assistant = client.beta.assistants.create(\n",
        "    name=name + \" + Function Calling API\",\n",
        "    instructions=instructions,\n",
        "    tools=[\n",
        "        {\"type\": \"function\",\n",
        "         \"function\" : ddg_function\n",
        "        }\n",
        "    ],\n",
        "    model=model\n",
        ")"
      ],
      "metadata": {
        "id": "4eFpwi12Mzlg"
      },
      "execution_count": 38,
      "outputs": []
    },
    {
      "cell_type": "markdown",
      "source": [
        "We need to make a few modifications to our Assistant to include the ability to make calls to our local function and pass the results back to our Assistant for further generation."
      ],
      "metadata": {
        "id": "nJCLvWZzNIXR"
      }
    },
    {
      "cell_type": "code",
      "source": [
        "import json\n",
        "\n",
        "def wait_for_run_completion(thread_id, run_id):\n",
        "    while True:\n",
        "        time.sleep(1)\n",
        "        run = client.beta.threads.runs.retrieve(thread_id=thread_id, run_id=run_id)\n",
        "        print(f\"Current run status: {run.status}\")\n",
        "        if run.status in ['completed', 'failed', 'requires_action']:\n",
        "            return run\n",
        "\n",
        "def submit_tool_outputs(thread_id, run_id, tools_to_call):\n",
        "    tool_output_array = []\n",
        "    for tool in tools_to_call:\n",
        "        output = None\n",
        "        tool_call_id = tool.id\n",
        "        function_name = tool.function.name\n",
        "        function_args = tool.function.arguments\n",
        "\n",
        "        if function_name == \"duckduckgo_search\":\n",
        "            print(\"Consulting Duck Duck Go...\")\n",
        "            output = duckduckgo_search(query=json.loads(function_args)[\"query\"])\n",
        "\n",
        "        if output:\n",
        "            tool_output_array.append({\"tool_call_id\": tool_call_id, \"output\": output})\n",
        "\n",
        "    print(tool_output_array)\n",
        "\n",
        "    return client.beta.threads.runs.submit_tool_outputs(\n",
        "        thread_id=thread_id,\n",
        "        run_id=run_id,\n",
        "        tool_outputs=tool_output_array\n",
        "    )\n",
        "\n",
        "def print_messages_from_thread(thread_id):\n",
        "    messages = client.beta.threads.messages.list(thread_id=thread_id)\n",
        "    for msg in messages:\n",
        "        print(f\"{msg.role}: {msg.content[0].text.value}\")\n",
        "\n",
        "def use_assistant(query, assistant_id, thread_id=None):\n",
        "  thread = client.beta.threads.create()\n",
        "\n",
        "  message = client.beta.threads.messages.create(\n",
        "      thread_id=thread.id,\n",
        "      role=\"user\",\n",
        "      content=query,\n",
        "  )\n",
        "\n",
        "  print(\"Creating Assistant \")\n",
        "\n",
        "  run = client.beta.threads.runs.create(\n",
        "    thread_id=thread.id,\n",
        "    assistant_id=assistant_id,\n",
        "  )\n",
        "\n",
        "  print(\"Querying OpenAI Assistant Thread.\")\n",
        "\n",
        "  run = wait_for_run_completion(thread.id, run.id)\n",
        "\n",
        "  if run.status == 'requires_action':\n",
        "    run = submit_tool_outputs(thread.id, run.id, run.required_action.submit_tool_outputs.tool_calls)\n",
        "    run = wait_for_run_completion(thread.id, run.id)\n",
        "\n",
        "  print_messages_from_thread(thread.id)\n",
        "\n",
        "  return thread.id"
      ],
      "metadata": {
        "id": "XHRfvGJ_NQnF"
      },
      "execution_count": 39,
      "outputs": []
    },
    {
      "cell_type": "markdown",
      "source": [
        "####❓ Question\n",
        "\n",
        "Outline, in simple terms, what the `use_assistant` helper function is doing."
      ],
      "metadata": {
        "id": "NoChJ771Uo0B"
      }
    },
    {
      "cell_type": "markdown",
      "source": [
        "**Answer**: It puts together all the steps that it's needed to complete the process of using assisstant to run the query including passing the query and functions and instruction to the AI and executing the decicion make by AI to use certain tool in this case : duckduckgo tool(function). Also the output is in form of a log so we can see the steps that is taking to do this."
      ],
      "metadata": {
        "id": "FCoudKQyE1qd"
      }
    },
    {
      "cell_type": "code",
      "source": [
        "use_assistant(\"Who is the current Captain of the Winnipeg Jets?\", assistant.id)"
      ],
      "metadata": {
        "colab": {
          "base_uri": "https://localhost:8080/",
          "height": 229
        },
        "id": "d5NR_HYINky8",
        "outputId": "18e500cd-deed-4ee2-90f5-195ed7b368cf"
      },
      "execution_count": 40,
      "outputs": [
        {
          "output_type": "stream",
          "name": "stdout",
          "text": [
            "Creating Assistant \n",
            "Querying OpenAI Assistant Thread.\n",
            "Current run status: requires_action\n",
            "Consulting Duck Duck Go...\n",
            "[{'tool_call_id': 'call_AjwviRgkgcojK4lSeWQh8YNH', 'output': 'NHL.com The official 2023 - 2024 roster of the Winnipeg Jets, including position, height, weight, date of birth, age, and birth place.\\nWinnipeg Jets general manager Kevin Cheveldayoff announced Adam Lowry as the new team captain of the Winnipeg Jets on tuesday. Lowry will follow Andrew Ladd and Blake Wheeler to serve as...\\nBy Jamie Thomas @JamieThomasTV WinnipegJets.com September 12, 2023 There are not many honours in team sports bigger than being named captain. That honour was given to Winnipeg Jet forward Adam...\\nAdam Lowry, seen celebrating a goal against the Los Angeles Kings last season, has been named the new captain for the Winnipeg Jets. (Mark J. Terrill/Associated Press) The Winnipeg Jets...\\nAbout logos Winnipeg Jets Captains Team Names: Winnipeg Jets, Atlanta Thrashers Seasons: 24 (1999-00 to 2023-24) NHL Playoff Appearances: 7 NHL Championships: 0 (0 Stanley Cup) Playoff Record: 17-31 Record (W-L-T-OTL): 839-806-45-172 (1895 points) All-time Goals Leader: Ilya Kovalchuk, 328 All-time Points Leader: Blake Wheeler, 812'}]\n",
            "Current run status: in_progress\n",
            "Current run status: in_progress\n",
            "Current run status: completed\n",
            "assistant: The current Captain of the Winnipeg Jets is Adam Lowry. He was announced as the team captain by Winnipeg Jets general manager Kevin Cheveldayoff.\n",
            "user: Who is the current Captain of the Winnipeg Jets?\n"
          ]
        },
        {
          "output_type": "execute_result",
          "data": {
            "text/plain": [
              "'thread_5D8Ltu0ycPEdN5uVGkv16Bn8'"
            ],
            "application/vnd.google.colaboratory.intrinsic+json": {
              "type": "string"
            }
          },
          "metadata": {},
          "execution_count": 40
        }
      ]
    },
    {
      "cell_type": "markdown",
      "source": [
        "## Wrapping it All Together\n",
        "\n",
        "Now we can create an Assistant with all of the available tools and see how it responds to various queries!"
      ],
      "metadata": {
        "id": "vY51QtkGNvQe"
      }
    },
    {
      "cell_type": "code",
      "source": [
        "assistant = client.beta.assistants.create(\n",
        "    name=name + \" + All Tools\",\n",
        "    instructions=instructions,\n",
        "    tools=[\n",
        "        {\"type\": \"code_interpreter\"},\n",
        "        {\"type\": \"retrieval\"},\n",
        "        {\"type\": \"function\", \"function\" : ddg_function}\n",
        "    ],\n",
        "    model=model,\n",
        "    file_ids=[file_reference.id],\n",
        ")"
      ],
      "metadata": {
        "id": "HaoQSB7CN74T"
      },
      "execution_count": 41,
      "outputs": []
    },
    {
      "cell_type": "code",
      "source": [
        "use_assistant(\"Who is the current Captain of the Winnipeg Jets?\", assistant.id)"
      ],
      "metadata": {
        "colab": {
          "base_uri": "https://localhost:8080/"
        },
        "id": "g2GtwoGDPwp2",
        "outputId": "e276723d-54e1-41ff-8b47-ef725caaabb9"
      },
      "execution_count": null,
      "outputs": [
        {
          "output_type": "stream",
          "name": "stdout",
          "text": [
            "Creating Assistant \n",
            "Querying OpenAI Assistant Thread.\n",
            "Current run status: in_progress\n",
            "Current run status: in_progress\n",
            "Current run status: in_progress\n",
            "Current run status: in_progress\n",
            "Current run status: requires_action\n",
            "Consulting Duck Duck Go...\n",
            "[{'tool_call_id': 'call_4eu54cMuEJSKpEp3csVft4QF', 'output': 'NHL.com The official 2023 - 2024 roster of the Winnipeg Jets, including position, height, weight, date of birth, age, and birth place.\\nWinnipeg Jets Captains Team Names: Winnipeg Jets, Atlanta Thrashers Seasons: 24 (1999-00 to 2023-24) NHL Playoff Appearances: 7 NHL Championships: 0 (0 Stanley Cup) Playoff Record: 17-31 Record (W-L-T-OTL): 839-805-45-172 (1895 points) All-time Goals Leader: Ilya Kovalchuk, 328 All-time Points Leader: Blake Wheeler, 812\\nBy Jamie Thomas @JamieThomasTV WinnipegJets.com September 12, 2023 There are not many honours in team sports bigger than being named captain. That honour was given to Winnipeg Jet forward Adam...\\nWinnipeg Jets general manager Kevin Cheveldayoff announced Adam Lowry as the new team captain of the Winnipeg Jets on tuesday. Lowry will follow Andrew Ladd and Blake Wheeler to serve as...\\nAdam Lowry, seen celebrating a goal against the Los Angeles Kings last season, has been named the new captain for the Winnipeg Jets. (Mark J. Terrill/Associated Press) The Winnipeg Jets...'}]\n",
            "Current run status: in_progress\n",
            "Current run status: in_progress\n",
            "Current run status: in_progress\n",
            "Current run status: in_progress\n",
            "Current run status: in_progress\n",
            "Current run status: in_progress\n",
            "Current run status: in_progress\n",
            "Current run status: completed\n",
            "assistant: Adam Lowry has been honored with the title of the new captain for the Winnipeg Jets, a distinguished position bestowed upon him as the latest bearer of this heralded mantle. He follows in the esteemed footsteps of Andrew Ladd and Blake Wheeler to serve as the team's leading figure.\n",
            "user: Who is the current Captain of the Winnipeg Jets?\n"
          ]
        }
      ]
    },
    {
      "cell_type": "code",
      "source": [
        "use_assistant(\"Who is the author of the supplied file?\", assistant.id)"
      ],
      "metadata": {
        "colab": {
          "base_uri": "https://localhost:8080/",
          "height": 140
        },
        "id": "7QjcxpQ5P-HX",
        "outputId": "75df0b17-03c4-4c38-f58a-83740d14e6ee"
      },
      "execution_count": 42,
      "outputs": [
        {
          "output_type": "stream",
          "name": "stdout",
          "text": [
            "Creating Assistant \n",
            "Querying OpenAI Assistant Thread.\n",
            "Current run status: in_progress\n",
            "Current run status: completed\n",
            "assistant: The author of the supplied file is Mary Shelley. The file contains the text of the novel \"Frankenstein\" by Mary Shelley【5†source】.\n",
            "user: Who is the author of the supplied file?\n"
          ]
        },
        {
          "output_type": "execute_result",
          "data": {
            "text/plain": [
              "'thread_b4YHNLfC5gtFiBWPfo9Dulol'"
            ],
            "application/vnd.google.colaboratory.intrinsic+json": {
              "type": "string"
            }
          },
          "metadata": {},
          "execution_count": 42
        }
      ]
    },
    {
      "cell_type": "code",
      "source": [
        "use_assistant(\"How many bytes is the provided file?\", assistant.id)"
      ],
      "metadata": {
        "colab": {
          "base_uri": "https://localhost:8080/",
          "height": 261
        },
        "id": "kSKL96nvQIUq",
        "outputId": "c4791638-89e2-4bdf-d524-2023d1e4f415"
      },
      "execution_count": 43,
      "outputs": [
        {
          "output_type": "stream",
          "name": "stdout",
          "text": [
            "Creating Assistant \n",
            "Querying OpenAI Assistant Thread.\n",
            "Current run status: in_progress\n",
            "Current run status: in_progress\n",
            "Current run status: in_progress\n",
            "Current run status: in_progress\n",
            "Current run status: in_progress\n",
            "Current run status: in_progress\n",
            "Current run status: in_progress\n",
            "Current run status: in_progress\n",
            "Current run status: completed\n",
            "assistant: The provided file is 1200 bytes in size.\n",
            "user: How many bytes is the provided file?\n"
          ]
        },
        {
          "output_type": "execute_result",
          "data": {
            "text/plain": [
              "'thread_QZGjhcrjPOfRFPbxVwJG1DCd'"
            ],
            "application/vnd.google.colaboratory.intrinsic+json": {
              "type": "string"
            }
          },
          "metadata": {},
          "execution_count": 43
        }
      ]
    },
    {
      "cell_type": "markdown",
      "source": [
        "####❓ Question\n",
        "\n",
        "Notice that our response can go through multiple paths, given that:\n",
        "\n",
        "What is \"deciding\" to use the tool?\n",
        "\n"
      ],
      "metadata": {
        "id": "gm0oYJu7VAjg"
      }
    },
    {
      "cell_type": "markdown",
      "source": [
        "**Answer**: The AI is deciding based on the description we've given and it's own training and fine-tuning to choose the best tool for the task. The instruction we give is part of an AI model’s system role message . It uses the names and descriptions we provide in that specification (key-value pairs) to understand the purpose of the function."
      ],
      "metadata": {
        "id": "0-CIVcLbM6G5"
      }
    },
    {
      "cell_type": "markdown",
      "source": [
        "### Adding JSON Mode for More Agentic Behaviour\n",
        "\n",
        "Finally, we have the ability to select tools - all we need to do now is set up a process to allow us to create some kind of loop and make decisions about whether or not the response is complete or not.\n",
        "\n",
        "We'll leverage the OpenAI completions end-endpoint with JSON mode to let us understand when we've adequately answered our user's question!"
      ],
      "metadata": {
        "id": "FrJWQ4XvZ20K"
      }
    },
    {
      "cell_type": "code",
      "source": [
        "completed_template = \\\n",
        "\"\"\"\n",
        "Does this response adequately answer the user's query?\n",
        "\n",
        "Please return your response in JSON format - with key: \"completed\" and either True (if completed) or False (if not completed)\n",
        "\n",
        "User Query:\n",
        "{query}\n",
        "\n",
        "Assistant Response:\n",
        "{response}\n",
        "\"\"\"\n",
        "\n",
        "def is_complete(query, response):\n",
        "  completed_response = client.chat.completions.create(\n",
        "      messages=[\n",
        "          {\n",
        "              \"role\": \"user\",\n",
        "              \"content\": completed_template.format(query=query, response=response),\n",
        "          }\n",
        "      ],\n",
        "      model=model,\n",
        "      response_format={\"type\" : \"json_object\"}\n",
        "  )\n",
        "\n",
        "  return completed_response"
      ],
      "metadata": {
        "id": "Rzrk8gn2anpe"
      },
      "execution_count": 44,
      "outputs": []
    },
    {
      "cell_type": "code",
      "source": [
        "query = \"How many bytes is the provided file?\"\n",
        "\n",
        "thread_id_for_response = use_assistant(query, assistant.id)"
      ],
      "metadata": {
        "colab": {
          "base_uri": "https://localhost:8080/"
        },
        "id": "9kCQrx03brge",
        "outputId": "5c54e884-58b5-4e83-a98a-152b7442c8eb"
      },
      "execution_count": 45,
      "outputs": [
        {
          "output_type": "stream",
          "name": "stdout",
          "text": [
            "Creating Assistant \n",
            "Querying OpenAI Assistant Thread.\n",
            "Current run status: in_progress\n",
            "Current run status: in_progress\n",
            "Current run status: in_progress\n",
            "Current run status: in_progress\n",
            "Current run status: in_progress\n",
            "Current run status: in_progress\n",
            "Current run status: in_progress\n",
            "Current run status: in_progress\n",
            "Current run status: in_progress\n",
            "Current run status: in_progress\n",
            "Current run status: completed\n",
            "assistant: The provided file is 1200 bytes in size. \n",
            "user: How many bytes is the provided file?\n"
          ]
        }
      ]
    },
    {
      "cell_type": "markdown",
      "source": [
        "Now we can observe JSON mode in action!"
      ],
      "metadata": {
        "id": "lSJs9oDIgBTK"
      }
    },
    {
      "cell_type": "code",
      "source": [
        "messages = client.beta.threads.messages.list(thread_id=thread_id_for_response)\n",
        "response = messages.data[0].content[0].text.value\n",
        "completed_flag = json.loads(is_complete(query, response).choices[0].message.content)"
      ],
      "metadata": {
        "id": "MSDsmlDBcYk_"
      },
      "execution_count": 46,
      "outputs": []
    },
    {
      "cell_type": "code",
      "source": [
        "completed_flag"
      ],
      "metadata": {
        "colab": {
          "base_uri": "https://localhost:8080/"
        },
        "id": "_-SKB6TWf_Ra",
        "outputId": "0c47a814-514e-4536-a88f-8a50ab6121ef"
      },
      "execution_count": 47,
      "outputs": [
        {
          "output_type": "execute_result",
          "data": {
            "text/plain": [
              "{'completed': True}"
            ]
          },
          "metadata": {},
          "execution_count": 47
        }
      ]
    },
    {
      "cell_type": "markdown",
      "source": [
        "## 🚧 BONUS CHALLENGE 🚧:\n",
        "\n",
        "Use the components we've constructed so far to build a loop that lets us continue to query the Assistant if the response is not completed!"
      ],
      "metadata": {
        "id": "bivIAVh0dTwA"
      }
    },
    {
      "cell_type": "code",
      "source": [
        "### YOUR CODE HERE"
      ],
      "metadata": {
        "id": "vtWh_h_WfjuS"
      },
      "execution_count": null,
      "outputs": []
    },
    {
      "cell_type": "markdown",
      "source": [
        "# Make Sure You Delete Resources\n",
        "\n",
        "Make sure you delete all the resources you created!\n",
        "\n",
        "This function will help you do so!"
      ],
      "metadata": {
        "id": "VJjYm6gnfWrS"
      }
    },
    {
      "cell_type": "code",
      "source": [
        "file_deletion_status = client.beta.assistants.files.delete(\n",
        "  assistant_id=assistant.id,\n",
        "  file_id=file_reference.id\n",
        ")"
      ],
      "metadata": {
        "id": "62b49AleR6m_"
      },
      "execution_count": 48,
      "outputs": []
    }
  ]
}